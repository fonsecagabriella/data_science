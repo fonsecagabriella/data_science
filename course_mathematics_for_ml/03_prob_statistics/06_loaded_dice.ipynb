{
 "cells": [
  {
   "cell_type": "markdown",
   "id": "4caafec3",
   "metadata": {},
   "source": [
    "# Loaded dice \n",
    "\n",
    "Welcome to the second assignment in the course Probability and Statistics for Machine Learning and Data Science! In this quiz-like assignment you will test your intuition about the concepts covered in the lectures by taking the example with the dice to the next level. \n",
    "\n",
    "**This assignment can be completed with just pencil and paper, or even your intuition about probability, but in many questions using the skills you're developing as a programmer may help**. "
   ]
  },
  {
   "cell_type": "markdown",
   "id": "3bff9c20",
   "metadata": {},
   "source": [
    "## 1 - Introduction\n",
    "\n",
    "You will be presented with 11 questions regarding a several dice games. Sometimes the dice is loaded, sometimes it is not. You will have clear instructions for each exercise.\n",
    "\n",
    "### 1.1 How to go through the assignment\n",
    "\n",
    "In each exercise you there will be a question about throwing some dice that may or may not be loaded. You will have to answer questions about the results of each scenario, such as calculating the expected value of the dice throw or selecting the graph that best represents the distribution of outcomes. \n",
    "\n",
    "In any case, **you will be able to solve the exercise with one of the following methods:**\n",
    "\n",
    "- **By hand:** You may make your calculations by hand, using the theory you have developed in the lectures.\n",
    "- **Using Python:** You may use the empty block of code provided to make computations and simulations, to obtain the result.\n",
    "\n"
   ]
  },
  {
   "cell_type": "markdown",
   "id": "3d256624",
   "metadata": {},
   "source": [
    "## 2 - Importing the libraries"
   ]
  },
  {
   "cell_type": "code",
   "execution_count": null,
   "id": "da0fcf2f",
   "metadata": {},
   "outputs": [],
   "source": [
    "import numpy as np\n",
    "import pandas as pd\n",
    "import seaborn as sns\n",
    "import matplotlib.pyplot as plt"
   ]
  },
  {
   "cell_type": "markdown",
   "id": "e1637bc9",
   "metadata": {},
   "source": [
    "## 3 - A worked example on how to complete this assignment.\n",
    "\n",
    "Now let's go over one example question, so you understand how to go through the assignment.\n",
    "\n",
    "### 3.1 Example question\n",
    "\n",
    "Question: Given a 6-sided fair dice, you throw it two times and save the result. What is the probability that the sum of your two throws is greater than 5? (Give your result with 1 decimal place).\n",
    "\n",
    "After the question, you will see the following block of code."
   ]
  },
  {
   "cell_type": "markdown",
   "id": "02528065",
   "metadata": {},
   "source": [
    "You may use it as you wish to solve the exercise. Or you can just ignore it and use pencil and pen to solve. It is up to you! **You will only save your final answer**. \n",
    "\n",
    "### 3.2 Solving using simulations in Python\n",
    "\n",
    "Let's solve this question in both ways. First, using Python. You may check the ungraded lab Dice Simulations that appears right before this assignment to help you simulate dice throws. Remember that, to get a good approximation, you need to simulate it a lot of times! You will see why this is true in the following weeks, but this is quite intuitive."
   ]
  },
  {
   "cell_type": "code",
   "execution_count": null,
   "id": "309a3457",
   "metadata": {},
   "outputs": [],
   "source": [
    "# You can use this cell for your calculations (not graded)\n",
    "\n",
    "# This list represents each dice side\n",
    "dice = [1,2,3,4,5,6]\n",
    "\n",
    "# The idea is to randomly choose one element from this list three times and sum them. \n",
    "# Each time we choose, it is as if we had thrown a dice and the side is the chosen number.\n",
    "# This list will store the sum for each iteration. The idea is to repeat this experiment several times.\n",
    "sum_results = []\n",
    "\n",
    "number_iterations = 1000\n",
    "\n",
    "# Setting a random seed just for reproducibility\n",
    "np.random.seed(42)\n",
    "# It will play this game number_iteration times\n",
    "for i in range(number_iterations):\n",
    "    # Throw the first dice\n",
    "    throw_1 = np.random.choice(dice)\n",
    "    # Throw the second dice\n",
    "    throw_2 = np.random.choice(dice)\n",
    "    # Sum the result\n",
    "    sum_throw = throw_1 + throw_2\n",
    "    # Append to the sum_result list\n",
    "    sum_results.append(sum_throw)\n",
    "\n",
    "# After recording all the sums, the actual probability will be very close to the proportion among every sum greater than 10 in the sum_results list.\n",
    "greater_5_count = 0\n",
    "\n",
    "for x in sum_results:\n",
    "    if x > 5:\n",
    "        greater_5_count += 1\n",
    "\n",
    "probability = greater_5_count/len(sum_results)    \n",
    "print(f\"The probability by this simulation is: {probability}\")"
   ]
  },
  {
   "cell_type": "markdown",
   "id": "37524317",
   "metadata": {},
   "source": [
    "So the result you would get, rounding in to decimal place, would be 0.7! Let's solve it \"by hand\".\n",
    "\n",
    "### 3.3 Solving using the theory\n",
    "\n",
    "When throwing two dice, there are $36$ possible outcomes:\n",
    "\n",
    "$$(1,1), (1,2), \\ldots, (6,6)$$\n",
    "\n",
    "You must count how many of them lead to a sum greater than 5. They are:\n",
    "\n",
    "* If the first throw is $1$, there are $2$ possibilities for the second throw: 5 or 6.\n",
    "* If the first throw is $2$, there are $3$ possibilities for the second throw: 4, 5 or 6.\n",
    "* If the first throw is $3$, there are $4$ possibilities for the second throw: 3, 4, 5 or 6.\n",
    "* If the first throw is $4$, there are $5$ possibilities for the second throw: 2, 3, 4, 5 or 6.\n",
    "* If the first throw is $5$, there are $6$ possibilities for the second throw: 1, 2, 3, 4, 5 or 6.\n",
    "* If the first throw is $6$, there are $6$ possibilities for the second throw: 1, 2, 3, 4, 5 or 6.\n",
    "\n",
    "So, in total there are $2 + 3 + 4 + 5 + 6 + 6 = 26$, possibilities that sum greater than 5.\n",
    "\n",
    "The probability is then $\\frac{26}{36} \\approx 0.72$. Rounding it to 1 decimal place, the result is also 0.7!\n"
   ]
  },
  {
   "cell_type": "markdown",
   "id": "4546a127",
   "metadata": {},
   "source": [
    "## 4 - Some concept clarifications 🎲🎲🎲\n",
    "\n",
    "During this assignment you will be presented with various scenarios that involve dice. Usually dice can have different numbers of sides and can be either fair or loaded.\n",
    "\n",
    "- A fair dice has equal probability of landing on every side.\n",
    "- A loaded dice does not have equal probability of landing on every side. Usually one (or more) sides have a greater probability of showing up than the rest.\n",
    "\n",
    "Alright, that's all your need to know to complete this assignment. Time to start rolling some dice!"
   ]
  },
  {
   "cell_type": "markdown",
   "id": "c8f09f02",
   "metadata": {},
   "source": [
    "## Exercise 1:\n",
    "\n"
   ]
  },
  {
   "cell_type": "markdown",
   "id": "3510c610",
   "metadata": {},
   "source": [
    "Given a 6-sided fair dice (all of the sides have equal probability of showing up), compute the mean and variance for the probability distribution that models said dice. The next figure shows you a visual represenatation of said distribution:\n",
    "\n",
    "<img src=\"./images/fair_dice.png\" style=\"height: 300px;\"/>\n",
    "\n",
    "**Submission considerations:**\n",
    "- Submit your answers as floating point numbers with three digits after the decimal point\n",
    "- Example: To submit the value of 1/4 enter 0.250"
   ]
  },
  {
   "cell_type": "markdown",
   "id": "5ee9b479",
   "metadata": {},
   "source": [
    "Hints: \n",
    "- You can use [np.random.choice](https://numpy.org/doc/stable/reference/random/generated/numpy.random.choice.html) to simulate a fair dice.\n",
    "- You can use [np.mean](https://numpy.org/doc/stable/reference/generated/numpy.mean.html) and [np.var](https://numpy.org/doc/stable/reference/generated/numpy.var.html) to compute the mean and variance of a numpy array."
   ]
  },
  {
   "cell_type": "code",
   "execution_count": 17,
   "id": "df437e8e",
   "metadata": {},
   "outputs": [
    {
     "name": "stdout",
     "output_type": "stream",
     "text": [
      "ANALYTICALLY\n",
      "Mean 3.5\n",
      "Variance 2.9166666666666665\n",
      "SIMULATION\n",
      "Mean 3.51238\n",
      "Variance 2.9127267356\n"
     ]
    }
   ],
   "source": [
    "# You can use this cell for your calculations (not graded)\n",
    "\n",
    "dice = [1,2,3,4,5,6]\n",
    "\n",
    "\n",
    "# solving analytically\n",
    "print(\"ANALYTICALLY\")\n",
    "print(f\"Mean {np.mean(dice)}\")\n",
    "print(f\"Variance {np.var(dice)}\")\n",
    "\n",
    "\n",
    "# solving with simulation\n",
    "\n",
    "# represents the throwing of the dice\n",
    "# print(np.random.choice(dice))\n",
    "\n",
    "n_rolls = 50000\n",
    "\n",
    "# save the results of 1000 rolls\n",
    "rolls = np.array([np.random.choice(dice) for i in range (n_rolls)])\n",
    "print(\"SIMULATION\")\n",
    "print(f\"Mean {np.mean(rolls)}\")\n",
    "print(f\"Variance {np.var(rolls)}\")\n"
   ]
  },
  {
   "cell_type": "markdown",
   "id": "d43dcbbd",
   "metadata": {},
   "source": [
    "## Exercise 2:\n",
    "\n",
    "Now suppose you are throwing the dice (same dice as in the previous exercise) two times and recording the sum of each throw. Which of the following `probability mass functions` will be the one you should get?\n",
    "\n",
    "<table><tr>\n",
    "<td> <img src=\"./images/hist_sum_6_side.png\" style=\"height: 300px;\"/> </td>\n",
    "<td> <img src=\"./images/hist_sum_5_side.png\" style=\"height: 300px;\"/> </td>\n",
    "<td> <img src=\"./images/hist_sum_6_uf.png\" style=\"height: 300px;\"/> </td>\n",
    "</tr></table>\n"
   ]
  },
  {
   "cell_type": "markdown",
   "id": "605c58c0",
   "metadata": {},
   "source": [
    "Hints: \n",
    "- You can use numpy arrays to hold the results of many throws.\n",
    "- You can sum to numpy arrays by using the `+` operator like this: `sum = first_throw + second_throw`\n",
    "- To simulate multiple throws of a dice you can use list comprehension or a for loop"
   ]
  },
  {
   "cell_type": "code",
   "execution_count": 23,
   "id": "e9a8b2ed",
   "metadata": {},
   "outputs": [
    {
     "data": {
      "text/plain": [
       "[Text(0.5, 0, 'Sum of dice')]"
      ]
     },
     "execution_count": 23,
     "metadata": {},
     "output_type": "execute_result"
    },
    {
     "data": {
      "image/png": "[encoded data removed]",
      "text/plain": [
       "<Figure size 640x480 with 1 Axes>"
      ]
     },
     "metadata": {},
     "output_type": "display_data"
    }
   ],
   "source": [
    "# You can use this cell for your calculations (not graded)\n",
    "\n",
    "d1_rolls = np.array([np.random.choice(dice) for i in range (n_rolls)])\n",
    "d2_rolls = np.array([np.random.choice(dice) for i in range (n_rolls)])\n",
    "\n",
    "d_sum = d1_rolls + d2_rolls\n",
    "\n",
    "\n",
    "hist_pmf = sns.histplot(d_sum, discrete=True)\n",
    "hist_pmf.set(title=f\"Historgram of {n_rolls} rolls\")\n",
    "hist_pmf.set(ylabel=\"Probability\")\n",
    "hist_pmf.set(xlabel=\"Sum of dice\")"
   ]
  },
  {
   "cell_type": "markdown",
   "id": "adfb889c",
   "metadata": {},
   "source": [
    "## Exercise 3:\n",
    "\n",
    "Given a fair 4-sided dice, you throw it two times and record the sum. The figure on the left shows the probabilities of the dice landing on each side and the right figure the histogram of the sum. Fill out the probabilities of each sum (notice that the distribution of the sum is symetrical so you only need to input 4 values in total):\n",
    "\n",
    "<img src=\"./images/4_side_hists.png\" style=\"height: 300px;\"/>\n",
    "\n",
    "**Submission considerations:**\n",
    "- Submit your answers as floating point numbers with three digits after the decimal point\n",
    "- Example: To submit the value of 1/4 enter 0.250"
   ]
  },
  {
   "cell_type": "code",
   "execution_count": 31,
   "id": "342ca685",
   "metadata": {},
   "outputs": [
    {
     "name": "stdout",
     "output_type": "stream",
     "text": [
      "{2: 0.0625, 3: 0.125, 4: 0.1875, 5: 0.25, 6: 0.1875, 7: 0.125, 8: 0.0625}\n"
     ]
    }
   ],
   "source": [
    "# You can use this cell for your calculations (not graded)\n",
    "dice_4 = np.array([1, 2, 3, 4])\n",
    "\n",
    "\n",
    "d1, d2 = np.meshgrid(dice_4, dice_4)\n",
    "sum_values = (d1 + d2).flatten()\n",
    "\n",
    "# Calculate the unique values and their counts\n",
    "unique_values, counts = np.unique(sum_values, return_counts=True)\n",
    "\n",
    "# Calculate the probabilities\n",
    "probabilities = counts / len(sum_values)\n",
    "\n",
    "# Create a dictionary to display the probabilities\n",
    "probability_distribution = dict(zip(unique_values, probabilities))\n",
    "\n",
    "print(probability_distribution)\n"
   ]
  },
  {
   "cell_type": "markdown",
   "id": "108837bd",
   "metadata": {},
   "source": [
    "## Exercise 4:\n",
    "\n",
    "Using the same scenario as in the previous exercise. Compute the mean and variance of the sum of the two throws  and the covariance between the first and the second throw:\n",
    "\n",
    "<img src=\"./images/4_sided_hist_no_prob.png\" style=\"height: 300px;\"/>\n",
    "\n",
    "\n",
    "Hints:\n",
    "- You can use [np.cov](https://numpy.org/doc/stable/reference/generated/numpy.cov.html) to compute the covariance of two numpy arrays (this may not be needed for this particular exercise)."
   ]
  },
  {
   "cell_type": "code",
   "execution_count": 43,
   "id": "f4eadc3c",
   "metadata": {},
   "outputs": [
    {
     "name": "stdout",
     "output_type": "stream",
     "text": [
      "SIMULATION\n",
      "Mean 5.0079\n",
      "Variance 2.47451759\n",
      "Covariance [[ 1.24666244 -0.00795518]\n",
      " [-0.00795518  1.24381501]]\n",
      "ANALYTICALLY\n",
      "Mean of a single dice 2.5\n",
      "Mean two independent dices | E[X]+E[Y]: 5.0 \n",
      "Variance of a single dice: 1.25\n",
      "Variance of two independent dices | Var[E[X]] + Var[E[Y]]: 2.5\n"
     ]
    }
   ],
   "source": [
    "# You can use this cell for your calculations (not graded)\n",
    "d1_rolls = np.array([np.random.choice(dice_4) for i in range (n_rolls)])\n",
    "d2_rolls = np.array([np.random.choice(dice_4) for i in range (n_rolls)])\n",
    "\n",
    "d_sum = d1_rolls + d2_rolls\n",
    "\n",
    "print(\"SIMULATION\")\n",
    "print(f\"Mean {np.mean(d_sum)}\")\n",
    "print(f\"Variance {np.var(d_sum)}\")\n",
    "print(f\"Covariance {np.cov(d1_rolls, d2_rolls)}\")\n",
    "\n",
    "\n",
    "print(\"ANALYTICALLY\")\n",
    "mean_single_dice = np.sum(dice_4 * (1/len(dice_4)))\n",
    "print(f\"Mean of a single dice {mean_single_dice}\")\n",
    "print(f\"Mean two independent dices | E[X]+E[Y]: {mean_single_dice*2} \")\n",
    "\n",
    "expected_squared_single_dice = np.sum(dice_4**2 * 1/len(dice_4))\n",
    "variance_single_dice = expected_squared_single_dice - (mean_single_dice**2)\n",
    "\n",
    "print(f\"Variance of a single dice: {variance_single_dice}\")\n",
    "print(f\"Variance of two independent dices | Var[E[X]] + Var[E[Y]]: {variance_single_dice*2}\")\n",
    "\n"
   ]
  },
  {
   "cell_type": "markdown",
   "id": "714e099b",
   "metadata": {},
   "source": [
    "## Exercise 5:\n",
    "\n",
    "\n",
    "Now suppose you are have a loaded 4-sided dice (it is loaded so that it lands twice as often on side 2 compared to the other sides): \n",
    "\n",
    "\n",
    "<img src=\"./images/4_side_uf.png\" style=\"height: 300px;\"/>\n",
    "\n",
    "You are throwing it two times and recording the sum of each throw. Which of the following `probability mass functions` will be the one you should get?\n",
    "\n",
    "<table><tr>\n",
    "<td> <img src=\"./images/hist_sum_4_4l.png\" style=\"height: 300px;\"/> </td>\n",
    "<td> <img src=\"./images/hist_sum_4_3l.png\" style=\"height: 300px;\"/> </td>\n",
    "<td> <img src=\"./images/hist_sum_4_uf.png\" style=\"height: 300px;\"/> </td>\n",
    "</tr></table>"
   ]
  },
  {
   "cell_type": "markdown",
   "id": "ecb27c1b",
   "metadata": {},
   "source": [
    "Hints: \n",
    "- You can use the `p` parameter of [np.random.choice](https://numpy.org/doc/stable/reference/random/generated/numpy.random.choice.html) to simulate a loaded dice."
   ]
  },
  {
   "cell_type": "code",
   "execution_count": 46,
   "id": "a35573ec",
   "metadata": {},
   "outputs": [
    {
     "name": "stdout",
     "output_type": "stream",
     "text": [
      "Possible sums when throwing the loaded dice twice: [2, 3, 4, 5, 6, 7, 8]\n",
      "\n",
      "Analytical Probability Mass Function of the Sum of Two Loaded Dice (Arbitrary Sides):\n",
      "Sum = 2: Probability = 0.0400\n",
      "Sum = 3: Probability = 0.1600\n",
      "Sum = 4: Probability = 0.2400\n",
      "Sum = 5: Probability = 0.2400\n",
      "Sum = 6: Probability = 0.2000\n",
      "Sum = 7: Probability = 0.0800\n",
      "Sum = 8: Probability = 0.0400\n"
     ]
    }
   ],
   "source": [
    "loaded_dice_4 ={1: 0.2, 2: 0.4, 3: 0.2, 4:0.2}\n",
    "\n",
    "sides = list(loaded_dice_4.keys())\n",
    "\n",
    "# Generate all possible sums by adding each side to every other side (including itself)\n",
    "all_possible_sums = set()\n",
    "for side1 in sides:\n",
    "    for side2 in sides:\n",
    "        all_possible_sums.add(side1 + side2)\n",
    "\n",
    "# Convert the set of possible sums to a sorted list (optional, but often useful)\n",
    "possible_sums = sorted(list(all_possible_sums))\n",
    "\n",
    "print(f\"Possible sums when throwing the loaded dice twice: {possible_sums}\")\n",
    "\n",
    "# Now you can proceed with calculating the PMF using these possible_sums:\n",
    "pmf_sum = {sum_val: 0 for sum_val in possible_sums}\n",
    "\n",
    "probabilities = list(loaded_dice_4.values())\n",
    "num_sides = len(sides)\n",
    "\n",
    "for i in range(num_sides):\n",
    "    side1 = sides[i]\n",
    "    prob1 = probabilities[i]\n",
    "    for j in range(num_sides):\n",
    "        side2 = sides[j]\n",
    "        prob2 = probabilities[j]\n",
    "        sum_val = side1 + side2\n",
    "        pmf_sum[sum_val] += prob1 * prob2\n",
    "\n",
    "print(\"\\nAnalytical Probability Mass Function of the Sum of Two Loaded Dice (Arbitrary Sides):\")\n",
    "for sum_val, probability in pmf_sum.items():\n",
    "    print(f\"Sum = {sum_val}: Probability = {probability:.4f}\")"
   ]
  },
  {
   "cell_type": "markdown",
   "id": "0d0f3429",
   "metadata": {},
   "source": [
    "## Exercise 6:\n",
    "\n",
    "You have a 6-sided dice that is loaded so that it lands twice as often on side 3 compared to the other sides:\n",
    "\n",
    "<img src=\"./images/loaded_6_side.png\" style=\"height: 300px;\"/>\n",
    "\n",
    "You record the sum of throwing it twice. What is the highest value (of the sum) that will yield a cumulative probability lower or equal to 0.5?\n",
    "\n",
    "<img src=\"./images/loaded_6_cdf.png\" style=\"height: 300px;\"/>\n",
    "\n",
    "Hints:\n",
    "- The probability of side 3 is equal to $\\frac{2}{7}$"
   ]
  },
  {
   "cell_type": "code",
   "execution_count": 53,
   "id": "10feaaa8",
   "metadata": {},
   "outputs": [
    {
     "name": "stdout",
     "output_type": "stream",
     "text": [
      "Possible sums when throwing the loaded dice twice: [2, 3, 4, 5, 6, 7, 8, 9, 10, 11, 12]\n",
      "\n",
      "Analytical Probability Mass Function of the Sum of Two Loaded Dice (Arbitrary Sides):\n",
      "Sum = 2: Probability = 0.0204\n",
      "Sum = 3: Probability = 0.0409\n",
      "Sum = 4: Probability = 0.1022\n",
      "Sum = 5: Probability = 0.1227\n",
      "Sum = 6: Probability = 0.1636\n",
      "Sum = 7: Probability = 0.1636\n",
      "Sum = 8: Probability = 0.1431\n",
      "Sum = 9: Probability = 0.1227\n",
      "Sum = 10: Probability = 0.0613\n",
      "Sum = 11: Probability = 0.0409\n",
      "Sum = 12: Probability = 0.0204\n",
      "0.6134699999999998\n"
     ]
    }
   ],
   "source": [
    "# You can use this cell for your calculations (not graded)\n",
    "loaded_dice ={1: 0.143, 2: 0.143, 3: 0.286, 4:0.143, 5:0.143, 6:0.143}\n",
    "\n",
    "sides = list(loaded_dice.keys())\n",
    "\n",
    "# Generate all possible sums by adding each side to every other side (including itself)\n",
    "all_possible_sums = set()\n",
    "for side1 in sides:\n",
    "    for side2 in sides:\n",
    "        all_possible_sums.add(side1 + side2)\n",
    "\n",
    "# Convert the set of possible sums to a sorted list (optional, but often useful)\n",
    "possible_sums = sorted(list(all_possible_sums))\n",
    "\n",
    "print(f\"Possible sums when throwing the loaded dice twice: {possible_sums}\")\n",
    "\n",
    "# Now you can proceed with calculating the PMF using these possible_sums:\n",
    "pmf_sum = {sum_val: 0 for sum_val in possible_sums}\n",
    "\n",
    "probabilities = list(loaded_dice.values())\n",
    "num_sides = len(sides)\n",
    "\n",
    "for i in range(num_sides):\n",
    "    side1 = sides[i]\n",
    "    prob1 = probabilities[i]\n",
    "    for j in range(num_sides):\n",
    "        side2 = sides[j]\n",
    "        prob2 = probabilities[j]\n",
    "        sum_val = side1 + side2\n",
    "        pmf_sum[sum_val] += prob1 * prob2\n",
    "\n",
    "print(\"\\nAnalytical Probability Mass Function of the Sum of Two Loaded Dice (Arbitrary Sides):\")\n",
    "for sum_val, probability in pmf_sum.items():\n",
    "    print(f\"Sum = {sum_val}: Probability = {probability:.4f}\")\n",
    "    \n",
    "print(pmf_sum[2]+pmf_sum[3]+pmf_sum[4]+pmf_sum[5]+pmf_sum[6]+pmf_sum[7])\n"
   ]
  },
  {
   "cell_type": "markdown",
   "id": "f6684426",
   "metadata": {},
   "source": [
    "## Exercise 7:\n",
    "\n",
    "Given a 6-sided fair dice you try a new game. You only throw the dice a second time if the result of the first throw is **lower** or equal to 3. Which of the following `probability mass functions` will be the one you should get given this new constraint?\n",
    "\n",
    "<table><tr>\n",
    "<td> <img src=\"./images/6_sided_cond_green.png\" style=\"height: 250px;\"/> </td>\n",
    "<td> <img src=\"./images/6_sided_cond_blue.png\" style=\"height: 250px;\"/> </td>\n",
    "<td> <img src=\"./images/6_sided_cond_red.png\" style=\"height: 250px;\"/> </td>\n",
    "<td> <img src=\"./images/6_sided_cond_brown.png\" style=\"height: 250px;\"/> </td>\n",
    "\n",
    "</tr></table>\n",
    "\n",
    "Hints:\n",
    "- You can simulate the second throws as a numpy array and then make the values that met a certain criteria equal to 0 by using [np.where](https://numpy.org/doc/stable/reference/generated/numpy.where.html)"
   ]
  },
  {
   "cell_type": "code",
   "execution_count": 65,
   "id": "9e64d178",
   "metadata": {},
   "outputs": [
    {
     "data": {
      "text/plain": [
       "<Axes: ylabel='Count'>"
      ]
     },
     "execution_count": 65,
     "metadata": {},
     "output_type": "execute_result"
    },
    {
     "data": {
      "image/png": "[encoded data removed]",
      "text/plain": [
       "<Figure size 640x480 with 1 Axes>"
      ]
     },
     "metadata": {},
     "output_type": "display_data"
    }
   ],
   "source": [
    "# You can use this cell for your calculations (not graded)\n",
    "dice = np.array([1, 2, 3, 4, 5, 6])\n",
    "\n",
    "n_tries = 100000\n",
    "sum_values = []\n",
    "\n",
    "while n_tries>0:\n",
    "    t1 = np.random.choice(dice)\n",
    "    t2 = 0\n",
    "    \n",
    "    if t1 <= 3:\n",
    "        t2 = np.random.choice(dice)\n",
    "        \n",
    "    sum_values.append(t1+t2)\n",
    "    n_tries -= 1\n",
    "    \n",
    "\n",
    "sns.histplot(sum_values, discrete=True)\n",
    "    \n",
    "    \n",
    "\n",
    "\n",
    "\n",
    "\n"
   ]
  },
  {
   "cell_type": "code",
   "execution_count": 58,
   "id": "82a4db40",
   "metadata": {},
   "outputs": [
    {
     "data": {
      "application/vnd.jupyter.widget-view+json": {
       "model_id": "fb2b282d2bb34e1c8bdc8035438fe6a7",
       "version_major": 2,
       "version_minor": 0
      },
      "text/plain": [
       "ToggleButtons(description='Your answer:', options=('left-most', 'left-center', 'right-center', 'right-most'), …"
      ]
     },
     "metadata": {},
     "output_type": "display_data"
    },
    {
     "data": {
      "application/vnd.jupyter.widget-view+json": {
       "model_id": "72ad5f9d967345d99d4c5e151fee85f9",
       "version_major": 2,
       "version_minor": 0
      },
      "text/plain": [
       "Button(button_style='success', description='Save your answer!', style=ButtonStyle())"
      ]
     },
     "metadata": {},
     "output_type": "display_data"
    },
    {
     "data": {
      "application/vnd.jupyter.widget-view+json": {
       "model_id": "51c99119c7f248c3a2eaf9a3722bd7aa",
       "version_major": 2,
       "version_minor": 0
      },
      "text/plain": [
       "Output()"
      ]
     },
     "metadata": {},
     "output_type": "display_data"
    }
   ],
   "source": [
    "# Run this cell to submit your answer\n",
    "utils.exercise_7()"
   ]
  },
  {
   "cell_type": "markdown",
   "id": "ba973eaf",
   "metadata": {},
   "source": [
    "## Exercise 8:\n",
    "\n",
    "Given the same scenario as in the previous exercise but with the twist that you only throw the dice a second time if the result of the first throw is **greater** or equal to 3. Which of the following `probability mass functions` will be the one you should get given this new constraint?\n",
    "\n",
    "<table><tr>\n",
    "<td> <img src=\"./images/6_sided_cond_green2.png\" style=\"height: 250px;\"/> </td>\n",
    "<td> <img src=\"./images/6_sided_cond_blue2.png\" style=\"height: 250px;\"/> </td>\n",
    "<td> <img src=\"./images/6_sided_cond_red2.png\" style=\"height: 250px;\"/> </td>\n",
    "<td> <img src=\"./images/6_sided_cond_brown2.png\" style=\"height: 250px;\"/> </td>\n",
    "\n",
    "</tr></table>\n"
   ]
  },
  {
   "cell_type": "code",
   "execution_count": 66,
   "id": "4d25300f",
   "metadata": {},
   "outputs": [
    {
     "data": {
      "text/plain": [
       "<Axes: ylabel='Count'>"
      ]
     },
     "execution_count": 66,
     "metadata": {},
     "output_type": "execute_result"
    },
    {
     "data": {
      "image/png": "[encoded data removed]",
      "text/plain": [
       "<Figure size 640x480 with 1 Axes>"
      ]
     },
     "metadata": {},
     "output_type": "display_data"
    }
   ],
   "source": [
    "# You can use this cell for your calculations (not graded)\n",
    "dice = np.array([1, 2, 3, 4, 5, 6])\n",
    "\n",
    "n_tries = 100000\n",
    "sum_values = []\n",
    "\n",
    "while n_tries>0:\n",
    "    t1 = np.random.choice(dice)\n",
    "    t2 = 0\n",
    "    \n",
    "    if t1 >= 3:\n",
    "        t2 = np.random.choice(dice)\n",
    "        \n",
    "    sum_values.append(t1+t2)\n",
    "    n_tries -= 1\n",
    "    \n",
    "\n",
    "sns.histplot(sum_values, discrete=True)\n",
    "    \n"
   ]
  },
  {
   "cell_type": "code",
   "execution_count": 57,
   "id": "33bb9fd2",
   "metadata": {},
   "outputs": [
    {
     "data": {
      "application/vnd.jupyter.widget-view+json": {
       "model_id": "fbeff1f196094401b12574414d248177",
       "version_major": 2,
       "version_minor": 0
      },
      "text/plain": [
       "ToggleButtons(description='Your answer:', options=('left-most', 'left-center', 'right-center', 'right-most'), …"
      ]
     },
     "metadata": {},
     "output_type": "display_data"
    },
    {
     "data": {
      "application/vnd.jupyter.widget-view+json": {
       "model_id": "48e591cd21cd45fe9539b094512f5107",
       "version_major": 2,
       "version_minor": 0
      },
      "text/plain": [
       "Button(button_style='success', description='Save your answer!', style=ButtonStyle())"
      ]
     },
     "metadata": {},
     "output_type": "display_data"
    },
    {
     "data": {
      "application/vnd.jupyter.widget-view+json": {
       "model_id": "b623216b479043a985d0dc8b173437ec",
       "version_major": 2,
       "version_minor": 0
      },
      "text/plain": [
       "Output()"
      ]
     },
     "metadata": {},
     "output_type": "display_data"
    }
   ],
   "source": [
    "# Run this cell to submit your answer\n",
    "utils.exercise_8()"
   ]
  },
  {
   "cell_type": "markdown",
   "id": "017e9b22",
   "metadata": {},
   "source": [
    "## Exercise 9:\n",
    "\n",
    "Given a n-sided fair dice. You throw it twice and record the sum. How does increasing the number of sides `n` of the dice impact the mean and variance of the sum and the covariance of the joint distribution?"
   ]
  },
  {
   "cell_type": "code",
   "execution_count": null,
   "id": "645a9b74",
   "metadata": {},
   "outputs": [],
   "source": [
    "# You can use this cell for your calculations (not graded)\n",
    "\n"
   ]
  },
  {
   "cell_type": "markdown",
   "id": "fcf9b3ac",
   "metadata": {},
   "source": [
    "## Exercise 10:\n",
    "\n",
    "Given a 6-sided loaded dice. You throw it twice and record the sum. Which of the following statemets is true?"
   ]
  },
  {
   "cell_type": "code",
   "execution_count": null,
   "id": "008c5858",
   "metadata": {},
   "outputs": [],
   "source": [
    "# You can use this cell for your calculations (not graded)\n",
    "\n"
   ]
  },
  {
   "cell_type": "markdown",
   "id": "f8a1a8a3",
   "metadata": {},
   "source": [
    "## Exercise 11:\n",
    "\n",
    "Given a n-sided dice (could be fair or not). You throw it twice and record the sum (there is no dependance between the throws). If you are only given the histogram of the sums can you use it to know which are the probabilities of the dice landing on each side?\n",
    "\n",
    "In other words, if you are provided with only the histogram of the sums like this one:\n",
    "<td> <img src=\"./images/hist_sum_6_side.png\" style=\"height: 300px;\"/> </td>\n",
    "\n",
    "Could you use it to know the probabilities of the dice landing on each side? Which will be equivalent to finding this histogram:\n",
    "<img src=\"./images/fair_dice.png\" style=\"height: 300px;\"/>\n"
   ]
  },
  {
   "cell_type": "code",
   "execution_count": null,
   "id": "b42149cf",
   "metadata": {},
   "outputs": [],
   "source": [
    "# You can use this cell for your calculations (not graded)\n",
    "\n"
   ]
  }
 ],
 "metadata": {
  "kernelspec": {
   "display_name": "Python 3 (ipykernel)",
   "language": "python",
   "name": "python3"
  },
  "language_info": {
   "codemirror_mode": {
    "name": "ipython",
    "version": 3
   },
   "file_extension": ".py",
   "mimetype": "text/x-python",
   "name": "python",
   "nbconvert_exporter": "python",
   "pygments_lexer": "ipython3",
   "version": "3.10.11"
  }
 },
 "nbformat": 4,
 "nbformat_minor": 5
}
