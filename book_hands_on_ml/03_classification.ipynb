{
 "cells": [
  {
   "cell_type": "markdown",
   "metadata": {},
   "source": [
    "# Chapter 3 - Classification\n",
    "\n",
    "**NOTES**\n",
    "\n",
    "- **Accuracy** is not always a good metric for performance, specially if you have a ds with many negative values. For example, if you're detecting cancer, but you only have 5% of cancer values in your DS, if you randomly say a value if not cancer you will still  be right in 95% of the times.\n",
    "\n",
    "-  Make sure you suffle the data and use stratified CV to have a good represenation in your train and test sets.\n",
    "\n",
    "- **Performance metrics:** Precision, Recall, F-score. Check Confusion Matrix. \n",
    "\n",
    "- If needed, manipulate decision threshold. "
   ]
  },
  {
   "cell_type": "code",
   "execution_count": 25,
   "metadata": {},
   "outputs": [],
   "source": [
    "# loads common libraries\n",
    "import sklearn\n",
    "import numpy as np\n",
    "\n",
    "# to plot pretty figures\n",
    "%matplotlib inline\n",
    "import matplotlib as mpl\n",
    "import matplotlib as mpl\n",
    "mpl.rc(\"axes\", labelsize=14)\n",
    "mpl.rc(\"xtick\", labelsize=12)\n",
    "mpl.rc(\"ytick\", labelsize=12)\n",
    "mpl.rc(\"font\", family=\"Azeret Mono\", weight=\"bold\")"
   ]
  },
  {
   "cell_type": "code",
   "execution_count": 26,
   "metadata": {},
   "outputs": [
    {
     "data": {
      "text/plain": [
       "dict_keys(['data', 'target', 'frame', 'categories', 'feature_names', 'target_names', 'DESCR', 'details', 'url'])"
      ]
     },
     "execution_count": 26,
     "metadata": {},
     "output_type": "execute_result"
    }
   ],
   "source": [
    "# loads the famouse ds with handwritten numbers\n",
    "\n",
    "from sklearn.datasets import fetch_openml\n",
    "mnist = fetch_openml('mnist_784', version=1, as_frame=False)\n",
    "mnist.keys()"
   ]
  },
  {
   "cell_type": "code",
   "execution_count": 21,
   "metadata": {},
   "outputs": [
    {
     "name": "stdout",
     "output_type": "stream",
     "text": [
      "X shape: (70000, 784) \n",
      "y shape: (70000,)\n"
     ]
    }
   ],
   "source": [
    "X, y = mnist[\"data\"], mnist[\"target\"]\n",
    "\n",
    "print(f\"X shape: {X.shape} \\ny shape: {y.shape}\")"
   ]
  },
  {
   "cell_type": "code",
   "execution_count": 45,
   "metadata": {},
   "outputs": [],
   "source": [
    "# split data into train and test\n",
    "X_train, X_test, y_train, y_test = X[:60000], X[60000:], y[:60000], y[60000:]"
   ]
  },
  {
   "cell_type": "markdown",
   "metadata": {},
   "source": [
    "## 1.0 Training a binary classifier\n",
    "\n",
    "We will start by training a simple binary classifier. The goal here is to check if a digit is \"5\" or not."
   ]
  },
  {
   "cell_type": "code",
   "execution_count": 49,
   "metadata": {},
   "outputs": [
    {
     "data": {
      "text/plain": [
       "array(['5', '0', '4', '1', '9', '2', '1', '3', '1', '4'], dtype=object)"
      ]
     },
     "execution_count": 49,
     "metadata": {},
     "output_type": "execute_result"
    }
   ],
   "source": [
    "# check what y returns, the labels\n",
    "y_train[:10]"
   ]
  },
  {
   "cell_type": "code",
   "execution_count": 50,
   "metadata": {},
   "outputs": [],
   "source": [
    "# we will create a binary target, if it's 5 or not\n",
    "y_train_5 = (y_train == \"5\")\n",
    "y_test_5 = (y_test == \"5\")"
   ]
  },
  {
   "cell_type": "code",
   "execution_count": 51,
   "metadata": {},
   "outputs": [
    {
     "data": {
      "text/plain": [
       "array([ True, False, False, False, False, False, False, False, False,\n",
       "       False])"
      ]
     },
     "execution_count": 51,
     "metadata": {},
     "output_type": "execute_result"
    }
   ],
   "source": [
    "y_train_5[:10]"
   ]
  },
  {
   "cell_type": "code",
   "execution_count": 54,
   "metadata": {},
   "outputs": [
    {
     "name": "stdout",
     "output_type": "stream",
     "text": [
      "First 10 predictions on X_test\n",
      "[False False False False False False False False False False]\n",
      "First 10 y_test_5 values\n",
      "[False False False False False False False False  True False]\n"
     ]
    }
   ],
   "source": [
    "from sklearn.linear_model import SGDClassifier\n",
    "\n",
    "sgd_classifier = SGDClassifier(random_state=42)\n",
    "sgd_classifier.fit(X_train, y_train_5)\n",
    "\n",
    "y_pred = sgd_classifier.predict(X_test)\n",
    "\n",
    "# First 10 predicitons on y_test\n",
    "print(\"First 10 predictions on X_test\")\n",
    "print(y_pred[:10])\n",
    "\n",
    "# First 10 values y_test\n",
    "print(\"First 10 y_test_5 values\")\n",
    "print(y_test_5[:10])\n"
   ]
  },
  {
   "cell_type": "markdown",
   "metadata": {},
   "source": [
    "## 1.1 Performance measures"
   ]
  },
  {
   "cell_type": "markdown",
   "metadata": {},
   "source": [
    "### 1.1.1 Accuracy"
   ]
  },
  {
   "cell_type": "code",
   "execution_count": 55,
   "metadata": {},
   "outputs": [
    {
     "data": {
      "text/plain": [
       "array([0.95035, 0.96035, 0.9604 ])"
      ]
     },
     "execution_count": 55,
     "metadata": {},
     "output_type": "execute_result"
    }
   ],
   "source": [
    "from sklearn.model_selection import cross_val_score\n",
    "\n",
    "cross_val_score(sgd_classifier, X_train, y_train_5, cv=3, scoring=\"accuracy\")"
   ]
  },
  {
   "cell_type": "markdown",
   "metadata": {},
   "source": [
    "### 1.1.2 Confusion Matrix\n",
    "\n",
    "A confusion matrix always goes:\n",
    "\n",
    "- First row: negative values (the first column is the real negative values, the second column is the negative values classified wrong (false positive))\n",
    "- Second row: positive values (the first column is the real positive values, the second column is the positive values classified wrong (false positive))\n",
    "\n",
    "The left diagonal represents the \"true values\". So a perfect confusion matrix would be something like:\n",
    "\n",
    "[ [number 0]]\n",
    "\n",
    "[[0 number]]"
   ]
  },
  {
   "cell_type": "code",
   "execution_count": 57,
   "metadata": {},
   "outputs": [
    {
     "name": "stdout",
     "output_type": "stream",
     "text": [
      "[[53115  1464]\n",
      " [  916  4505]]\n"
     ]
    }
   ],
   "source": [
    "from sklearn.model_selection import cross_val_predict\n",
    "from sklearn.metrics import confusion_matrix\n",
    "\n",
    "# here we will make predictions on the train set, to avoid touching the test set for now\n",
    "y_train_predic = cross_val_predict(sgd_classifier, X_train, y_train_5, cv=5)\n",
    "\n",
    "conf_matrix = confusion_matrix(y_train_5, y_train_predic)\n",
    "\n",
    "print(conf_matrix)"
   ]
  },
  {
   "cell_type": "markdown",
   "metadata": {},
   "source": [
    "**PRECISION**: Accuracy of the positive predictions\n",
    "\n",
    "precision = TP / (TP+FP)\n",
    "\n",
    "**RECALL** The ratio of positive precitions that was correctly dected\n",
    "\n",
    "recall = TP / (TP + FN)"
   ]
  },
  {
   "cell_type": "code",
   "execution_count": 60,
   "metadata": {},
   "outputs": [
    {
     "name": "stdout",
     "output_type": "stream",
     "text": [
      "Precision Score:\n",
      "0.7547327860613168\n",
      "Recall score:\n",
      "0.8310274857037447\n"
     ]
    }
   ],
   "source": [
    "from sklearn.metrics import precision_score, recall_score\n",
    "\n",
    "print(\"Precision Score:\")\n",
    "print(precision_score(y_train_5, y_train_predic))\n",
    "\n",
    "print(\"Recall score:\")\n",
    "print(recall_score(y_train_5, y_train_predic))"
   ]
  },
  {
   "cell_type": "markdown",
   "metadata": {},
   "source": [
    "This means the classifier only gets 83% of the true 5 values (recall) and that he's only right in 75% of tje cases (precision).\n",
    "\n",
    "**The F1-SCORE** is the harmonic mean between precision and recall, and it can be used a trade-off between both metrics.\n",
    "\n",
    "f1 = TP / ((TP + ((FN + FP)/2)))"
   ]
  },
  {
   "cell_type": "code",
   "execution_count": 61,
   "metadata": {},
   "outputs": [
    {
     "name": "stdout",
     "output_type": "stream",
     "text": [
      "F1 Score\n",
      "0.7910447761194029\n"
     ]
    }
   ],
   "source": [
    "from sklearn.metrics import f1_score\n",
    "\n",
    "print(\"F1 Score\")\n",
    "print(f1_score(y_train_5, y_train_predic))"
   ]
  },
  {
   "cell_type": "markdown",
   "metadata": {},
   "source": [
    "### 1.1.3 Decision function threshold\n",
    "\n",
    "The classification/prediction happens based on a threshold. If the number is higher than that threshold than it's classified as positive and as negative otherwise. You can't manually set the threshold, you can check them and so generate new predictions based on the values you want."
   ]
  },
  {
   "cell_type": "code",
   "execution_count": 69,
   "metadata": {},
   "outputs": [
    {
     "name": "stdout",
     "output_type": "stream",
     "text": [
      "[2164.22030239]\n"
     ]
    }
   ],
   "source": [
    "y_scores = sgd_classifier.decision_function([X_train[0]])\n",
    "\n",
    "print(y_scores)"
   ]
  },
  {
   "cell_type": "code",
   "execution_count": 70,
   "metadata": {},
   "outputs": [
    {
     "data": {
      "text/plain": [
       "array([ True])"
      ]
     },
     "execution_count": 70,
     "metadata": {},
     "output_type": "execute_result"
    }
   ],
   "source": [
    "threshold = 0\n",
    "\n",
    "y_decision_manual_pred = (y_scores > threshold)\n",
    "\n",
    "y_decision_manual_pred"
   ]
  },
  {
   "cell_type": "code",
   "execution_count": 71,
   "metadata": {},
   "outputs": [
    {
     "data": {
      "text/plain": [
       "array([False])"
      ]
     },
     "execution_count": 71,
     "metadata": {},
     "output_type": "execute_result"
    }
   ],
   "source": [
    "# but if when change the value of the threshold, the prediction changes\n",
    "threshold = 3000\n",
    "\n",
    "y_decision_manual_pred = (y_scores > threshold)\n",
    "\n",
    "y_decision_manual_pred"
   ]
  },
  {
   "cell_type": "code",
   "execution_count": 72,
   "metadata": {},
   "outputs": [],
   "source": [
    "y_scores = cross_val_predict(sgd_classifier, X_train, y_train_5, cv=5, method=\"decision_function\")"
   ]
  },
  {
   "cell_type": "code",
   "execution_count": 76,
   "metadata": {},
   "outputs": [
    {
     "data": {
      "image/png": "[encoded data removed]",
      "text/plain": [
       "<Figure size 800x400 with 1 Axes>"
      ]
     },
     "metadata": {},
     "output_type": "display_data"
    }
   ],
   "source": [
    "from sklearn.metrics import precision_recall_curve\n",
    "\n",
    "precisions, recalls, thresholds = precision_recall_curve(y_train_5, y_scores)\n",
    "\n",
    "plt.figure(figsize=(8, 4))\n",
    "plt.plot(thresholds, precisions[:-1], \"b--\", label=\"Precision\", linewidth=2)\n",
    "plt.plot(thresholds, recalls[:-1], \"g--\", label=\"Recall\", linewidth=2)\n",
    "plt.vlines(threshold, 0, 1.0, \"k\", \"dotted\", label= \"Threshold\")\n",
    "\n",
    "plt.grid()\n",
    "plt.xlabel(\"Threshold\")\n",
    "plt.legend(loc=\"center left\")\n",
    "\n",
    "\n",
    "plt.show()"
   ]
  },
  {
   "cell_type": "markdown",
   "metadata": {},
   "source": [
    "Precision/Recall have a trade-off. A good threshold is when the precision goes up but before recall goes down.\n",
    "Another way to select a good precision/recall tradeoff is to plot these metrics against each other.\n",
    "Then you look where precision starts to fall sharply (in the graph below it's around 0.8 recall)"
   ]
  },
  {
   "cell_type": "code",
   "execution_count": 80,
   "metadata": {},
   "outputs": [
    {
     "data": {
      "image/png": "[encoded data removed]",
      "text/plain": [
       "<Figure size 1200x800 with 1 Axes>"
      ]
     },
     "metadata": {},
     "output_type": "display_data"
    }
   ],
   "source": [
    "plt.figure(figsize=(12, 8))\n",
    "plt.plot(precisions, recalls, \"b-\", linewidth=2)\n",
    "plt.axis([0, 1, 0, 1])\n",
    "\n",
    "plt.grid()\n",
    "plt.xlabel(\"Recall\")\n",
    "plt.ylabel(\"Precision\")\n",
    "\n",
    "plt.show()"
   ]
  },
  {
   "cell_type": "markdown",
   "metadata": {},
   "source": [
    "### 1.1.4 ROC Curve\n",
    "\n",
    "The ROC curve plots recall versus (1-true negative rate). \n",
    "**A good way to compare classifiers is to get the score of the area under the curve AUC. A perfect classifier has a ROC AUC of 1**."
   ]
  },
  {
   "cell_type": "code",
   "execution_count": 81,
   "metadata": {},
   "outputs": [
    {
     "data": {
      "text/plain": [
       "np.float64(0.9648211175804801)"
      ]
     },
     "execution_count": 81,
     "metadata": {},
     "output_type": "execute_result"
    }
   ],
   "source": [
    "from sklearn.metrics import roc_auc_score\n",
    "\n",
    "roc_auc_score(y_train_5, y_scores)"
   ]
  },
  {
   "cell_type": "markdown",
   "metadata": {},
   "source": [
    "## 1.2 Multiclass classifiers"
   ]
  }
 ],
 "metadata": {
  "kernelspec": {
   "display_name": "ve_ml",
   "language": "python",
   "name": "python3"
  },
  "language_info": {
   "codemirror_mode": {
    "name": "ipython",
    "version": 3
   },
   "file_extension": ".py",
   "mimetype": "text/x-python",
   "name": "python",
   "nbconvert_exporter": "python",
   "pygments_lexer": "ipython3",
   "version": "3.10.11"
  }
 },
 "nbformat": 4,
 "nbformat_minor": 4
}
