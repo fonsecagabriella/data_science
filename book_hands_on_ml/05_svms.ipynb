{
 "cells": [
  {
   "cell_type": "markdown",
   "metadata": {},
   "source": [
    "# Support Vector Machines\n",
    "\n",
    "-- SVMs are particularly suited for complex but small of medium sized datasets.\n",
    "\n",
    "-- SVMs are very sensitive to scaling. \n",
    "\n",
    "-- In simple terms, SVMs create a decision boundary that is as far as possible from the classes.\n",
    "\n",
    "-- The instances that are closer to this decision boundary, but that do not affect the boundary, are the \"margin violation\". They can be controlled by hyperparameter C. A smaller C leads to a \"wider street\" but more margin violations, while a higher C leads to \"narrow street\" and therefore less margin violation.\n",
    "\n",
    "-- If your SVM model is overfitting you can try regularise by reducing the value of C.\n",
    "\n",
    "-- **Unlike logistic regression, SVMs do not output probabilities for each class.**\n"
   ]
  },
  {
   "cell_type": "code",
   "execution_count": null,
   "metadata": {},
   "outputs": [],
   "source": [
    "# example of SVC\n",
    "\n",
    "import numpy as np\n",
    "from sklearn import datasets\n",
    "from sklearn.pipeline import Pipeline\n",
    "from sklearn.preprocessing import StandardScaler\n",
    "from sklearn.svm import LinearSVC\n",
    "\n",
    "# loads iris ds\n",
    "iris = datasets.load_iris()\n",
    "\n",
    "X = iris[\"data\"][:, (2, 3)] # petal lenght, petal width\n",
    "y= (iris[\"target\"]==2).astype(np.float64) # type == Irist Virginica, it will return 0 or 1\n",
    "\n",
    "svm_classifier = Pipeline([\n",
    "    (\"scaler\", StandardScaler()), # IT NEEDS TO BE SCALED WITH BEING CENTRED AROUND THE MEAN \\ StandardScaler does that\n",
    "    (\"linear_svc\", LinearSVC(C=1, loss=\"hinge\")), # set loss to hinge, it's not default\n",
    "    # for better performance, set \"dual\" parameter of SVC to FALSE unless you have more features than training instances\n",
    "])\n",
    "\n",
    "# as an alternative to the above you can have\n",
    "# SVC(kernel=\"linear\", C=1)\n",
    "# but it's more slower, specially for larger datasets\n",
    "\n",
    "svm_classifier.fit(X)\n",
    "\n"
   ]
  }
 ],
 "metadata": {
  "kernelspec": {
   "display_name": "ve_ml",
   "language": "python",
   "name": "python3"
  },
  "language_info": {
   "name": "python",
   "version": "3.10.11"
  }
 },
 "nbformat": 4,
 "nbformat_minor": 2
}
