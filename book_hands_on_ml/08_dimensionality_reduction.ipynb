{
 "cells": [
  {
   "cell_type": "markdown",
   "metadata": {},
   "source": [
    "# Dimensionality reduction\n",
    "\n",
    "*Fun fact: anyone you know is probably an extremist in at least one dimension (e.g., how much sugar they put in their coffee), if you consider enough dimensions.* 🤗\n",
    "\n",
    "- If you have many dimensions you're more likely to overfit, as the points will be likely very far from each other.\n",
    "\n",
    "- If you reduce the dimensionality of a DS before training, it will train quicker, but you don't necessarily get better results. It always depends on the dataset.\n",
    "\n",
    "- Main approaches for dimensionality reduction:\n",
    "-- PROJECTION: \n",
    "-- MANIFOLD:"
   ]
  }
 ],
 "metadata": {
  "kernelspec": {
   "display_name": ".venv",
   "language": "python",
   "name": "python3"
  },
  "language_info": {
   "name": "python",
   "version": "3.12.7"
  }
 },
 "nbformat": 4,
 "nbformat_minor": 2
}
