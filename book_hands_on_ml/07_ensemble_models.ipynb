{
 "cells": [
  {
   "cell_type": "markdown",
   "metadata": {},
   "source": [
    "# Ensemble Models\n",
    "\n",
    "-- It's better to use models that are essentially different, as the weakness in one balances the other one.\n",
    "\n",
    "-- If all models can estimate class probability, then you can set *voting=soft*. This often performs better because it gives more weight to confident scores.\n",
    "\n",
    "-- Another **way to ensemble models is to train the same model with different samples from you training data**. Here we have *bagging (bootstrap aggregating, with replacament)* and *pasting (without replacement)*. Bagging often performs better, so it's preferred. They scale well because they can run in parallel.\n",
    "\n",
    "-- **Random Patches Method**: Sample both training instances and features.\n",
    "\n",
    "-- **Random Subspaces Method**: Sample features, keeps all training instances (i.e., bootstrap=False and max_samples=1.0)\n",
    "\n",
    "-- The aggregation function is typically the mode (most frequent value) or the average (for regression)\n",
    "\n",
    "-- Random Forests are great to examine Feature Importance, specially when you need to perform feature selection.\n",
    "\n",
    "-- **Boosting** is taking several weak learners models, in a sequence, and improving their performance. Every new model has a small improvement from the model before it.\n",
    "It does not scale well since it can't always run in parallel.  GradientBoosting is a boosting ensemble model, that picks up on the residual errors of the trees, in sequence. \n",
    "A learning rate of 0.1 is low, but it usually learns well."
   ]
  },
  {
   "cell_type": "code",
   "execution_count": null,
   "metadata": {},
   "outputs": [],
   "source": [
    "from sklearn.ensemble import RandomForestClassifier\n",
    "from sklearn.ensemble import VotingClassifier\n",
    "from sklearn.linear_model import LogisticRegression\n",
    "from sklearn.svm import SVC\n",
    "\n",
    "logreg = LogisticRegression()\n",
    "forest = RandomForestClassifier()\n",
    "svm = SVC()\n",
    "\n",
    "voting_classifier = VotingClassifier(\n",
    "    estimators=[(\"linear\", logreg), (\"forest\", forest), (\"svm\", svm)],\n",
    "    voting=\"hard\"\n",
    ")\n",
    "\n",
    "# fit the classifier\n",
    "voting_classifier.fit(X_train,y_train)\n",
    "\n",
    "# check each classifier accuracy on the test set\n",
    "from sklearn.metrics import accuracy_score\n",
    "\n",
    "for clf in (logreg, forest, svm, voting_classifier):\n",
    "    clf.fit(X_train, y_train)\n",
    "    y_pred = clf.predict(X_test)\n",
    "\n",
    "    print(score.__class__.__name__, accuracy_score(y_pred, y_test))"
   ]
  },
  {
   "cell_type": "code",
   "execution_count": null,
   "metadata": {},
   "outputs": [],
   "source": [
    "# Bagging and Pasting in Scikit-Learn\n",
    "\n",
    "# the code below will take a X_train and use only 100 samples for each training\n",
    "# it will probably generalise it better than a single decision tree\n",
    "\n",
    "from sklearn.ensemble import BaggingClassifier\n",
    "from sklearn.tree import DecisionTreeClassifier\n",
    "\n",
    "bag_classifier = BaggingClassifier(\n",
    "    DecisionTreeClassifier(), n_estimators=500,\n",
    "    max_samples=100, bootstrap=True, n_jobs=-1, # if you change boostrap=False then you have Pasting, and not longer Bagging\n",
    "    # n_jobs=-1 uses all the cores available\n",
    "    oob_score= True # if you set this to true, you can use the score of \"out of bag\" as an evaluation, since these instances were not used to train the model\n",
    ")\n",
    "\n",
    "bagging_classifier.fit(X_train, y_train)\n",
    "\n",
    "y_pred = bag_classifier.predict(X_test)\n",
    "\n",
    "# if you set oob_score=True you can get the score with\n",
    "bagging_classifier.oob_score_\n",
    "# you can also check the decision function\n",
    "bagging_classifier.obb_decision_function_\n",
    "# it will show for example, the probability of belonging to one class or another"
   ]
  }
 ],
 "metadata": {
  "kernelspec": {
   "display_name": ".venv",
   "language": "python",
   "name": "python3"
  },
  "language_info": {
   "name": "python",
   "version": "3.12.7"
  }
 },
 "nbformat": 4,
 "nbformat_minor": 2
}
