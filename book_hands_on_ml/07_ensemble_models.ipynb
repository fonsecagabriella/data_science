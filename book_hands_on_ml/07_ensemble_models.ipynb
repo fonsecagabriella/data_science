{
 "cells": [
  {
   "cell_type": "markdown",
   "metadata": {},
   "source": [
    "# Ensemble Models\n",
    "\n",
    "-- It's better to use models that are essentially different, as the weakness in one balances the other one.\n",
    "\n",
    "-- If all models can estimate class probability, then you can set *voting=soft*. This often performs better because it gives more weight to confident scores.\n",
    "\n",
    "-- Another way to ensemble models is to train the same model with different samples from you training data. Here we have *bagging (bootstrap aggregating, with replacament)* and *pasting (without replacement)*\n",
    "\n",
    "-- The aggregation function is typically the mode (most frequent value) or the average (for regression)"
   ]
  },
  {
   "cell_type": "code",
   "execution_count": null,
   "metadata": {},
   "outputs": [],
   "source": [
    "from sklearn.ensemble import RandomForestClassifier\n",
    "from sklearn.ensemble import VotingClassifier\n",
    "from sklearn.linear_model import LogisticRegression\n",
    "from sklearn.svm import SVC\n",
    "\n",
    "logreg = LogisticRegression()\n",
    "forest = RandomForestClassifier()\n",
    "svm = SVC()\n",
    "\n",
    "voting_classifier = VotingClassifier(\n",
    "    estimators=[(\"linear\", logreg), (\"forest\", forest), (\"svm\", svm)],\n",
    "    voting=\"hard\"\n",
    ")\n",
    "\n",
    "# fit the classifier\n",
    "voting_classifier.fit(X_train,y_train)\n",
    "\n",
    "# check each classifier accuracy on the test set\n",
    "from sklearn.metrics import accuracy_score\n",
    "\n",
    "for score in (logreg, forest, svm, voting_classifier):\n",
    "    clf.fit(X_train, y_train)\n",
    "    y_pred = clf.predict(X_test)\n",
    "\n",
    "    print(score.__class__.__name__, accuracy_score(y_pred, y_test))"
   ]
  }
 ],
 "metadata": {
  "kernelspec": {
   "display_name": ".venv",
   "language": "python",
   "name": "python3"
  },
  "language_info": {
   "name": "python",
   "version": "3.12.7"
  }
 },
 "nbformat": 4,
 "nbformat_minor": 2
}
