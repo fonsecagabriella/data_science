{
 "cells": [
  {
   "cell_type": "markdown",
   "metadata": {},
   "source": [
    "# Unsupervised Learning Techniques\n",
    "\n",
    "* **DIMENSIONALITY REDUCTION** used to reduce features, for data visualisation, better training times, eliminate features\n",
    "* **CLUSTERING** groups clusters of similar instance together. Used for data analysis, (user) segmentation, recommender systems, search engines, semi-supervised learning, dimensionality reduction and more\n",
    "* **ANOMALY REDUCTION** learns what \"normal\" data looks like in order to identify anomalies\n",
    "* **DENSITY ESTIMATION** estimates the *probability density function (PDF)* of the random process that generated the dataset. Instances that are in a low-density region are likely to be anomalies. Usually used for anomaly detection, data analysis and visualisation."
   ]
  },
  {
   "cell_type": "markdown",
   "metadata": {},
   "source": [
    "## **CLUSTERING**\n",
    "\n",
    "### K-means\n",
    "- It finds the centroids and assign each instance to the closest centroid\n",
    "- You need to specify the number of clusters\n",
    "- Does not perform well when the clusters have very different diameters\n",
    "- Hard clustering: Assign the point to one centroid; Soft clustering: Gives a score for each centroid based on the point\n",
    "- Where the first centroids were applied has an influence on the solution. So you can  either run several times, and keep the best solution or if you know more or less where the centroids are, you can pass their innitials when you call the algorithm (*with the parameter init*)"
   ]
  }
 ],
 "metadata": {
  "kernelspec": {
   "display_name": ".venv",
   "language": "python",
   "name": "python3"
  },
  "language_info": {
   "name": "python",
   "version": "3.12.7"
  }
 },
 "nbformat": 4,
 "nbformat_minor": 2
}
