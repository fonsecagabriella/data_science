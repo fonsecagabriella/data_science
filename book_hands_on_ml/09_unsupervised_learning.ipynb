{
 "cells": [
  {
   "cell_type": "markdown",
   "metadata": {},
   "source": [
    "# Unsupervised Learning Techniques\n",
    "\n",
    "* **DIMENSIONALITY REDUCTION** used to reduce features, for data visualisation, better training times, eliminate features\n",
    "* **CLUSTERING** groups clusters of similar instance together. Used for data analysis, (user) segmentation, recommender systems, search engines, semi-supervised learning, dimensionality reduction and more\n",
    "* **ANOMALY REDUCTION** learns what \"normal\" data looks like in order to identify anomalies\n",
    "* **DENSITY ESTIMATION** estimates the *probability density function (PDF)* of the random process that generated the dataset. Usually used for anomaly detection, data analysis and visualisation.\n",
    "\n"
   ]
  }
 ],
 "metadata": {
  "kernelspec": {
   "display_name": ".venv",
   "language": "python",
   "name": "python3"
  },
  "language_info": {
   "name": "python",
   "version": "3.12.7"
  }
 },
 "nbformat": 4,
 "nbformat_minor": 2
}
