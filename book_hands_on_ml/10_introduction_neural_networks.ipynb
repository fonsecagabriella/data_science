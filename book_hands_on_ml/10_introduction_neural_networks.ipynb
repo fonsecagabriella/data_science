{
 "cells": [
  {
   "cell_type": "markdown",
   "metadata": {},
   "source": [
    "# Introduction the NN\n",
    "\n",
    "In essence: For each epoch, for each training instance the backpropagation algorithm first makes a prediction (forward pass), measures the error, then goes through each layer in reverse to measure the error contribution from each connection (reverse pass), and finally slightly tweaks the connection weights to reduce the error (Gradient Descent step).\n",
    "\n",
    "\n",
    "<img src=\"../img/derivatives_activation.png\" width=\"80%\">\n",
    "\n",
    "*Derivatives: rate of change*\n",
    "\n",
    "\n",
    "**Key Differences Between Perceptron and Neuron**\n",
    "| Feature               | Perceptron                       | Neuron in MLP                   |\n",
    "|-----------------------|-----------------------------------|----------------------------------|\n",
    "| **Activation Function** | Step function                   | Nonlinear (e.g., ReLU, sigmoid) |\n",
    "| **Output**            | Binary (0 or 1)                  | Continuous or nonlinear values  |\n",
    "| **Usage**             | Single-layer models (linear tasks) | Multilayer networks (nonlinear tasks) |\n",
    "| **Problem Solving**   | Only linear separability         | Handles nonlinear problems      |\n"
   ]
  },
  {
   "cell_type": "markdown",
   "metadata": {},
   "source": [
    "## **Regression MLPs**\n",
    "\n",
    "| Hyperparameter        | Typical Value                                                                 |\n",
    "|-----------------------|------------------------------------------------------------------------------|\n",
    "| # input neurons       | One per input feature (e.g., 28 x 28 = 784 for MNIST)                       |\n",
    "| # hidden layers       | Depends on the problem. Typically 1 to 5.                                   |\n",
    "| # neurons per hidden layer | Depends on the problem. Typically 10 to 100.                            |\n",
    "| # output neurons      | 1 per prediction dimension (if you expect 2 values, then 2 outputs)                                                  |\n",
    "| Hidden activation     | ReLU (or SELU)                                              |\n",
    "| Output activation     | None or ReLU/Softplus (if positive outputs) or Logistic (0 to 1)/Tanh (hyperbolic tangent)(-1 to 1) (if bounded outputs) |\n",
    "| Loss function         | MSE or MAE/Huber (if outliers)                                              |\n",
    "\n",
    "\n"
   ]
  },
  {
   "cell_type": "code",
   "execution_count": null,
   "metadata": {},
   "outputs": [],
   "source": [
    "from sklearn.datasets import fetch_california_housing\n",
    "from sklearn.metrics import mean_squared_error\n",
    "from sklearn.model_selection import train_test_split\n",
    "from sklearn.neural_network import MLPRegressor\n",
    "from sklearn.pipeline import make_pipeline\n",
    "from sklearn.preprocessing import StandardScaler\n",
    "\n",
    "housing = fetch_california_housing()\n",
    "X_train_full, X_test, y_train_full, y_test = train_test_split(\n",
    "    housing.data, housing.target, random_state=42)\n",
    "X_train, X_valid, y_train, y_valid = train_test_split(\n",
    "    X_train_full, y_train_full, random_state=42)\n",
    "\n",
    "mlp_reg = MLPRegressor(hidden_layer_sizes=[50, 50, 50], random_state=42)\n",
    "pipeline = make_pipeline(StandardScaler(), mlp_reg)\n",
    "pipeline.fit(X_train, y_train)\n",
    "y_pred = pipeline.predict(X_valid)\n",
    "rmse = mean_squared_error(y_valid, y_pred, squared=False)\n",
    "\n",
    "print(rmse)"
   ]
  },
  {
   "cell_type": "markdown",
   "metadata": {},
   "source": [
    "## **Classification MLPs**\n",
    "\n",
    "| Hyperparameter            | Binary classification | Multilabel binary classification | Multiclass classification |\n",
    "|---------------------------|-----------------------|-----------------------------------|---------------------------|\n",
    "| Input and hidden layers   | Same as regression   | Same as regression               | Same as regression       |\n",
    "| # output neurons          | 1                   | 1 per label                      | 1 per class              |\n",
    "| Output layer activation   | Logistic (sigmoid for NNs)           | Logistic                          | Softmax                  |\n",
    "| Loss function   | (binary)Cross-entropy            | (categorical)Cross-entropy                         | (sparse-categorical)Cross-entropy                  |\n"
   ]
  },
  {
   "cell_type": "code",
   "execution_count": 19,
   "metadata": {},
   "outputs": [
    {
     "data": {
      "text/plain": [
       "1.0"
      ]
     },
     "execution_count": 19,
     "metadata": {},
     "output_type": "execute_result"
    }
   ],
   "source": [
    "from sklearn.datasets import load_iris\n",
    "from sklearn.model_selection import train_test_split\n",
    "from sklearn.neural_network import MLPClassifier\n",
    "from sklearn.pipeline import make_pipeline\n",
    "from sklearn.preprocessing import StandardScaler\n",
    "\n",
    "iris = load_iris()\n",
    "X_train_full, X_test, y_train_full, y_test = train_test_split(\n",
    "    iris.data, iris.target, test_size=0.1, random_state=42)\n",
    "X_train, X_valid, y_train, y_valid = train_test_split(\n",
    "    X_train_full, y_train_full, test_size=0.1, random_state=42)\n",
    "\n",
    "mlp_clf = MLPClassifier(hidden_layer_sizes=[5], max_iter=10_000,\n",
    "                        random_state=42)\n",
    "pipeline = make_pipeline(StandardScaler(), mlp_clf)\n",
    "pipeline.fit(X_train, y_train)\n",
    "accuracy = pipeline.score(X_valid, y_valid)\n",
    "accuracy"
   ]
  },
  {
   "cell_type": "markdown",
   "metadata": {},
   "source": [
    "## **Simple image classifier with Keras**"
   ]
  },
  {
   "cell_type": "code",
   "execution_count": 3,
   "metadata": {},
   "outputs": [
    {
     "data": {
      "text/plain": [
       "'3.6.0'"
      ]
     },
     "execution_count": 3,
     "metadata": {},
     "output_type": "execute_result"
    }
   ],
   "source": [
    "import tensorflow as tf\n",
    "from tensorflow import keras\n",
    "\n",
    "tf.__version__\n",
    "keras.__version__\n"
   ]
  },
  {
   "cell_type": "code",
   "execution_count": 29,
   "metadata": {},
   "outputs": [
    {
     "name": "stdout",
     "output_type": "stream",
     "text": [
      "Train images shape: (60000, 28, 28)\n",
      "Train labels shape: (60000,)\n",
      "Test images shape: (10000, 28, 28)\n",
      "Test labels shape: (10000,)\n"
     ]
    }
   ],
   "source": [
    "import gzip\n",
    "import numpy as np\n",
    "\n",
    "\n",
    "# the fashion ds has 10 categories, like mnist, but with clothes\n",
    "\n",
    "def load_idx(filepath):\n",
    "    \"\"\"Load IDX format data from a gzip file.\"\"\"\n",
    "    with gzip.open(filepath, 'rb') as f:\n",
    "        # Read the file content\n",
    "        data = f.read()\n",
    "        # Magic number (first 4 bytes)\n",
    "        magic = int.from_bytes(data[0:4], byteorder='big')\n",
    "        # Number of items (next 4 bytes)\n",
    "        num_items = int.from_bytes(data[4:8], byteorder='big')\n",
    "        if magic == 2049:  # Labels\n",
    "            return np.frombuffer(data[8:], dtype=np.uint8)\n",
    "        elif magic == 2051:  # Images\n",
    "            rows = int.from_bytes(data[8:12], byteorder='big')\n",
    "            cols = int.from_bytes(data[12:16], byteorder='big')\n",
    "            images = np.frombuffer(data[16:], dtype=np.uint8)\n",
    "            return images.reshape(num_items, rows, cols)\n",
    "        else:\n",
    "            raise ValueError(\"Unknown magic number in file header!\")\n",
    "\n",
    "# Paths to the data files\n",
    "train_images_path = '../data/train-images-idx3-ubyte.gz'\n",
    "train_labels_path = '../data/train-labels-idx1-ubyte.gz'\n",
    "test_images_path = '../data/t10k-images-idx3-ubyte.gz'\n",
    "test_labels_path = '../data/t10k-labels-idx1-ubyte.gz'\n",
    "\n",
    "# Load the data\n",
    "X_train_full = load_idx(train_images_path)\n",
    "y_train_full = load_idx(train_labels_path)\n",
    "X_test = load_idx(test_images_path)\n",
    "y_test = load_idx(test_labels_path)\n",
    "\n",
    "# Normalize the image data\n",
    "# we also need to scale the data, for simplicity we will scale the pixel intensities in the 0-1 range simply dividing them by 255\n",
    "\n",
    "X_train_full = X_train_full / 255.0\n",
    "X_test = X_test / 255.0\n",
    "\n",
    "print(\"Train images shape:\", X_train_full.shape)\n",
    "print(\"Train labels shape:\", y_train_full.shape)\n",
    "print(\"Test images shape:\", X_test.shape)\n",
    "print(\"Test labels shape:\", y_test.shape)\n"
   ]
  },
  {
   "cell_type": "code",
   "execution_count": 56,
   "metadata": {},
   "outputs": [],
   "source": [
    "# here we will create a validation set\n",
    "\n",
    "X_valid, X_train = X_train_full[:5000], X_train_full[5000:]\n",
    "y_valid, y_train = y_train_full[:5000], y_train_full[5000:]\n",
    "\n"
   ]
  },
  {
   "cell_type": "code",
   "execution_count": 58,
   "metadata": {},
   "outputs": [
    {
     "data": {
      "text/plain": [
       "(55000, 28, 28)"
      ]
     },
     "execution_count": 58,
     "metadata": {},
     "output_type": "execute_result"
    }
   ],
   "source": [
    "X_train.shape"
   ]
  },
  {
   "cell_type": "code",
   "execution_count": 37,
   "metadata": {},
   "outputs": [],
   "source": [
    "# create class names\n",
    "class_names = [\"T-shirt/top\", \"Trouser\", \"Pullover\", \"Dress\", \"Coat\", \"Sandal\", \"Shirt\", \"Sneaker\", \"Bag\", \"Ankle boot\"]"
   ]
  },
  {
   "cell_type": "code",
   "execution_count": 41,
   "metadata": {},
   "outputs": [
    {
     "data": {
      "text/plain": [
       "6"
      ]
     },
     "execution_count": 41,
     "metadata": {},
     "output_type": "execute_result"
    }
   ],
   "source": [
    "# sample of class for a given item\n",
    "class_names[y_train[10]]\n",
    "\n",
    "#y_train[10]"
   ]
  },
  {
   "cell_type": "markdown",
   "metadata": {},
   "source": [
    "## My first Keras sequential model - Classification"
   ]
  },
  {
   "cell_type": "code",
   "execution_count": 43,
   "metadata": {},
   "outputs": [
    {
     "name": "stderr",
     "output_type": "stream",
     "text": [
      "/Users/gabi/codes/data_science/.venv/lib/python3.12/site-packages/keras/src/layers/reshaping/flatten.py:37: UserWarning: Do not pass an `input_shape`/`input_dim` argument to a layer. When using Sequential models, prefer using an `Input(shape)` object as the first layer in the model instead.\n",
      "  super().__init__(**kwargs)\n"
     ]
    }
   ],
   "source": [
    "model = keras.models.Sequential([\n",
    "\n",
    "    keras.layers.Flatten(input_shape=[28,28]), # receives input data and converts it to 1d array\n",
    "    keras.layers.Dense(300, activation=\"relu\"), # dense layer with 300 neurons\n",
    "    keras.layers.Dense(100, activation=\"relu\"), # second dense layer with 100 neurons\n",
    "    keras.layers.Dense(10, activation=\"softmax\") #output layer, with 10 nodes, as 10 classes, softmax because multiclass\n",
    "])"
   ]
  },
  {
   "cell_type": "code",
   "execution_count": 44,
   "metadata": {},
   "outputs": [
    {
     "data": {
      "text/html": [
       "<pre style=\"white-space:pre;overflow-x:auto;line-height:normal;font-family:Menlo,'DejaVu Sans Mono',consolas,'Courier New',monospace\"><span style=\"font-weight: bold\">Model: \"sequential\"</span>\n",
       "</pre>\n"
      ],
      "text/plain": [
       "\u001b[1mModel: \"sequential\"\u001b[0m\n"
      ]
     },
     "metadata": {},
     "output_type": "display_data"
    },
    {
     "data": {
      "text/html": [
       "<pre style=\"white-space:pre;overflow-x:auto;line-height:normal;font-family:Menlo,'DejaVu Sans Mono',consolas,'Courier New',monospace\">┏━━━━━━━━━━━━━━━━━━━━━━━━━━━━━━━━━┳━━━━━━━━━━━━━━━━━━━━━━━━┳━━━━━━━━━━━━━━━┓\n",
       "┃<span style=\"font-weight: bold\"> Layer (type)                    </span>┃<span style=\"font-weight: bold\"> Output Shape           </span>┃<span style=\"font-weight: bold\">       Param # </span>┃\n",
       "┡━━━━━━━━━━━━━━━━━━━━━━━━━━━━━━━━━╇━━━━━━━━━━━━━━━━━━━━━━━━╇━━━━━━━━━━━━━━━┩\n",
       "│ flatten (<span style=\"color: #0087ff; text-decoration-color: #0087ff\">Flatten</span>)               │ (<span style=\"color: #00d7ff; text-decoration-color: #00d7ff\">None</span>, <span style=\"color: #00af00; text-decoration-color: #00af00\">784</span>)            │             <span style=\"color: #00af00; text-decoration-color: #00af00\">0</span> │\n",
       "├─────────────────────────────────┼────────────────────────┼───────────────┤\n",
       "│ dense (<span style=\"color: #0087ff; text-decoration-color: #0087ff\">Dense</span>)                   │ (<span style=\"color: #00d7ff; text-decoration-color: #00d7ff\">None</span>, <span style=\"color: #00af00; text-decoration-color: #00af00\">300</span>)            │       <span style=\"color: #00af00; text-decoration-color: #00af00\">235,500</span> │\n",
       "├─────────────────────────────────┼────────────────────────┼───────────────┤\n",
       "│ dense_1 (<span style=\"color: #0087ff; text-decoration-color: #0087ff\">Dense</span>)                 │ (<span style=\"color: #00d7ff; text-decoration-color: #00d7ff\">None</span>, <span style=\"color: #00af00; text-decoration-color: #00af00\">100</span>)            │        <span style=\"color: #00af00; text-decoration-color: #00af00\">30,100</span> │\n",
       "├─────────────────────────────────┼────────────────────────┼───────────────┤\n",
       "│ dense_2 (<span style=\"color: #0087ff; text-decoration-color: #0087ff\">Dense</span>)                 │ (<span style=\"color: #00d7ff; text-decoration-color: #00d7ff\">None</span>, <span style=\"color: #00af00; text-decoration-color: #00af00\">10</span>)             │         <span style=\"color: #00af00; text-decoration-color: #00af00\">1,010</span> │\n",
       "└─────────────────────────────────┴────────────────────────┴───────────────┘\n",
       "</pre>\n"
      ],
      "text/plain": [
       "┏━━━━━━━━━━━━━━━━━━━━━━━━━━━━━━━━━┳━━━━━━━━━━━━━━━━━━━━━━━━┳━━━━━━━━━━━━━━━┓\n",
       "┃\u001b[1m \u001b[0m\u001b[1mLayer (type)                   \u001b[0m\u001b[1m \u001b[0m┃\u001b[1m \u001b[0m\u001b[1mOutput Shape          \u001b[0m\u001b[1m \u001b[0m┃\u001b[1m \u001b[0m\u001b[1m      Param #\u001b[0m\u001b[1m \u001b[0m┃\n",
       "┡━━━━━━━━━━━━━━━━━━━━━━━━━━━━━━━━━╇━━━━━━━━━━━━━━━━━━━━━━━━╇━━━━━━━━━━━━━━━┩\n",
       "│ flatten (\u001b[38;5;33mFlatten\u001b[0m)               │ (\u001b[38;5;45mNone\u001b[0m, \u001b[38;5;34m784\u001b[0m)            │             \u001b[38;5;34m0\u001b[0m │\n",
       "├─────────────────────────────────┼────────────────────────┼───────────────┤\n",
       "│ dense (\u001b[38;5;33mDense\u001b[0m)                   │ (\u001b[38;5;45mNone\u001b[0m, \u001b[38;5;34m300\u001b[0m)            │       \u001b[38;5;34m235,500\u001b[0m │\n",
       "├─────────────────────────────────┼────────────────────────┼───────────────┤\n",
       "│ dense_1 (\u001b[38;5;33mDense\u001b[0m)                 │ (\u001b[38;5;45mNone\u001b[0m, \u001b[38;5;34m100\u001b[0m)            │        \u001b[38;5;34m30,100\u001b[0m │\n",
       "├─────────────────────────────────┼────────────────────────┼───────────────┤\n",
       "│ dense_2 (\u001b[38;5;33mDense\u001b[0m)                 │ (\u001b[38;5;45mNone\u001b[0m, \u001b[38;5;34m10\u001b[0m)             │         \u001b[38;5;34m1,010\u001b[0m │\n",
       "└─────────────────────────────────┴────────────────────────┴───────────────┘\n"
      ]
     },
     "metadata": {},
     "output_type": "display_data"
    },
    {
     "data": {
      "text/html": [
       "<pre style=\"white-space:pre;overflow-x:auto;line-height:normal;font-family:Menlo,'DejaVu Sans Mono',consolas,'Courier New',monospace\"><span style=\"font-weight: bold\"> Total params: </span><span style=\"color: #00af00; text-decoration-color: #00af00\">266,610</span> (1.02 MB)\n",
       "</pre>\n"
      ],
      "text/plain": [
       "\u001b[1m Total params: \u001b[0m\u001b[38;5;34m266,610\u001b[0m (1.02 MB)\n"
      ]
     },
     "metadata": {},
     "output_type": "display_data"
    },
    {
     "data": {
      "text/html": [
       "<pre style=\"white-space:pre;overflow-x:auto;line-height:normal;font-family:Menlo,'DejaVu Sans Mono',consolas,'Courier New',monospace\"><span style=\"font-weight: bold\"> Trainable params: </span><span style=\"color: #00af00; text-decoration-color: #00af00\">266,610</span> (1.02 MB)\n",
       "</pre>\n"
      ],
      "text/plain": [
       "\u001b[1m Trainable params: \u001b[0m\u001b[38;5;34m266,610\u001b[0m (1.02 MB)\n"
      ]
     },
     "metadata": {},
     "output_type": "display_data"
    },
    {
     "data": {
      "text/html": [
       "<pre style=\"white-space:pre;overflow-x:auto;line-height:normal;font-family:Menlo,'DejaVu Sans Mono',consolas,'Courier New',monospace\"><span style=\"font-weight: bold\"> Non-trainable params: </span><span style=\"color: #00af00; text-decoration-color: #00af00\">0</span> (0.00 B)\n",
       "</pre>\n"
      ],
      "text/plain": [
       "\u001b[1m Non-trainable params: \u001b[0m\u001b[38;5;34m0\u001b[0m (0.00 B)\n"
      ]
     },
     "metadata": {},
     "output_type": "display_data"
    }
   ],
   "source": [
    "# get info about the model including output shape of each layer and the number of parameters\n",
    "model.summary()"
   ]
  },
  {
   "cell_type": "code",
   "execution_count": 45,
   "metadata": {},
   "outputs": [
    {
     "data": {
      "text/plain": [
       "[<Flatten name=flatten, built=True>,\n",
       " <Dense name=dense, built=True>,\n",
       " <Dense name=dense_1, built=True>,\n",
       " <Dense name=dense_2, built=True>]"
      ]
     },
     "execution_count": 45,
     "metadata": {},
     "output_type": "execute_result"
    }
   ],
   "source": [
    "# you can get all the layers of a model\n",
    "model.layers"
   ]
  },
  {
   "cell_type": "code",
   "execution_count": 46,
   "metadata": {},
   "outputs": [
    {
     "data": {
      "text/plain": [
       "'dense'"
      ]
     },
     "execution_count": 46,
     "metadata": {},
     "output_type": "execute_result"
    }
   ],
   "source": [
    "# you can call each layer by its index\n",
    "model.layers[1].name"
   ]
  },
  {
   "cell_type": "code",
   "execution_count": 47,
   "metadata": {},
   "outputs": [
    {
     "data": {
      "text/plain": [
       "'dense_2'"
      ]
     },
     "execution_count": 47,
     "metadata": {},
     "output_type": "execute_result"
    }
   ],
   "source": [
    "# you can het the layer by its name\n",
    "model.get_layer(\"dense_2\").name"
   ]
  },
  {
   "cell_type": "code",
   "execution_count": 52,
   "metadata": {},
   "outputs": [
    {
     "data": {
      "text/plain": [
       "array([[ 0.02308173,  0.02321342,  0.01780492, ..., -0.01716774,\n",
       "         0.01247725,  0.0568724 ],\n",
       "       [ 0.05130477,  0.04607778, -0.04728509, ...,  0.00962491,\n",
       "        -0.01858232,  0.03471071],\n",
       "       [ 0.02859914, -0.06492709,  0.02310194, ..., -0.02200221,\n",
       "        -0.07220224, -0.0112334 ],\n",
       "       ...,\n",
       "       [-0.07249278,  0.02996396,  0.02114277, ...,  0.05384013,\n",
       "        -0.03104062, -0.02192979],\n",
       "       [-0.02263604,  0.06190917,  0.00712591, ...,  0.02354175,\n",
       "        -0.00246117, -0.00628362],\n",
       "       [ 0.02515146,  0.02241144, -0.04031318, ..., -0.07111613,\n",
       "        -0.07353047,  0.05182727]], dtype=float32)"
      ]
     },
     "execution_count": 52,
     "metadata": {},
     "output_type": "execute_result"
    }
   ],
   "source": [
    "# you can get all the weights and biases from each layer\n",
    "weights, biases = model.layers[1].get_weights()\n",
    "\n",
    "weights"
   ]
  },
  {
   "cell_type": "code",
   "execution_count": 50,
   "metadata": {},
   "outputs": [
    {
     "name": "stdout",
     "output_type": "stream",
     "text": [
      "You must install pydot (`pip install pydot`) for `plot_model` to work.\n"
     ]
    }
   ],
   "source": [
    "keras.utils.plot_model(model)"
   ]
  },
  {
   "cell_type": "code",
   "execution_count": 60,
   "metadata": {},
   "outputs": [],
   "source": [
    "# once the model is created you must call compile() and specify the loss function, optimiser, and optionally metrics for evaluation\n",
    "\n",
    "model.compile(loss=\"sparse_categorical_crossentropy\", \n",
    "                optimizer=\"sgd\", \n",
    "                metrics=[\"accuracy\"])"
   ]
  },
  {
   "cell_type": "code",
   "execution_count": 64,
   "metadata": {},
   "outputs": [
    {
     "name": "stdout",
     "output_type": "stream",
     "text": [
      "Epoch 1/100\n",
      "\u001b[1m1719/1719\u001b[0m \u001b[32m━━━━━━━━━━━━━━━━━━━━\u001b[0m\u001b[37m\u001b[0m \u001b[1m13s\u001b[0m 8ms/step - accuracy: 0.6431 - loss: 1.0522 - val_accuracy: 0.0986 - val_loss: 4.3655\n",
      "Epoch 2/100\n",
      "\u001b[1m1719/1719\u001b[0m \u001b[32m━━━━━━━━━━━━━━━━━━━━\u001b[0m\u001b[37m\u001b[0m \u001b[1m13s\u001b[0m 8ms/step - accuracy: 0.6451 - loss: 1.0507 - val_accuracy: 0.0946 - val_loss: 4.3903\n",
      "Epoch 3/100\n",
      "\u001b[1m1719/1719\u001b[0m \u001b[32m━━━━━━━━━━━━━━━━━━━━\u001b[0m\u001b[37m\u001b[0m \u001b[1m14s\u001b[0m 8ms/step - accuracy: 0.6461 - loss: 1.0436 - val_accuracy: 0.0978 - val_loss: 4.3664\n",
      "Epoch 4/100\n",
      "\u001b[1m1719/1719\u001b[0m \u001b[32m━━━━━━━━━━━━━━━━━━━━\u001b[0m\u001b[37m\u001b[0m \u001b[1m13s\u001b[0m 8ms/step - accuracy: 0.6505 - loss: 1.0301 - val_accuracy: 0.0940 - val_loss: 4.3939\n",
      "Epoch 5/100\n",
      "\u001b[1m1719/1719\u001b[0m \u001b[32m━━━━━━━━━━━━━━━━━━━━\u001b[0m\u001b[37m\u001b[0m \u001b[1m14s\u001b[0m 8ms/step - accuracy: 0.6490 - loss: 1.0250 - val_accuracy: 0.0932 - val_loss: 4.3709\n",
      "Epoch 6/100\n",
      "\u001b[1m1719/1719\u001b[0m \u001b[32m━━━━━━━━━━━━━━━━━━━━\u001b[0m\u001b[37m\u001b[0m \u001b[1m14s\u001b[0m 8ms/step - accuracy: 0.6584 - loss: 1.0117 - val_accuracy: 0.0980 - val_loss: 4.4829\n",
      "Epoch 7/100\n",
      "\u001b[1m1719/1719\u001b[0m \u001b[32m━━━━━━━━━━━━━━━━━━━━\u001b[0m\u001b[37m\u001b[0m \u001b[1m15s\u001b[0m 8ms/step - accuracy: 0.6590 - loss: 1.0079 - val_accuracy: 0.0988 - val_loss: 4.4339\n",
      "Epoch 8/100\n",
      "\u001b[1m1719/1719\u001b[0m \u001b[32m━━━━━━━━━━━━━━━━━━━━\u001b[0m\u001b[37m\u001b[0m \u001b[1m13s\u001b[0m 7ms/step - accuracy: 0.6665 - loss: 0.9951 - val_accuracy: 0.0960 - val_loss: 4.5278\n",
      "Epoch 9/100\n",
      "\u001b[1m1719/1719\u001b[0m \u001b[32m━━━━━━━━━━━━━━━━━━━━\u001b[0m\u001b[37m\u001b[0m \u001b[1m15s\u001b[0m 9ms/step - accuracy: 0.6631 - loss: 0.9856 - val_accuracy: 0.0964 - val_loss: 4.5751\n",
      "Epoch 10/100\n",
      "\u001b[1m1719/1719\u001b[0m \u001b[32m━━━━━━━━━━━━━━━━━━━━\u001b[0m\u001b[37m\u001b[0m \u001b[1m14s\u001b[0m 8ms/step - accuracy: 0.6661 - loss: 0.9827 - val_accuracy: 0.1006 - val_loss: 4.5580\n",
      "Epoch 11/100\n",
      "\u001b[1m1719/1719\u001b[0m \u001b[32m━━━━━━━━━━━━━━━━━━━━\u001b[0m\u001b[37m\u001b[0m \u001b[1m14s\u001b[0m 8ms/step - accuracy: 0.6739 - loss: 0.9689 - val_accuracy: 0.0980 - val_loss: 4.6686\n",
      "Epoch 12/100\n",
      "\u001b[1m1719/1719\u001b[0m \u001b[32m━━━━━━━━━━━━━━━━━━━━\u001b[0m\u001b[37m\u001b[0m \u001b[1m15s\u001b[0m 9ms/step - accuracy: 0.6696 - loss: 0.9707 - val_accuracy: 0.0970 - val_loss: 4.6252\n",
      "Epoch 13/100\n",
      "\u001b[1m1719/1719\u001b[0m \u001b[32m━━━━━━━━━━━━━━━━━━━━\u001b[0m\u001b[37m\u001b[0m \u001b[1m12s\u001b[0m 7ms/step - accuracy: 0.6796 - loss: 0.9518 - val_accuracy: 0.0916 - val_loss: 4.7445\n",
      "Epoch 14/100\n",
      "\u001b[1m1719/1719\u001b[0m \u001b[32m━━━━━━━━━━━━━━━━━━━━\u001b[0m\u001b[37m\u001b[0m \u001b[1m14s\u001b[0m 8ms/step - accuracy: 0.6794 - loss: 0.9467 - val_accuracy: 0.0968 - val_loss: 4.6426\n",
      "Epoch 15/100\n",
      "\u001b[1m1719/1719\u001b[0m \u001b[32m━━━━━━━━━━━━━━━━━━━━\u001b[0m\u001b[37m\u001b[0m \u001b[1m14s\u001b[0m 8ms/step - accuracy: 0.6848 - loss: 0.9311 - val_accuracy: 0.0974 - val_loss: 4.7061\n",
      "Epoch 16/100\n",
      "\u001b[1m1719/1719\u001b[0m \u001b[32m━━━━━━━━━━━━━━━━━━━━\u001b[0m\u001b[37m\u001b[0m \u001b[1m12s\u001b[0m 7ms/step - accuracy: 0.6890 - loss: 0.9215 - val_accuracy: 0.0974 - val_loss: 4.7607\n",
      "Epoch 17/100\n",
      "\u001b[1m1719/1719\u001b[0m \u001b[32m━━━━━━━━━━━━━━━━━━━━\u001b[0m\u001b[37m\u001b[0m \u001b[1m13s\u001b[0m 8ms/step - accuracy: 0.6856 - loss: 0.9262 - val_accuracy: 0.0940 - val_loss: 4.8014\n",
      "Epoch 18/100\n",
      "\u001b[1m1719/1719\u001b[0m \u001b[32m━━━━━━━━━━━━━━━━━━━━\u001b[0m\u001b[37m\u001b[0m \u001b[1m13s\u001b[0m 8ms/step - accuracy: 0.6937 - loss: 0.9084 - val_accuracy: 0.0950 - val_loss: 4.8274\n",
      "Epoch 19/100\n",
      "\u001b[1m1719/1719\u001b[0m \u001b[32m━━━━━━━━━━━━━━━━━━━━\u001b[0m\u001b[37m\u001b[0m \u001b[1m14s\u001b[0m 8ms/step - accuracy: 0.6951 - loss: 0.9064 - val_accuracy: 0.0950 - val_loss: 4.8524\n",
      "Epoch 20/100\n",
      "\u001b[1m1719/1719\u001b[0m \u001b[32m━━━━━━━━━━━━━━━━━━━━\u001b[0m\u001b[37m\u001b[0m \u001b[1m13s\u001b[0m 8ms/step - accuracy: 0.6981 - loss: 0.8911 - val_accuracy: 0.0996 - val_loss: 4.9157\n",
      "Epoch 21/100\n",
      "\u001b[1m1719/1719\u001b[0m \u001b[32m━━━━━━━━━━━━━━━━━━━━\u001b[0m\u001b[37m\u001b[0m \u001b[1m15s\u001b[0m 9ms/step - accuracy: 0.6957 - loss: 0.8976 - val_accuracy: 0.0916 - val_loss: 4.9639\n",
      "Epoch 22/100\n",
      "\u001b[1m1719/1719\u001b[0m \u001b[32m━━━━━━━━━━━━━━━━━━━━\u001b[0m\u001b[37m\u001b[0m \u001b[1m15s\u001b[0m 9ms/step - accuracy: 0.7021 - loss: 0.8807 - val_accuracy: 0.0992 - val_loss: 4.9086\n",
      "Epoch 23/100\n",
      "\u001b[1m1719/1719\u001b[0m \u001b[32m━━━━━━━━━━━━━━━━━━━━\u001b[0m\u001b[37m\u001b[0m \u001b[1m13s\u001b[0m 8ms/step - accuracy: 0.7022 - loss: 0.8785 - val_accuracy: 0.0954 - val_loss: 4.9857\n",
      "Epoch 24/100\n",
      "\u001b[1m1719/1719\u001b[0m \u001b[32m━━━━━━━━━━━━━━━━━━━━\u001b[0m\u001b[37m\u001b[0m \u001b[1m14s\u001b[0m 8ms/step - accuracy: 0.7112 - loss: 0.8633 - val_accuracy: 0.0898 - val_loss: 5.0171\n",
      "Epoch 25/100\n",
      "\u001b[1m1719/1719\u001b[0m \u001b[32m━━━━━━━━━━━━━━━━━━━━\u001b[0m\u001b[37m\u001b[0m \u001b[1m13s\u001b[0m 7ms/step - accuracy: 0.7125 - loss: 0.8515 - val_accuracy: 0.0946 - val_loss: 5.0644\n",
      "Epoch 26/100\n",
      "\u001b[1m1719/1719\u001b[0m \u001b[32m━━━━━━━━━━━━━━━━━━━━\u001b[0m\u001b[37m\u001b[0m \u001b[1m13s\u001b[0m 8ms/step - accuracy: 0.7138 - loss: 0.8466 - val_accuracy: 0.0958 - val_loss: 5.1216\n",
      "Epoch 27/100\n",
      "\u001b[1m1719/1719\u001b[0m \u001b[32m━━━━━━━━━━━━━━━━━━━━\u001b[0m\u001b[37m\u001b[0m \u001b[1m15s\u001b[0m 8ms/step - accuracy: 0.7138 - loss: 0.8435 - val_accuracy: 0.0926 - val_loss: 5.1554\n",
      "Epoch 28/100\n",
      "\u001b[1m1719/1719\u001b[0m \u001b[32m━━━━━━━━━━━━━━━━━━━━\u001b[0m\u001b[37m\u001b[0m \u001b[1m13s\u001b[0m 7ms/step - accuracy: 0.7155 - loss: 0.8383 - val_accuracy: 0.1014 - val_loss: 5.2028\n",
      "Epoch 29/100\n",
      "\u001b[1m1719/1719\u001b[0m \u001b[32m━━━━━━━━━━━━━━━━━━━━\u001b[0m\u001b[37m\u001b[0m \u001b[1m14s\u001b[0m 8ms/step - accuracy: 0.7211 - loss: 0.8276 - val_accuracy: 0.0956 - val_loss: 5.3030\n",
      "Epoch 30/100\n",
      "\u001b[1m1719/1719\u001b[0m \u001b[32m━━━━━━━━━━━━━━━━━━━━\u001b[0m\u001b[37m\u001b[0m \u001b[1m13s\u001b[0m 7ms/step - accuracy: 0.7233 - loss: 0.8212 - val_accuracy: 0.0940 - val_loss: 5.2282\n",
      "Epoch 31/100\n",
      "\u001b[1m1719/1719\u001b[0m \u001b[32m━━━━━━━━━━━━━━━━━━━━\u001b[0m\u001b[37m\u001b[0m \u001b[1m15s\u001b[0m 9ms/step - accuracy: 0.7295 - loss: 0.8024 - val_accuracy: 0.0954 - val_loss: 5.2421\n",
      "Epoch 32/100\n",
      "\u001b[1m1719/1719\u001b[0m \u001b[32m━━━━━━━━━━━━━━━━━━━━\u001b[0m\u001b[37m\u001b[0m \u001b[1m16s\u001b[0m 9ms/step - accuracy: 0.7279 - loss: 0.8111 - val_accuracy: 0.0900 - val_loss: 5.3247\n",
      "Epoch 33/100\n",
      "\u001b[1m1719/1719\u001b[0m \u001b[32m━━━━━━━━━━━━━━━━━━━━\u001b[0m\u001b[37m\u001b[0m \u001b[1m14s\u001b[0m 8ms/step - accuracy: 0.7299 - loss: 0.7975 - val_accuracy: 0.0946 - val_loss: 5.3778\n",
      "Epoch 34/100\n",
      "\u001b[1m1719/1719\u001b[0m \u001b[32m━━━━━━━━━━━━━━━━━━━━\u001b[0m\u001b[37m\u001b[0m \u001b[1m15s\u001b[0m 9ms/step - accuracy: 0.7351 - loss: 0.7855 - val_accuracy: 0.1022 - val_loss: 5.3079\n",
      "Epoch 35/100\n",
      "\u001b[1m1719/1719\u001b[0m \u001b[32m━━━━━━━━━━━━━━━━━━━━\u001b[0m\u001b[37m\u001b[0m \u001b[1m15s\u001b[0m 8ms/step - accuracy: 0.7352 - loss: 0.7861 - val_accuracy: 0.0946 - val_loss: 5.4209\n",
      "Epoch 36/100\n",
      "\u001b[1m1719/1719\u001b[0m \u001b[32m━━━━━━━━━━━━━━━━━━━━\u001b[0m\u001b[37m\u001b[0m \u001b[1m15s\u001b[0m 9ms/step - accuracy: 0.7357 - loss: 0.7779 - val_accuracy: 0.0990 - val_loss: 5.4535\n",
      "Epoch 37/100\n",
      "\u001b[1m1719/1719\u001b[0m \u001b[32m━━━━━━━━━━━━━━━━━━━━\u001b[0m\u001b[37m\u001b[0m \u001b[1m16s\u001b[0m 9ms/step - accuracy: 0.7375 - loss: 0.7730 - val_accuracy: 0.1020 - val_loss: 5.4577\n",
      "Epoch 38/100\n",
      "\u001b[1m1719/1719\u001b[0m \u001b[32m━━━━━━━━━━━━━━━━━━━━\u001b[0m\u001b[37m\u001b[0m \u001b[1m14s\u001b[0m 8ms/step - accuracy: 0.7431 - loss: 0.7590 - val_accuracy: 0.1008 - val_loss: 5.5356\n",
      "Epoch 39/100\n",
      "\u001b[1m1719/1719\u001b[0m \u001b[32m━━━━━━━━━━━━━━━━━━━━\u001b[0m\u001b[37m\u001b[0m \u001b[1m15s\u001b[0m 8ms/step - accuracy: 0.7442 - loss: 0.7561 - val_accuracy: 0.0966 - val_loss: 5.5773\n",
      "Epoch 40/100\n",
      "\u001b[1m1719/1719\u001b[0m \u001b[32m━━━━━━━━━━━━━━━━━━━━\u001b[0m\u001b[37m\u001b[0m \u001b[1m16s\u001b[0m 9ms/step - accuracy: 0.7471 - loss: 0.7469 - val_accuracy: 0.0938 - val_loss: 5.6923\n",
      "Epoch 41/100\n",
      "\u001b[1m1719/1719\u001b[0m \u001b[32m━━━━━━━━━━━━━━━━━━━━\u001b[0m\u001b[37m\u001b[0m \u001b[1m13s\u001b[0m 8ms/step - accuracy: 0.7460 - loss: 0.7478 - val_accuracy: 0.1000 - val_loss: 5.6639\n",
      "Epoch 42/100\n",
      "\u001b[1m1719/1719\u001b[0m \u001b[32m━━━━━━━━━━━━━━━━━━━━\u001b[0m\u001b[37m\u001b[0m \u001b[1m13s\u001b[0m 7ms/step - accuracy: 0.7504 - loss: 0.7365 - val_accuracy: 0.0950 - val_loss: 5.7466\n",
      "Epoch 43/100\n",
      "\u001b[1m1719/1719\u001b[0m \u001b[32m━━━━━━━━━━━━━━━━━━━━\u001b[0m\u001b[37m\u001b[0m \u001b[1m13s\u001b[0m 8ms/step - accuracy: 0.7564 - loss: 0.7230 - val_accuracy: 0.0998 - val_loss: 5.7134\n",
      "Epoch 44/100\n",
      "\u001b[1m1719/1719\u001b[0m \u001b[32m━━━━━━━━━━━━━━━━━━━━\u001b[0m\u001b[37m\u001b[0m \u001b[1m13s\u001b[0m 7ms/step - accuracy: 0.7590 - loss: 0.7236 - val_accuracy: 0.0944 - val_loss: 5.7281\n",
      "Epoch 45/100\n",
      "\u001b[1m1719/1719\u001b[0m \u001b[32m━━━━━━━━━━━━━━━━━━━━\u001b[0m\u001b[37m\u001b[0m \u001b[1m13s\u001b[0m 7ms/step - accuracy: 0.7560 - loss: 0.7208 - val_accuracy: 0.0978 - val_loss: 5.9026\n",
      "Epoch 46/100\n",
      "\u001b[1m1719/1719\u001b[0m \u001b[32m━━━━━━━━━━━━━━━━━━━━\u001b[0m\u001b[37m\u001b[0m \u001b[1m13s\u001b[0m 8ms/step - accuracy: 0.7564 - loss: 0.7204 - val_accuracy: 0.0948 - val_loss: 5.9095\n",
      "Epoch 47/100\n",
      "\u001b[1m1719/1719\u001b[0m \u001b[32m━━━━━━━━━━━━━━━━━━━━\u001b[0m\u001b[37m\u001b[0m \u001b[1m12s\u001b[0m 7ms/step - accuracy: 0.7616 - loss: 0.7108 - val_accuracy: 0.0972 - val_loss: 5.8759\n",
      "Epoch 48/100\n",
      "\u001b[1m1719/1719\u001b[0m \u001b[32m━━━━━━━━━━━━━━━━━━━━\u001b[0m\u001b[37m\u001b[0m \u001b[1m12s\u001b[0m 7ms/step - accuracy: 0.7677 - loss: 0.6938 - val_accuracy: 0.1018 - val_loss: 5.9932\n",
      "Epoch 49/100\n",
      "\u001b[1m1719/1719\u001b[0m \u001b[32m━━━━━━━━━━━━━━━━━━━━\u001b[0m\u001b[37m\u001b[0m \u001b[1m11s\u001b[0m 7ms/step - accuracy: 0.7615 - loss: 0.7010 - val_accuracy: 0.0946 - val_loss: 5.9316\n",
      "Epoch 50/100\n",
      "\u001b[1m1719/1719\u001b[0m \u001b[32m━━━━━━━━━━━━━━━━━━━━\u001b[0m\u001b[37m\u001b[0m \u001b[1m10s\u001b[0m 6ms/step - accuracy: 0.7630 - loss: 0.6870 - val_accuracy: 0.0984 - val_loss: 5.9893\n",
      "Epoch 51/100\n",
      "\u001b[1m1719/1719\u001b[0m \u001b[32m━━━━━━━━━━━━━━━━━━━━\u001b[0m\u001b[37m\u001b[0m \u001b[1m13s\u001b[0m 7ms/step - accuracy: 0.7672 - loss: 0.6821 - val_accuracy: 0.1020 - val_loss: 5.9598\n",
      "Epoch 52/100\n",
      "\u001b[1m1719/1719\u001b[0m \u001b[32m━━━━━━━━━━━━━━━━━━━━\u001b[0m\u001b[37m\u001b[0m \u001b[1m13s\u001b[0m 7ms/step - accuracy: 0.7781 - loss: 0.6654 - val_accuracy: 0.0988 - val_loss: 6.0890\n",
      "Epoch 53/100\n",
      "\u001b[1m1719/1719\u001b[0m \u001b[32m━━━━━━━━━━━━━━━━━━━━\u001b[0m\u001b[37m\u001b[0m \u001b[1m14s\u001b[0m 8ms/step - accuracy: 0.7778 - loss: 0.6655 - val_accuracy: 0.0986 - val_loss: 6.2179\n",
      "Epoch 54/100\n",
      "\u001b[1m1719/1719\u001b[0m \u001b[32m━━━━━━━━━━━━━━━━━━━━\u001b[0m\u001b[37m\u001b[0m \u001b[1m13s\u001b[0m 8ms/step - accuracy: 0.7759 - loss: 0.6670 - val_accuracy: 0.0964 - val_loss: 6.2473\n",
      "Epoch 55/100\n",
      "\u001b[1m1719/1719\u001b[0m \u001b[32m━━━━━━━━━━━━━━━━━━━━\u001b[0m\u001b[37m\u001b[0m \u001b[1m13s\u001b[0m 8ms/step - accuracy: 0.7754 - loss: 0.6600 - val_accuracy: 0.0960 - val_loss: 6.2361\n",
      "Epoch 56/100\n",
      "\u001b[1m1719/1719\u001b[0m \u001b[32m━━━━━━━━━━━━━━━━━━━━\u001b[0m\u001b[37m\u001b[0m \u001b[1m14s\u001b[0m 8ms/step - accuracy: 0.7840 - loss: 0.6433 - val_accuracy: 0.0980 - val_loss: 6.1784\n",
      "Epoch 57/100\n",
      "\u001b[1m1719/1719\u001b[0m \u001b[32m━━━━━━━━━━━━━━━━━━━━\u001b[0m\u001b[37m\u001b[0m \u001b[1m14s\u001b[0m 8ms/step - accuracy: 0.7792 - loss: 0.6521 - val_accuracy: 0.0960 - val_loss: 6.2423\n",
      "Epoch 58/100\n",
      "\u001b[1m1719/1719\u001b[0m \u001b[32m━━━━━━━━━━━━━━━━━━━━\u001b[0m\u001b[37m\u001b[0m \u001b[1m13s\u001b[0m 7ms/step - accuracy: 0.7866 - loss: 0.6369 - val_accuracy: 0.0940 - val_loss: 6.3484\n",
      "Epoch 59/100\n",
      "\u001b[1m1719/1719\u001b[0m \u001b[32m━━━━━━━━━━━━━━━━━━━━\u001b[0m\u001b[37m\u001b[0m \u001b[1m13s\u001b[0m 8ms/step - accuracy: 0.7877 - loss: 0.6312 - val_accuracy: 0.0928 - val_loss: 6.3449\n",
      "Epoch 60/100\n",
      "\u001b[1m1719/1719\u001b[0m \u001b[32m━━━━━━━━━━━━━━━━━━━━\u001b[0m\u001b[37m\u001b[0m \u001b[1m14s\u001b[0m 8ms/step - accuracy: 0.7909 - loss: 0.6234 - val_accuracy: 0.0946 - val_loss: 6.3843\n",
      "Epoch 61/100\n",
      "\u001b[1m1719/1719\u001b[0m \u001b[32m━━━━━━━━━━━━━━━━━━━━\u001b[0m\u001b[37m\u001b[0m \u001b[1m14s\u001b[0m 8ms/step - accuracy: 0.7916 - loss: 0.6171 - val_accuracy: 0.0978 - val_loss: 6.4741\n",
      "Epoch 62/100\n",
      "\u001b[1m1719/1719\u001b[0m \u001b[32m━━━━━━━━━━━━━━━━━━━━\u001b[0m\u001b[37m\u001b[0m \u001b[1m14s\u001b[0m 8ms/step - accuracy: 0.7906 - loss: 0.6184 - val_accuracy: 0.0934 - val_loss: 6.4480\n",
      "Epoch 63/100\n",
      "\u001b[1m1719/1719\u001b[0m \u001b[32m━━━━━━━━━━━━━━━━━━━━\u001b[0m\u001b[37m\u001b[0m \u001b[1m14s\u001b[0m 8ms/step - accuracy: 0.7964 - loss: 0.6070 - val_accuracy: 0.0982 - val_loss: 6.5701\n",
      "Epoch 64/100\n",
      "\u001b[1m1719/1719\u001b[0m \u001b[32m━━━━━━━━━━━━━━━━━━━━\u001b[0m\u001b[37m\u001b[0m \u001b[1m14s\u001b[0m 8ms/step - accuracy: 0.7962 - loss: 0.6070 - val_accuracy: 0.0922 - val_loss: 6.5933\n",
      "Epoch 65/100\n",
      "\u001b[1m1719/1719\u001b[0m \u001b[32m━━━━━━━━━━━━━━━━━━━━\u001b[0m\u001b[37m\u001b[0m \u001b[1m14s\u001b[0m 8ms/step - accuracy: 0.7995 - loss: 0.5963 - val_accuracy: 0.1016 - val_loss: 6.6659\n",
      "Epoch 66/100\n",
      "\u001b[1m1719/1719\u001b[0m \u001b[32m━━━━━━━━━━━━━━━━━━━━\u001b[0m\u001b[37m\u001b[0m \u001b[1m13s\u001b[0m 8ms/step - accuracy: 0.8004 - loss: 0.5948 - val_accuracy: 0.0956 - val_loss: 6.6906\n",
      "Epoch 67/100\n",
      "\u001b[1m1719/1719\u001b[0m \u001b[32m━━━━━━━━━━━━━━━━━━━━\u001b[0m\u001b[37m\u001b[0m \u001b[1m13s\u001b[0m 7ms/step - accuracy: 0.8052 - loss: 0.5812 - val_accuracy: 0.0982 - val_loss: 6.7783\n",
      "Epoch 68/100\n",
      "\u001b[1m1719/1719\u001b[0m \u001b[32m━━━━━━━━━━━━━━━━━━━━\u001b[0m\u001b[37m\u001b[0m \u001b[1m14s\u001b[0m 8ms/step - accuracy: 0.7984 - loss: 0.5905 - val_accuracy: 0.0984 - val_loss: 6.7459\n",
      "Epoch 69/100\n",
      "\u001b[1m1719/1719\u001b[0m \u001b[32m━━━━━━━━━━━━━━━━━━━━\u001b[0m\u001b[37m\u001b[0m \u001b[1m13s\u001b[0m 8ms/step - accuracy: 0.8022 - loss: 0.5821 - val_accuracy: 0.0980 - val_loss: 6.7875\n",
      "Epoch 70/100\n",
      "\u001b[1m1719/1719\u001b[0m \u001b[32m━━━━━━━━━━━━━━━━━━━━\u001b[0m\u001b[37m\u001b[0m \u001b[1m13s\u001b[0m 7ms/step - accuracy: 0.8068 - loss: 0.5753 - val_accuracy: 0.1024 - val_loss: 6.8099\n",
      "Epoch 71/100\n",
      "\u001b[1m1719/1719\u001b[0m \u001b[32m━━━━━━━━━━━━━━━━━━━━\u001b[0m\u001b[37m\u001b[0m \u001b[1m14s\u001b[0m 8ms/step - accuracy: 0.8107 - loss: 0.5712 - val_accuracy: 0.0948 - val_loss: 6.9625\n",
      "Epoch 72/100\n",
      "\u001b[1m1719/1719\u001b[0m \u001b[32m━━━━━━━━━━━━━━━━━━━━\u001b[0m\u001b[37m\u001b[0m \u001b[1m13s\u001b[0m 8ms/step - accuracy: 0.8147 - loss: 0.5561 - val_accuracy: 0.1002 - val_loss: 6.8722\n",
      "Epoch 73/100\n",
      "\u001b[1m1719/1719\u001b[0m \u001b[32m━━━━━━━━━━━━━━━━━━━━\u001b[0m\u001b[37m\u001b[0m \u001b[1m13s\u001b[0m 8ms/step - accuracy: 0.8157 - loss: 0.5535 - val_accuracy: 0.0952 - val_loss: 6.9729\n",
      "Epoch 74/100\n",
      "\u001b[1m1719/1719\u001b[0m \u001b[32m━━━━━━━━━━━━━━━━━━━━\u001b[0m\u001b[37m\u001b[0m \u001b[1m14s\u001b[0m 8ms/step - accuracy: 0.8074 - loss: 0.5609 - val_accuracy: 0.0972 - val_loss: 6.9886\n",
      "Epoch 75/100\n",
      "\u001b[1m1719/1719\u001b[0m \u001b[32m━━━━━━━━━━━━━━━━━━━━\u001b[0m\u001b[37m\u001b[0m \u001b[1m14s\u001b[0m 8ms/step - accuracy: 0.8190 - loss: 0.5456 - val_accuracy: 0.0932 - val_loss: 7.0194\n",
      "Epoch 76/100\n",
      "\u001b[1m1719/1719\u001b[0m \u001b[32m━━━━━━━━━━━━━━━━━━━━\u001b[0m\u001b[37m\u001b[0m \u001b[1m14s\u001b[0m 8ms/step - accuracy: 0.8185 - loss: 0.5395 - val_accuracy: 0.0990 - val_loss: 6.9906\n",
      "Epoch 77/100\n",
      "\u001b[1m1719/1719\u001b[0m \u001b[32m━━━━━━━━━━━━━━━━━━━━\u001b[0m\u001b[37m\u001b[0m \u001b[1m12s\u001b[0m 7ms/step - accuracy: 0.8222 - loss: 0.5331 - val_accuracy: 0.1004 - val_loss: 7.3242\n",
      "Epoch 78/100\n",
      "\u001b[1m1719/1719\u001b[0m \u001b[32m━━━━━━━━━━━━━━━━━━━━\u001b[0m\u001b[37m\u001b[0m \u001b[1m12s\u001b[0m 7ms/step - accuracy: 0.8207 - loss: 0.5365 - val_accuracy: 0.0978 - val_loss: 7.1713\n",
      "Epoch 79/100\n",
      "\u001b[1m1719/1719\u001b[0m \u001b[32m━━━━━━━━━━━━━━━━━━━━\u001b[0m\u001b[37m\u001b[0m \u001b[1m15s\u001b[0m 9ms/step - accuracy: 0.8240 - loss: 0.5235 - val_accuracy: 0.0948 - val_loss: 7.1623\n",
      "Epoch 80/100\n",
      "\u001b[1m1719/1719\u001b[0m \u001b[32m━━━━━━━━━━━━━━━━━━━━\u001b[0m\u001b[37m\u001b[0m \u001b[1m20s\u001b[0m 9ms/step - accuracy: 0.8256 - loss: 0.5190 - val_accuracy: 0.0942 - val_loss: 7.2470\n",
      "Epoch 81/100\n",
      "\u001b[1m1719/1719\u001b[0m \u001b[32m━━━━━━━━━━━━━━━━━━━━\u001b[0m\u001b[37m\u001b[0m \u001b[1m15s\u001b[0m 9ms/step - accuracy: 0.8272 - loss: 0.5127 - val_accuracy: 0.0910 - val_loss: 7.5557\n",
      "Epoch 82/100\n",
      "\u001b[1m1719/1719\u001b[0m \u001b[32m━━━━━━━━━━━━━━━━━━━━\u001b[0m\u001b[37m\u001b[0m \u001b[1m15s\u001b[0m 8ms/step - accuracy: 0.8324 - loss: 0.5070 - val_accuracy: 0.1000 - val_loss: 7.3673\n",
      "Epoch 83/100\n",
      "\u001b[1m1719/1719\u001b[0m \u001b[32m━━━━━━━━━━━━━━━━━━━━\u001b[0m\u001b[37m\u001b[0m \u001b[1m14s\u001b[0m 8ms/step - accuracy: 0.8299 - loss: 0.5117 - val_accuracy: 0.0952 - val_loss: 7.3495\n",
      "Epoch 84/100\n",
      "\u001b[1m1719/1719\u001b[0m \u001b[32m━━━━━━━━━━━━━━━━━━━━\u001b[0m\u001b[37m\u001b[0m \u001b[1m14s\u001b[0m 8ms/step - accuracy: 0.8339 - loss: 0.4903 - val_accuracy: 0.0952 - val_loss: 7.2789\n",
      "Epoch 85/100\n",
      "\u001b[1m1719/1719\u001b[0m \u001b[32m━━━━━━━━━━━━━━━━━━━━\u001b[0m\u001b[37m\u001b[0m \u001b[1m13s\u001b[0m 8ms/step - accuracy: 0.8375 - loss: 0.4887 - val_accuracy: 0.0934 - val_loss: 7.4031\n",
      "Epoch 86/100\n",
      "\u001b[1m1719/1719\u001b[0m \u001b[32m━━━━━━━━━━━━━━━━━━━━\u001b[0m\u001b[37m\u001b[0m \u001b[1m16s\u001b[0m 9ms/step - accuracy: 0.8373 - loss: 0.4892 - val_accuracy: 0.0944 - val_loss: 7.3795\n",
      "Epoch 87/100\n",
      "\u001b[1m1719/1719\u001b[0m \u001b[32m━━━━━━━━━━━━━━━━━━━━\u001b[0m\u001b[37m\u001b[0m \u001b[1m14s\u001b[0m 8ms/step - accuracy: 0.8395 - loss: 0.4870 - val_accuracy: 0.0984 - val_loss: 7.6191\n",
      "Epoch 88/100\n",
      "\u001b[1m1719/1719\u001b[0m \u001b[32m━━━━━━━━━━━━━━━━━━━━\u001b[0m\u001b[37m\u001b[0m \u001b[1m16s\u001b[0m 10ms/step - accuracy: 0.8393 - loss: 0.4788 - val_accuracy: 0.1022 - val_loss: 7.5623\n",
      "Epoch 89/100\n",
      "\u001b[1m1719/1719\u001b[0m \u001b[32m━━━━━━━━━━━━━━━━━━━━\u001b[0m\u001b[37m\u001b[0m \u001b[1m15s\u001b[0m 9ms/step - accuracy: 0.8413 - loss: 0.4761 - val_accuracy: 0.0942 - val_loss: 7.5904\n",
      "Epoch 90/100\n",
      "\u001b[1m1719/1719\u001b[0m \u001b[32m━━━━━━━━━━━━━━━━━━━━\u001b[0m\u001b[37m\u001b[0m \u001b[1m16s\u001b[0m 9ms/step - accuracy: 0.8444 - loss: 0.4670 - val_accuracy: 0.0984 - val_loss: 7.7313\n",
      "Epoch 91/100\n",
      "\u001b[1m1719/1719\u001b[0m \u001b[32m━━━━━━━━━━━━━━━━━━━━\u001b[0m\u001b[37m\u001b[0m \u001b[1m15s\u001b[0m 8ms/step - accuracy: 0.8439 - loss: 0.4672 - val_accuracy: 0.0922 - val_loss: 7.8193\n",
      "Epoch 92/100\n",
      "\u001b[1m1719/1719\u001b[0m \u001b[32m━━━━━━━━━━━━━━━━━━━━\u001b[0m\u001b[37m\u001b[0m \u001b[1m13s\u001b[0m 7ms/step - accuracy: 0.8420 - loss: 0.4725 - val_accuracy: 0.0976 - val_loss: 7.6950\n",
      "Epoch 93/100\n",
      "\u001b[1m1719/1719\u001b[0m \u001b[32m━━━━━━━━━━━━━━━━━━━━\u001b[0m\u001b[37m\u001b[0m \u001b[1m15s\u001b[0m 9ms/step - accuracy: 0.8463 - loss: 0.4605 - val_accuracy: 0.0962 - val_loss: 7.7682\n",
      "Epoch 94/100\n",
      "\u001b[1m1719/1719\u001b[0m \u001b[32m━━━━━━━━━━━━━━━━━━━━\u001b[0m\u001b[37m\u001b[0m \u001b[1m15s\u001b[0m 9ms/step - accuracy: 0.8402 - loss: 0.4707 - val_accuracy: 0.0984 - val_loss: 7.9055\n",
      "Epoch 95/100\n",
      "\u001b[1m1719/1719\u001b[0m \u001b[32m━━━━━━━━━━━━━━━━━━━━\u001b[0m\u001b[37m\u001b[0m \u001b[1m15s\u001b[0m 9ms/step - accuracy: 0.8456 - loss: 0.4599 - val_accuracy: 0.1006 - val_loss: 7.8942\n",
      "Epoch 96/100\n",
      "\u001b[1m1719/1719\u001b[0m \u001b[32m━━━━━━━━━━━━━━━━━━━━\u001b[0m\u001b[37m\u001b[0m \u001b[1m15s\u001b[0m 9ms/step - accuracy: 0.8486 - loss: 0.4529 - val_accuracy: 0.0960 - val_loss: 7.9246\n",
      "Epoch 97/100\n",
      "\u001b[1m1719/1719\u001b[0m \u001b[32m━━━━━━━━━━━━━━━━━━━━\u001b[0m\u001b[37m\u001b[0m \u001b[1m15s\u001b[0m 9ms/step - accuracy: 0.8484 - loss: 0.4518 - val_accuracy: 0.0962 - val_loss: 7.8409\n",
      "Epoch 98/100\n",
      "\u001b[1m1719/1719\u001b[0m \u001b[32m━━━━━━━━━━━━━━━━━━━━\u001b[0m\u001b[37m\u001b[0m \u001b[1m16s\u001b[0m 9ms/step - accuracy: 0.8515 - loss: 0.4426 - val_accuracy: 0.0976 - val_loss: 7.9728\n",
      "Epoch 99/100\n",
      "\u001b[1m1719/1719\u001b[0m \u001b[32m━━━━━━━━━━━━━━━━━━━━\u001b[0m\u001b[37m\u001b[0m \u001b[1m15s\u001b[0m 9ms/step - accuracy: 0.8531 - loss: 0.4415 - val_accuracy: 0.0910 - val_loss: 8.0384\n",
      "Epoch 100/100\n",
      "\u001b[1m1719/1719\u001b[0m \u001b[32m━━━━━━━━━━━━━━━━━━━━\u001b[0m\u001b[37m\u001b[0m \u001b[1m15s\u001b[0m 9ms/step - accuracy: 0.8586 - loss: 0.4278 - val_accuracy: 0.1026 - val_loss: 8.1807\n"
     ]
    }
   ],
   "source": [
    "# now you fit the model\n",
    "\n",
    "history = model.fit(X_train, y_train, epochs=100,\n",
    "            validation_data=(X_valid, y_valid)) #validation data is optional, but desirable\n",
    "\n",
    "            # you can also use validation_split = z, where z is between (0,1), a ratio of X_train"
   ]
  },
  {
   "cell_type": "markdown",
   "metadata": {},
   "source": [
    "- If the training set was very skewed: use class_weight in fit()\n",
    "- sample_weight can be used in fit if the labels have been set by different people (image labels by experts and labels by a community)\n",
    "- if the loss is still decreasing, it means the model didn't converge yet, and you should continue training it"
   ]
  },
  {
   "cell_type": "code",
   "execution_count": 65,
   "metadata": {},
   "outputs": [
    {
     "name": "stdout",
     "output_type": "stream",
     "text": [
      "Training parameters \n",
      " {'verbose': 'auto', 'epochs': 100, 'steps': 1719}\n",
      "List of epochs \n",
      " [0, 1, 2, 3, 4, 5, 6, 7, 8, 9, 10, 11, 12, 13, 14, 15, 16, 17, 18, 19, 20, 21, 22, 23, 24, 25, 26, 27, 28, 29, 30, 31, 32, 33, 34, 35, 36, 37, 38, 39, 40, 41, 42, 43, 44, 45, 46, 47, 48, 49, 50, 51, 52, 53, 54, 55, 56, 57, 58, 59, 60, 61, 62, 63, 64, 65, 66, 67, 68, 69, 70, 71, 72, 73, 74, 75, 76, 77, 78, 79, 80, 81, 82, 83, 84, 85, 86, 87, 88, 89, 90, 91, 92, 93, 94, 95, 96, 97, 98, 99]\n",
      "Dictionary of loss and extra metrics \n",
      " {'accuracy': [0.6237454414367676, 0.6270909309387207, 0.631709098815918, 0.6341999769210815, 0.6339272856712341, 0.640818178653717, 0.643963634967804, 0.6471454501152039, 0.6491818428039551, 0.6506181955337524, 0.6575454473495483, 0.6555272936820984, 0.6618545651435852, 0.6622727513313293, 0.6676181554794312, 0.6715272665023804, 0.6714909076690674, 0.673090934753418, 0.6786909103393555, 0.6810908913612366, 0.6812727451324463, 0.6863999962806702, 0.6877454519271851, 0.6917091012001038, 0.6954363584518433, 0.6951090693473816, 0.6982181668281555, 0.7001818418502808, 0.7039999961853027, 0.7060545682907104, 0.711581826210022, 0.7100181579589844, 0.7126727104187012, 0.7195272445678711, 0.718927264213562, 0.718927264213562, 0.7225454449653625, 0.7286363840103149, 0.7288908958435059, 0.7283999919891357, 0.7289090752601624, 0.7345818281173706, 0.7382909059524536, 0.7410908937454224, 0.7400000095367432, 0.7429817914962769, 0.7465817928314209, 0.7504363656044006, 0.7504727244377136, 0.7495818138122559, 0.751727283000946, 0.7584909200668335, 0.759181797504425, 0.7596908807754517, 0.7627454400062561, 0.7638909220695496, 0.7659817934036255, 0.7696545720100403, 0.7720545530319214, 0.7754545211791992, 0.7741454839706421, 0.7776545286178589, 0.7802181839942932, 0.7814727425575256, 0.7835454344749451, 0.7843272686004639, 0.7893272638320923, 0.7851091027259827, 0.7897454500198364, 0.7924181818962097, 0.7957454323768616, 0.7978181838989258, 0.7993090748786926, 0.7974363565444946, 0.8032000064849854, 0.8023636341094971, 0.8050727248191833, 0.8033818006515503, 0.8091272711753845, 0.8099272847175598, 0.8107272982597351, 0.8165454268455505, 0.8173454403877258, 0.8153091073036194, 0.8189454674720764, 0.8185818195343018, 0.8245454430580139, 0.8242363929748535, 0.8255636096000671, 0.8277636170387268, 0.8293091058731079, 0.8274363875389099, 0.8297818303108215, 0.8295999765396118, 0.8330000042915344, 0.8344727158546448, 0.8356545567512512, 0.8348000049591064, 0.8420000076293945, 0.8426727056503296], 'loss': [1.0986663103103638, 1.0890837907791138, 1.0781134366989136, 1.070587396621704, 1.0616962909698486, 1.0526584386825562, 1.043030023574829, 1.0349328517913818, 1.0238912105560303, 1.0183128118515015, 1.0075567960739136, 1.0013644695281982, 0.9897114634513855, 0.9819744825363159, 0.9731264114379883, 0.9642115831375122, 0.9582974314689636, 0.95243239402771, 0.9457651376724243, 0.9333853125572205, 0.9317125678062439, 0.9189088940620422, 0.9107050895690918, 0.9056662917137146, 0.8946332931518555, 0.8894166946411133, 0.8800203800201416, 0.8749426007270813, 0.8651047348976135, 0.8613803386688232, 0.8486402034759521, 0.849539041519165, 0.8407254815101624, 0.8274679780006409, 0.8236651420593262, 0.8219923377037048, 0.8118440508842468, 0.7991561889648438, 0.7943781018257141, 0.7898150086402893, 0.7885135412216187, 0.7764357924461365, 0.76622474193573, 0.7614209651947021, 0.7580897808074951, 0.7514417171478271, 0.7420448660850525, 0.7351264357566833, 0.7297883629798889, 0.7241747379302979, 0.7223577499389648, 0.7085491418838501, 0.7056358456611633, 0.7032870054244995, 0.6927165389060974, 0.6903796195983887, 0.6861183047294617, 0.675229549407959, 0.6652258634567261, 0.6612151265144348, 0.6590006947517395, 0.6511751413345337, 0.6451631188392639, 0.6398192048072815, 0.6342315077781677, 0.633169949054718, 0.6184336543083191, 0.6236181259155273, 0.6129498481750488, 0.6113916635513306, 0.6037421822547913, 0.5970051884651184, 0.5900045037269592, 0.5901078581809998, 0.5805281400680542, 0.5763304829597473, 0.5711442232131958, 0.5756993889808655, 0.5601322650909424, 0.5558518171310425, 0.5536679625511169, 0.543394148349762, 0.5419774651527405, 0.5362368822097778, 0.5311062932014465, 0.5301267504692078, 0.5199992656707764, 0.5173014998435974, 0.5128887891769409, 0.5086114406585693, 0.50440913438797, 0.5057492852210999, 0.49993816018104553, 0.4983678162097931, 0.49036845564842224, 0.4880176782608032, 0.48552483320236206, 0.48492443561553955, 0.4681042730808258, 0.4655490517616272], 'val_accuracy': [0.09860000014305115, 0.09459999948740005, 0.09780000150203705, 0.09399999678134918, 0.09319999814033508, 0.09799999743700027, 0.09880000352859497, 0.09600000083446503, 0.09640000015497208, 0.1005999967455864, 0.09799999743700027, 0.09700000286102295, 0.09160000085830688, 0.09679999947547913, 0.09740000218153, 0.09740000218153, 0.09399999678134918, 0.0949999988079071, 0.0949999988079071, 0.09960000216960907, 0.09160000085830688, 0.09920000284910202, 0.09539999812841415, 0.08980000019073486, 0.09459999948740005, 0.0957999974489212, 0.09260000288486481, 0.10140000283718109, 0.09560000151395798, 0.09399999678134918, 0.09539999812841415, 0.09000000357627869, 0.09459999948740005, 0.10220000147819519, 0.09459999948740005, 0.0989999994635582, 0.10199999809265137, 0.10080000013113022, 0.0966000035405159, 0.09380000084638596, 0.10000000149011612, 0.0949999988079071, 0.0997999981045723, 0.09440000355243683, 0.09780000150203705, 0.09480000287294388, 0.09719999879598618, 0.10180000215768814, 0.09459999948740005, 0.09839999675750732, 0.10199999809265137, 0.09880000352859497, 0.09860000014305115, 0.09640000015497208, 0.09600000083446503, 0.09799999743700027, 0.09600000083446503, 0.09399999678134918, 0.09279999881982803, 0.09459999948740005, 0.09780000150203705, 0.0934000015258789, 0.0982000008225441, 0.09220000356435776, 0.10159999877214432, 0.09560000151395798, 0.0982000008225441, 0.09839999675750732, 0.09799999743700027, 0.10239999741315842, 0.09480000287294388, 0.10019999742507935, 0.09520000219345093, 0.09719999879598618, 0.09319999814033508, 0.0989999994635582, 0.10040000081062317, 0.09780000150203705, 0.09480000287294388, 0.094200000166893, 0.09099999815225601, 0.10000000149011612, 0.09520000219345093, 0.09520000219345093, 0.0934000015258789, 0.09440000355243683, 0.09839999675750732, 0.10220000147819519, 0.094200000166893, 0.09839999675750732, 0.09220000356435776, 0.09759999811649323, 0.09619999676942825, 0.09839999675750732, 0.1005999967455864, 0.09600000083446503, 0.09619999676942825, 0.09759999811649323, 0.09099999815225601, 0.10260000079870224], 'val_loss': [4.365548133850098, 4.390335559844971, 4.366405963897705, 4.393892288208008, 4.370920181274414, 4.482909679412842, 4.4338812828063965, 4.527767658233643, 4.57512092590332, 4.557965278625488, 4.6685638427734375, 4.6252241134643555, 4.744504451751709, 4.642597198486328, 4.706149578094482, 4.760665416717529, 4.801448345184326, 4.82741641998291, 4.852371692657471, 4.915736198425293, 4.96387243270874, 4.908570766448975, 4.985687732696533, 5.017086505889893, 5.064371585845947, 5.1215972900390625, 5.155379772186279, 5.2028093338012695, 5.30295991897583, 5.228243350982666, 5.242112636566162, 5.324720859527588, 5.3778204917907715, 5.3079142570495605, 5.420882225036621, 5.453512668609619, 5.457664966583252, 5.53557014465332, 5.577280521392822, 5.692326068878174, 5.663910388946533, 5.746608257293701, 5.713353633880615, 5.728115558624268, 5.902614593505859, 5.90947151184082, 5.8759002685546875, 5.993157863616943, 5.931585311889648, 5.9892659187316895, 5.95982551574707, 6.089028358459473, 6.217925548553467, 6.247269630432129, 6.236128330230713, 6.178432941436768, 6.242299556732178, 6.348377704620361, 6.344860076904297, 6.384278297424316, 6.47406005859375, 6.4480414390563965, 6.570132732391357, 6.593284606933594, 6.665856838226318, 6.690649032592773, 6.778270244598389, 6.7458977699279785, 6.787477970123291, 6.809910297393799, 6.96246862411499, 6.872236728668213, 6.972855567932129, 6.9886155128479, 7.0193657875061035, 6.990596294403076, 7.324191570281982, 7.171252250671387, 7.162308692932129, 7.247014045715332, 7.555729866027832, 7.367270469665527, 7.349495887756348, 7.278906345367432, 7.4031219482421875, 7.379512310028076, 7.619071006774902, 7.562309265136719, 7.590353965759277, 7.7312517166137695, 7.819290637969971, 7.695038318634033, 7.768172740936279, 7.905519485473633, 7.89418363571167, 7.9245781898498535, 7.840897083282471, 7.972835063934326, 8.038369178771973, 8.180736541748047]}\n"
     ]
    }
   ],
   "source": [
    "# the fit method returns a history object\n",
    "\n",
    "print(f\"Training parameters \\n {history.params}\") # training parameters\n",
    "print(f\"List of epochs \\n {history.epoch}\") #list of epochs\n",
    "print(f\"Dictionary of loss and extra metrics \\n {history.history}\")"
   ]
  },
  {
   "cell_type": "code",
   "execution_count": 66,
   "metadata": {},
   "outputs": [
    {
     "data": {
      "image/png": "[encoded data removed]",
      "text/plain": [
       "<Figure size 800x500 with 1 Axes>"
      ]
     },
     "metadata": {},
     "output_type": "display_data"
    }
   ],
   "source": [
    "# you can plot the learning curves\n",
    "\n",
    "import pandas as pd\n",
    "import matplotlib.pyplot as plt\n",
    "\n",
    "pd.DataFrame(history.history).plot(figsize=(8,5))\n",
    "\n",
    "plt.title(\"Learning curves\")\n",
    "plt.grid(True)\n",
    "plt.gca().set_ylim(0,1) #set the vertical range to [0, -1]\n",
    "\n",
    "plt.show()"
   ]
  },
  {
   "cell_type": "code",
   "execution_count": 68,
   "metadata": {},
   "outputs": [
    {
     "name": "stdout",
     "output_type": "stream",
     "text": [
      "\u001b[1m313/313\u001b[0m \u001b[32m━━━━━━━━━━━━━━━━━━━━\u001b[0m\u001b[37m\u001b[0m \u001b[1m2s\u001b[0m 5ms/step - accuracy: 0.0971 - loss: 7.9004\n",
      "Test set performance: [7.880702495574951, 0.0997999981045723]\n"
     ]
    }
   ],
   "source": [
    "# evaluate the model on test set\n",
    "print(f\"Test set performance: {model.evaluate(X_test, y_test)}\")"
   ]
  },
  {
   "cell_type": "code",
   "execution_count": 71,
   "metadata": {},
   "outputs": [
    {
     "ename": "ValueError",
     "evalue": "Exception encountered when calling Sequential.call().\n\n\u001b[1mInvalid input shape for input Tensor(\"data:0\", shape=(28, 28), dtype=float32). Expected shape (None, 28, 28), but input has incompatible shape (28, 28)\u001b[0m\n\nArguments received by Sequential.call():\n  • inputs=tf.Tensor(shape=(28, 28), dtype=float32)\n  • training=False\n  • mask=None",
     "output_type": "error",
     "traceback": [
      "\u001b[0;31m---------------------------------------------------------------------------\u001b[0m",
      "\u001b[0;31mValueError\u001b[0m                                Traceback (most recent call last)",
      "Cell \u001b[0;32mIn[71], line 6\u001b[0m\n\u001b[1;32m      3\u001b[0m X_predicitons \u001b[38;5;241m=\u001b[39m X_test[:\u001b[38;5;241m3\u001b[39m]\n\u001b[1;32m      5\u001b[0m \u001b[38;5;28;01mfor\u001b[39;00m i \u001b[38;5;129;01min\u001b[39;00m \u001b[38;5;28mrange\u001b[39m(\u001b[38;5;28mlen\u001b[39m(X_predicitons)):\n\u001b[0;32m----> 6\u001b[0m     y_proba \u001b[38;5;241m=\u001b[39m \u001b[43mmodel\u001b[49m\u001b[38;5;241;43m.\u001b[39;49m\u001b[43mpredict\u001b[49m\u001b[43m(\u001b[49m\u001b[43mX_predicitons\u001b[49m\u001b[43m[\u001b[49m\u001b[43mi\u001b[49m\u001b[43m]\u001b[49m\u001b[43m)\u001b[49m\n\u001b[1;32m      7\u001b[0m     \u001b[38;5;28mprint\u001b[39m(\u001b[38;5;124m\"\u001b[39m\u001b[38;5;124mPredicted probabilities\u001b[39m\u001b[38;5;124m\"\u001b[39m)\n\u001b[1;32m      8\u001b[0m     \u001b[38;5;28mprint\u001b[39m(y_proba\u001b[38;5;241m.\u001b[39mround(\u001b[38;5;241m2\u001b[39m))\n",
      "File \u001b[0;32m~/codes/data_science/.venv/lib/python3.12/site-packages/keras/src/utils/traceback_utils.py:122\u001b[0m, in \u001b[0;36mfilter_traceback.<locals>.error_handler\u001b[0;34m(*args, **kwargs)\u001b[0m\n\u001b[1;32m    119\u001b[0m     filtered_tb \u001b[38;5;241m=\u001b[39m _process_traceback_frames(e\u001b[38;5;241m.\u001b[39m__traceback__)\n\u001b[1;32m    120\u001b[0m     \u001b[38;5;66;03m# To get the full stack trace, call:\u001b[39;00m\n\u001b[1;32m    121\u001b[0m     \u001b[38;5;66;03m# `keras.config.disable_traceback_filtering()`\u001b[39;00m\n\u001b[0;32m--> 122\u001b[0m     \u001b[38;5;28;01mraise\u001b[39;00m e\u001b[38;5;241m.\u001b[39mwith_traceback(filtered_tb) \u001b[38;5;28;01mfrom\u001b[39;00m \u001b[38;5;28;01mNone\u001b[39;00m\n\u001b[1;32m    123\u001b[0m \u001b[38;5;28;01mfinally\u001b[39;00m:\n\u001b[1;32m    124\u001b[0m     \u001b[38;5;28;01mdel\u001b[39;00m filtered_tb\n",
      "File \u001b[0;32m~/codes/data_science/.venv/lib/python3.12/site-packages/keras/src/models/functional.py:264\u001b[0m, in \u001b[0;36mFunctional._adjust_input_rank\u001b[0;34m(self, flat_inputs)\u001b[0m\n\u001b[1;32m    262\u001b[0m             adjusted\u001b[38;5;241m.\u001b[39mappend(ops\u001b[38;5;241m.\u001b[39mexpand_dims(x, axis\u001b[38;5;241m=\u001b[39m\u001b[38;5;241m-\u001b[39m\u001b[38;5;241m1\u001b[39m))\n\u001b[1;32m    263\u001b[0m             \u001b[38;5;28;01mcontinue\u001b[39;00m\n\u001b[0;32m--> 264\u001b[0m     \u001b[38;5;28;01mraise\u001b[39;00m \u001b[38;5;167;01mValueError\u001b[39;00m(\n\u001b[1;32m    265\u001b[0m         \u001b[38;5;124mf\u001b[39m\u001b[38;5;124m\"\u001b[39m\u001b[38;5;124mInvalid input shape for input \u001b[39m\u001b[38;5;132;01m{\u001b[39;00mx\u001b[38;5;132;01m}\u001b[39;00m\u001b[38;5;124m. Expected shape \u001b[39m\u001b[38;5;124m\"\u001b[39m\n\u001b[1;32m    266\u001b[0m         \u001b[38;5;124mf\u001b[39m\u001b[38;5;124m\"\u001b[39m\u001b[38;5;132;01m{\u001b[39;00mref_shape\u001b[38;5;132;01m}\u001b[39;00m\u001b[38;5;124m, but input has incompatible shape \u001b[39m\u001b[38;5;132;01m{\u001b[39;00mx\u001b[38;5;241m.\u001b[39mshape\u001b[38;5;132;01m}\u001b[39;00m\u001b[38;5;124m\"\u001b[39m\n\u001b[1;32m    267\u001b[0m     )\n\u001b[1;32m    268\u001b[0m \u001b[38;5;66;03m# Add back metadata.\u001b[39;00m\n\u001b[1;32m    269\u001b[0m \u001b[38;5;28;01mfor\u001b[39;00m i \u001b[38;5;129;01min\u001b[39;00m \u001b[38;5;28mrange\u001b[39m(\u001b[38;5;28mlen\u001b[39m(flat_inputs)):\n",
      "\u001b[0;31mValueError\u001b[0m: Exception encountered when calling Sequential.call().\n\n\u001b[1mInvalid input shape for input Tensor(\"data:0\", shape=(28, 28), dtype=float32). Expected shape (None, 28, 28), but input has incompatible shape (28, 28)\u001b[0m\n\nArguments received by Sequential.call():\n  • inputs=tf.Tensor(shape=(28, 28), dtype=float32)\n  • training=False\n  • mask=None"
     ]
    }
   ],
   "source": [
    "# making predicitons for the first 3 itens in X_test\n",
    "\n",
    "X_predicitons = X_test[:3]\n",
    "\n",
    "for i in range(len(X_predicitons)):\n",
    "    y_proba = model.predict(X_predicitons[i])\n",
    "    print(\"Predicted probabilities\")\n",
    "    print(y_proba.round(2))\n",
    "    print(\"===\" *10)\n",
    "    print(f\"Predicted class {model.predict_classes(X_predicitons[i])}\")\n",
    "    print(f\"Actual class {y_test[i]}\")"
   ]
  },
  {
   "cell_type": "markdown",
   "metadata": {},
   "source": [
    "## My first Keras sequential: Regression"
   ]
  },
  {
   "cell_type": "code",
   "execution_count": null,
   "metadata": {},
   "outputs": [],
   "source": [
    "from sklearn.datasets import fetch_california_housing\n",
    "from sklearn.model_selection import train_test_split\n",
    "from sklearn.preprocessing import StandardScaler\n",
    "\n",
    "housing = fetch_california_housing()\n",
    "\n",
    "X_train_full, X_test, y_train_full, y_text = train_test_split(\n",
    "    housing.data, housing.target\n",
    ")\n",
    "\n",
    "# split train into train and validation, with default 80/20 split\n",
    "X_train, X_valid, y_train, y_valid = train_test_split(\n",
    "    X_train_full, y_train_full\n",
    ")\n",
    "\n",
    "# scale the data\n",
    "scaler = StandardScaler()\n",
    "X_train_scaled = scaler.fit_transform(X_train)\n",
    "X_valid_scaled = scaler.transform(X_valid)\n",
    "X_test_scaled = scaler.tranform(X_test)"
   ]
  },
  {
   "cell_type": "markdown",
   "metadata": {},
   "source": [
    "## Troubleshooting Increasing Loss in Neural Network Training\n",
    "\n",
    "Potential Causes and Solutions:\n",
    "\n",
    "### Learning Rate\n",
    "\n",
    "- **Issue**: Too high a learning rate can cause the model to overshoot the optimal solution.\n",
    "- **Solution**: Reduce the learning rate.\n",
    "\n",
    "### Vanishing or Exploding Gradients\n",
    "\n",
    "- **Issue**: Gradients become too small or too large.\n",
    "- **Solution**: Use techniques like gradient clipping, normalization, or appropriate activation functions (e.g., ReLU).\n",
    "\n",
    "### Overfitting\n",
    "\n",
    "- **Issue**: The model memorizes the training data instead of generalizing.\n",
    "- **Solution**: Use regularization techniques (L1/L2 regularization, dropout), gather more data, or simplify the model.\n",
    "\n",
    "### Poor Initialization\n",
    "\n",
    "- **Issue**: Initial weights and biases are not optimal.\n",
    "- **Solution**: Use techniques like Xavier or He initialization.\n",
    "\n",
    "### Data Issues\n",
    "\n",
    "- **Issue**: Noisy or incorrect data.\n",
    "- **Solution**: Clean and preprocess the data, and consider data augmentation.\n",
    "\n",
    "### Implementation Errors\n",
    "\n",
    "- **Issue**: Bugs in the code.\n",
    "- **Solution**: Thoroughly review and debug the code.\n",
    "\n",
    " **Troubleshooting Tips:**\n",
    "\n",
    "- **Monitor Metrics**: Track loss, accuracy, and other relevant metrics.\n",
    "- **Visualize Learning Curves**: Plot training and validation loss to identify trends.\n",
    "- **Experiment with Hyperparameters**: Adjust learning rate, batch size, optimizer, etc.\n",
    "- **Try Different Architectures**: Explore different network architectures.\n",
    "- **Save Model Checkpoints**: Allow for reverting to previous states.\n",
    "\n"
   ]
  }
 ],
 "metadata": {
  "kernelspec": {
   "display_name": ".venv",
   "language": "python",
   "name": "python3"
  },
  "language_info": {
   "codemirror_mode": {
    "name": "ipython",
    "version": 3
   },
   "file_extension": ".py",
   "mimetype": "text/x-python",
   "name": "python",
   "nbconvert_exporter": "python",
   "pygments_lexer": "ipython3",
   "version": "3.12.7"
  }
 },
 "nbformat": 4,
 "nbformat_minor": 2
}
