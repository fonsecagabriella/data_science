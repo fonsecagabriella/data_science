{
 "cells": [
  {
   "cell_type": "markdown",
   "metadata": {},
   "source": [
    "# Introduction the NN\n",
    "\n",
    "In essence: For each epoch, for each training instance the backpropagation algorithm first makes a prediction (forward pass), measures the error, then goes through each layer in reverse to measure the error contribution from each connection (reverse pass), and finally slightly tweaks the connection weights to reduce the error (Gradient Descent step).\n",
    "\n",
    "\n",
    "<img src=\"../img/derivatives_activation.png\" width=\"80%\">\n",
    "\n",
    "*Derivatives: rate of change*\n",
    "\n",
    "\n",
    "**Key Differences Between Perceptron and Neuron**\n",
    "| Feature               | Perceptron                       | Neuron in MLP                   |\n",
    "|-----------------------|-----------------------------------|----------------------------------|\n",
    "| **Activation Function** | Step function                   | Nonlinear (e.g., ReLU, sigmoid) |\n",
    "| **Output**            | Binary (0 or 1)                  | Continuous or nonlinear values  |\n",
    "| **Usage**             | Single-layer models (linear tasks) | Multilayer networks (nonlinear tasks) |\n",
    "| **Problem Solving**   | Only linear separability         | Handles nonlinear problems      |\n"
   ]
  },
  {
   "cell_type": "markdown",
   "metadata": {},
   "source": [
    "## **Regression MLPs**\n",
    "\n",
    "| Hyperparameter        | Typical Value                                                                 |\n",
    "|-----------------------|------------------------------------------------------------------------------|\n",
    "| # input neurons       | One per input feature (e.g., 28 x 28 = 784 for MNIST)                       |\n",
    "| # hidden layers       | Depends on the problem. Typically 1 to 5.                                   |\n",
    "| # neurons per hidden layer | Depends on the problem. Typically 10 to 100.                            |\n",
    "| # output neurons      | 1 per prediction dimension (if you expect 2 values, then 2 outputs)                                                  |\n",
    "| Hidden activation     | ReLU (or SELU)                                              |\n",
    "| Output activation     | None or ReLU/Softplus (if positive outputs) or Logistic (0 to 1)/Tanh (hyperbolic tangent)(-1 to 1) (if bounded outputs) |\n",
    "| Loss function         | MSE or MAE/Huber (if outliers)                                              |\n",
    "\n",
    "## Classification MLPs\n",
    "\n",
    "| Hyperparameter            | Binary classification | Multilabel binary classification | Multiclass classification |\n",
    "|---------------------------|-----------------------|-----------------------------------|---------------------------|\n",
    "| Input and hidden layers   | Same as regression   | Same as regression               | Same as regression       |\n",
    "| # output neurons          | 1                   | 1 per label                      | 1 per class              |\n",
    "| Output layer activation   | Logistic            | Logistic                          | Softmax                  |\n",
    "| Loss functino   | Cross-entropy            | Cross-entropy                         | Cross-entropy                  |\n",
    "\n"
   ]
  },
  {
   "cell_type": "markdown",
   "metadata": {},
   "source": [
    "## Simple image classifier with Keras"
   ]
  },
  {
   "cell_type": "code",
   "execution_count": 3,
   "metadata": {},
   "outputs": [
    {
     "data": {
      "text/plain": [
       "'3.6.0'"
      ]
     },
     "execution_count": 3,
     "metadata": {},
     "output_type": "execute_result"
    }
   ],
   "source": [
    "import tensorflow as tf\n",
    "from tensorflow import keras\n",
    "\n",
    "tf.__version__\n",
    "keras.__version__\n"
   ]
  },
  {
   "cell_type": "code",
   "execution_count": null,
   "metadata": {},
   "outputs": [],
   "source": [
    "# the fashion ds has 10 categories, like mnist, but with clothes\n",
    "fashion_mnist = keras.datasets.fashion_mnist\n",
    "\n",
    "import ssl\n",
    "ssl._create_default_https_context = ssl._create_unverified_context\n",
    "\n",
    "(X_train_full, y_train_full), (x_test, y_test) = fashion_mnist.load_data()"
   ]
  }
 ],
 "metadata": {
  "kernelspec": {
   "display_name": ".venv",
   "language": "python",
   "name": "python3"
  },
  "language_info": {
   "codemirror_mode": {
    "name": "ipython",
    "version": 3
   },
   "file_extension": ".py",
   "mimetype": "text/x-python",
   "name": "python",
   "nbconvert_exporter": "python",
   "pygments_lexer": "ipython3",
   "version": "3.12.7"
  }
 },
 "nbformat": 4,
 "nbformat_minor": 2
}
