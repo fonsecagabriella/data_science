{
 "cells": [
  {
   "cell_type": "markdown",
   "metadata": {},
   "source": [
    "# Decision Trees\n",
    "\n",
    "- Can perform regression, classification and also multioutput tasks.\n",
    "- They don't require feature scaling or centering\n",
    "- Measures of impurity (misclassification at a node): Gini impurity (for a pure node, gini=0) | Entropy (change criterion=\"entropy\"). Gini is faster but tends to isolate the most frequent class in one branch while entropy produces more balanced tests.\n",
    "- Also return the probability of each class with .predic_proba\n",
    "\n",
    "- Scikit-learn use CART algoritm (a node can only have two children/subset). But there are other algorithms to produce more children, such as ID2\n",
    "\n",
    "- **CART ALGORITHM** splits a node in two subsets; it looks at the combination that will lead to less impurity.\n",
    "\n",
    "- **HYPERPARAMETERS**\n",
    "    -- min_samples_split\n",
    "\n",
    "    -- min_samples_leaf\n",
    "\n",
    "    -- min_weight_fraction_leaf: same as above, but expressed in frasion of the total number of weighted instances\n",
    "\n",
    "    -- max_leaf_nodes\n",
    "\n",
    "    -- max_features: maximum number of features analysed for split\n",
    "    \n",
    "\n",
    "- When using decision trees for **regression** the value predicted is the average target value of the instances in a region. "
   ]
  },
  {
   "cell_type": "code",
   "execution_count": 5,
   "metadata": {},
   "outputs": [],
   "source": [
    "# visualising how a tree makes predictions\n",
    "from sklearn.datasets import load_iris\n",
    "from sklearn.tree import  DecisionTreeClassifier\n",
    "\n",
    "iris = load_iris()\n",
    "\n",
    "X= iris.data[:, 2:] #petal lenght and width\n",
    "y= iris.target\n",
    "\n",
    "tree_classifier = DecisionTreeClassifier(max_depth=2)\n",
    "\n",
    "tree_classifier.fit(X, y)\n",
    "\n",
    "\n",
    "# to visualise the tree\n",
    "from sklearn.tree import export_graphviz\n",
    "import graphviz\n",
    "\n",
    "# Define the path for the output image (replace with your desired path)\n",
    "image_path = \"iris_tree.dot\"  # Replace with your desired path\n",
    "\n",
    "# Export the tree in DOT format\n",
    "export_graphviz(tree_classifier,\n",
    "                out_file=image_path,\n",
    "                feature_names=iris.feature_names[2:],\n",
    "                class_names=iris.target_names,\n",
    "                rounded=True,\n",
    "                filled=True)\n",
    "\n",
    "# in the command line, convert the dot file to png or pdf\n",
    "#dot -Tpng iris_tree.dot -o iris_tree.png\n"
   ]
  },
  {
   "cell_type": "code",
   "execution_count": 11,
   "metadata": {},
   "outputs": [
    {
     "name": "stdout",
     "output_type": "stream",
     "text": [
      "Number of nodes: 5\n",
      "Max depth: 2\n",
      "Max n classes: 3\n",
      "\n",
      "\n",
      "Tree Impurity \n",
      "[0.66666667 0.         0.5        0.16803841 0.04253308]\n"
     ]
    }
   ],
   "source": [
    "# A trained DecisionTreeClassifier has a tree_ attribute that stores the tree's structure:\n",
    "tree = tree_classifier.tree_\n",
    "\n",
    "print(f\"Number of nodes: {tree.node_count}\\nMax depth: {tree.max_depth}\\nMax n classes: {tree.max_n_classes}\")\n",
    "\n",
    "# other attributes of trees\n",
    "# n_features, n_outputs, n_leaves, impurity\n",
    "\n",
    "print(f\"\\n\\nTree Impurity \\n{tree.impurity}\")"
   ]
  }
 ],
 "metadata": {
  "kernelspec": {
   "display_name": ".venv",
   "language": "python",
   "name": "python3"
  },
  "language_info": {
   "codemirror_mode": {
    "name": "ipython",
    "version": 3
   },
   "file_extension": ".py",
   "mimetype": "text/x-python",
   "name": "python",
   "nbconvert_exporter": "python",
   "pygments_lexer": "ipython3",
   "version": "3.12.7"
  }
 },
 "nbformat": 4,
 "nbformat_minor": 2
}
