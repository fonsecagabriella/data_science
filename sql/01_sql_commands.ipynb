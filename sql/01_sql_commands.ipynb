{
 "cells": [
  {
   "cell_type": "markdown",
   "metadata": {},
   "source": [
    "# Module 2 Assignment: Deeper Analysis on the Movie Data with SQL\n",
    "\n",
    "Welcome to this module's assignment!\n",
    "\n",
    "Carefully read each Markdown (text) cell, which includes instructions and hints. Start by reading the background behind your upcoming tasks.\n",
    "\n",
    "When you are done, submit your solution by saving it, then clicking on the blue submit button at the top of the page.\n",
    "\n",
    "## Background:\n",
    "\n",
    "You continue your work at **MovieMetrics**, a media analytics company specializing in streaming platform insights. Your manager was very impressed with the insights you were able to gather. He wants you to  perform data validation, and dive deeper into the dataset.\n",
    "\n",
    "In this assignment, you will be working with the [MUBI SVOD Platform Database for Movie Lovers Dataset](https://www.kaggle.com/datasets/clementmsika/mubi-sqlite-database-for-movie-lovers) from Kaggle, which provides a collection of movies and user ratings, including details like movie titles, release years, genres, durations, and user-generated ratings.\n",
    "\n",
    "You will work with the following tables. The bold columns in each table are the ones you will be working with in in this lab.\n",
    "\n",
    "**movies**\n",
    "\n",
    "| Column Name | Data Type | Description                          |\n",
    "| ----------- | --------- | ------------------------------------ |\n",
    "| **`movie_id`** | INTEGER   | ID related to the movie on Mubi      |\n",
    "| **`movie_title`**| TEXT      | Name of the movie                   |\n",
    "| **`movie_release_year`**| INTEGER   | Release year of the movie            |\n",
    "| `movie_url`| TEXT  | URL to the movie page on Mubi |\n",
    "| `movie_title_language`| TEXT | By default, the title is in English. |\n",
    "| **`movie_popularity`**   | INTEGER      | Number of Mubi users who love this movie                 |\n",
    "| `movie_image_url`| TEXT |    Image URL to the movie on Mubi | \n",
    "| `director_id`  | INTEGER   | ID related to the movie director on Mubi    |\n",
    "| **`director_name`**    | TEXT      |\tFull Name of the movie director    |\n",
    "| `director_url` | TEXT | URL to the movie director page on Mubi| \n",
    "| **`rating`** | REAL | Movie rating, based on Mubi user ratings | \n",
    "\n",
    "**ratings**\n",
    "\n",
    "| Column Name | Data Type | Description                          |\n",
    "| ----------- | --------- | ------------------------------------ |\n",
    "| **`movie_id`**  | INTEGER   | Movie ID related to the rating       |\n",
    "| `rating_id`   | INTEGER   | Rating ID on Mubi       |\n",
    "| `rating_url`   | TEXT   | URL to the rating on Mubi       |\n",
    "| `rating_score`    | INTEGER      | Rating score ranging from 1 (lowest) to 5 (highest) |\n",
    "| `rating_timestamp` | INTEGER   | Timestamp for the movie rating made by the user on Mubi              |\n",
    "| **`critic`**| TEXT | Critic made by the user rating the movie. If value = \"None\", the user did not write a critic when rating the movie. |\n",
    "| **`critic_likes`** | INTEGER | Number of likes related to the critic made by the user rating the movie |\n",
    "| `critic_comments` | INTEGER | Number of comments related to the critic made by the user rating the movie |\n",
    "| `user_id` | INTEGER | ID related to the user rating the movie | \n",
    "| `user_trialist` | INTEGER | 1 = the user was a trialist when he rated the movie 0 = the user was not a trialist when he rated the movie |\n",
    "| `user_subscriber` | INTEGER | 1 = the user was a subscriber when he rated the movie 0 = the user was not a subscriber when he rated the movie |\n",
    "| `user_elegible_for_trial` | INTEGER | 1 = the user was eligible for trial when he rated the movie 0 = the user was not eligible for trial when he rated the movie |\n",
    "| `user_has_payment_method` | INTEGER | 1 = the user was a paying subscriber when he rated the movie 0 = the user was not a paying subscriber when he rated |\n",
    "\n",
    "\n",
    "\n",
    "\n",
    "## In order for your submission to be graded correctly, you **MUST**:\n",
    "\n",
    "* **Use the provided variable names**. If you change them, the autograder will not be able to locate the variable for grading.\n",
    "\n",
    "* **Replace any instances of `None` with your own code.** Some may be inside a commented line, so please read the code carefully. You may see parts of a solution already filled in, while others use the placeholder `None`. You will need to replace every instance of `None` with your own solution.\n",
    "\n",
    "* **Only modify the cells that start with the comment `# GRADED CELL`.** All other cells are already set up, and you only need to run them.\n",
    "\n",
    "* **Use the provided cells for your solution.** You can add new cells to experiment, but these will be omitted when grading. Some cells are already completed for you and are not modifiable, which ensures that the grader uses the same variables and settings as you.\n",
    "\n",
    "To submit your solution, save it, then click on the blue submit button at the top of the page.\n",
    "\n",
    "<div style=\"background-color: #FAD888; padding: 10px; border-radius: 3px; box-shadow: 0 2px 4px rgba(0, 0, 0, 0.1); width:95%\">\n",
    "<strong>Important note</strong>: Having all the placeholders for where your code should go will inevitably create errors, so don't try to run the notebook before completing the exercises. You can run the cells as you complete them to see that the code is running and giving the correct results.\n",
    "</div>"
   ]
  },
  {
   "cell_type": "markdown",
   "metadata": {},
   "source": [
    "## Table of Contents\n",
    "\n",
    "- [Step 1: Importing libraries](#step-1)\n",
    "- [Step 2: Connecting to the Database](#step-2)\n",
    "- [Step 3: Data Validation](#step-3)\n",
    "    - [Exercise 1: Unique movies](#ex1)\n",
    "    - [Exercise 2: Missing Data](#ex2)\n",
    "- [Step 4: Deeper Analysis on the dataset](#step-4)\n",
    "    - [Exercise 3: Analyzing Highly-Rated Recent Movies](#ex3)\n",
    "    - [Exercise 4: Director's Cuts](#ex4)\n",
    "    - [Exercise 5: Average Rating Per Year](#ex5)\n",
    "    - [Exercise 6: Most Liked Critiques](#ex6)\n",
    "    - [Exercise 7: Identifying Unrated Movies](#ex7)\n",
    "    - [Exercise 8: Binning Popularity](#ex8)\n"
   ]
  },
  {
   "cell_type": "markdown",
   "metadata": {},
   "source": [
    "<a id=\"step-1\"></a>\n",
    "\n",
    "## Step 1: Importing libraries\n",
    "\n",
    "Before you start working on the dataset, it is good practice to import all libraries at the beginning of your code. \n",
    "\n",
    "<div style=\"background-color: #C6E2FF; padding: 10px; border-radius: 3px; box-shadow: 0 2px 4px rgba(0, 0, 0, 0.1); width:95%\n",
    "\">\n",
    "    <strong>▶▶▶ Directions</strong> \n",
    "        <ol>\n",
    "            <li>Run the cell below to import the following `sqlite3` and `pandas` libraries.</li>\n",
    "        </ol>\n",
    "</div>"
   ]
  },
  {
   "cell_type": "code",
   "execution_count": 1,
   "metadata": {
    "deletable": false,
    "editable": false,
    "slideshow": {
     "slide_type": ""
    },
    "tags": [
     "graded"
    ]
   },
   "outputs": [],
   "source": [
    "import sqlite3\n",
    "import pandas as pd"
   ]
  },
  {
   "cell_type": "markdown",
   "metadata": {
    "editable": true,
    "slideshow": {
     "slide_type": ""
    },
    "tags": []
   },
   "source": [
    "<a id=\"step-2\"></a>\n",
    "\n",
    "## Step 2: Connecting to the Database\n",
    "Begin by connecting to the MUBI database\n",
    "\n",
    "<div style=\"background-color: #C6E2FF; padding: 10px; border-radius: 3px; box-shadow: 0 2px 4px rgba(0, 0, 0, 0.1); width:95%\n",
    "\">\n",
    "\n",
    "**▶▶▶ Directions**\n",
    "1. Run the cell below to connect to the `mubi_movies_ratings_db.sqlite` database \n",
    "\n",
    "</div>"
   ]
  },
  {
   "cell_type": "code",
   "execution_count": 2,
   "metadata": {
    "deletable": false,
    "editable": false,
    "slideshow": {
     "slide_type": ""
    },
    "tags": [
     "graded"
    ]
   },
   "outputs": [
    {
     "ename": "OperationalError",
     "evalue": "unable to open database file",
     "output_type": "error",
     "traceback": [
      "\u001b[0;31m---------------------------------------------------------------------------\u001b[0m",
      "\u001b[0;31mOperationalError\u001b[0m                          Traceback (most recent call last)",
      "Cell \u001b[0;32mIn[2], line 2\u001b[0m\n\u001b[1;32m      1\u001b[0m \u001b[38;5;66;03m# create a connection to the database\u001b[39;00m\n\u001b[0;32m----> 2\u001b[0m conn \u001b[38;5;241m=\u001b[39m \u001b[43msqlite3\u001b[49m\u001b[38;5;241;43m.\u001b[39;49m\u001b[43mconnect\u001b[49m\u001b[43m(\u001b[49m\u001b[38;5;124;43m\"\u001b[39;49m\u001b[38;5;124;43m./data/mubi_movies_ratings_db.sqlite\u001b[39;49m\u001b[38;5;124;43m\"\u001b[39;49m\u001b[43m)\u001b[49m\n\u001b[1;32m      4\u001b[0m \u001b[38;5;66;03m# check the connection with a small query\u001b[39;00m\n\u001b[1;32m      5\u001b[0m pd\u001b[38;5;241m.\u001b[39mread_sql(\u001b[38;5;124m\"\u001b[39m\u001b[38;5;124mSELECT movie_id, movie_title FROM movies LIMIT 1\u001b[39m\u001b[38;5;124m\"\u001b[39m, conn)\n",
      "\u001b[0;31mOperationalError\u001b[0m: unable to open database file"
     ]
    }
   ],
   "source": [
    "# create a connection to the database\n",
    "conn = sqlite3.connect(\"./data/mubi_movies_ratings_db.sqlite\")\n",
    "\n",
    "# check the connection with a small query\n",
    "pd.read_sql(\"SELECT movie_id, movie_title FROM movies LIMIT 1\", conn)"
   ]
  },
  {
   "cell_type": "markdown",
   "metadata": {},
   "source": [
    "<details>\n",
    "<summary style=\"background-color: #c6e2ff6c; padding: 10px; border-radius: 3px; box-shadow: 0 2px 4px rgba(0, 0, 0, 0.01); width: 95%; text-align: left; cursor: pointer; font-weight: bold;\">\n",
    "Expected output:</summary> \n",
    "<br>\n",
    "\n",
    "\n",
    "<span style=\"font-size: 10px;\">\n",
    "\n",
    "```mkdn\n",
    "   movie_id movie_title\n",
    "0         1   La Antena\n",
    "```\n",
    "</span>\n",
    "</details>"
   ]
  },
  {
   "cell_type": "markdown",
   "metadata": {},
   "source": [
    "<a id=\"step-3\"></a>\n",
    "\n",
    "## Step 3: Data Validation\n",
    "<a id=\"ex1\"></a>\n",
    "\n",
    "#### Exercise 1: Unique Movies\n",
    "\n",
    "You want to ensure your data is unique so your analysis is accurate and not influenced by repeated entries.\n",
    "\n",
    "<div style=\"background-color: #C6E2FF; padding: 10px; border-radius: 3px; box-shadow: 0 2px 4px rgba(0, 0, 0, 0.1); width:95%\">\n",
    "\n",
    "**▶▶▶ Directions**\n",
    "1. Write a query that:\n",
    "    - Counts the number of unique movie titles in the `movies` table.\n",
    "    - Counts the number of rows in the `movies` table.\n",
    "    - Uses the aliases `num_unique_movies` and `num_rows` respectively for the results.\n",
    "2. Run the query and save the resulting DataFrame.\n",
    "</div>"
   ]
  },
  {
   "cell_type": "markdown",
   "metadata": {},
   "source": [
    "<details>\n",
    "<summary style=\"background-color: #FDBFC7; padding: 10px; border-radius: 3px; box-shadow: 0 2px 4px rgba(0, 0, 0, 0.1); width: 95%; text-align: left; cursor: pointer; font-weight: bold;\">\n",
    "If you are stuck, click here for extra hints!</summary> \n",
    "\n",
    "<ul style=\"background-color: #FFF8F8; padding: 10px; border-radius: 3px; margin-top: 5px; width: 95%; box-shadow: inset 0 2px 4px rgba(0, 0, 0, 0.1);\">\n",
    "   \n",
    "- Two different movies could have the same name. Think, for example, of remakes. A better identifier for unique movies is the `movie_id` column.\n",
    "- To know the number of distinct movies, you need to `COUNT` all `UNIQUE` values in the `movie_id` column.\n",
    "- To get the total number of rows, you can `COUNT` all the values in `movie_id`.\n",
    "- To define aliases, you need to add the `AS` statement followed by the desired name after each value you want to `SELECT`. It should look something like this:\n",
    "\n",
    "    ```SQL\n",
    "    SELECT customer_id AS \"ID\", customer_surname AS \"Last Name\"\n",
    "    ```\n",
    "- Remember to indicate which table you want to retrieve the information from. In this case, `movies`.\n",
    "- Don't forget to finish the query with a semi-colon (;).\n",
    "- To run the query, you can use the `pd.read_sql()` function. You only need to pass the query and the connection (in that order).\n",
    "</ul>\n",
    "</details>"
   ]
  },
  {
   "cell_type": "code",
   "execution_count": 5,
   "metadata": {
    "deletable": false,
    "tags": [
     "graded"
    ]
   },
   "outputs": [],
   "source": [
    "# GRADED CELL: Exercise 1\n",
    "\n",
    "### START CODE HERE ###\n",
    "\n",
    "# write the query to get the number of unique movie ids and rows in the movies table\n",
    "query_unique_titles = \"\"\"\n",
    "\n",
    "SELECT DISTINCT COUNT(*) AS '# unique movies',\n",
    "COUNT(*) AS '# rows'\n",
    "FROM movies\n",
    "\"\"\"\n",
    "\n",
    "# run the query and save the results\n",
    "df_unique_movies = pd.read_sql(query_unique_titles, conn)\n",
    "\n",
    "### END CODE HERE ###"
   ]
  },
  {
   "cell_type": "code",
   "execution_count": 6,
   "metadata": {
    "deletable": false,
    "editable": false
   },
   "outputs": [
    {
     "data": {
      "text/html": [
       "<div>\n",
       "<style scoped>\n",
       "    .dataframe tbody tr th:only-of-type {\n",
       "        vertical-align: middle;\n",
       "    }\n",
       "\n",
       "    .dataframe tbody tr th {\n",
       "        vertical-align: top;\n",
       "    }\n",
       "\n",
       "    .dataframe thead th {\n",
       "        text-align: right;\n",
       "    }\n",
       "</style>\n",
       "<table border=\"1\" class=\"dataframe\">\n",
       "  <thead>\n",
       "    <tr style=\"text-align: right;\">\n",
       "      <th></th>\n",
       "      <th># unique movies</th>\n",
       "      <th># rows</th>\n",
       "    </tr>\n",
       "  </thead>\n",
       "  <tbody>\n",
       "    <tr>\n",
       "      <th>0</th>\n",
       "      <td>226575</td>\n",
       "      <td>226575</td>\n",
       "    </tr>\n",
       "  </tbody>\n",
       "</table>\n",
       "</div>"
      ],
      "text/plain": [
       "   # unique movies  # rows\n",
       "0           226575  226575"
      ]
     },
     "execution_count": 6,
     "metadata": {},
     "output_type": "execute_result"
    }
   ],
   "source": [
    "# print the results \n",
    "df_unique_movies"
   ]
  },
  {
   "cell_type": "markdown",
   "metadata": {},
   "source": [
    "<details>\n",
    "<summary style=\"background-color: #c6e2ff6c; padding: 10px; border-radius: 3px; box-shadow: 0 2px 4px rgba(0, 0, 0, 0.01); width: 95%; text-align: left; cursor: pointer; font-weight: bold;\">\n",
    "Expected output:</summary> \n",
    "<br>\n",
    "\n",
    "<img src=\"imgs/ex3.png\" width=\"150\"/>\n",
    "</details>"
   ]
  },
  {
   "cell_type": "markdown",
   "metadata": {},
   "source": [
    "Based on these results, are there any repeated movies in the dataset?\n",
    "<a id=\"ex2\"></a>\n",
    "\n",
    "#### Exercise 2: Missing Data\n",
    "\n",
    "You want to make sure you are taking care of missing values in your dataset. If not handled properly, they could lead to skewed results.\n",
    "\n",
    "<div style=\"background-color: #C6E2FF; padding: 10px; border-radius: 3px; box-shadow: 0 2px 4px rgba(0, 0, 0, 0.1); width:95%\">\n",
    "\n",
    "**▶▶▶ Directions**\n",
    "\n",
    "1. Write a SQL query that returns the `movie_id`, `movie_title`, `director_name` and `movie_popularity` from movies with missing (NULL) year (`movie_release_year`) from the `movies` table.\n",
    "2. Execute the query and save the results as a Pandas DataFrame.\n",
    "</div>"
   ]
  },
  {
   "cell_type": "markdown",
   "metadata": {},
   "source": [
    "<details>\n",
    "<summary style=\"background-color: #FDBFC7; padding: 10px; border-radius: 3px; box-shadow: 0 2px 4px rgba(0, 0, 0, 0.1); width: 95%; text-align: left; cursor: pointer; font-weight: bold;\">\n",
    "If you are stuck, click here for extra hints!</summary> \n",
    "\n",
    "<ul style=\"background-color: #FFF8F8; padding: 10px; border-radius: 3px; margin-top: 5px; width: 95%; box-shadow: inset 0 2px 4px rgba(0, 0, 0, 0.1);\">\n",
    "   \n",
    "- To filter rows where some condition is met, you can use the `WHERE` statement followed by the condition.\n",
    "- To check for null values, you want to compare against `IS NULL`.\n",
    "- Don't forget to finish the query with a semi-colon (;).\n",
    "- To run the query, you can use the `pd.read_sql()` function. You only need to pass the query and the connection (in that order).\n",
    "</ul>\n",
    "</details>"
   ]
  },
  {
   "cell_type": "code",
   "execution_count": 7,
   "metadata": {
    "deletable": false,
    "tags": [
     "graded"
    ]
   },
   "outputs": [],
   "source": [
    "# GRADED CELL: Exercise 2\n",
    "\n",
    "### START CODE HERE ###\n",
    "\n",
    "# write the query to get movies with missing release years\n",
    "query_missing_year = \"\"\"\n",
    "SELECT movie_id, movie_title, director_name, movie_popularity\n",
    "FROM movies\n",
    "WHERE movie_release_year IS NULL\n",
    "\"\"\"\n",
    "\n",
    "\n",
    "# run the query and save the results\n",
    "df_missing_years = pd.read_sql(query_missing_year, conn)\n",
    "\n",
    "### END CODE HERE ###"
   ]
  },
  {
   "cell_type": "code",
   "execution_count": 8,
   "metadata": {
    "deletable": false,
    "editable": false
   },
   "outputs": [
    {
     "data": {
      "text/html": [
       "<div>\n",
       "<style scoped>\n",
       "    .dataframe tbody tr th:only-of-type {\n",
       "        vertical-align: middle;\n",
       "    }\n",
       "\n",
       "    .dataframe tbody tr th {\n",
       "        vertical-align: top;\n",
       "    }\n",
       "\n",
       "    .dataframe thead th {\n",
       "        text-align: right;\n",
       "    }\n",
       "</style>\n",
       "<table border=\"1\" class=\"dataframe\">\n",
       "  <thead>\n",
       "    <tr style=\"text-align: right;\">\n",
       "      <th></th>\n",
       "      <th>movie_id</th>\n",
       "      <th>movie_title</th>\n",
       "      <th>director_name</th>\n",
       "      <th>movie_popularity</th>\n",
       "    </tr>\n",
       "  </thead>\n",
       "  <tbody>\n",
       "    <tr>\n",
       "      <th>0</th>\n",
       "      <td>100526</td>\n",
       "      <td>The Overcoat</td>\n",
       "      <td>Yuriy Norshteyn</td>\n",
       "      <td>3</td>\n",
       "    </tr>\n",
       "    <tr>\n",
       "      <th>1</th>\n",
       "      <td>114131</td>\n",
       "      <td>Found in Trash</td>\n",
       "      <td>Adam Cooley</td>\n",
       "      <td>0</td>\n",
       "    </tr>\n",
       "    <tr>\n",
       "      <th>2</th>\n",
       "      <td>134787</td>\n",
       "      <td>Phantom Ore</td>\n",
       "      <td>Myron Ort</td>\n",
       "      <td>1</td>\n",
       "    </tr>\n",
       "    <tr>\n",
       "      <th>3</th>\n",
       "      <td>134788</td>\n",
       "      <td>New York Kino</td>\n",
       "      <td>Myron Ort</td>\n",
       "      <td>0</td>\n",
       "    </tr>\n",
       "    <tr>\n",
       "      <th>4</th>\n",
       "      <td>134790</td>\n",
       "      <td>Awakener</td>\n",
       "      <td>Myron Ort</td>\n",
       "      <td>0</td>\n",
       "    </tr>\n",
       "  </tbody>\n",
       "</table>\n",
       "</div>"
      ],
      "text/plain": [
       "   movie_id     movie_title    director_name  movie_popularity\n",
       "0    100526    The Overcoat  Yuriy Norshteyn                 3\n",
       "1    114131  Found in Trash      Adam Cooley                 0\n",
       "2    134787     Phantom Ore        Myron Ort                 1\n",
       "3    134788   New York Kino        Myron Ort                 0\n",
       "4    134790        Awakener        Myron Ort                 0"
      ]
     },
     "execution_count": 8,
     "metadata": {},
     "output_type": "execute_result"
    }
   ],
   "source": [
    "# show the results\n",
    "df_missing_years"
   ]
  },
  {
   "cell_type": "markdown",
   "metadata": {},
   "source": [
    "<details>\n",
    "<summary style=\"background-color: #c6e2ff6c; padding: 10px; border-radius: 3px; box-shadow: 0 2px 4px rgba(0, 0, 0, 0.01); width: 95%; text-align: left; cursor: pointer; font-weight: bold;\">\n",
    "Expected output:</summary> \n",
    "<br>\n",
    "\n",
    "<img src=\"imgs/ex4.png\" width=\"200\"/>\n",
    "</details>"
   ]
  },
  {
   "cell_type": "markdown",
   "metadata": {},
   "source": [
    "There are almost no movies with missing years, and they don't really seem too popular either, so probably very few people watched them. This will have almost no impact in your analysis, so you decide to leave it as it is.\n",
    "\n",
    "<a id=\"step-4\"></a>\n",
    "\n",
    "## Step 4: Deeper Analysis on the Dataset\n",
    "\n",
    "<a id=\"ex3\"></a>\n",
    "\n",
    "#### Exercise 3: Analyzing Highly-Rated Recent Movies\n",
    "\n",
    "You want to identify films released after 2015 that have resonated well with audiences to guide future promotional strategies. You'll focus on movies with scores above 4.5, excluding perfect ratings, as these are likely the result of a limited number of viewers.\n",
    "\n",
    "<div style=\"background-color: #C6E2FF; padding: 10px; border-radius: 3px; box-shadow: 0 2px 4px rgba(0, 0, 0, 0.1); width:95%\">\n",
    "\n",
    "**▶▶▶ Directions**\n",
    "1. Write a SQL query that:\n",
    "    - Selects the `movie_title`, `rating`, and `movie_release_year` of movies that:\n",
    "        - Were released after 2015,\n",
    "        - Have a rating **between** 4 and 4.9 \n",
    "    - Orders the result by `rating` and `movie_release_year` in descending order (in that order).\n",
    "2. Execute that query.\n",
    "3. Save the resulting DataFrame in the `new_movies` variable.\n",
    "</div>"
   ]
  },
  {
   "cell_type": "markdown",
   "metadata": {},
   "source": [
    "<details>\n",
    "<summary style=\"background-color: #FDBFC7; padding: 10px; border-radius: 3px; box-shadow: 0 2px 4px rgba(0, 0, 0, 0.1); width: 95%; text-align: left; cursor: pointer; font-weight: bold;\">\n",
    "If you are stuck, click here for extra hints!</summary> \n",
    "\n",
    "<ul style=\"background-color: #FFF8F8; padding: 10px; border-radius: 3px; margin-top: 5px; width: 95%; box-shadow: inset 0 2px 4px rgba(0, 0, 0, 0.1);\">\n",
    "   \n",
    "- Use `WHERE` to filter rows based on multiple conditions.\n",
    "- To combine the multiple conditions, use `AND` and `OR` statements. Use parentheses where needed.\n",
    "- Filter the release year using >/>= and </<=.\n",
    "- For the rating, you can use `BETWEEN` \n",
    "- To sort the results you can use the `ORDER BY` statement. Don't forget to indicate you want it in descending order (`DESC`)\n",
    "- Remember to finish the query with a semi-colon (;)\n",
    "- To run the query you can use the `pd.read_sql()` function. You only need to pass the query and the connection (in that order).\n",
    "</ul>\n",
    "</details>\n"
   ]
  },
  {
   "cell_type": "code",
   "execution_count": 16,
   "metadata": {
    "deletable": false,
    "tags": [
     "graded"
    ]
   },
   "outputs": [],
   "source": [
    "# GRADED CELL: Exercise 3\n",
    "\n",
    "### START CODE HERE ###\n",
    "\n",
    "# write the query to get the movies released after 2015\n",
    "# with a rating higher than 4 or a popularity higher than 100\n",
    "query_high_rated_recent = \"\"\"\n",
    "SELECT movie_title, rating, movie_release_year\n",
    "FROM movies\n",
    "WHERE (movie_release_year >= 2015) AND (rating BETWEEN 4 AND 4.9) \n",
    "ORDER BY rating DESC, movie_release_year DESC\n",
    "\"\"\"\n",
    "\n",
    "# run the query and save the results\n",
    "df_high_rated_recent = pd.read_sql(query_high_rated_recent, conn)\n",
    "\n",
    "### END CODE HERE ###"
   ]
  },
  {
   "cell_type": "code",
   "execution_count": 17,
   "metadata": {
    "deletable": false,
    "editable": false
   },
   "outputs": [
    {
     "data": {
      "text/html": [
       "<div>\n",
       "<style scoped>\n",
       "    .dataframe tbody tr th:only-of-type {\n",
       "        vertical-align: middle;\n",
       "    }\n",
       "\n",
       "    .dataframe tbody tr th {\n",
       "        vertical-align: top;\n",
       "    }\n",
       "\n",
       "    .dataframe thead th {\n",
       "        text-align: right;\n",
       "    }\n",
       "</style>\n",
       "<table border=\"1\" class=\"dataframe\">\n",
       "  <thead>\n",
       "    <tr style=\"text-align: right;\">\n",
       "      <th></th>\n",
       "      <th>movie_title</th>\n",
       "      <th>rating</th>\n",
       "      <th>movie_release_year</th>\n",
       "    </tr>\n",
       "  </thead>\n",
       "  <tbody>\n",
       "    <tr>\n",
       "      <th>0</th>\n",
       "      <td>Shōwa Genroku Rakugo Shinjū</td>\n",
       "      <td>4.9</td>\n",
       "      <td>2016.0</td>\n",
       "    </tr>\n",
       "    <tr>\n",
       "      <th>1</th>\n",
       "      <td>Kosmos</td>\n",
       "      <td>4.9</td>\n",
       "      <td>2015.0</td>\n",
       "    </tr>\n",
       "    <tr>\n",
       "      <th>2</th>\n",
       "      <td>The Works and Days (of Tayoko Shiojiri in the ...</td>\n",
       "      <td>4.8</td>\n",
       "      <td>2020.0</td>\n",
       "    </tr>\n",
       "    <tr>\n",
       "      <th>3</th>\n",
       "      <td>The Planets</td>\n",
       "      <td>4.8</td>\n",
       "      <td>2019.0</td>\n",
       "    </tr>\n",
       "    <tr>\n",
       "      <th>4</th>\n",
       "      <td>This Is Not a Burial, It's a Resurrection</td>\n",
       "      <td>4.8</td>\n",
       "      <td>2019.0</td>\n",
       "    </tr>\n",
       "    <tr>\n",
       "      <th>...</th>\n",
       "      <td>...</td>\n",
       "      <td>...</td>\n",
       "      <td>...</td>\n",
       "    </tr>\n",
       "    <tr>\n",
       "      <th>3676</th>\n",
       "      <td>Before This War</td>\n",
       "      <td>4.0</td>\n",
       "      <td>2015.0</td>\n",
       "    </tr>\n",
       "    <tr>\n",
       "      <th>3677</th>\n",
       "      <td>Le Sous Sol</td>\n",
       "      <td>4.0</td>\n",
       "      <td>2015.0</td>\n",
       "    </tr>\n",
       "    <tr>\n",
       "      <th>3678</th>\n",
       "      <td>Playing the tiger</td>\n",
       "      <td>4.0</td>\n",
       "      <td>2015.0</td>\n",
       "    </tr>\n",
       "    <tr>\n",
       "      <th>3679</th>\n",
       "      <td>Eclipse of Useless Light</td>\n",
       "      <td>4.0</td>\n",
       "      <td>2015.0</td>\n",
       "    </tr>\n",
       "    <tr>\n",
       "      <th>3680</th>\n",
       "      <td>The Other Day (Or Was It Night?)</td>\n",
       "      <td>4.0</td>\n",
       "      <td>2015.0</td>\n",
       "    </tr>\n",
       "  </tbody>\n",
       "</table>\n",
       "<p>3681 rows × 3 columns</p>\n",
       "</div>"
      ],
      "text/plain": [
       "                                            movie_title  rating  \\\n",
       "0                           Shōwa Genroku Rakugo Shinjū     4.9   \n",
       "1                                                Kosmos     4.9   \n",
       "2     The Works and Days (of Tayoko Shiojiri in the ...     4.8   \n",
       "3                                           The Planets     4.8   \n",
       "4             This Is Not a Burial, It's a Resurrection     4.8   \n",
       "...                                                 ...     ...   \n",
       "3676                                    Before This War     4.0   \n",
       "3677                                        Le Sous Sol     4.0   \n",
       "3678                                  Playing the tiger     4.0   \n",
       "3679                           Eclipse of Useless Light     4.0   \n",
       "3680                   The Other Day (Or Was It Night?)     4.0   \n",
       "\n",
       "      movie_release_year  \n",
       "0                 2016.0  \n",
       "1                 2015.0  \n",
       "2                 2020.0  \n",
       "3                 2019.0  \n",
       "4                 2019.0  \n",
       "...                  ...  \n",
       "3676              2015.0  \n",
       "3677              2015.0  \n",
       "3678              2015.0  \n",
       "3679              2015.0  \n",
       "3680              2015.0  \n",
       "\n",
       "[3681 rows x 3 columns]"
      ]
     },
     "execution_count": 17,
     "metadata": {},
     "output_type": "execute_result"
    }
   ],
   "source": [
    "# print the results\n",
    "df_high_rated_recent"
   ]
  },
  {
   "cell_type": "markdown",
   "metadata": {},
   "source": [
    "<details>\n",
    "<summary style=\"background-color: #c6e2ff6c; padding: 10px; border-radius: 3px; box-shadow: 0 2px 4px rgba(0, 0, 0, 0.01); width: 95%; text-align: left; cursor: pointer; font-weight: bold;\">\n",
    "Expected output:</summary> \n",
    "<br>\n",
    "\n",
    "<img src=\"imgs/ex5.png\" width=\"250\"/>\n",
    "\n",
    "</details>"
   ]
  },
  {
   "cell_type": "markdown",
   "metadata": {},
   "source": [
    "<a id=\"ex4\"></a>\n",
    "\n",
    "#### Exercise 4: Director's Cuts\n",
    "\n",
    "You want to identify the top 10 rated director's cuts, to help guide content strategy decisions, ensuring platforms prioritize high-quality, audience-approved films for their curated selections.\n",
    "\n",
    "<div style=\"background-color: #C6E2FF; padding: 10px; border-radius: 3px; box-shadow: 0 2px 4px rgba(0, 0, 0, 0.1); width:95%\">\n",
    "\n",
    "**▶▶▶ Directions**\n",
    "1. Write a SQL query to:\n",
    "    - Retrieve the `movie_title`, `director_name`, and `rating` for movies where the title includes the phrase \"director's cut\"\n",
    "    - Order the results by `rating` in decreasing order\n",
    "    - Shows the top 10 rated movies\n",
    "2. Execute the query.\n",
    "3. Save the results.\n",
    "</div>"
   ]
  },
  {
   "cell_type": "markdown",
   "metadata": {},
   "source": [
    "<details>\n",
    "<summary style=\"background-color: #FDBFC7; padding: 10px; border-radius: 3px; box-shadow: 0 2px 4px rgba(0, 0, 0, 0.1); width: 95%; text-align: left; cursor: pointer; font-weight: bold;\">\n",
    "If you are stuck, click here for extra hints!</summary> \n",
    "\n",
    "<ul style=\"background-color: #FFF8F8; padding: 10px; border-radius: 3px; margin-top: 5px; width: 95%; box-shadow: inset 0 2px 4px rgba(0, 0, 0, 0.1);\">\n",
    "   \n",
    "- For string-based filtering, you can use the `LIKE` keyword to filter based on partial string matches.\n",
    "- The phrase \"director's cut\" could appear at any part of the title. For that, use `%` as a wildcard for flexible matching.\n",
    "- The case doesn't matter, so searching for \"Director's cut\" or \"director's cut\" will get the same results\n",
    "- To order the results, you can use the `ORDER BY` statement\n",
    "- To extract the top 10 rated movies, use the statemetn `LIMIT` after ordering the results\n",
    "- Don't forget to finish the query with a semi-colon (;).\n",
    "- To run the query, you can use the `pd.read_sql()` function. You only need to pass the query and the connection (in that order).\n",
    "</ul>\n",
    "</details>"
   ]
  },
  {
   "cell_type": "code",
   "execution_count": 20,
   "metadata": {
    "deletable": false,
    "tags": [
     "graded"
    ]
   },
   "outputs": [],
   "source": [
    "# GRADED CELL: Exercise 4\n",
    "\n",
    "### START CODE HERE ###\n",
    "\n",
    "# write the query to get the romantic movies\n",
    "query_director_cut = \"\"\"\n",
    "SELECT movie_title, director_name, rating\n",
    "FROM movies\n",
    "WHERE movie_title LIKE \"%director's cut%\"\n",
    "ORDER BY rating DESC\n",
    "LIMIT 10\n",
    "\n",
    "\"\"\"\n",
    "\n",
    "# run the query and save the results\n",
    "df_director_cut = pd.read_sql(query_director_cut, conn)\n",
    "\n",
    "### END CODE HERE ###"
   ]
  },
  {
   "cell_type": "code",
   "execution_count": 21,
   "metadata": {
    "deletable": false,
    "editable": false
   },
   "outputs": [
    {
     "data": {
      "text/html": [
       "<div>\n",
       "<style scoped>\n",
       "    .dataframe tbody tr th:only-of-type {\n",
       "        vertical-align: middle;\n",
       "    }\n",
       "\n",
       "    .dataframe tbody tr th {\n",
       "        vertical-align: top;\n",
       "    }\n",
       "\n",
       "    .dataframe thead th {\n",
       "        text-align: right;\n",
       "    }\n",
       "</style>\n",
       "<table border=\"1\" class=\"dataframe\">\n",
       "  <thead>\n",
       "    <tr style=\"text-align: right;\">\n",
       "      <th></th>\n",
       "      <th>movie_title</th>\n",
       "      <th>director_name</th>\n",
       "      <th>rating</th>\n",
       "    </tr>\n",
       "  </thead>\n",
       "  <tbody>\n",
       "    <tr>\n",
       "      <th>0</th>\n",
       "      <td>Nymphomaniac: Volume I – The Director's Cut</td>\n",
       "      <td>Lars von Trier</td>\n",
       "      <td>4.0</td>\n",
       "    </tr>\n",
       "    <tr>\n",
       "      <th>1</th>\n",
       "      <td>Hysteria (Director's Cut)</td>\n",
       "      <td>Matt Kirby</td>\n",
       "      <td>4.0</td>\n",
       "    </tr>\n",
       "    <tr>\n",
       "      <th>2</th>\n",
       "      <td>When I Get Home (Director's Cut)</td>\n",
       "      <td>Solange Knowles, Alan Ferguson, Terence Nance,...</td>\n",
       "      <td>4.0</td>\n",
       "    </tr>\n",
       "    <tr>\n",
       "      <th>3</th>\n",
       "      <td>Nymphomaniac: Volume II – The Director's Cut</td>\n",
       "      <td>Lars von Trier</td>\n",
       "      <td>3.7</td>\n",
       "    </tr>\n",
       "    <tr>\n",
       "      <th>4</th>\n",
       "      <td>Immoral Tales: Director's Cut</td>\n",
       "      <td>Walerian Borowczyk</td>\n",
       "      <td>3.6</td>\n",
       "    </tr>\n",
       "    <tr>\n",
       "      <th>5</th>\n",
       "      <td>Lola+Bilidikid (Director's Cut)</td>\n",
       "      <td>Kutlug Ataman</td>\n",
       "      <td>3.5</td>\n",
       "    </tr>\n",
       "    <tr>\n",
       "      <th>6</th>\n",
       "      <td>Soul-Ache (Director's Cut)</td>\n",
       "      <td>Fernando Merinero</td>\n",
       "      <td>3.5</td>\n",
       "    </tr>\n",
       "    <tr>\n",
       "      <th>7</th>\n",
       "      <td>Badfinger: Director's Cut</td>\n",
       "      <td>Gary J. Katz</td>\n",
       "      <td>3.5</td>\n",
       "    </tr>\n",
       "    <tr>\n",
       "      <th>8</th>\n",
       "      <td>Children of the Wind (Director's Cut)</td>\n",
       "      <td>Fernando Merinero</td>\n",
       "      <td>3.4</td>\n",
       "    </tr>\n",
       "    <tr>\n",
       "      <th>9</th>\n",
       "      <td>Xena: Warrior Princess - A Friend in Need (The...</td>\n",
       "      <td>Rob Tapert</td>\n",
       "      <td>3.0</td>\n",
       "    </tr>\n",
       "  </tbody>\n",
       "</table>\n",
       "</div>"
      ],
      "text/plain": [
       "                                         movie_title  \\\n",
       "0        Nymphomaniac: Volume I – The Director's Cut   \n",
       "1                          Hysteria (Director's Cut)   \n",
       "2                   When I Get Home (Director's Cut)   \n",
       "3       Nymphomaniac: Volume II – The Director's Cut   \n",
       "4                      Immoral Tales: Director's Cut   \n",
       "5                    Lola+Bilidikid (Director's Cut)   \n",
       "6                         Soul-Ache (Director's Cut)   \n",
       "7                          Badfinger: Director's Cut   \n",
       "8              Children of the Wind (Director's Cut)   \n",
       "9  Xena: Warrior Princess - A Friend in Need (The...   \n",
       "\n",
       "                                       director_name  rating  \n",
       "0                                     Lars von Trier     4.0  \n",
       "1                                         Matt Kirby     4.0  \n",
       "2  Solange Knowles, Alan Ferguson, Terence Nance,...     4.0  \n",
       "3                                     Lars von Trier     3.7  \n",
       "4                                 Walerian Borowczyk     3.6  \n",
       "5                                      Kutlug Ataman     3.5  \n",
       "6                                  Fernando Merinero     3.5  \n",
       "7                                       Gary J. Katz     3.5  \n",
       "8                                  Fernando Merinero     3.4  \n",
       "9                                         Rob Tapert     3.0  "
      ]
     },
     "execution_count": 21,
     "metadata": {},
     "output_type": "execute_result"
    }
   ],
   "source": [
    "# print the results\n",
    "df_director_cut"
   ]
  },
  {
   "cell_type": "markdown",
   "metadata": {},
   "source": [
    "<details>\n",
    "<summary style=\"background-color: #c6e2ff6c; padding: 10px; border-radius: 3px; box-shadow: 0 2px 4px rgba(0, 0, 0, 0.01); width: 95%; text-align: left; cursor: pointer; font-weight: bold;\">\n",
    "Expected output:</summary> \n",
    "<br>\n",
    "\n",
    "<img src=\"imgs/ex6.png\" width=\"350\"/>\n",
    "</details>"
   ]
  },
  {
   "cell_type": "markdown",
   "metadata": {},
   "source": [
    "<a id=\"ex-5\"></a>\n",
    "\n",
    "#### Exercise 5: Average Rating Per Year\n",
    "\n",
    "Motivation: You want to understand how audience preferences evolve over time by examining average ratings.\n",
    "\n",
    "<div style=\"background-color: #C6E2FF; padding: 10px; border-radius: 3px; box-shadow: 0 2px 4px rgba(0, 0, 0, 0.1); width:95%\">\n",
    "\n",
    "**▶▶▶ Directions**\n",
    "1. Write a SQL query to:\n",
    "    - Calculate the average `rating`, and maximum  `movie_popularity` per release year.\n",
    "    - Use the aliases `avg_rating`, and `max_popularity` respectively.\n",
    "    - Return also the year, with the alias `year`\n",
    "    - Order the results by year in ascending order.\n",
    "    - Show only the results of the last 10 years.\n",
    "2. Execute the query and save the results.\n",
    "</div>"
   ]
  },
  {
   "cell_type": "markdown",
   "metadata": {},
   "source": [
    "<details>\n",
    "<summary style=\"background-color: #FDBFC7; padding: 10px; border-radius: 3px; box-shadow: 0 2px 4px rgba(0, 0, 0, 0.1); width: 95%; text-align: left; cursor: pointer; font-weight: bold;\">\n",
    "If you are stuck, click here for extra hints!</summary> \n",
    "\n",
    "<ul style=\"background-color: #FFF8F8; padding: 10px; border-radius: 3px; margin-top: 5px; width: 95%; box-shadow: inset 0 2px 4px rgba(0, 0, 0, 0.1);\">\n",
    "   \n",
    "- To calculate average, maximum, and minimum values, you can use the `AVG()`, and `MAX()` functions respectively. In all cases, you need to pass the column you wish to operate on as an argument.\n",
    "- To also show the release year, you will need to add it to the `SELECT` statement\n",
    "- To segment by release year, you can use the `GROUP BY` statement.\n",
    "- To order the results, use the `ORDER BY` statement, and indicate how you want the order, ASC or DESC.\n",
    "- To filter the last 20 years, you can use the `LIMIT` statement.\n",
    "- Don't forget to finish the query with a semi-colon (;).\n",
    "- To run the query, you can use the `pd.read_sql()` function. You only need to pass the query and the connection (in that order).\n",
    "\n",
    "</ul>\n",
    "</details>"
   ]
  },
  {
   "cell_type": "code",
   "execution_count": 39,
   "metadata": {
    "deletable": false,
    "tags": [
     "graded"
    ]
   },
   "outputs": [],
   "source": [
    "# GRADED CELL: Exercise 5\n",
    "\n",
    "### START CODE HERE ###\n",
    "\n",
    "# write a query to get the average rating, maximum popularity, \n",
    "# and minimum popularity for each year\n",
    "query_avg_rating_year = \"\"\"\n",
    "SELECT movie_release_year AS year,\n",
    "        AVG(rating) AS \"avg rating\", \n",
    "        MAX(movie_popularity) AS \"max popularity\"\n",
    "FROM movies\n",
    "GROUP BY movie_release_year\n",
    "ORDER BY movie_release_year DESC\n",
    "LIMIT 10\n",
    "\"\"\"\n",
    "\n",
    "# run the query and save the results\n",
    "df_avg_rating_year =  pd.read_sql(query_avg_rating_year, conn)\n",
    "\n",
    "### END CODE HERE ###"
   ]
  },
  {
   "cell_type": "code",
   "execution_count": 40,
   "metadata": {
    "deletable": false,
    "editable": false
   },
   "outputs": [
    {
     "data": {
      "text/html": [
       "<div>\n",
       "<style scoped>\n",
       "    .dataframe tbody tr th:only-of-type {\n",
       "        vertical-align: middle;\n",
       "    }\n",
       "\n",
       "    .dataframe tbody tr th {\n",
       "        vertical-align: top;\n",
       "    }\n",
       "\n",
       "    .dataframe thead th {\n",
       "        text-align: right;\n",
       "    }\n",
       "</style>\n",
       "<table border=\"1\" class=\"dataframe\">\n",
       "  <thead>\n",
       "    <tr style=\"text-align: right;\">\n",
       "      <th></th>\n",
       "      <th>year</th>\n",
       "      <th>avg rating</th>\n",
       "      <th>max popularity</th>\n",
       "    </tr>\n",
       "  </thead>\n",
       "  <tbody>\n",
       "    <tr>\n",
       "      <th>0</th>\n",
       "      <td>2021.0</td>\n",
       "      <td>2.406250</td>\n",
       "      <td>0</td>\n",
       "    </tr>\n",
       "    <tr>\n",
       "      <th>1</th>\n",
       "      <td>2020.0</td>\n",
       "      <td>3.001096</td>\n",
       "      <td>25</td>\n",
       "    </tr>\n",
       "    <tr>\n",
       "      <th>2</th>\n",
       "      <td>2019.0</td>\n",
       "      <td>2.993742</td>\n",
       "      <td>1933</td>\n",
       "    </tr>\n",
       "    <tr>\n",
       "      <th>3</th>\n",
       "      <td>2018.0</td>\n",
       "      <td>2.975750</td>\n",
       "      <td>854</td>\n",
       "    </tr>\n",
       "    <tr>\n",
       "      <th>4</th>\n",
       "      <td>2017.0</td>\n",
       "      <td>2.965855</td>\n",
       "      <td>1223</td>\n",
       "    </tr>\n",
       "    <tr>\n",
       "      <th>5</th>\n",
       "      <td>2016.0</td>\n",
       "      <td>2.925453</td>\n",
       "      <td>1238</td>\n",
       "    </tr>\n",
       "    <tr>\n",
       "      <th>6</th>\n",
       "      <td>2015.0</td>\n",
       "      <td>2.909311</td>\n",
       "      <td>1400</td>\n",
       "    </tr>\n",
       "    <tr>\n",
       "      <th>7</th>\n",
       "      <td>2014.0</td>\n",
       "      <td>2.874388</td>\n",
       "      <td>2091</td>\n",
       "    </tr>\n",
       "    <tr>\n",
       "      <th>8</th>\n",
       "      <td>2013.0</td>\n",
       "      <td>2.921012</td>\n",
       "      <td>1917</td>\n",
       "    </tr>\n",
       "    <tr>\n",
       "      <th>9</th>\n",
       "      <td>2012.0</td>\n",
       "      <td>2.943255</td>\n",
       "      <td>2384</td>\n",
       "    </tr>\n",
       "  </tbody>\n",
       "</table>\n",
       "</div>"
      ],
      "text/plain": [
       "     year  avg rating  max popularity\n",
       "0  2021.0    2.406250               0\n",
       "1  2020.0    3.001096              25\n",
       "2  2019.0    2.993742            1933\n",
       "3  2018.0    2.975750             854\n",
       "4  2017.0    2.965855            1223\n",
       "5  2016.0    2.925453            1238\n",
       "6  2015.0    2.909311            1400\n",
       "7  2014.0    2.874388            2091\n",
       "8  2013.0    2.921012            1917\n",
       "9  2012.0    2.943255            2384"
      ]
     },
     "execution_count": 40,
     "metadata": {},
     "output_type": "execute_result"
    }
   ],
   "source": [
    "# print the results\n",
    "df_avg_rating_year"
   ]
  },
  {
   "cell_type": "markdown",
   "metadata": {},
   "source": [
    "<details>\n",
    "<summary style=\"background-color: #c6e2ff6c; padding: 10px; border-radius: 3px; box-shadow: 0 2px 4px rgba(0, 0, 0, 0.01); width: 95%; text-align: left; cursor: pointer; font-weight: bold;\">\n",
    "Expected output:</summary> \n",
    "<br>\n",
    "\n",
    "<img src=\"imgs/ex7.png\" width=\"200\"/>\n",
    "</details>"
   ]
  },
  {
   "cell_type": "markdown",
   "metadata": {},
   "source": [
    "What happened with the maximum popularity of 2021 movies? Well, probably movies were too new by the time the data was gathered, so there were no users that had actually \"loved\" the movie. \n",
    "\n",
    "<a id=\"ex-6\"></a>\n",
    "\n",
    "#### Exercise 6: Most Liked Critiques\n",
    "\n",
    "The company wants to engage with the most liked critics and is planning a campaign to offer them a free month of subscription in exchange for writing reviews of the latest movies.\n",
    "\n",
    "<div style=\"background-color: #C6E2FF; padding: 10px; border-radius: 3px; box-shadow: 0 2px 4px rgba(0, 0, 0, 0.1); width:95%\">\n",
    "\n",
    "**▶▶▶ Directions**\n",
    "1. Write a SQL query to:\n",
    "    - Select the `movie_title` from the `movies` table, and `critic` and `critic_likes` from the `ratings` table.\n",
    "    - Order the results by `critic_likes` in **descending** order to identify the most commented movies.\n",
    "    - Only show the results for reviews with the 10 highest number of likes.\n",
    "2. Execute the query and save the results.\n",
    "</div>"
   ]
  },
  {
   "cell_type": "markdown",
   "metadata": {},
   "source": [
    "<details>\n",
    "<summary style=\"background-color: #FDBFC7; padding: 10px; border-radius: 3px; box-shadow: 0 2px 4px rgba(0, 0, 0, 0.1); width: 95%; text-align: left; cursor: pointer; font-weight: bold;\">\n",
    "If you are stuck, click here for extra hints!</summary> \n",
    "\n",
    "<ul style=\"background-color: #FFF8F8; padding: 10px; border-radius: 3px; margin-top: 5px; width: 95%; box-shadow: inset 0 2px 4px rgba(0, 0, 0, 0.1);\">\n",
    "   \n",
    "- To show results from two different tables, you need to `JOIN` them to create a new table.\n",
    "- The join is made on a specific column. It should look something like this:\n",
    "    \n",
    "    ```SQL\n",
    "    table1 JOIN table2 ON table1.key = table2.key\n",
    "    ```\n",
    "    \n",
    "    In this case, the key should be `movie_id`, which is the column linking both tables.\n",
    "- Specify the columns you need in the SELECT statement. To select the columns from each table, you need to pre-append the table name followed by a period (.). It looks something like this: `table1.column_name`.\n",
    "- Use `ORDER BY` to sort results in descending order (`DESC`).\n",
    "- Limit results using the `LIMIT` statement.\n",
    "- Don't forget to finish the query with a semi-colon (;).\n",
    "- To run the query, you can use the `pd.read_sql()` function. You only need to pass the query and the connection (in that order).\n",
    "</ul>\n",
    "</details>"
   ]
  },
  {
   "cell_type": "code",
   "execution_count": 41,
   "metadata": {
    "deletable": false,
    "tags": [
     "graded"
    ]
   },
   "outputs": [],
   "source": [
    "# GRADED CELL: Exercise 6\n",
    "\n",
    "### START CODE HERE ###\n",
    "\n",
    "# write a query to get the movie name and critics of the most liked critics\n",
    "query_top_critiques = \"\"\"\n",
    "SELECT movies.movie_title,\n",
    "        ratings.critic,\n",
    "        ratings.critic_likes\n",
    "FROM movies\n",
    "JOIN ratings ON movies.movie_id = ratings.movie_id\n",
    "ORDER BY ratings.critic_likes DESC\n",
    "LIMIT 10\n",
    "\"\"\"\n",
    "\n",
    "# run the query and save the results\n",
    "df_top_critiques = pd.read_sql(query_top_critiques, conn)\n",
    "\n",
    "### END CODE HERE ###"
   ]
  },
  {
   "cell_type": "code",
   "execution_count": 42,
   "metadata": {
    "deletable": false,
    "editable": false
   },
   "outputs": [
    {
     "data": {
      "text/html": [
       "<div>\n",
       "<style scoped>\n",
       "    .dataframe tbody tr th:only-of-type {\n",
       "        vertical-align: middle;\n",
       "    }\n",
       "\n",
       "    .dataframe tbody tr th {\n",
       "        vertical-align: top;\n",
       "    }\n",
       "\n",
       "    .dataframe thead th {\n",
       "        text-align: right;\n",
       "    }\n",
       "</style>\n",
       "<table border=\"1\" class=\"dataframe\">\n",
       "  <thead>\n",
       "    <tr style=\"text-align: right;\">\n",
       "      <th></th>\n",
       "      <th>movie_title</th>\n",
       "      <th>critic</th>\n",
       "      <th>critic_likes</th>\n",
       "    </tr>\n",
       "  </thead>\n",
       "  <tbody>\n",
       "    <tr>\n",
       "      <th>0</th>\n",
       "      <td>Call Me by Your Name</td>\n",
       "      <td>Call me By Your Name. By my name. By our name....</td>\n",
       "      <td>79</td>\n",
       "    </tr>\n",
       "    <tr>\n",
       "      <th>1</th>\n",
       "      <td>Whale Valley</td>\n",
       "      <td>nearly dead whale wants to live; nearly alive ...</td>\n",
       "      <td>78</td>\n",
       "    </tr>\n",
       "    <tr>\n",
       "      <th>2</th>\n",
       "      <td>La La Land</td>\n",
       "      <td>This should have been called The Death of Tale...</td>\n",
       "      <td>74</td>\n",
       "    </tr>\n",
       "    <tr>\n",
       "      <th>3</th>\n",
       "      <td>Arrival</td>\n",
       "      <td>ARRIVAL HAS CHANGED MY LIFE</td>\n",
       "      <td>67</td>\n",
       "    </tr>\n",
       "    <tr>\n",
       "      <th>4</th>\n",
       "      <td>Portrait of a Lady on Fire</td>\n",
       "      <td>I adore films that look like paintings. It's ...</td>\n",
       "      <td>66</td>\n",
       "    </tr>\n",
       "    <tr>\n",
       "      <th>5</th>\n",
       "      <td>Stalker</td>\n",
       "      <td>The people who made this incredible film, one ...</td>\n",
       "      <td>63</td>\n",
       "    </tr>\n",
       "    <tr>\n",
       "      <th>6</th>\n",
       "      <td>Hidden</td>\n",
       "      <td>\"If you think it's Majid, Pierrot, Georges, th...</td>\n",
       "      <td>62</td>\n",
       "    </tr>\n",
       "    <tr>\n",
       "      <th>7</th>\n",
       "      <td>Elle</td>\n",
       "      <td>This is the perfect vehicle for Isabelle Huppe...</td>\n",
       "      <td>59</td>\n",
       "    </tr>\n",
       "    <tr>\n",
       "      <th>8</th>\n",
       "      <td>The Lobster</td>\n",
       "      <td>If I am going to be changed into an animal, I ...</td>\n",
       "      <td>59</td>\n",
       "    </tr>\n",
       "    <tr>\n",
       "      <th>9</th>\n",
       "      <td>The Florida Project</td>\n",
       "      <td>Dysfunctional America. File this alongside Ame...</td>\n",
       "      <td>56</td>\n",
       "    </tr>\n",
       "  </tbody>\n",
       "</table>\n",
       "</div>"
      ],
      "text/plain": [
       "                  movie_title  \\\n",
       "0        Call Me by Your Name   \n",
       "1                Whale Valley   \n",
       "2                  La La Land   \n",
       "3                     Arrival   \n",
       "4  Portrait of a Lady on Fire   \n",
       "5                     Stalker   \n",
       "6                      Hidden   \n",
       "7                        Elle   \n",
       "8                 The Lobster   \n",
       "9         The Florida Project   \n",
       "\n",
       "                                              critic  critic_likes  \n",
       "0  Call me By Your Name. By my name. By our name....            79  \n",
       "1  nearly dead whale wants to live; nearly alive ...            78  \n",
       "2  This should have been called The Death of Tale...            74  \n",
       "3                        ARRIVAL HAS CHANGED MY LIFE            67  \n",
       "4   I adore films that look like paintings. It's ...            66  \n",
       "5  The people who made this incredible film, one ...            63  \n",
       "6  \"If you think it's Majid, Pierrot, Georges, th...            62  \n",
       "7  This is the perfect vehicle for Isabelle Huppe...            59  \n",
       "8  If I am going to be changed into an animal, I ...            59  \n",
       "9  Dysfunctional America. File this alongside Ame...            56  "
      ]
     },
     "execution_count": 42,
     "metadata": {},
     "output_type": "execute_result"
    }
   ],
   "source": [
    "# print the results\n",
    "df_top_critiques"
   ]
  },
  {
   "cell_type": "markdown",
   "metadata": {},
   "source": [
    "<details>\n",
    "<summary style=\"background-color: #c6e2ff6c; padding: 10px; border-radius: 3px; box-shadow: 0 2px 4px rgba(0, 0, 0, 0.01); width: 95%; text-align: left; cursor: pointer; font-weight: bold;\">\n",
    "Expected output:</summary> \n",
    "<br>\n",
    "<img src=\"imgs/ex8.png\" width=\"350\"/>\n",
    "</span>\n",
    "</details>"
   ]
  },
  {
   "cell_type": "markdown",
   "metadata": {},
   "source": [
    "<a id=\"ex-7\"></a>\n",
    "\n",
    "#### Exercise 7: Identifying Unrated Movies\n",
    "\n",
    "You want to identify movies without ratings to better understand content gaps and viewer engagement.\n",
    "\n",
    "<div style=\"background-color: #C6E2FF; padding: 10px; border-radius: 3px; box-shadow: 0 2px 4px rgba(0, 0, 0, 0.1); width:95%\">\n",
    "\n",
    "**▶▶▶ Directions**\n",
    "1. Write a SQL query to:\n",
    "    - Return the number of movies (count) that have no associated ratings in the `ratings` table. (**Hint**: use a `JOIN` statement).\n",
    "    - Use the alias `num_no_reviews`.\n",
    "2. Execute the query and save the DataFrame of results.\n",
    "</div>"
   ]
  },
  {
   "cell_type": "markdown",
   "metadata": {},
   "source": [
    "<details>\n",
    "<summary style=\"background-color: #FDBFC7; padding: 10px; border-radius: 3px; box-shadow: 0 2px 4px rgba(0, 0, 0, 0.1); width: 95%; text-align: left; cursor: pointer; font-weight: bold;\">\n",
    "If you are stuck, click here for extra hints!</summary> \n",
    "\n",
    "<ul style=\"background-color: #FFF8F8; padding: 10px; border-radius: 3px; margin-top: 5px; width: 95%; box-shadow: inset 0 2px 4px rgba(0, 0, 0, 0.1);\">\n",
    "   \n",
    "- One way to check which movies have no comments in the `ratings` table is by checking which movies appear in the `movies` table, but not in the `ratings` table.\n",
    "- You can check this using a `LEFT JOIN`.\n",
    "- Movies that are in the `movies` table, but not in the `ratings` table will have NULL values in the columns corresponding to the `ratings` table.\n",
    "- To get the movies without ratings, you can filter using `WHERE` and look for the rows where `ratings.movie_id` is NULL.\n",
    "- Finally, use `COUNT(*)` to get the number of rows.\n",
    "</ul>\n",
    "</details>"
   ]
  },
  {
   "cell_type": "code",
   "execution_count": null,
   "metadata": {
    "deletable": false,
    "tags": [
     "graded"
    ]
   },
   "outputs": [],
   "source": [
    "# GRADED CELL: Exercise 7\n",
    "\n",
    "### START CODE HERE ###\n",
    "\n",
    "# write a query to get the movie names of the movies with no ratings in the `ratings` table\n",
    "query_no_ratings = \"\"\"\n",
    "SELECT COUNT(*) AS \"num_no_reviews\"\n",
    "FROM movies\n",
    "OUTER JOIN ratings ON movies.movie_id=ratings.movie_id\n",
    "\n",
    "\"\"\"\n",
    "\n",
    "# run the query and save the results\n",
    "df_no_ratings = pd.read_sql(query_no_ratings, conn)\n",
    "\n",
    "### END CODE HERE ###"
   ]
  },
  {
   "cell_type": "code",
   "execution_count": null,
   "metadata": {
    "deletable": false,
    "editable": false
   },
   "outputs": [],
   "source": [
    "# print the results\n",
    "df_no_ratings"
   ]
  },
  {
   "cell_type": "markdown",
   "metadata": {},
   "source": [
    "<details>\n",
    "<summary style=\"background-color: #c6e2ff6c; padding: 10px; border-radius: 3px; box-shadow: 0 2px 4px rgba(0, 0, 0, 0.01); width: 95%; text-align: left; cursor: pointer; font-weight: bold;\">\n",
    "Expected output:</summary> \n",
    "<br>\n",
    "\n",
    "<img src=\"imgs/ex9.png\" width=\"100\"/>\n",
    "</details>"
   ]
  },
  {
   "cell_type": "markdown",
   "metadata": {},
   "source": [
    "<a id=\"ex-8\"></a>\n",
    "\n",
    "#### Exercise 8: Binning Popularity\n",
    "\n",
    "You want to segment movies based on rating to better analyze audience preferences.\n",
    "\n",
    "<div style=\"background-color: #C6E2FF; padding: 10px; border-radius: 3px; box-shadow: 0 2px 4px rgba(0, 0, 0, 0.1); width:95%\">\n",
    "\n",
    "**▶▶▶ Directions**\n",
    "1. Write a SQL query that:\n",
    "    - Creates rating bins:\n",
    "        - \"High\": `rating` > 4.5\n",
    "        - \"Medium\": 3 <= `rating` <= 4.5\n",
    "        - \"Low\": `rating` < 3\n",
    "    - Uses the alias `rating_category`.\n",
    "    - Returns the rating bin and the number of movies in each bin.\n",
    "    - Uses the alias `movie_count` for the number of movies in each bin.\n",
    "2. Execute the query and save the DataFrame of results.\n",
    "</div>"
   ]
  },
  {
   "cell_type": "markdown",
   "metadata": {},
   "source": [
    "<details>\n",
    "<summary style=\"background-color: #FDBFC7; padding: 10px; border-radius: 3px; box-shadow: 0 2px 4px rgba(0, 0, 0, 0.1); width: 95%; text-align: left; cursor: pointer; font-weight: bold;\">\n",
    "If you are stuck, click here for extra hints!</summary> \n",
    "\n",
    "<ul style=\"background-color: #FFF8F8; padding: 10px; border-radius: 3px; margin-top: 5px; width: 95%; box-shadow: inset 0 2px 4px rgba(0, 0, 0, 0.1);\">\n",
    "   \n",
    "- To create the different categories, or bins, you can use the `CASE` statement. Remember to close it with the `END` statement after you define each case\n",
    "- To define each category, use `WHEN` followed by the condition. This is kind of like the `if` statement in Python\n",
    "- For the last category, you can use `ELSE`, just as you did in Python\n",
    "- The cases should appear between the `SELECT`, since it is defining the values you want to select. It should be something like this:\n",
    "    ```SQL \n",
    "    SELECT\n",
    "        CASE\n",
    "            WHEN condition1 THEN value1\n",
    "            WHEN condition2 THEN value2\n",
    "            WHEN condition3 THEN value3\n",
    "            ELSE value4\n",
    "        END\n",
    "        AS wanted_name\n",
    "        <continue query>\n",
    "    ```\n",
    "- Use the alias `rating_category`. \n",
    "- Select also the count in each category. To do this, use `COUNT(*)`.\n",
    "- You will need a `GROUP BY` statement to get the counts in each bin\n",
    "</ul>\n",
    "</details>\n"
   ]
  },
  {
   "cell_type": "code",
   "execution_count": null,
   "metadata": {
    "deletable": false,
    "tags": [
     "graded"
    ]
   },
   "outputs": [],
   "source": [
    "# GRADED CELL: Exercise 8\n",
    "\n",
    "### START CODE HERE ###\n",
    "\n",
    "# write the query to count the number of movies in each popularity category\n",
    "query_rating_binning = None\n",
    "\n",
    "# run the query\n",
    "df_rating_binning = None\n",
    "\n",
    "### END CODE HERE ###"
   ]
  },
  {
   "cell_type": "code",
   "execution_count": null,
   "metadata": {
    "deletable": false,
    "editable": false
   },
   "outputs": [],
   "source": [
    "# print the results\n",
    "df_rating_binning"
   ]
  },
  {
   "cell_type": "markdown",
   "metadata": {},
   "source": [
    "<details>\n",
    "<summary style=\"background-color: #c6e2ff6c; padding: 10px; border-radius: 3px; box-shadow: 0 2px 4px rgba(0, 0, 0, 0.01); width: 95%; text-align: left; cursor: pointer; font-weight: bold;\">\n",
    "Expected output:</summary> \n",
    "<br>\n",
    "\n",
    "<img src=\"imgs/ex10.png\" width=\"200\"/>\n",
    "</details>"
   ]
  },
  {
   "cell_type": "markdown",
   "metadata": {},
   "source": [
    "Finally, run the next cell to close the connection"
   ]
  },
  {
   "cell_type": "code",
   "execution_count": null,
   "metadata": {
    "deletable": false,
    "editable": false,
    "tags": [
     "graded"
    ]
   },
   "outputs": [],
   "source": [
    "conn.close()"
   ]
  },
  {
   "cell_type": "markdown",
   "metadata": {},
   "source": [
    "Congratulations on finishing this graded lab! If everything is running correctly, you can go ahead and submit your code for grading."
   ]
  }
 ],
 "metadata": {
  "grader_version": "1",
  "kernelspec": {
   "display_name": ".venv",
   "language": "python",
   "name": "python3"
  },
  "language_info": {
   "codemirror_mode": {
    "name": "ipython",
    "version": 3
   },
   "file_extension": ".py",
   "mimetype": "text/x-python",
   "name": "python",
   "nbconvert_exporter": "python",
   "pygments_lexer": "ipython3",
   "version": "3.10.16"
  }
 },
 "nbformat": 4,
 "nbformat_minor": 4
}
