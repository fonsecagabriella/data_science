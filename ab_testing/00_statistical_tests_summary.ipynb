{
 "cells": [
  {
   "cell_type": "markdown",
   "metadata": {},
   "source": [
    "# Summary of Statistical Tests\n",
    "\n",
    "| Type of Data | Test Name                  | Parametric/Non-Parametric | When to Use                                                                                          |\n",
    "|--------------|----------------------------|---------------------------|------------------------------------------------------------------------------------------------------|\n",
    "| Categorical  | Chi-Square Test            | Non-Parametric            | To test the independence between categorical variables (e.g., click/no-click across control/exp group). |\n",
    "| Categorical  | Fisher's Exact Test        | Non-Parametric            | For small sample sizes or when the expected frequency in any cell of a contingency table is < 5.       |\n",
    "| Ordinal      | Mann-Whitney U Test        | Non-Parametric            | To compare the ranks of two independent groups.                                                      |\n",
    "| Ordinal      | Wilcoxon Signed-Rank Test  | Non-Parametric            | To compare the ranks of two related groups (paired data).                                            |\n",
    "| Continuous   | t-Test                     | Parametric                | To compare the means of two independent groups (data should be normally distributed).                 |\n",
    "| Continuous   | Paired t-Test              | Parametric                | To compare the means of two related groups (paired data, normally distributed).                       |\n",
    "| Continuous   | ANOVA                      | Parametric                | To compare the means of three or more groups (normally distributed, equal variances).                 |\n",
    "| Continuous   | Kruskal-Wallis Test        | Non-Parametric            | To compare the ranks of three or more independent groups (non-normal distribution).                   |\n",
    "| Continuous   | Pearson's Correlation      | Parametric                | To measure the linear relationship between two continuous variables (normally distributed).           |\n",
    "| Continuous   | Spearman's Rank Correlation| Non-Parametric            | To measure the strength and direction of the relationship between two ranked variables.               |\n",
    "\n",
    "\n",
    "**PARAMETRIC** makes assumptions about data.\n",
    "**NON-PARAMETRIC** if the data is skewed, or ordinal, you cannot assume normality.\n",
    "\n",
    "\n",
    "[https://towardsdatascience.com/a-b-testing-a-complete-guide-to-statistical-testing-e3f1db140499]\n",
    "[https://github.com/FrancescoCasalegno/AB-Testing/blob/main/AB_Testing.ipynb]"
   ]
  }
 ],
 "metadata": {
  "language_info": {
   "name": "python"
  }
 },
 "nbformat": 4,
 "nbformat_minor": 2
}
