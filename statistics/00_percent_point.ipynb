{
 "cells": [
  {
   "cell_type": "markdown",
   "id": "6d95f748",
   "metadata": {},
   "source": [
    "# Percentage Point Function\n",
    "\n",
    "*How sure are you that the mean of the population is in between a certain interval?*\n",
    "\n",
    "<img src=\"../img/percent_point_function.png\" width=\"80%\">\n"
   ]
  },
  {
   "cell_type": "code",
   "execution_count": 2,
   "id": "6324ce21",
   "metadata": {},
   "outputs": [],
   "source": [
    "import pandas as pd\n",
    "import seaborn as sns\n",
    "import matplotlib.pyplot as plt\n",
    "import numpy as np\n",
    "import scipy.stats as stats\n",
    "from scipy.stats import norm\n"
   ]
  },
  {
   "cell_type": "code",
   "execution_count": 3,
   "id": "0c0b3a7e",
   "metadata": {},
   "outputs": [],
   "source": [
    "weather_data_beutenberg = pd.read_csv(\"../data/weather_data_beutenberg.csv\")"
   ]
  },
  {
   "cell_type": "code",
   "execution_count": 4,
   "id": "f9348a04",
   "metadata": {},
   "outputs": [
    {
     "data": {
      "text/html": [
       "<div>\n",
       "<style scoped>\n",
       "    .dataframe tbody tr th:only-of-type {\n",
       "        vertical-align: middle;\n",
       "    }\n",
       "\n",
       "    .dataframe tbody tr th {\n",
       "        vertical-align: top;\n",
       "    }\n",
       "\n",
       "    .dataframe thead th {\n",
       "        text-align: right;\n",
       "    }\n",
       "</style>\n",
       "<table border=\"1\" class=\"dataframe\">\n",
       "  <thead>\n",
       "    <tr style=\"text-align: right;\">\n",
       "      <th></th>\n",
       "      <th>date_time</th>\n",
       "      <th>pressure_mbar</th>\n",
       "      <th>temperature_celsius</th>\n",
       "      <th>dew_point_celsius</th>\n",
       "      <th>relative_humidity_percent</th>\n",
       "      <th>vapor_pressure_actual_mbar</th>\n",
       "      <th>specific_humidity_g_per_kg</th>\n",
       "      <th>air_density_g_per_m_cubed</th>\n",
       "      <th>wind_velocity_m_per_s</th>\n",
       "      <th>wind_direction_degrees</th>\n",
       "      <th>rainfall_mm</th>\n",
       "      <th>location</th>\n",
       "      <th>season</th>\n",
       "    </tr>\n",
       "  </thead>\n",
       "  <tbody>\n",
       "    <tr>\n",
       "      <th>0</th>\n",
       "      <td>01/01/2020 01:00</td>\n",
       "      <td>1008.44</td>\n",
       "      <td>0.34</td>\n",
       "      <td>-1.54</td>\n",
       "      <td>87.1</td>\n",
       "      <td>5.45</td>\n",
       "      <td>3.37</td>\n",
       "      <td>1281.84</td>\n",
       "      <td>0.63</td>\n",
       "      <td>188.00</td>\n",
       "      <td>0.0</td>\n",
       "      <td>Beutenberg</td>\n",
       "      <td>winter</td>\n",
       "    </tr>\n",
       "    <tr>\n",
       "      <th>1</th>\n",
       "      <td>01/01/2020 02:00</td>\n",
       "      <td>1008.32</td>\n",
       "      <td>-0.21</td>\n",
       "      <td>-1.78</td>\n",
       "      <td>89.1</td>\n",
       "      <td>5.36</td>\n",
       "      <td>3.31</td>\n",
       "      <td>1284.32</td>\n",
       "      <td>0.50</td>\n",
       "      <td>154.00</td>\n",
       "      <td>0.0</td>\n",
       "      <td>Beutenberg</td>\n",
       "      <td>winter</td>\n",
       "    </tr>\n",
       "    <tr>\n",
       "      <th>2</th>\n",
       "      <td>01/01/2020 03:00</td>\n",
       "      <td>1008.46</td>\n",
       "      <td>-0.05</td>\n",
       "      <td>-1.71</td>\n",
       "      <td>88.5</td>\n",
       "      <td>5.39</td>\n",
       "      <td>3.33</td>\n",
       "      <td>1283.73</td>\n",
       "      <td>0.46</td>\n",
       "      <td>46.51</td>\n",
       "      <td>0.0</td>\n",
       "      <td>Beutenberg</td>\n",
       "      <td>winter</td>\n",
       "    </tr>\n",
       "    <tr>\n",
       "      <th>3</th>\n",
       "      <td>01/01/2020 04:00</td>\n",
       "      <td>1008.00</td>\n",
       "      <td>-1.02</td>\n",
       "      <td>-2.31</td>\n",
       "      <td>90.9</td>\n",
       "      <td>5.15</td>\n",
       "      <td>3.19</td>\n",
       "      <td>1287.83</td>\n",
       "      <td>1.83</td>\n",
       "      <td>218.10</td>\n",
       "      <td>0.0</td>\n",
       "      <td>Beutenberg</td>\n",
       "      <td>winter</td>\n",
       "    </tr>\n",
       "    <tr>\n",
       "      <th>4</th>\n",
       "      <td>01/01/2020 05:00</td>\n",
       "      <td>1007.63</td>\n",
       "      <td>-1.84</td>\n",
       "      <td>-2.78</td>\n",
       "      <td>93.2</td>\n",
       "      <td>4.97</td>\n",
       "      <td>3.08</td>\n",
       "      <td>1291.32</td>\n",
       "      <td>1.53</td>\n",
       "      <td>226.90</td>\n",
       "      <td>0.0</td>\n",
       "      <td>Beutenberg</td>\n",
       "      <td>winter</td>\n",
       "    </tr>\n",
       "  </tbody>\n",
       "</table>\n",
       "</div>"
      ],
      "text/plain": [
       "          date_time  pressure_mbar  temperature_celsius  dew_point_celsius  \\\n",
       "0  01/01/2020 01:00        1008.44                 0.34              -1.54   \n",
       "1  01/01/2020 02:00        1008.32                -0.21              -1.78   \n",
       "2  01/01/2020 03:00        1008.46                -0.05              -1.71   \n",
       "3  01/01/2020 04:00        1008.00                -1.02              -2.31   \n",
       "4  01/01/2020 05:00        1007.63                -1.84              -2.78   \n",
       "\n",
       "   relative_humidity_percent  vapor_pressure_actual_mbar  \\\n",
       "0                       87.1                        5.45   \n",
       "1                       89.1                        5.36   \n",
       "2                       88.5                        5.39   \n",
       "3                       90.9                        5.15   \n",
       "4                       93.2                        4.97   \n",
       "\n",
       "   specific_humidity_g_per_kg  air_density_g_per_m_cubed  \\\n",
       "0                        3.37                    1281.84   \n",
       "1                        3.31                    1284.32   \n",
       "2                        3.33                    1283.73   \n",
       "3                        3.19                    1287.83   \n",
       "4                        3.08                    1291.32   \n",
       "\n",
       "   wind_velocity_m_per_s  wind_direction_degrees  rainfall_mm    location  \\\n",
       "0                   0.63                  188.00          0.0  Beutenberg   \n",
       "1                   0.50                  154.00          0.0  Beutenberg   \n",
       "2                   0.46                   46.51          0.0  Beutenberg   \n",
       "3                   1.83                  218.10          0.0  Beutenberg   \n",
       "4                   1.53                  226.90          0.0  Beutenberg   \n",
       "\n",
       "   season  \n",
       "0  winter  \n",
       "1  winter  \n",
       "2  winter  \n",
       "3  winter  \n",
       "4  winter  "
      ]
     },
     "execution_count": 4,
     "metadata": {},
     "output_type": "execute_result"
    }
   ],
   "source": [
    "weather_data_beutenberg.head()"
   ]
  },
  {
   "cell_type": "code",
   "execution_count": 5,
   "id": "14401b1a",
   "metadata": {},
   "outputs": [
    {
     "data": {
      "text/plain": [
       "array([[<Axes: title={'center': 'temperature_celsius'}>]], dtype=object)"
      ]
     },
     "execution_count": 5,
     "metadata": {},
     "output_type": "execute_result"
    },
    {
     "data": {
      "image/png": "[encoded data removed]",
      "text/plain": [
       "<Figure size 640x480 with 1 Axes>"
      ]
     },
     "metadata": {},
     "output_type": "display_data"
    }
   ],
   "source": [
    "weather_data_beutenberg.hist(\"temperature_celsius\") # visualise the distribution of the temperature"
   ]
  },
  {
   "cell_type": "code",
   "execution_count": 6,
   "id": "f1a24886",
   "metadata": {},
   "outputs": [],
   "source": [
    "# since the data is normaly distributed, we can calculate the following\n",
    "temperature_mean = weather_data_beutenberg['temperature_celsius'].mean()\n",
    "temperature_std = weather_data_beutenberg['temperature_celsius'].std()"
   ]
  },
  {
   "cell_type": "code",
   "execution_count": 7,
   "id": "5817eda3",
   "metadata": {},
   "outputs": [
    {
     "name": "stdout",
     "output_type": "stream",
     "text": [
      "10.62906004105371\n"
     ]
    }
   ],
   "source": [
    "print(temperature_mean)"
   ]
  },
  {
   "cell_type": "code",
   "execution_count": 8,
   "id": "e4cbe0ac",
   "metadata": {},
   "outputs": [
    {
     "name": "stdout",
     "output_type": "stream",
     "text": [
      "7.944863612912738\n"
     ]
    }
   ],
   "source": [
    "print(temperature_std)"
   ]
  },
  {
   "cell_type": "code",
   "execution_count": 9,
   "id": "e1addf6e",
   "metadata": {},
   "outputs": [
    {
     "name": "stdout",
     "output_type": "stream",
     "text": [
      "35076\n"
     ]
    }
   ],
   "source": [
    "sample_size = weather_data_beutenberg['temperature_celsius'].count()\n",
    "print(sample_size)"
   ]
  },
  {
   "cell_type": "code",
   "execution_count": 10,
   "id": "b39d3fba",
   "metadata": {},
   "outputs": [
    {
     "data": {
      "text/plain": [
       "0.04242105015540785"
      ]
     },
     "execution_count": 10,
     "metadata": {},
     "output_type": "execute_result"
    }
   ],
   "source": [
    "sem_beutenberg = temperature_std / np.sqrt(sample_size)\n",
    "sem_beutenberg #sem = standard error of the mean"
   ]
  },
  {
   "cell_type": "code",
   "execution_count": 11,
   "id": "d65b2dbe",
   "metadata": {},
   "outputs": [
    {
     "name": "stdout",
     "output_type": "stream",
     "text": [
      "Lower Bound = 10.545916310562744\n",
      "Upper Bound = 10.712203771544678\n"
     ]
    }
   ],
   "source": [
    "alpha = 0.95\n",
    "lower_quantile = (1 - alpha) / 2 #This is 0.025 (1 + 0.025)\n",
    "upper_quantile = 1 - (1 - alpha) / 2 #This is 0.975 (100 - 0.025)\n",
    "\n",
    "lower_bound = norm.ppf(lower_quantile, loc=temperature_mean, scale=sem_beutenberg)\n",
    "upper_bound = norm.ppf(upper_quantile, loc=temperature_mean, scale=sem_beutenberg)\n",
    "\n",
    "print(\"Lower Bound =\", lower_bound)\n",
    "print(\"Upper Bound =\", upper_bound)"
   ]
  },
  {
   "cell_type": "markdown",
   "id": "3ce4c61e-5b48-4d8f-91ca-cbb1ba8c8600",
   "metadata": {},
   "source": [
    "**In other words, you're 95% confident that the temperature will be between 10.54 and 10.71 (the true mean lies between these values).**"
   ]
  }
 ],
 "metadata": {
  "kernelspec": {
   "display_name": ".venv",
   "language": "python",
   "name": "python3"
  },
  "language_info": {
   "codemirror_mode": {
    "name": "ipython",
    "version": 3
   },
   "file_extension": ".py",
   "mimetype": "text/x-python",
   "name": "python",
   "nbconvert_exporter": "python",
   "pygments_lexer": "ipython3",
   "version": "3.10.16"
  }
 },
 "nbformat": 4,
 "nbformat_minor": 5
}
