{
 "cells": [
  {
   "cell_type": "markdown",
   "id": "5d96790f",
   "metadata": {},
   "source": [
    "# T-Tests\n",
    "\n",
    "<img src=\"../img/t_test.png\" width=\"80%\">"
   ]
  },
  {
   "cell_type": "code",
   "execution_count": 1,
   "id": "199734e1",
   "metadata": {},
   "outputs": [],
   "source": [
    "import pandas as pd\n",
    "from scipy import stats\n",
    "import matplotlib.pyplot as plt\n",
    "import seaborn as sns\n",
    "import numpy as np"
   ]
  },
  {
   "cell_type": "markdown",
   "id": "d741eda0",
   "metadata": {},
   "source": [
    "# One-sample t-test\n",
    "\n",
    "Test if the average temperature in Beutenberg for January is significantly higher than 0°C."
   ]
  },
  {
   "cell_type": "code",
   "execution_count": 3,
   "id": "82a1eb09",
   "metadata": {},
   "outputs": [],
   "source": [
    "# Load the dataset\n",
    "weather_data = pd.read_csv('../data/weather_data.csv')\n",
    "\n",
    "# Convert 'Date Time' to datetime format\n",
    "weather_data['date_time'] = pd.to_datetime(weather_data['date_time'])\n",
    "\n",
    "# Filter for location \"Beutenberg\"\n",
    "beutenberg_data = weather_data[weather_data['location'] == 'Beutenberg']\n",
    "\n",
    "# Further filter data for January\n",
    "january_data = beutenberg_data[beutenberg_data['date_time'].dt.month == 1]"
   ]
  },
  {
   "cell_type": "code",
   "execution_count": 4,
   "id": "a1c9ee1b",
   "metadata": {},
   "outputs": [
    {
     "data": {
      "text/plain": [
       "2.868807123655914"
      ]
     },
     "execution_count": 4,
     "metadata": {},
     "output_type": "execute_result"
    }
   ],
   "source": [
    "january_data['temperature_celsius'].mean()"
   ]
  },
  {
   "cell_type": "code",
   "execution_count": null,
   "id": "219aa91e",
   "metadata": {},
   "outputs": [
    {
     "data": {
      "text/plain": [
       "Ttest_1sampResult(statistic=38.6801972422407, pvalue=1.6395840979748228e-265)"
      ]
     },
     "execution_count": 4,
     "metadata": {},
     "output_type": "execute_result"
    }
   ],
   "source": [
    "# calculates the t-test\n",
    "# popmean = hypothesized population mean\n",
    "# in this case it's 0 because we're testing if the average temperature is significant higher than 0\n",
    "january_data_ttest = stats.ttest_1samp(january_data['temperature_celsius'], popmean=0)\n",
    "january_data_ttest"
   ]
  },
  {
   "cell_type": "code",
   "execution_count": null,
   "id": "9a730054",
   "metadata": {},
   "outputs": [
    {
     "name": "stdout",
     "output_type": "stream",
     "text": [
      "The null hypothesis is rejected with the confidence of 95.0%.\n"
     ]
    }
   ],
   "source": [
    "p_value = january_data_ttest[1] # we reject the null hypothesis if the value of the test is lower than the alpha\n",
    "alpha = 0.05\n",
    "\n",
    "if p_value < alpha:\n",
    "    print(f\"The null hypothesis is rejected with the confidence of {(1-alpha)*100}%.\")\n",
    "else:\n",
    "    print(\"There is not enough evidence to reject the null hypothesis.\")"
   ]
  },
  {
   "cell_type": "markdown",
   "id": "f48242e8",
   "metadata": {},
   "source": [
    "# Two-sample t-test\n",
    "\n",
    "Compare the average temperatures of January for 2023 vs January 2022 to see if there's a significant difference."
   ]
  },
  {
   "cell_type": "code",
   "execution_count": 5,
   "id": "203e99c1",
   "metadata": {},
   "outputs": [],
   "source": [
    "january_2023 = january_data[january_data['date_time'].dt.year == 2023]\n",
    "january_2022 = january_data[january_data['date_time'].dt.year == 2022]"
   ]
  },
  {
   "cell_type": "code",
   "execution_count": 6,
   "id": "ca3c9459",
   "metadata": {},
   "outputs": [
    {
     "data": {
      "text/html": [
       "<div>\n",
       "<style scoped>\n",
       "    .dataframe tbody tr th:only-of-type {\n",
       "        vertical-align: middle;\n",
       "    }\n",
       "\n",
       "    .dataframe tbody tr th {\n",
       "        vertical-align: top;\n",
       "    }\n",
       "\n",
       "    .dataframe thead th {\n",
       "        text-align: right;\n",
       "    }\n",
       "</style>\n",
       "<table border=\"1\" class=\"dataframe\">\n",
       "  <thead>\n",
       "    <tr style=\"text-align: right;\">\n",
       "      <th></th>\n",
       "      <th>date_time</th>\n",
       "      <th>pressure_mbar</th>\n",
       "      <th>temperature_celsius</th>\n",
       "      <th>dew_point_celsius</th>\n",
       "      <th>relative_humidity_percent</th>\n",
       "      <th>vapor_pressure_actual_mbar</th>\n",
       "      <th>specific_humidity_g_per_kg</th>\n",
       "      <th>air_density_g_per_m_cubed</th>\n",
       "      <th>wind_velocity_m_per_s</th>\n",
       "      <th>wind_direction_degrees</th>\n",
       "      <th>rainfall_mm</th>\n",
       "      <th>location</th>\n",
       "      <th>season</th>\n",
       "    </tr>\n",
       "  </thead>\n",
       "  <tbody>\n",
       "    <tr>\n",
       "      <th>18264</th>\n",
       "      <td>2022-01-31 02:00:00</td>\n",
       "      <td>990.39</td>\n",
       "      <td>2.57</td>\n",
       "      <td>-2.30</td>\n",
       "      <td>70.13</td>\n",
       "      <td>5.15</td>\n",
       "      <td>3.24</td>\n",
       "      <td>1248.87</td>\n",
       "      <td>2.51</td>\n",
       "      <td>202.1</td>\n",
       "      <td>0.0</td>\n",
       "      <td>Beutenberg</td>\n",
       "      <td>winter</td>\n",
       "    </tr>\n",
       "    <tr>\n",
       "      <th>17735</th>\n",
       "      <td>2022-01-09 01:00:00</td>\n",
       "      <td>971.28</td>\n",
       "      <td>0.18</td>\n",
       "      <td>-1.78</td>\n",
       "      <td>86.60</td>\n",
       "      <td>5.36</td>\n",
       "      <td>3.44</td>\n",
       "      <td>1235.33</td>\n",
       "      <td>4.59</td>\n",
       "      <td>189.7</td>\n",
       "      <td>0.0</td>\n",
       "      <td>Beutenberg</td>\n",
       "      <td>winter</td>\n",
       "    </tr>\n",
       "    <tr>\n",
       "      <th>17754</th>\n",
       "      <td>2022-01-09 20:00:00</td>\n",
       "      <td>978.72</td>\n",
       "      <td>2.58</td>\n",
       "      <td>1.45</td>\n",
       "      <td>92.20</td>\n",
       "      <td>6.78</td>\n",
       "      <td>4.32</td>\n",
       "      <td>1233.29</td>\n",
       "      <td>0.65</td>\n",
       "      <td>271.4</td>\n",
       "      <td>0.0</td>\n",
       "      <td>Beutenberg</td>\n",
       "      <td>winter</td>\n",
       "    </tr>\n",
       "    <tr>\n",
       "      <th>18024</th>\n",
       "      <td>2022-01-21 02:00:00</td>\n",
       "      <td>1000.04</td>\n",
       "      <td>-2.07</td>\n",
       "      <td>-6.30</td>\n",
       "      <td>72.60</td>\n",
       "      <td>3.81</td>\n",
       "      <td>2.37</td>\n",
       "      <td>1283.29</td>\n",
       "      <td>1.71</td>\n",
       "      <td>260.5</td>\n",
       "      <td>0.0</td>\n",
       "      <td>Beutenberg</td>\n",
       "      <td>winter</td>\n",
       "    </tr>\n",
       "    <tr>\n",
       "      <th>17775</th>\n",
       "      <td>2022-01-10 17:00:00</td>\n",
       "      <td>997.99</td>\n",
       "      <td>4.21</td>\n",
       "      <td>2.80</td>\n",
       "      <td>90.50</td>\n",
       "      <td>7.47</td>\n",
       "      <td>4.67</td>\n",
       "      <td>1249.91</td>\n",
       "      <td>0.72</td>\n",
       "      <td>226.4</td>\n",
       "      <td>0.0</td>\n",
       "      <td>Beutenberg</td>\n",
       "      <td>winter</td>\n",
       "    </tr>\n",
       "    <tr>\n",
       "      <th>17976</th>\n",
       "      <td>2022-01-19 02:00:00</td>\n",
       "      <td>1006.59</td>\n",
       "      <td>3.03</td>\n",
       "      <td>3.03</td>\n",
       "      <td>100.00</td>\n",
       "      <td>7.59</td>\n",
       "      <td>4.71</td>\n",
       "      <td>1266.06</td>\n",
       "      <td>0.77</td>\n",
       "      <td>219.3</td>\n",
       "      <td>0.0</td>\n",
       "      <td>Beutenberg</td>\n",
       "      <td>winter</td>\n",
       "    </tr>\n",
       "    <tr>\n",
       "      <th>17613</th>\n",
       "      <td>2022-01-03 23:00:00</td>\n",
       "      <td>980.00</td>\n",
       "      <td>6.40</td>\n",
       "      <td>6.40</td>\n",
       "      <td>100.00</td>\n",
       "      <td>9.62</td>\n",
       "      <td>6.13</td>\n",
       "      <td>1216.71</td>\n",
       "      <td>1.97</td>\n",
       "      <td>196.9</td>\n",
       "      <td>0.0</td>\n",
       "      <td>Beutenberg</td>\n",
       "      <td>winter</td>\n",
       "    </tr>\n",
       "    <tr>\n",
       "      <th>18130</th>\n",
       "      <td>2022-01-25 12:00:00</td>\n",
       "      <td>1006.12</td>\n",
       "      <td>1.99</td>\n",
       "      <td>1.29</td>\n",
       "      <td>95.10</td>\n",
       "      <td>6.71</td>\n",
       "      <td>4.16</td>\n",
       "      <td>1270.65</td>\n",
       "      <td>1.45</td>\n",
       "      <td>242.4</td>\n",
       "      <td>0.0</td>\n",
       "      <td>Beutenberg</td>\n",
       "      <td>winter</td>\n",
       "    </tr>\n",
       "    <tr>\n",
       "      <th>17595</th>\n",
       "      <td>2022-01-03 05:00:00</td>\n",
       "      <td>984.56</td>\n",
       "      <td>8.14</td>\n",
       "      <td>6.03</td>\n",
       "      <td>86.50</td>\n",
       "      <td>9.38</td>\n",
       "      <td>5.95</td>\n",
       "      <td>1214.93</td>\n",
       "      <td>1.68</td>\n",
       "      <td>246.5</td>\n",
       "      <td>0.0</td>\n",
       "      <td>Beutenberg</td>\n",
       "      <td>winter</td>\n",
       "    </tr>\n",
       "    <tr>\n",
       "      <th>18050</th>\n",
       "      <td>2022-01-22 04:00:00</td>\n",
       "      <td>998.09</td>\n",
       "      <td>3.79</td>\n",
       "      <td>3.65</td>\n",
       "      <td>99.00</td>\n",
       "      <td>7.94</td>\n",
       "      <td>4.96</td>\n",
       "      <td>1251.70</td>\n",
       "      <td>3.71</td>\n",
       "      <td>263.2</td>\n",
       "      <td>0.0</td>\n",
       "      <td>Beutenberg</td>\n",
       "      <td>winter</td>\n",
       "    </tr>\n",
       "  </tbody>\n",
       "</table>\n",
       "</div>"
      ],
      "text/plain": [
       "                date_time  pressure_mbar  temperature_celsius  \\\n",
       "18264 2022-01-31 02:00:00         990.39                 2.57   \n",
       "17735 2022-01-09 01:00:00         971.28                 0.18   \n",
       "17754 2022-01-09 20:00:00         978.72                 2.58   \n",
       "18024 2022-01-21 02:00:00        1000.04                -2.07   \n",
       "17775 2022-01-10 17:00:00         997.99                 4.21   \n",
       "17976 2022-01-19 02:00:00        1006.59                 3.03   \n",
       "17613 2022-01-03 23:00:00         980.00                 6.40   \n",
       "18130 2022-01-25 12:00:00        1006.12                 1.99   \n",
       "17595 2022-01-03 05:00:00         984.56                 8.14   \n",
       "18050 2022-01-22 04:00:00         998.09                 3.79   \n",
       "\n",
       "       dew_point_celsius  relative_humidity_percent  \\\n",
       "18264              -2.30                      70.13   \n",
       "17735              -1.78                      86.60   \n",
       "17754               1.45                      92.20   \n",
       "18024              -6.30                      72.60   \n",
       "17775               2.80                      90.50   \n",
       "17976               3.03                     100.00   \n",
       "17613               6.40                     100.00   \n",
       "18130               1.29                      95.10   \n",
       "17595               6.03                      86.50   \n",
       "18050               3.65                      99.00   \n",
       "\n",
       "       vapor_pressure_actual_mbar  specific_humidity_g_per_kg  \\\n",
       "18264                        5.15                        3.24   \n",
       "17735                        5.36                        3.44   \n",
       "17754                        6.78                        4.32   \n",
       "18024                        3.81                        2.37   \n",
       "17775                        7.47                        4.67   \n",
       "17976                        7.59                        4.71   \n",
       "17613                        9.62                        6.13   \n",
       "18130                        6.71                        4.16   \n",
       "17595                        9.38                        5.95   \n",
       "18050                        7.94                        4.96   \n",
       "\n",
       "       air_density_g_per_m_cubed  wind_velocity_m_per_s  \\\n",
       "18264                    1248.87                   2.51   \n",
       "17735                    1235.33                   4.59   \n",
       "17754                    1233.29                   0.65   \n",
       "18024                    1283.29                   1.71   \n",
       "17775                    1249.91                   0.72   \n",
       "17976                    1266.06                   0.77   \n",
       "17613                    1216.71                   1.97   \n",
       "18130                    1270.65                   1.45   \n",
       "17595                    1214.93                   1.68   \n",
       "18050                    1251.70                   3.71   \n",
       "\n",
       "       wind_direction_degrees  rainfall_mm    location  season  \n",
       "18264                   202.1          0.0  Beutenberg  winter  \n",
       "17735                   189.7          0.0  Beutenberg  winter  \n",
       "17754                   271.4          0.0  Beutenberg  winter  \n",
       "18024                   260.5          0.0  Beutenberg  winter  \n",
       "17775                   226.4          0.0  Beutenberg  winter  \n",
       "17976                   219.3          0.0  Beutenberg  winter  \n",
       "17613                   196.9          0.0  Beutenberg  winter  \n",
       "18130                   242.4          0.0  Beutenberg  winter  \n",
       "17595                   246.5          0.0  Beutenberg  winter  \n",
       "18050                   263.2          0.0  Beutenberg  winter  "
      ]
     },
     "execution_count": 6,
     "metadata": {},
     "output_type": "execute_result"
    }
   ],
   "source": [
    "january_2022.sample(10)"
   ]
  },
  {
   "cell_type": "code",
   "execution_count": 7,
   "id": "7ed79bba",
   "metadata": {},
   "outputs": [
    {
     "data": {
      "image/png": "[encoded data removed]",
      "text/plain": [
       "<Figure size 640x480 with 1 Axes>"
      ]
     },
     "metadata": {},
     "output_type": "display_data"
    }
   ],
   "source": [
    "# Ensure your data is suitable for plotting\n",
    "january_2023_temps = pd.to_numeric(january_2023['temperature_celsius'], errors='coerce').dropna()\n",
    "january_2022_temps = pd.to_numeric(january_2022['temperature_celsius'], errors='coerce').dropna()\n",
    "\n",
    "# Plot histograms\n",
    "plt.hist(january_2023_temps, bins=30, alpha=0.5, label='2023 Temperatures', color='blue')\n",
    "plt.hist(january_2022_temps, bins=30, alpha=0.5, label='2022 Temperatures', color='green')\n",
    "\n",
    "# Plot mean temperatures\n",
    "plt.axvline(january_2023_temps.mean(), color='blue', linestyle='dashed', linewidth=2)\n",
    "plt.axvline(january_2022_temps.mean(), color='green', linestyle='dashed', linewidth=2)\n",
    "\n",
    "plt.legend()\n",
    "plt.title('January Temperature Distribution for 2023 vs. 2022')\n",
    "plt.xlabel('Temperature (celsius)')\n",
    "plt.ylabel('Frequency')\n",
    "plt.show()"
   ]
  },
  {
   "cell_type": "code",
   "execution_count": 8,
   "id": "aef80c9a",
   "metadata": {},
   "outputs": [
    {
     "data": {
      "text/plain": [
       "TtestResult(statistic=3.2041755185968026, pvalue=0.001383248057584368, df=1486.0)"
      ]
     },
     "execution_count": 8,
     "metadata": {},
     "output_type": "execute_result"
    }
   ],
   "source": [
    "# now we will run a two-tailed t-test to check if the difference is significant different\n",
    "year_on_year_ttest = stats.ttest_ind(january_2023['temperature_celsius'], january_2022['temperature_celsius'])\n",
    "\n",
    "# in this set you don't see a value for alpha here, because you're comparing the mean of two populations\n",
    "# \n",
    "year_on_year_ttest"
   ]
  },
  {
   "cell_type": "code",
   "execution_count": null,
   "id": "85f9cd17",
   "metadata": {},
   "outputs": [
    {
     "name": "stdout",
     "output_type": "stream",
     "text": [
      "The null hypothesis is rejected with the confidence of 95.0%.\n"
     ]
    }
   ],
   "source": [
    "p_value = year_on_year_ttest[1]\n",
    "alpha = 0.05\n",
    "\n",
    "if p_value < alpha:\n",
    "    print(f\"The null hypothesis is rejected with the confidence of {(1-alpha)*100}%.\")\n",
    "    # with other words, there is a significant difference between the values\n",
    "else:\n",
    "    print(\"There is not enough evidence to reject the null hypothesis.\")"
   ]
  }
 ],
 "metadata": {
  "kernelspec": {
   "display_name": ".venv",
   "language": "python",
   "name": "python3"
  },
  "language_info": {
   "codemirror_mode": {
    "name": "ipython",
    "version": 3
   },
   "file_extension": ".py",
   "mimetype": "text/x-python",
   "name": "python",
   "nbconvert_exporter": "python",
   "pygments_lexer": "ipython3",
   "version": "3.10.17"
  }
 },
 "nbformat": 4,
 "nbformat_minor": 5
}
