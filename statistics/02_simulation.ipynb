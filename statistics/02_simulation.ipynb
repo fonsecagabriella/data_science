{
 "cells": [
  {
   "cell_type": "markdown",
   "id": "b8152610",
   "metadata": {},
   "source": [
    "# Simulation\n",
    "\n",
    "Simulation allows you to generate more data, when you don't have enough.\n",
    "\n",
    "| Feature | Uniform Distribution | Normal Distribution |\n",
    "|---|---|---|\n",
    "| Shape | Rectangular | Bell-shaped |\n",
    "| Probability | Equal probability for all outcomes | Probability decreases as you move away from the mean |\n",
    "| Real-world Examples | Rolling a dice, random number generator | Heights, weights, IQ scores |"
   ]
  },
  {
   "cell_type": "code",
   "execution_count": 12,
   "metadata": {},
   "outputs": [],
   "source": [
    "import numpy as np\n",
    "import scipy.stats as stats\n",
    "import matplotlib.pyplot as plt\n",
    "import pandas as pd\n",
    "import statistics"
   ]
  },
  {
   "cell_type": "markdown",
   "metadata": {},
   "source": [
    "## Random sampling from uniform distribution"
   ]
  },
  {
   "cell_type": "code",
   "execution_count": 2,
   "metadata": {},
   "outputs": [
    {
     "data": {
      "text/plain": [
       "array([0.79215183, 0.10762506, 0.32422101, 0.09219966, 0.28585869,\n",
       "       0.26611665, 0.88797959, 0.12027102, 0.24911214, 0.11972559,\n",
       "       0.75448402, 0.40031947, 0.3879805 , 0.22747054, 0.981742  ,\n",
       "       0.97638389, 0.21285137, 0.7343763 , 0.23734868, 0.37760803])"
      ]
     },
     "execution_count": 2,
     "metadata": {},
     "output_type": "execute_result"
    }
   ],
   "source": [
    "# Generate a sample\n",
    "sample_size = 20\n",
    "sample = np.random.uniform(low=0, high=1, size=sample_size)\n",
    "sample"
   ]
  },
  {
   "cell_type": "markdown",
   "metadata": {},
   "source": [
    "## Random sampling from normal distribution"
   ]
  },
  {
   "cell_type": "code",
   "execution_count": 2,
   "metadata": {},
   "outputs": [
    {
     "data": {
      "text/plain": [
       "array([ 0.0880375 , -1.63893002,  0.38649392, -1.23972922,  0.61368346,\n",
       "        0.08980626, -0.27048208,  0.15648425,  0.18821922, -0.10214723,\n",
       "        2.10368225,  0.25969651, -1.213096  ,  0.28906961,  1.73145571,\n",
       "        2.16653103,  0.23150815,  1.82565578,  1.27795573, -1.50479277])"
      ]
     },
     "execution_count": 2,
     "metadata": {},
     "output_type": "execute_result"
    }
   ],
   "source": [
    "# Generate a sample\n",
    "sample_size = 20\n",
    "sample = np.random.normal(loc=0, scale=1, size=sample_size)\n",
    "# parameters:\n",
    "# loc - the center of the distribution; higher values skew to the right, lower to the left\n",
    "# scale: the standard deviation, higher for spread distribution, lower for narrow distribution\n",
    "# size: shape of the output array\n",
    "\n",
    "sample"
   ]
  },
  {
   "cell_type": "markdown",
   "id": "047bb5c9",
   "metadata": {},
   "source": [
    "## Example of simulation\n",
    "\n",
    "<img src=\"../img/simulation.png\" width=\"80%\">\n",
    "\n"
   ]
  },
  {
   "cell_type": "code",
   "execution_count": 3,
   "id": "6f8287a4",
   "metadata": {},
   "outputs": [],
   "source": [
    "# Function to simulate scoring\n",
    "def simulate_scoring(attempts, shooting_percentage):\n",
    "    \"\"\"\n",
    "    Simulates scoring attempts based on shooting percentage.\n",
    "    \n",
    "    :param attempts: Number of attempts (int).\n",
    "    :param shooting_percentage: Shooting percentage (0-100).\n",
    "    :return: Number of successful attempts (int).\n",
    "    \"\"\"\n",
    "    # Generate random numbers between 0 and 1 for each attempt\n",
    "    random_draws = np.random.rand(attempts)\n",
    "    # Count successes (if random draw < shooting percentage)\n",
    "    successes = np.sum(random_draws < (shooting_percentage / 100))\n",
    "    return successes"
   ]
  },
  {
   "cell_type": "code",
   "execution_count": 6,
   "id": "0fe070a2",
   "metadata": {},
   "outputs": [],
   "source": [
    "# Player parameters (free throw, 2-point, 3-point)\n",
    "player1_shot_percentage = pd.Series(data=[80, 50, 35], index=['ft', 'two_pt', 'three_pt'])\n",
    "player2_shot_percentage = pd.Series(data=[75, 45, 40], index=['ft', 'two_pt', 'three_pt'])\n",
    "\n",
    "player1_attempts = pd.Series(data=[6, 10, 5], index=['ft', 'two_pt', 'three_pt'])\n",
    "player2_attempts = pd.Series(data=[4, 12, 7], index=['ft', 'two_pt', 'three_pt'])"
   ]
  },
  {
   "cell_type": "code",
   "execution_count": 7,
   "id": "c4e3b776",
   "metadata": {},
   "outputs": [],
   "source": [
    "def player_score(player_shot_percentage, player_attempts):\n",
    "    free_throws = simulate_scoring(player_attempts['ft'], player_shot_percentage['ft'])\n",
    "    two_point = simulate_scoring(player_attempts['two_pt'], player_shot_percentage['two_pt'])\n",
    "    three_point = simulate_scoring(player_attempts['three_pt'], player_shot_percentage['three_pt'])\n",
    "    \n",
    "    return 1 * free_throws + 2 * two_point + 3 * three_point # returns the score of the player"
   ]
  },
  {
   "cell_type": "markdown",
   "id": "a38105a2",
   "metadata": {},
   "source": [
    "### Simulate games\n",
    "Here we will run the simulation for player 1 and 2, and then decide who is better, and if there's a statistically significant difference in them."
   ]
  },
  {
   "cell_type": "code",
   "execution_count": 8,
   "id": "28c9ced5",
   "metadata": {},
   "outputs": [
    {
     "name": "stdout",
     "output_type": "stream",
     "text": [
      "[22, 10, 19, 23, 27, 18, 18, 26, 20, 19, 11, 18, 21, 24, 22, 19, 19, 24, 16, 12, 16, 22, 22, 27, 16, 21, 12, 28, 18, 29, 24, 13, 17, 20, 22, 20, 20, 25, 17, 15, 28, 21, 25, 12, 23, 24, 19, 12, 14, 17, 24, 19, 29, 20, 20, 22, 27, 26, 19, 23, 23, 28, 20, 25, 16, 23, 17, 20, 22, 24, 15, 18, 22, 15, 18, 19, 22, 9, 25, 16, 23, 20, 25, 16, 14, 21, 13, 16, 27, 15, 14, 20, 20, 20, 16, 21, 27, 16, 24, 24]\n"
     ]
    }
   ],
   "source": [
    "games = 100\n",
    "attempts_per_game = 20\n",
    "\n",
    "player1_scores = []\n",
    "\n",
    "for i in range(games):\n",
    "    player1_scores.append(player_score(player1_shot_percentage, player1_attempts))\n",
    "    \n",
    "print(player1_scores)"
   ]
  },
  {
   "cell_type": "code",
   "execution_count": 9,
   "id": "a6a79855",
   "metadata": {},
   "outputs": [
    {
     "name": "stdout",
     "output_type": "stream",
     "text": [
      "[17, 22, 30, 10, 9, 20, 15, 26, 23, 24, 19, 24, 23, 23, 10, 27, 20, 35, 21, 20, 29, 23, 21, 31, 19, 29, 22, 21, 15, 30, 33, 25, 15, 22, 27, 23, 20, 18, 16, 22, 22, 27, 20, 20, 26, 19, 21, 28, 17, 24, 20, 17, 21, 28, 22, 14, 30, 26, 11, 11, 19, 22, 24, 25, 19, 18, 26, 14, 24, 20, 13, 23, 35, 18, 23, 28, 17, 21, 25, 21, 18, 22, 24, 34, 21, 32, 16, 26, 27, 18, 12, 31, 25, 21, 24, 17, 20, 16, 24, 27]\n"
     ]
    }
   ],
   "source": [
    "player2_scores = []\n",
    "\n",
    "for i in range(games):\n",
    "    player2_scores.append(player_score(player2_shot_percentage, player2_attempts))\n",
    "    \n",
    "print(player2_scores)"
   ]
  },
  {
   "cell_type": "code",
   "execution_count": 13,
   "id": "5032425a",
   "metadata": {},
   "outputs": [
    {
     "name": "stdout",
     "output_type": "stream",
     "text": [
      "Player 1 average = 20\n",
      "Player 2 average = 21\n"
     ]
    }
   ],
   "source": [
    "# First let's check their average scores\n",
    "print(\"Player 1 average =\", statistics.mean(player1_scores)) # np.mean() doesn't work on a list so you're using statistics.mean\n",
    "print(\"Player 2 average =\", statistics.mean(player2_scores))"
   ]
  },
  {
   "cell_type": "code",
   "execution_count": 14,
   "id": "b1cc32fc",
   "metadata": {},
   "outputs": [
    {
     "data": {
      "text/plain": [
       "TtestResult(statistic=-2.5952057996612443, pvalue=0.010161174430278867, df=198.0)"
      ]
     },
     "execution_count": 14,
     "metadata": {},
     "output_type": "execute_result"
    }
   ],
   "source": [
    "# Is player 2 better than player 1?\n",
    "# we will check now with a t-tailed test:\n",
    "\n",
    "player_comparison = stats.ttest_ind(player1_scores, player2_scores)\n",
    "player_comparison"
   ]
  },
  {
   "cell_type": "code",
   "execution_count": 15,
   "id": "964e3a80",
   "metadata": {},
   "outputs": [
    {
     "name": "stdout",
     "output_type": "stream",
     "text": [
      "The null hypothesis is rejected with the confidence of 95.0%.\n"
     ]
    }
   ],
   "source": [
    "alpha = 0.05\n",
    "p_value = player_comparison[1]\n",
    "\n",
    "if p_value < alpha:\n",
    "    print(f\"The null hypothesis is rejected with the confidence of {(1-alpha)*100}%.\")\n",
    "else:\n",
    "    print(\"There is not enough evidence to reject the null hypothesis.\")"
   ]
  }
 ],
 "metadata": {
  "kernelspec": {
   "display_name": ".venv",
   "language": "python",
   "name": "python3"
  },
  "language_info": {
   "codemirror_mode": {
    "name": "ipython",
    "version": 3
   },
   "file_extension": ".py",
   "mimetype": "text/x-python",
   "name": "python",
   "nbconvert_exporter": "python",
   "pygments_lexer": "ipython3",
   "version": "3.10.16"
  }
 },
 "nbformat": 4,
 "nbformat_minor": 5
}
