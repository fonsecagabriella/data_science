{
 "cells": [
  {
   "cell_type": "markdown",
   "id": "ada76acb",
   "metadata": {},
   "source": [
    "definition of the p-value:\n",
    "\n",
    "The probability of observing a result at least as extreme as the one obtained, assuming the null hypothesis is true."
   ]
  }
 ],
 "metadata": {
  "language_info": {
   "name": "python"
  }
 },
 "nbformat": 4,
 "nbformat_minor": 5
}
