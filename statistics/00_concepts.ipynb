{
 "cells": [
  {
   "cell_type": "markdown",
   "id": "ada76acb",
   "metadata": {},
   "source": [
    "# Notes\n",
    "\n",
    "https://www.socscistatistics.com/tests/ \n",
    "\n",
    "\n",
    "- The z-score says how many std units a value is from the mean. the p-value says the probability of observing that result.\n",
    "- if the p-value we find is lower than the significance level, we reject the null hypothesis because there would be a even lower probability of observing such results if the given mean was true.\n",
    "\n",
    "\n",
    "# definition of the p-value:\n",
    "\n",
    "The probability of observing a result at least as extreme as the one obtained, assuming the null hypothesis is true."
   ]
  }
 ],
 "metadata": {
  "language_info": {
   "name": "python"
  }
 },
 "nbformat": 4,
 "nbformat_minor": 5
}
