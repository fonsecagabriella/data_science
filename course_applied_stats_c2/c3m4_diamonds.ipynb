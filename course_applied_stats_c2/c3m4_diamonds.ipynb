{
 "cells": [
  {
   "cell_type": "markdown",
   "id": "a3a578a6",
   "metadata": {},
   "source": [
    "# Diamond Prices"
   ]
  },
  {
   "cell_type": "code",
   "execution_count": 1,
   "id": "44c560d1",
   "metadata": {},
   "outputs": [
    {
     "name": "stdout",
     "output_type": "stream",
     "text": [
      "   Unnamed: 0  carat      cut color clarity  depth  table  price     x     y  \\\n",
      "0           1   0.23    Ideal     E     SI2   61.5   55.0    326  3.95  3.98   \n",
      "1           2   0.21  Premium     E     SI1   59.8   61.0    326  3.89  3.84   \n",
      "2           3   0.23     Good     E     VS1   56.9   65.0    327  4.05  4.07   \n",
      "3           4   0.29  Premium     I     VS2   62.4   58.0    334  4.20  4.23   \n",
      "4           5   0.31     Good     J     SI2   63.3   58.0    335  4.34  4.35   \n",
      "\n",
      "      z  \n",
      "0  2.43  \n",
      "1  2.31  \n",
      "2  2.31  \n",
      "3  2.63  \n",
      "4  2.75  \n",
      "<class 'pandas.core.frame.DataFrame'>\n",
      "RangeIndex: 53940 entries, 0 to 53939\n",
      "Data columns (total 11 columns):\n",
      " #   Column      Non-Null Count  Dtype  \n",
      "---  ------      --------------  -----  \n",
      " 0   Unnamed: 0  53940 non-null  int64  \n",
      " 1   carat       53940 non-null  float64\n",
      " 2   cut         53940 non-null  object \n",
      " 3   color       53940 non-null  object \n",
      " 4   clarity     53940 non-null  object \n",
      " 5   depth       53940 non-null  float64\n",
      " 6   table       53940 non-null  float64\n",
      " 7   price       53940 non-null  int64  \n",
      " 8   x           53940 non-null  float64\n",
      " 9   y           53940 non-null  float64\n",
      " 10  z           53940 non-null  float64\n",
      "dtypes: float64(6), int64(2), object(3)\n",
      "memory usage: 4.5+ MB\n",
      "None\n"
     ]
    }
   ],
   "source": [
    "# load all necessary libraries\n",
    "import numpy as np\n",
    "import pandas as pd\n",
    "from scipy import stats\n",
    "import matplotlib.pyplot as plt\n",
    "import seaborn as sns\n",
    "\n",
    "# set the random seed for reproducibility\n",
    "np.random.seed(42)\n",
    "\n",
    "# load the diamonds dataset\n",
    "diamonds = pd.read_csv('./data/diamonds.csv')\n",
    "\n",
    "# display the first few rows of the dataset\n",
    "print(diamonds.head())\n",
    "\n",
    "# display information about the dataset\n",
    "print(diamonds.info())"
   ]
  },
  {
   "cell_type": "markdown",
   "id": "5c4a795b",
   "metadata": {},
   "source": [
    "## 01. Price\n",
    "\n",
    "You decide to start by investigating the mean diamond price and price by cut. You'll test your stats knowledge to set up each calculation to create the confidence intervals!"
   ]
  },
  {
   "cell_type": "code",
   "execution_count": 2,
   "id": "4f535d10",
   "metadata": {},
   "outputs": [
    {
     "name": "stdout",
     "output_type": "stream",
     "text": [
      "Mean price: 3932.799721913237\n",
      "Standard deviation of price: 3989.4397381463023\n",
      "Sample size: 53940\n"
     ]
    }
   ],
   "source": [
    "# calculate the sample mean of the price\n",
    "mean_price = diamonds['price'].mean()\n",
    "print(f\"Mean price: {mean_price}\")\n",
    "# calculate the sample standard deviation of the price\n",
    "std_price = diamonds['price'].std()\n",
    "print(f\"Standard deviation of price: {std_price}\")\n",
    "# calculate the sample size\n",
    "n = diamonds['price'].count()\n",
    "print(f\"Sample size: {n}\")"
   ]
  },
  {
   "cell_type": "code",
   "execution_count": 8,
   "id": "31a8c81c",
   "metadata": {},
   "outputs": [
    {
     "name": "stdout",
     "output_type": "stream",
     "text": [
      "Z-score for 95.0% confidence level: 1.959963984540054\n",
      "95% confidence interval for the mean price: (3899.1327133652608, 3966.4667304612135)\n"
     ]
    }
   ],
   "source": [
    "# calculate the margin of error for the 95% confidence interval\n",
    "confidence_level = 0.95\n",
    "z_score = stats.norm.ppf((1 + confidence_level) / 2)\n",
    "print(f\"Z-score for {confidence_level*100}% confidence level: {z_score}\")\n",
    "\n",
    "margin_of_error = z_score * (std_price / np.sqrt(n))\n",
    "# calculate the confidence interval\n",
    "confidence_interval = (mean_price - margin_of_error, mean_price + margin_of_error)\n",
    "print(f\"95% confidence interval for the mean price: {confidence_interval}\")"
   ]
  },
  {
   "cell_type": "code",
   "execution_count": null,
   "id": "679e6ce0",
   "metadata": {},
   "outputs": [
    {
     "name": "stdout",
     "output_type": "stream",
     "text": [
      "95% confidence intervals for the mean price by cut:\n",
      "Ideal: (3406.695938058631, 3508.388002361767)\n",
      "Premium: (4511.670497203647, 4656.844911396164)\n",
      "Good: (3825.8448914480405, 4031.884011935572)\n",
      "Very Good: (3911.579051759853, 4051.9407297332777)\n",
      "Fair: (4184.844657613898, 4532.670870336413)\n"
     ]
    }
   ],
   "source": [
    "# separate the diamonds by cut\n",
    "cuts = diamonds['cut'].unique()\n",
    "cut_means = diamonds.groupby('cut')['price'].mean()\n",
    "cut_stds = diamonds.groupby('cut')['price'].std()\n",
    "cut_ns = diamonds.groupby('cut')['price'].count()\n",
    "\n",
    "# calculate the confidence intervals for each cut\n",
    "cut_conf_intervals = {}\n",
    "for cut in cuts:\n",
    "    cut_mean = cut_means[cut]\n",
    "    cut_std = cut_stds[cut]\n",
    "    cut_n = cut_ns[cut]\n",
    "\n",
    "    z_score_cut = stats.norm.ppf((1 + confidence_level) / 2)\n",
    "    margin_of_error_cut = z_score_cut * (cut_std / np.sqrt(cut_n))\n",
    "\n",
    "    cut_conf_intervals[cut] = (cut_mean - margin_of_error_cut, cut_mean + margin_of_error_cut)\n",
    "\n",
    "print(\"95% confidence intervals for the mean price by cut:\")\n",
    "for cut, interval in cut_conf_intervals.items():\n",
    "    print(f\"{cut}: {interval}\")"
   ]
  },
  {
   "cell_type": "markdown",
   "id": "b714c09a",
   "metadata": {},
   "source": [
    "Now let's check if the mean price for the Premium cut is statistically significant different from the cut Fair.\n",
    "For this we will use a two-sample t-test (we will assume a normal distribution)."
   ]
  },
  {
   "cell_type": "code",
   "execution_count": 12,
   "id": "36f69b5a",
   "metadata": {},
   "outputs": [
    {
     "name": "stdout",
     "output_type": "stream",
     "text": [
      "T-statistic: 2.3453\n",
      "P-value: 0.0191\n",
      "Reject H0: Significant difference in means (and possibly medians).\n"
     ]
    }
   ],
   "source": [
    "import pandas as pd\n",
    "from scipy.stats import ttest_ind\n",
    "\n",
    "# Example: Extract prices\n",
    "premium_prices = diamonds.loc[diamonds['cut'] == 'Premium', 'price']\n",
    "fair_prices = diamonds.loc[diamonds['cut'] == 'Fair', 'price']\n",
    "\n",
    "# Two-sample t-test (Welch's version, doesn't assume equal variances)\n",
    "stat, p_value = ttest_ind(premium_prices, fair_prices, equal_var=False)\n",
    "\n",
    "print(f\"T-statistic: {stat:.4f}\")\n",
    "print(f\"P-value: {p_value:.4f}\")\n",
    "\n",
    "# Interpretation at alpha=0.05\n",
    "if p_value < 0.05:\n",
    "    print(\"Reject H0: Significant difference in means (and possibly medians).\")\n",
    "else:\n",
    "    print(\"Fail to reject H0: No significant difference.\")\n"
   ]
  },
  {
   "cell_type": "code",
   "execution_count": 13,
   "id": "6e30e235",
   "metadata": {},
   "outputs": [
    {
     "name": "stdout",
     "output_type": "stream",
     "text": [
      "ShapiroResult(statistic=0.8408276893675948, pvalue=5.422507993282913e-22)\n",
      "ShapiroResult(statistic=0.797370405899994, pvalue=1.677553807008937e-24)\n"
     ]
    }
   ],
   "source": [
    "# let's test normality for each group\n",
    "\n",
    "from scipy.stats import shapiro\n",
    "\n",
    "# Test normality for each group\n",
    "print(shapiro(premium_prices.sample(500)))  # test a subset if the dataset is huge\n",
    "print(shapiro(fair_prices.sample(500)))\n"
   ]
  },
  {
   "cell_type": "code",
   "execution_count": 15,
   "id": "d03ddfa8",
   "metadata": {},
   "outputs": [
    {
     "name": "stdout",
     "output_type": "stream",
     "text": [
      "Mann-Whitney U statistic: 10367091.5000\n",
      "P-value: 0.0000\n",
      "Reject H0: Significant difference in distributions.\n",
      "The distributions of Premium and Fair cuts are significantly different.\n"
     ]
    }
   ],
   "source": [
    "# since we can not assume normality, we will use a non-parametric test\n",
    "from scipy.stats import mannwhitneyu\n",
    "\n",
    "# Mann-Whitney U test\n",
    "stat, p_value_mw = mannwhitneyu(premium_prices, fair_prices, alternative='two-sided')\n",
    "\n",
    "print(f\"Mann-Whitney U statistic: {stat:.4f}\")\n",
    "print(f\"P-value: {p_value_mw:.4f}\")\n",
    "\n",
    "if p_value_mw < 0.05:\n",
    "    print(\"Reject H0: Significant difference in distributions.\")\n",
    "    print(\"The distributions of Premium and Fair cuts are significantly different.\")\n",
    "else:\n",
    "    print(\"Fail to reject H0: No significant difference in distributions.\")\n",
    "    print(\"The distributions of Premium and Fair cuts are not significantly different.\")\n",
    "    print(\"This suggests that the Premium cut does not have a significantly higher price than the Fair cut.\")\n"
   ]
  },
  {
   "cell_type": "markdown",
   "id": "ee47eecd",
   "metadata": {},
   "source": [
    "## 02. Cut proportions\n",
    "\n",
    "You're expecting a new shipment of diamonds and you'd like to know what cuts you can expect. \n",
    "Most diamonds sold at the shop are 'Premium' or 'Ideal' cut, so you hope to receive mostly diamonds of these cuts, but how what proportion can you actually expect? To answer your question, you decide to investigate the proportion of all diamonds that are 'Premium' or 'Ideal' cut."
   ]
  },
  {
   "cell_type": "code",
   "execution_count": 16,
   "id": "8eff9ec9",
   "metadata": {},
   "outputs": [
    {
     "name": "stdout",
     "output_type": "stream",
     "text": [
      "Proportion of Ideal cut diamonds: 39.95%\n",
      "Proportion of Premium cut diamonds: 25.57%\n"
     ]
    }
   ],
   "source": [
    "total_ideal = diamonds[diamonds['cut'] == 'Ideal'].shape[0]\n",
    "total_premium = diamonds[diamonds['cut'] == 'Premium'].shape[0]\n",
    "total_diamonds = diamonds.shape[0]\n",
    "\n",
    "# calculate the proportions\n",
    "proportion_ideal = total_ideal / total_diamonds\n",
    "proportion_premium = total_premium / total_diamonds\n",
    "\n",
    "print(f\"Proportion of Ideal cut diamonds: {proportion_ideal:.2%}\")\n",
    "print(f\"Proportion of Premium cut diamonds: {proportion_premium:.2%}\")"
   ]
  },
  {
   "cell_type": "code",
   "execution_count": 17,
   "id": "7fb1441c",
   "metadata": {},
   "outputs": [
    {
     "name": "stdout",
     "output_type": "stream",
     "text": [
      "Z-score for 90.0% confidence level: 1.6448536269514722\n"
     ]
    }
   ],
   "source": [
    "# z-score for 90% confidence level\n",
    "confidence_level_90 = 0.90\n",
    "z_score_90 = stats.norm.ppf((1 + confidence_level_90) / 2)\n",
    "print(f\"Z-score for {confidence_level_90*100}% confidence level: {z_score_90}\")"
   ]
  },
  {
   "cell_type": "code",
   "execution_count": 20,
   "id": "9e638ce1",
   "metadata": {},
   "outputs": [
    {
     "name": "stdout",
     "output_type": "stream",
     "text": [
      "Margin of error for Ideal cut: 0.0035\n",
      "Margin of error for Premium cut: 0.0031\n",
      "90% confidence interval for Ideal cut: (0.3960676097092352, 0.40300543441386455)\n",
      "90% confidence interval for Premium cut: (0.25258341384049005, 0.2587625260927691)\n"
     ]
    }
   ],
   "source": [
    "# calculate the margin of error for proportions for the 90% confidence interval\n",
    "\n",
    "margin_of_error_ideal = z_score_90 * np.sqrt((proportion_ideal * (1 - proportion_ideal)) / total_diamonds)\n",
    "margin_of_error_premium = z_score_90 * np.sqrt((proportion_premium * (1 - proportion_premium)) / total_diamonds)\n",
    "print(f\"Margin of error for Ideal cut: {margin_of_error_ideal:.4f}\")\n",
    "print(f\"Margin of error for Premium cut: {margin_of_error_premium:.4f}\")\n",
    "\n",
    "# confidence intervals for proportions\n",
    "confidence_interval_ideal = (proportion_ideal - margin_of_error_ideal, proportion_ideal + margin_of_error_ideal)\n",
    "confidence_interval_premium = (proportion_premium - margin_of_error_premium, proportion_premium + margin_of_error_premium)\n",
    "print(f\"90% confidence interval for Ideal cut: {confidence_interval_ideal}\")\n",
    "print(f\"90% confidence interval for Premium cut: {confidence_interval_premium}\")"
   ]
  }
 ],
 "metadata": {
  "kernelspec": {
   "display_name": "base",
   "language": "python",
   "name": "python3"
  },
  "language_info": {
   "codemirror_mode": {
    "name": "ipython",
    "version": 3
   },
   "file_extension": ".py",
   "mimetype": "text/x-python",
   "name": "python",
   "nbconvert_exporter": "python",
   "pygments_lexer": "ipython3",
   "version": "3.12.2"
  }
 },
 "nbformat": 4,
 "nbformat_minor": 5
}
