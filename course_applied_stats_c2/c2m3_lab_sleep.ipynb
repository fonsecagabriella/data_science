{
 "cells": [
  {
   "cell_type": "markdown",
   "id": "73f6835e",
   "metadata": {},
   "source": [
    "# Practice Lab - Human sleep patterns and stress\n",
    "\n",
    "**Background**\n",
    "\n",
    "In order to monitor whether they experience stress during sleep, your friend has been recording some sleep variables using a wearable fitness and health tracker for the past 6 months. However, they have no idea how to interpret the data. That's why they've asked you, their data analyst friend, to help them out. They gave you access to their daily measurements. Your goal is to study the different features and help your friend understand if they are suffering from stress during sleep or not.\n",
    "\n",
    "**Features**\n",
    "- DATE: Date of the evening\n",
    "- SLEEP SCORE: based on FitBit app\n",
    "- HOURS OF SLEEP: how many hours spent asleep\n",
    "- REM SLEEP: % of sleep spent in REM\n",
    "- DEEP SLEEP: % of sleep spent in Deep\n",
    "- HEART RATE BELOW RESTING: % of heart rate below resting\n",
    "- SLEEP TIME: Sleep and wake time"
   ]
  },
  {
   "cell_type": "code",
   "execution_count": 14,
   "id": "e64f0117",
   "metadata": {},
   "outputs": [
    {
     "data": {
      "text/html": [
       "<div>\n",
       "<style scoped>\n",
       "    .dataframe tbody tr th:only-of-type {\n",
       "        vertical-align: middle;\n",
       "    }\n",
       "\n",
       "    .dataframe tbody tr th {\n",
       "        vertical-align: top;\n",
       "    }\n",
       "\n",
       "    .dataframe thead th {\n",
       "        text-align: right;\n",
       "    }\n",
       "</style>\n",
       "<table border=\"1\" class=\"dataframe\">\n",
       "  <thead>\n",
       "    <tr style=\"text-align: right;\">\n",
       "      <th></th>\n",
       "      <th>DATE</th>\n",
       "      <th>SLEEP SCORE</th>\n",
       "      <th>HOURS OF SLEEP</th>\n",
       "      <th>REM SLEEP</th>\n",
       "      <th>DEEP SLEEP</th>\n",
       "      <th>HEART RATE BELOW RESTING</th>\n",
       "      <th>SLEEP TIME</th>\n",
       "    </tr>\n",
       "  </thead>\n",
       "  <tbody>\n",
       "    <tr>\n",
       "      <th>0</th>\n",
       "      <td>04/01/2022</td>\n",
       "      <td>90</td>\n",
       "      <td>7.37</td>\n",
       "      <td>18</td>\n",
       "      <td>21</td>\n",
       "      <td>98</td>\n",
       "      <td>9:49pm - 6:01am</td>\n",
       "    </tr>\n",
       "    <tr>\n",
       "      <th>1</th>\n",
       "      <td>04/02/2022</td>\n",
       "      <td>89</td>\n",
       "      <td>8.67</td>\n",
       "      <td>21</td>\n",
       "      <td>21</td>\n",
       "      <td>73</td>\n",
       "      <td>9:50pm - 7:26am</td>\n",
       "    </tr>\n",
       "    <tr>\n",
       "      <th>2</th>\n",
       "      <td>04/03/2022</td>\n",
       "      <td>81</td>\n",
       "      <td>8.87</td>\n",
       "      <td>21</td>\n",
       "      <td>17</td>\n",
       "      <td>26</td>\n",
       "      <td>11:29pm - 9:54am</td>\n",
       "    </tr>\n",
       "    <tr>\n",
       "      <th>3</th>\n",
       "      <td>04/04/2022</td>\n",
       "      <td>83</td>\n",
       "      <td>6.83</td>\n",
       "      <td>17</td>\n",
       "      <td>19</td>\n",
       "      <td>99</td>\n",
       "      <td>10:12pm - 5:49am</td>\n",
       "    </tr>\n",
       "    <tr>\n",
       "      <th>4</th>\n",
       "      <td>04/05/2022</td>\n",
       "      <td>84</td>\n",
       "      <td>6.95</td>\n",
       "      <td>18</td>\n",
       "      <td>21</td>\n",
       "      <td>97</td>\n",
       "      <td>9:45pm - 5:43am</td>\n",
       "    </tr>\n",
       "  </tbody>\n",
       "</table>\n",
       "</div>"
      ],
      "text/plain": [
       "         DATE  SLEEP SCORE  HOURS OF SLEEP  REM SLEEP  DEEP SLEEP  \\\n",
       "0  04/01/2022           90            7.37         18          21   \n",
       "1  04/02/2022           89            8.67         21          21   \n",
       "2  04/03/2022           81            8.87         21          17   \n",
       "3  04/04/2022           83            6.83         17          19   \n",
       "4  04/05/2022           84            6.95         18          21   \n",
       "\n",
       "   HEART RATE BELOW RESTING        SLEEP TIME  \n",
       "0                        98   9:49pm - 6:01am  \n",
       "1                        73   9:50pm - 7:26am  \n",
       "2                        26  11:29pm - 9:54am  \n",
       "3                        99  10:12pm - 5:49am  \n",
       "4                        97   9:45pm - 5:43am  "
      ]
     },
     "execution_count": 14,
     "metadata": {},
     "output_type": "execute_result"
    }
   ],
   "source": [
    "# load the necessary libraries\n",
    "import numpy as np  \n",
    "import pandas as pd\n",
    "import matplotlib.pyplot as plt\n",
    "import seaborn as sns\n",
    "\n",
    "# set the style for seaborn\n",
    "sns.set(style=\"whitegrid\")\n",
    "\n",
    "# load the dataset\n",
    "df = pd.read_csv('./data/fitbit_sleepdata.csv')\n",
    "\n",
    "# inspect the first few rows of the dataset\n",
    "df.head()\n"
   ]
  },
  {
   "cell_type": "code",
   "execution_count": 15,
   "id": "05051fd2",
   "metadata": {},
   "outputs": [
    {
     "name": "stdout",
     "output_type": "stream",
     "text": [
      "<class 'pandas.core.frame.DataFrame'>\n",
      "RangeIndex: 179 entries, 0 to 178\n",
      "Data columns (total 7 columns):\n",
      " #   Column                    Non-Null Count  Dtype  \n",
      "---  ------                    --------------  -----  \n",
      " 0   DATE                      179 non-null    object \n",
      " 1   SLEEP SCORE               179 non-null    int64  \n",
      " 2   HOURS OF SLEEP            179 non-null    float64\n",
      " 3   REM SLEEP                 179 non-null    int64  \n",
      " 4   DEEP SLEEP                179 non-null    int64  \n",
      " 5   HEART RATE BELOW RESTING  179 non-null    int64  \n",
      " 6   SLEEP TIME                179 non-null    object \n",
      "dtypes: float64(1), int64(4), object(2)\n",
      "memory usage: 9.9+ KB\n"
     ]
    }
   ],
   "source": [
    "# check the data types of the columns\n",
    "df.info()"
   ]
  },
  {
   "cell_type": "code",
   "execution_count": 16,
   "id": "f7f4d111",
   "metadata": {},
   "outputs": [
    {
     "data": {
      "text/html": [
       "<div>\n",
       "<style scoped>\n",
       "    .dataframe tbody tr th:only-of-type {\n",
       "        vertical-align: middle;\n",
       "    }\n",
       "\n",
       "    .dataframe tbody tr th {\n",
       "        vertical-align: top;\n",
       "    }\n",
       "\n",
       "    .dataframe thead th {\n",
       "        text-align: right;\n",
       "    }\n",
       "</style>\n",
       "<table border=\"1\" class=\"dataframe\">\n",
       "  <thead>\n",
       "    <tr style=\"text-align: right;\">\n",
       "      <th></th>\n",
       "      <th>SLEEP SCORE</th>\n",
       "      <th>HOURS OF SLEEP</th>\n",
       "      <th>REM SLEEP</th>\n",
       "      <th>DEEP SLEEP</th>\n",
       "      <th>HEART RATE BELOW RESTING</th>\n",
       "    </tr>\n",
       "  </thead>\n",
       "  <tbody>\n",
       "    <tr>\n",
       "      <th>count</th>\n",
       "      <td>179.000000</td>\n",
       "      <td>179.000000</td>\n",
       "      <td>179.000000</td>\n",
       "      <td>179.000000</td>\n",
       "      <td>179.000000</td>\n",
       "    </tr>\n",
       "    <tr>\n",
       "      <th>mean</th>\n",
       "      <td>84.195531</td>\n",
       "      <td>7.562905</td>\n",
       "      <td>19.391061</td>\n",
       "      <td>17.139665</td>\n",
       "      <td>77.486034</td>\n",
       "    </tr>\n",
       "    <tr>\n",
       "      <th>std</th>\n",
       "      <td>6.299704</td>\n",
       "      <td>0.721927</td>\n",
       "      <td>3.915272</td>\n",
       "      <td>3.665439</td>\n",
       "      <td>22.091322</td>\n",
       "    </tr>\n",
       "    <tr>\n",
       "      <th>min</th>\n",
       "      <td>25.000000</td>\n",
       "      <td>4.220000</td>\n",
       "      <td>8.000000</td>\n",
       "      <td>0.000000</td>\n",
       "      <td>0.000000</td>\n",
       "    </tr>\n",
       "    <tr>\n",
       "      <th>25%</th>\n",
       "      <td>82.000000</td>\n",
       "      <td>7.120000</td>\n",
       "      <td>17.000000</td>\n",
       "      <td>15.000000</td>\n",
       "      <td>66.500000</td>\n",
       "    </tr>\n",
       "    <tr>\n",
       "      <th>50%</th>\n",
       "      <td>85.000000</td>\n",
       "      <td>7.530000</td>\n",
       "      <td>20.000000</td>\n",
       "      <td>17.000000</td>\n",
       "      <td>84.000000</td>\n",
       "    </tr>\n",
       "    <tr>\n",
       "      <th>75%</th>\n",
       "      <td>87.000000</td>\n",
       "      <td>8.030000</td>\n",
       "      <td>22.000000</td>\n",
       "      <td>19.000000</td>\n",
       "      <td>96.000000</td>\n",
       "    </tr>\n",
       "    <tr>\n",
       "      <th>max</th>\n",
       "      <td>93.000000</td>\n",
       "      <td>9.650000</td>\n",
       "      <td>31.000000</td>\n",
       "      <td>27.000000</td>\n",
       "      <td>100.000000</td>\n",
       "    </tr>\n",
       "  </tbody>\n",
       "</table>\n",
       "</div>"
      ],
      "text/plain": [
       "       SLEEP SCORE  HOURS OF SLEEP   REM SLEEP  DEEP SLEEP  \\\n",
       "count   179.000000      179.000000  179.000000  179.000000   \n",
       "mean     84.195531        7.562905   19.391061   17.139665   \n",
       "std       6.299704        0.721927    3.915272    3.665439   \n",
       "min      25.000000        4.220000    8.000000    0.000000   \n",
       "25%      82.000000        7.120000   17.000000   15.000000   \n",
       "50%      85.000000        7.530000   20.000000   17.000000   \n",
       "75%      87.000000        8.030000   22.000000   19.000000   \n",
       "max      93.000000        9.650000   31.000000   27.000000   \n",
       "\n",
       "       HEART RATE BELOW RESTING  \n",
       "count                179.000000  \n",
       "mean                  77.486034  \n",
       "std                   22.091322  \n",
       "min                    0.000000  \n",
       "25%                   66.500000  \n",
       "50%                   84.000000  \n",
       "75%                   96.000000  \n",
       "max                  100.000000  "
      ]
     },
     "execution_count": 16,
     "metadata": {},
     "output_type": "execute_result"
    }
   ],
   "source": [
    "# basic statistics of the dataset\n",
    "df.describe()"
   ]
  },
  {
   "cell_type": "code",
   "execution_count": 17,
   "id": "35c492ad",
   "metadata": {},
   "outputs": [],
   "source": [
    "# convert all column names to lowercase\n",
    "df.columns = df.columns.str.lower()\n",
    "\n",
    "# replace spaces in column names with underscores\n",
    "df.columns = df.columns.str.replace(' ', '_')"
   ]
  },
  {
   "cell_type": "code",
   "execution_count": 19,
   "id": "4698c623",
   "metadata": {},
   "outputs": [],
   "source": [
    "# transform the 'date' column to datetime format\n",
    "df['date'] = pd.to_datetime(df['date'])\n",
    "\n",
    "# set the 'date' column as the index\n",
    "df.set_index('date', inplace=True)"
   ]
  },
  {
   "cell_type": "code",
   "execution_count": 22,
   "id": "95f5438f",
   "metadata": {},
   "outputs": [
    {
     "name": "stdout",
     "output_type": "stream",
     "text": [
      "Unique values in sleep_time: ['9:49pm - 6:01am' '9:50pm - 7:26am' '11:29pm - 9:54am' '10:12pm - 5:49am'\n",
      " '9:45pm - 5:43am' '9:22pm - 6:14am' '10:05pm - 6:55am' '9:42pm - 6:36am'\n",
      " '11:27pm - 8:36am' '12:53am - 8:39am' '9:35pm - 6:02am' '9:52pm - 7:10am'\n",
      " '10:51pm - 8:02am' '9:35pm - 5:58am' '11:37pm - 8:52am' '9:43pm - 8:35am'\n",
      " '10:50pm - 7:21am' '10:14pm - 7:04am' '10:04pm - 7:08am'\n",
      " '12:37am - 8:42am' '10:36pm - 7:37am' '9:00pm - 5:54am'\n",
      " '10:10pm - 7:22am' '12:10am - 9:46am' '9:52pm - 6:55am' '9:32pm - 6:00am'\n",
      " '9:19pm - 5:49am' '10:02pm - 5:46am' '10:15pm - 7:24am'\n",
      " '11:08pm - 7:04am' '10:56pm - 7:20am' '10:45pm - 6:58am'\n",
      " '10:51pm - 7:02am' '9:53pm - 7:17am' '11:54pm - 8:16am'\n",
      " '11:28pm - 7:47am' '10:09pm - 7:18am' '11:40pm - 7:33' '10:47pm - 7:27am'\n",
      " '10:27pm - 7:07am' '11:44pm - 9:05am' '12:21am - 8:18am'\n",
      " '10:13pm - 7:47am' '11:19pm - 7:54am' '11:00pm - 6:58am'\n",
      " '12:38am - 8:18am' '11:54pm - 8:10am' '10:44pm - 8:16am'\n",
      " '11:57pm - 7:57am' '12:42am - 8:51am' '10:25pm - 8:01am'\n",
      " '11:01pm - 7:42am' '11:24pm - 9:18am' '11:20pm - 9:56am'\n",
      " '01:19am - 9:06am' '12:14am - 9:08am' '12:00am - 8:09am' '11:16pm - 7:02'\n",
      " '10:51pm - 7:09am' '11:34pm - 8:18am' '10:28pm - 7:29am'\n",
      " '10:18pm - 7:11am' '10:21pm - 6:50am' '11:00pm - 5:29am'\n",
      " '11:09pm - 9:56am' '12:41am - 8:20am' '12:12am - 8:05am'\n",
      " '10:33pm - 7:47am' '12:12am - 7:52am' '11:13pm - 7:45am'\n",
      " '10:24pm - 5:58am' '9:49pm - 7:44am' '10:43pm - 8:53am'\n",
      " '10:47pm - 8:08am' '12:48am - 8:36am' '12:16am - 8:29am'\n",
      " '11:17pm - 7:10am' '10:23pm - 7:33am' '11:06pm - 7:02am'\n",
      " '10:20pm - 7:47am' '10:12pm - 7:33am' '11:40pm - 8:53am'\n",
      " '10:34pm - 7:23am' '10:55pm - 7:31am' '10:23pm - 6:43am'\n",
      " '10:28pm - 7:15am' '11:05pm - 8:10am' '9:59pm - 8:11am'\n",
      " '10:58pm - 8:11am' '06:10am - 10:52am' '02:51am - 11:59am'\n",
      " '11:27pm - 08:28am' '10:52pm - 07:19am' '10:42pm - 06:57am'\n",
      " '11:59pm - 07:53am' '10:10pm - 5:58am' '11:04pm - 8:05am'\n",
      " '11:13pm - 8:06am' '10:37pm - 7:09am' '11:29pm - 7:13am'\n",
      " '10:37pm - 7:26am' '11:16pm - 7:35am' '10:59pm - 7:02am'\n",
      " '11:47pm - 8:03am' '10:49pm - 7:40am' '11:22pm - 8:27am'\n",
      " '11:04pm - 7:35am' '10:13pm - 7:02am' '11:35pm - 9:04am'\n",
      " '11:54pm - 7:22am' '10:47pm - 8:01am' '11:50pm - 8:51am'\n",
      " '10:27pm - 7:32am' '10:08pm - 7:02am' '10:41pm - 6:35am'\n",
      " '10:25pm - 6:07am' '10:20pm - 7:05am' '11:49pm - 8:26am'\n",
      " '10:27pm - 8:26am' '11:28pm - 7:50am' '11:32pm - 7:42am'\n",
      " '11:02pm - 7:41am' '11:07pm - 8:01am' '10:42pm - 8:44am'\n",
      " '11:33pm - 9:10am' '11:45pm - 8:29am' '1:40am - 8:14am'\n",
      " '12:22am - 9:47am' '11:01pm - 7:59am' '10:50pm - 8:13am'\n",
      " '12:42am - 9:16am' '11:47pm - 9:11am' '10:47pm - 7:16am'\n",
      " '10:46pm - 7:22am' '10:26pm - 7:10am' '10:32pm - 8:13am'\n",
      " '10:47pm - 6:58am' '11:57pm - 9:14am' '10:36pm - 8:13am'\n",
      " '10:58pm - 7:00am' '10:27pm - 6:46am' '11:42pm - 8:32am'\n",
      " '11:25pm - 8:42am' '10:52pm - 9:12am' '12:04am - 8:02am'\n",
      " '10:12pm - 5:51am' '10:00pm - 5:51am' '10:08pm - 5:29am'\n",
      " '9:41pm - 5:56am' '10:41pm - 7:54am' '10:40pm - 7:55am'\n",
      " '11:03pm - 7:16am' '10:55pm - 6:56am' '10:14pm - 9:01am' '11:21 - 8:45am'\n",
      " '11:18pm - 6:57am' '11:50pm - 7:40am' '11:14pm - 7:16am'\n",
      " '11:16pm - 7:29am' '10:47pm - 6:32am' '10:21pm - 6:47am'\n",
      " '11:34pm - 6:51am' '10:54pm - 6:48am' '10:45pm - 6:57am'\n",
      " '11-38pm - 8:23am' '11:50pm - 7:50am' '10:42pm - 6:51am'\n",
      " '10:49pm - 6:37am' '10:53pm - 7:59am' '11:13pm - 8:07am'\n",
      " '10:12pm - 7:32am' '11:53pm - 9:15am' '11:36pm - 7:13am'\n",
      " '12:50am - 8:27am' '12:53am - 10:35am' '12:51am - 10:04am'\n",
      " '12:02am - 6:59am' '11:00pm - 7:38am' '11:16pm - 7:06am']\n",
      "sleep_time: 179 unique values\n"
     ]
    }
   ],
   "source": [
    "# check the possible values for categorical columns\n",
    "\n",
    "for column in df.select_dtypes(include=['object']).columns:\n",
    "    print(f\"Unique values in {column}: {df[column].unique()}\") \n",
    "\n",
    "# check how many distinct values are in each column\n",
    "for column in df.select_dtypes(include=['object']).columns:\n",
    "    print(f\"{column}: {df[column].nunique()} unique values\")"
   ]
  },
  {
   "cell_type": "code",
   "execution_count": 25,
   "id": "bc1c3e5e",
   "metadata": {},
   "outputs": [
    {
     "data": {
      "image/png": "[encoded data removed]",
      "text/plain": [
       "<Figure size 1500x1000 with 5 Axes>"
      ]
     },
     "metadata": {},
     "output_type": "display_data"
    }
   ],
   "source": [
    "# plot the distribution of all features\n",
    "plt.figure(figsize=(15, 10))\n",
    "for i, column in enumerate(df.select_dtypes(exclude=[\"object\"]).columns):\n",
    "    plt.subplot(3, 3, i + 1)\n",
    "    sns.histplot(df[column], kde=True)\n",
    "    plt.title(column)\n",
    "plt.tight_layout()\n",
    "plt.show()"
   ]
  },
  {
   "cell_type": "markdown",
   "id": "873dfee5",
   "metadata": {},
   "source": [
    "## Part 01: REM Sleep | CI for numerical values"
   ]
  },
  {
   "cell_type": "code",
   "execution_count": 30,
   "id": "d69ec4e9",
   "metadata": {},
   "outputs": [
    {
     "name": "stdout",
     "output_type": "stream",
     "text": [
      "Mean REM Sleep: 19.39\n",
      "Standard Deviation of REM Sleep: 3.92\n",
      "Sample Size for REM Sleep: 179\n"
     ]
    }
   ],
   "source": [
    "# calculate the mean for the 'rem_sleep' column\n",
    "rem_sleep_mean = df['rem_sleep'].mean()\n",
    "print(f\"Mean REM Sleep: {rem_sleep_mean:.2f}\")\n",
    "\n",
    "# calculate the standard deviation for the 'rem_sleep' column\n",
    "rem_sleep_std = df['rem_sleep'].std()\n",
    "print(f\"Standard Deviation of REM Sleep: {rem_sleep_std:.2f}\")\n",
    "\n",
    "# calculate the sample size for the 'rem_sleep' column\n",
    "rem_sleep_count = df['rem_sleep'].count()\n",
    "print(f\"Sample Size for REM Sleep: {rem_sleep_count}\")\n"
   ]
  },
  {
   "cell_type": "code",
   "execution_count": 31,
   "id": "6831d24b",
   "metadata": {},
   "outputs": [
    {
     "name": "stdout",
     "output_type": "stream",
     "text": [
      "Z-score for 95% confidence interval: 1.96\n"
     ]
    }
   ],
   "source": [
    "# verify the z-score for a 95% confidence interval\n",
    "from scipy import stats\n",
    "z_score = stats.norm.ppf(0.975)  # two-tailed test for 95% CI\n",
    "print(f\"Z-score for 95% confidence interval: {z_score:.2f}\")"
   ]
  },
  {
   "cell_type": "code",
   "execution_count": 32,
   "id": "a2849cb8",
   "metadata": {},
   "outputs": [
    {
     "name": "stdout",
     "output_type": "stream",
     "text": [
      "Margin of Error: 0.57\n"
     ]
    }
   ],
   "source": [
    "# calculate the margin of error\n",
    "margin_of_error = z_score * (rem_sleep_std / np.sqrt(rem_sleep_count))\n",
    "print(f\"Margin of Error: {margin_of_error:.2f}\")"
   ]
  },
  {
   "cell_type": "code",
   "execution_count": 33,
   "id": "b574b05a",
   "metadata": {},
   "outputs": [
    {
     "name": "stdout",
     "output_type": "stream",
     "text": [
      "95% Confidence Interval for REM Sleep: (18.82, 19.96)\n"
     ]
    }
   ],
   "source": [
    "#  calculate the upper and lower bounds of the confidence interval\n",
    "confidence_interval_lower = rem_sleep_mean - margin_of_error\n",
    "confidence_interval_upper = rem_sleep_mean + margin_of_error\n",
    "print(f\"95% Confidence Interval for REM Sleep: ({confidence_interval_lower:.2f}, {confidence_interval_upper:.2f})\")"
   ]
  },
  {
   "cell_type": "code",
   "execution_count": 34,
   "id": "65b3729e",
   "metadata": {},
   "outputs": [
    {
     "name": "stdout",
     "output_type": "stream",
     "text": [
      "Z-score for 90% confidence interval: 1.64\n"
     ]
    }
   ],
   "source": [
    "# verify the z-score for a 90% confidence interval\n",
    "z_score_90 = stats.norm.ppf(0.95)  # two-tailed test for 90% CI\n",
    "\n",
    "# remember here we have alpha = 0.1, so we use 0.95 for the upper tail (1 - alpha/2)\n",
    "print(f\"Z-score for 90% confidence interval: {z_score_90:.2f}\")"
   ]
  },
  {
   "cell_type": "code",
   "execution_count": null,
   "id": "6abc7443",
   "metadata": {},
   "outputs": [
    {
     "name": "stdout",
     "output_type": "stream",
     "text": [
      "Margin of Error for 90% Confidence Interval: 0.48\n"
     ]
    }
   ],
   "source": [
    "# calculate the margin of error for the 90% confidence interval\n",
    "margin_of_error_90 = z_score_90 * (rem_sleep_std / np.sqrt(rem_sleep_count))\n",
    "print(f\"Margin of Error for 90% Confidence Interval: {margin_of_error_90:.2f}\")\n",
    "\n"
   ]
  },
  {
   "cell_type": "code",
   "execution_count": 39,
   "id": "1f570664",
   "metadata": {},
   "outputs": [
    {
     "name": "stdout",
     "output_type": "stream",
     "text": [
      "90% Confidence Interval for REM Sleep: (18.91, 19.87)\n",
      "We are 90% confident that the true mean lies between 18.91 and 19.87.\n"
     ]
    }
   ],
   "source": [
    "# calculate the upper and lower bounds of the 90% confidence interval\n",
    "confidence_interval_lower_90 = rem_sleep_mean - margin_of_error_90\n",
    "confidence_interval_upper_90 = rem_sleep_mean + margin_of_error_90\n",
    "print(f\"90% Confidence Interval for REM Sleep: ({confidence_interval_lower_90:.2f}, {confidence_interval_upper_90:.2f})\")\n",
    "\n",
    "print(\"We are 90% confident that the true mean lies between 18.91 and 19.87.\")"
   ]
  },
  {
   "cell_type": "markdown",
   "id": "b14ff454",
   "metadata": {},
   "source": [
    "**Reflect:**\n",
    "    \n",
    "- **a. Which is the narrower interval? Why?**\n",
    "    - The 90% confidence interval is narrower because your confidence interval has lower certainty. Hence, the range of values that need to be included is smaller, leading to a narrower interval.\n",
    "- **b. What can you say about the center of the intervals?**\n",
    "    - The center of the intervals is the same in both cases because, independently to your level of confidence, you are moving one margin of error to the left and to the right from the mean. \n",
    "\n",
    "- **c. Can you be confident that your friend is having issues with their REM sleep? (Is it below 20%?)**\n",
    "    - It certainly seems that way, but in order to verify this hypothesis you will need to use a statistical testing technique that you will learn in the next module!"
   ]
  },
  {
   "cell_type": "markdown",
   "id": "6f9088cd",
   "metadata": {},
   "source": [
    "## Part 02: Hours of Sleep | CI for proportions\n",
    "\n",
    "It is known that you need at least 7 hours of sleep per night for a healthy lifestyle. Let's find a confidence interval for the proportion of nights your friend actually sleeps more than 7 hours."
   ]
  },
  {
   "cell_type": "code",
   "execution_count": 40,
   "id": "9d248542",
   "metadata": {},
   "outputs": [
    {
     "name": "stdout",
     "output_type": "stream",
     "text": [
      "Sample Size: 179\n"
     ]
    }
   ],
   "source": [
    "# calculate the sample size of the dataset\n",
    "sample_size = df.shape[0]\n",
    "print(f\"Sample Size: {sample_size}\")"
   ]
  },
  {
   "cell_type": "code",
   "execution_count": 41,
   "id": "7c076bef",
   "metadata": {},
   "outputs": [
    {
     "name": "stdout",
     "output_type": "stream",
     "text": [
      "Nights with more than 7 hours of sleep: 140\n"
     ]
    }
   ],
   "source": [
    "# calculate the number of nights your friend slept more than 7 hours\n",
    "nights_more_than_7_hours = df[df['hours_of_sleep'] > 7].shape[0]\n",
    "print(f\"Nights with more than 7 hours of sleep: {nights_more_than_7_hours}\")"
   ]
  },
  {
   "cell_type": "code",
   "execution_count": 42,
   "id": "5afd2b26",
   "metadata": {},
   "outputs": [
    {
     "name": "stdout",
     "output_type": "stream",
     "text": [
      "Proportion of nights with more than 7 hours of sleep: 0.78\n"
     ]
    }
   ],
   "source": [
    "# calculate the proportion of nights your friend slept more than 7 hours\n",
    "proportion_more_than_7_hours = nights_more_than_7_hours / sample_size\n",
    "print(f\"Proportion of nights with more than 7 hours of sleep: {proportion_more_than_7_hours:.2f}\")"
   ]
  },
  {
   "cell_type": "code",
   "execution_count": null,
   "id": "99c1aa75",
   "metadata": {},
   "outputs": [
    {
     "name": "stdout",
     "output_type": "stream",
     "text": [
      "Z-score for 95% confidence interval: 1.96\n"
     ]
    }
   ],
   "source": [
    "# verify the z-score for a 95% confidence interval\n",
    "z_score = stats.norm.ppf(0.975)  # two-tailed test for 95% CI\n",
    "print(f\"Z-score for 95% confidence interval: {z_score:.2f}\")"
   ]
  },
  {
   "cell_type": "code",
   "execution_count": 49,
   "id": "2b2410c8",
   "metadata": {},
   "outputs": [
    {
     "name": "stdout",
     "output_type": "stream",
     "text": [
      "Margin of Error: 0.06\n"
     ]
    }
   ],
   "source": [
    "margin_of_error = z_score * np.sqrt((proportion_more_than_7_hours * (1 - proportion_more_than_7_hours)) / sample_size)\n",
    "print(f\"Margin of Error: {margin_of_error:.2f}\")"
   ]
  },
  {
   "cell_type": "code",
   "execution_count": 50,
   "id": "7f9fee37",
   "metadata": {},
   "outputs": [
    {
     "name": "stdout",
     "output_type": "stream",
     "text": [
      "95% Confidence Interval for Proportion of Nights with More than 7 Hours of Sleep: (0.72, 0.84)\n"
     ]
    }
   ],
   "source": [
    "# calculate the lower and upper bounds of the confidence interval\n",
    "confidence_interval_lower = proportion_more_than_7_hours - margin_of_error\n",
    "confidence_interval_upper = proportion_more_than_7_hours + margin_of_error\n",
    "print(f\"95% Confidence Interval for Proportion of Nights with More than 7 Hours of Sleep: ({confidence_interval_lower:.2f}, {confidence_interval_upper:.2f})\") "
   ]
  },
  {
   "cell_type": "code",
   "execution_count": 51,
   "id": "11baff71",
   "metadata": {},
   "outputs": [
    {
     "name": "stdout",
     "output_type": "stream",
     "text": [
      "Z-score for 99% confidence interval: 2.58\n"
     ]
    }
   ],
   "source": [
    "# z-score for 99% confidence interval\n",
    "z_score_99 = stats.norm.ppf(0.995)  # two-tailed test for 99% CI\n",
    "print(f\"Z-score for 99% confidence interval: {z_score_99:.2f}\")"
   ]
  },
  {
   "cell_type": "code",
   "execution_count": 52,
   "id": "2a662b01",
   "metadata": {},
   "outputs": [
    {
     "name": "stdout",
     "output_type": "stream",
     "text": [
      "Margin of Error for 99% Confidence Interval: 0.08\n",
      "99% Confidence Interval for Proportion of Nights with More than 7 Hours of Sleep: (0.70, 0.86)\n"
     ]
    }
   ],
   "source": [
    "# margin of error for 99% confidence interval\n",
    "margin_of_error_99 = z_score_99 * np.sqrt((proportion_more_than_7_hours * (1 - proportion_more_than_7_hours)) / sample_size)\n",
    "print(f\"Margin of Error for 99% Confidence Interval: {margin_of_error_99:.2f}\")\n",
    "\n",
    "# calculate the lower and upper bounds of the 99% confidence interval\n",
    "confidence_interval_lower_99 = proportion_more_than_7_hours - margin_of_error_99\n",
    "confidence_interval_upper_99 = proportion_more_than_7_hours + margin_of_error_99\n",
    "print(f\"99% Confidence Interval for Proportion of Nights with More than 7 Hours of Sleep: ({confidence_interval_lower_99:.2f}, {confidence_interval_upper_99:.2f})\")    \n",
    "\n"
   ]
  },
  {
   "cell_type": "markdown",
   "id": "0c5eaf38",
   "metadata": {},
   "source": [
    "## Part 03: REM Sleep | Hypothesis testing\n",
    "\n",
    "Recall that REM sleep is crucial for cognitive functions like memory consolidation, emotional regulation, and learning, and stress might reduce REM sleep. Normally, REM sleep should account for 20-25% of a person's sleep time, however, if a person is undergoing significant stress, this may be reduced to 15-20%. From the confidence interval you calculated in an earlier practice lab, it seems that your friend isn't doing too great on the REM sleep front. Let's try to confirm this hypothesis with a statistical test."
   ]
  },
  {
   "cell_type": "code",
   "execution_count": 68,
   "id": "6f92b070",
   "metadata": {},
   "outputs": [
    {
     "name": "stdout",
     "output_type": "stream",
     "text": [
      "Hypothesized Mean for REM Sleep: 20.00\n",
      "Mean REM Sleep: 19.39\n",
      "Standard Deviation of REM Sleep: 3.92\n",
      "Sample Size for REM Sleep: 179\n",
      "T-statistic for REM Sleep: -2.08\n",
      "P-value for REM Sleep: 0.0187\n",
      "P-value for REM Sleep (t-distribution): 0.0194\n"
     ]
    }
   ],
   "source": [
    "# set the hypothesized mean for REM sleep\n",
    "# h0 U=20\n",
    "# h1 U<20\n",
    "hypothesized_mean = 20  # 20% of total sleep time\n",
    "print(f\"Hypothesized Mean for REM Sleep: {hypothesized_mean:.2f}\")\n",
    "\n",
    "# this is a left-tailed test, so we will use the z-score for a one-tailed test\n",
    "\n",
    "rem_sleep_mean = df['rem_sleep'].mean() \n",
    "rem_sleep_std = df['rem_sleep'].std()\n",
    "rem_sleep_count = df['rem_sleep'].count()\n",
    "\n",
    "print(f\"Mean REM Sleep: {rem_sleep_mean:.2f}\")\n",
    "print(f\"Standard Deviation of REM Sleep: {rem_sleep_std:.2f}\")\n",
    "print(f\"Sample Size for REM Sleep: {rem_sleep_count}\")\n",
    "\n",
    "# t-statistic for rem sleep\n",
    "t_statistic = (rem_sleep_mean - hypothesized_mean) / (rem_sleep_std / np.sqrt(rem_sleep_count))\n",
    "print(f\"T-statistic for REM Sleep: {t_statistic:.2f}\")\n",
    "\n",
    "# p-value for normal distribution (using the cumulative distribution function)\n",
    "p_norm = stats.norm.cdf(t_statistic)  # left-tailed test\n",
    "print(f\"P-value for REM Sleep: {p_norm:.4f}\")\n",
    "\n",
    "#p-value from t-distribution (exact the unknown sigma)\n",
    "p_t = stats.t.cdf(t_statistic, df=rem_sleep_count-1)  # left-tailed test\n",
    "print(f\"P-value for REM Sleep (t-distribution): {p_t:.4f}\")\n"
   ]
  },
  {
   "cell_type": "markdown",
   "id": "edd27b37",
   "metadata": {},
   "source": [
    "Answer the following questions:\n",
    "- **a. Can you reject the null hypothesis with a 5% significance level?**\n",
    "     Yes, you can as the p-value is smaller than 0.05\n",
    "- **b. What about with a 1% significance level?**\n",
    "    No, you you don't have enough evidence against the null hypothesis becauses the p-value is bigger than the 0.01 significance level\n",
    "- **c. Do any of these conclusions change if you look at the p-value obtained from the normal or t distributions?**\n",
    "    No, they don't change. There is very little difference between the two p-values.\n",
    "- **d. Which confidence level would have a higher false negative rate, 1% or 5%?**\n",
    "    The 1% confidence level is associated with a higher false negative rate, because it is a more rigorous test. You're more likely to miss a true effect due to your high threshold for evidence."
   ]
  },
  {
   "cell_type": "markdown",
   "id": "1c593098",
   "metadata": {},
   "source": [
    "## Part 04: Hours of sleep | Hypothesis testing\n",
    "\n",
    "It is known that you need at least 7 hours of sleep per night for a healthy lifestyle. Following the analysis you performed earlier in the course, let's confirm your findings with some hypothesis testing! In this exercise you will be testing the proportion of nights your friend is actually getting enough sleep."
   ]
  },
  {
   "cell_type": "code",
   "execution_count": 70,
   "id": "b0a05b36",
   "metadata": {},
   "outputs": [
    {
     "name": "stdout",
     "output_type": "stream",
     "text": [
      "Nights with more than 7 hours of sleep: 140\n",
      "Proportion of nights with more than 7 hours of sleep: 0.78\n"
     ]
    }
   ],
   "source": [
    "# set the hypothesized mean for hours of sleep\n",
    "# test if friend sleeps more than 7 hours at least 75% of the time\n",
    "# h0 U=0.75\n",
    "# h1 U>0.75\n",
    "hypothesized_mean_hours = 0.75\n",
    "\n",
    "# calculate the number of nights your friend slept more than 7 hours\n",
    "nights_more_than_7_hours = df[df['hours_of_sleep'] > 7].shape[0]\n",
    "print(f\"Nights with more than 7 hours of sleep: {nights_more_than_7_hours}\")\n",
    "# calculate the proportion of nights your friend slept more than 7 hours\n",
    "proportion_more_than_7_hours = nights_more_than_7_hours / sample_size\n",
    "print(f\"Proportion of nights with more than 7 hours of sleep: {proportion_more_than_7_hours:.2f}\")"
   ]
  },
  {
   "cell_type": "code",
   "execution_count": 72,
   "id": "813525dc",
   "metadata": {},
   "outputs": [
    {
     "name": "stdout",
     "output_type": "stream",
     "text": [
      "T-statistic for Proportion of Nights with More than 7 Hours of Sleep: 1.04\n",
      "P-value for Proportion of Nights with More than 7 Hours of Sleep: 0.1489\n",
      "P-value for Proportion of Nights with More than 7 Hours of Sleep (t-distribution): 0.1496\n"
     ]
    }
   ],
   "source": [
    "# calculate the  t-statistic for the proportion of nights with more than 7 hours of sleep\n",
    "t_statistic_hours = (proportion_more_than_7_hours - hypothesized_mean_hours) / np.sqrt((proportion_more_than_7_hours * (1 - proportion_more_than_7_hours)) / sample_size)\n",
    "print(f\"T-statistic for Proportion of Nights with More than 7 Hours of Sleep: {t_statistic_hours:.2f}\")\n",
    "\n",
    "# p-value for normal distribution (using the cumulative distribution function)\n",
    "p_norm_hours = 1 - stats.norm.cdf(t_statistic_hours)  # right-tailed test\n",
    "print(f\"P-value for Proportion of Nights with More than 7 Hours of Sleep: {p_norm_hours:.4f}\")\n",
    "\n",
    "# p-value from t-distribution (exact the unknown sigma)\n",
    "p_t_hours = 1 - stats.t.cdf(t_statistic_hours, df=sample_size-1)  # right-tailed test\n",
    "print(f\"P-value for Proportion of Nights with More than 7 Hours of Sleep (t-distribution): {p_t_hours:.4f}\")\n"
   ]
  },
  {
   "cell_type": "markdown",
   "id": "8992b6b8",
   "metadata": {},
   "source": [
    "**Can you reject the null hypothesis with a 5% significance level? What about 10%?**\n",
    "\n",
    "Since the p-value is pretty high you can not reject the null hypothesis neither with 5% nor 10% significance level"
   ]
  }
 ],
 "metadata": {
  "kernelspec": {
   "display_name": "base",
   "language": "python",
   "name": "python3"
  },
  "language_info": {
   "codemirror_mode": {
    "name": "ipython",
    "version": 3
   },
   "file_extension": ".py",
   "mimetype": "text/x-python",
   "name": "python",
   "nbconvert_exporter": "python",
   "pygments_lexer": "ipython3",
   "version": "3.12.2"
  }
 },
 "nbformat": 4,
 "nbformat_minor": 5
}
