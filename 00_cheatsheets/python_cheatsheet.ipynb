{
 "cells": [
  {
   "cell_type": "markdown",
   "id": "0d6d024a",
   "metadata": {},
   "source": [
    "# Python CheatSheet\n",
    "\n",
    "📚 **Index**\n",
    "\n",
    "- [**Basic Data Analysis**](#basic-data-analysis)\n",
    "- [**Selection**](#selection)\n",
    "- [**DateTimes Series in Pandas**](#datetimes-series-in-pandas)\n",
    "- [**Plotting**](#plotting)\n",
    "- [**Time series in Pandas**](#time-series-in-pandas)\n",
    "- [**Time series forecasting with Linear Regression**](#time-series-forecasting-with-linear-regression)\n",
    "    - [Linear Regression setup](#linear-regression-setup)"
   ]
  },
  {
   "cell_type": "code",
   "execution_count": 8,
   "id": "5eda47cb",
   "metadata": {},
   "outputs": [
    {
     "name": "stderr",
     "output_type": "stream",
     "text": [
      "/var/folders/55/x1yqz6851xj6j2f0smdhs4jh0000gn/T/ipykernel_25806/4135019564.py:7: FutureWarning: 'M' is deprecated and will be removed in a future version, please use 'ME' instead.\n",
      "  dates = pd.date_range('2024-01-01', periods=12, freq='M')\n"
     ]
    },
    {
     "data": {
      "text/html": [
       "<div>\n",
       "<style scoped>\n",
       "    .dataframe tbody tr th:only-of-type {\n",
       "        vertical-align: middle;\n",
       "    }\n",
       "\n",
       "    .dataframe tbody tr th {\n",
       "        vertical-align: top;\n",
       "    }\n",
       "\n",
       "    .dataframe thead th {\n",
       "        text-align: right;\n",
       "    }\n",
       "</style>\n",
       "<table border=\"1\" class=\"dataframe\">\n",
       "  <thead>\n",
       "    <tr style=\"text-align: right;\">\n",
       "      <th></th>\n",
       "      <th>id</th>\n",
       "      <th>date</th>\n",
       "      <th>city</th>\n",
       "      <th>product</th>\n",
       "      <th>units</th>\n",
       "      <th>price</th>\n",
       "      <th>revenue</th>\n",
       "    </tr>\n",
       "  </thead>\n",
       "  <tbody>\n",
       "    <tr>\n",
       "      <th>0</th>\n",
       "      <td>1000</td>\n",
       "      <td>2024-01-31</td>\n",
       "      <td>Amsterdam</td>\n",
       "      <td>Widget</td>\n",
       "      <td>2</td>\n",
       "      <td>24.75</td>\n",
       "      <td>49.50</td>\n",
       "    </tr>\n",
       "    <tr>\n",
       "      <th>1</th>\n",
       "      <td>1001</td>\n",
       "      <td>2024-01-31</td>\n",
       "      <td>Amsterdam</td>\n",
       "      <td>Gadget</td>\n",
       "      <td>15</td>\n",
       "      <td>43.64</td>\n",
       "      <td>654.60</td>\n",
       "    </tr>\n",
       "    <tr>\n",
       "      <th>2</th>\n",
       "      <td>1002</td>\n",
       "      <td>2024-01-31</td>\n",
       "      <td>Amsterdam</td>\n",
       "      <td>Doohickey</td>\n",
       "      <td>2</td>\n",
       "      <td>9.24</td>\n",
       "      <td>18.48</td>\n",
       "    </tr>\n",
       "    <tr>\n",
       "      <th>3</th>\n",
       "      <td>1003</td>\n",
       "      <td>2024-01-31</td>\n",
       "      <td>Rotterdam</td>\n",
       "      <td>Widget</td>\n",
       "      <td>14</td>\n",
       "      <td>48.90</td>\n",
       "      <td>684.60</td>\n",
       "    </tr>\n",
       "    <tr>\n",
       "      <th>4</th>\n",
       "      <td>1004</td>\n",
       "      <td>2024-01-31</td>\n",
       "      <td>Rotterdam</td>\n",
       "      <td>Gadget</td>\n",
       "      <td>14</td>\n",
       "      <td>40.37</td>\n",
       "      <td>565.18</td>\n",
       "    </tr>\n",
       "  </tbody>\n",
       "</table>\n",
       "</div>"
      ],
      "text/plain": [
       "     id       date       city    product  units  price  revenue\n",
       "0  1000 2024-01-31  Amsterdam     Widget      2  24.75    49.50\n",
       "1  1001 2024-01-31  Amsterdam     Gadget     15  43.64   654.60\n",
       "2  1002 2024-01-31  Amsterdam  Doohickey      2   9.24    18.48\n",
       "3  1003 2024-01-31  Rotterdam     Widget     14  48.90   684.60\n",
       "4  1004 2024-01-31  Rotterdam     Gadget     14  40.37   565.18"
      ]
     },
     "execution_count": 8,
     "metadata": {},
     "output_type": "execute_result"
    }
   ],
   "source": [
    "# dataset for using examples below\n",
    "import pandas as pd\n",
    "import numpy as np\n",
    "\n",
    "# Reusable sample dataset for this cheatsheet (deterministic)\n",
    "rng = np.random.default_rng(42)\n",
    "dates = pd.date_range('2024-01-01', periods=12, freq='M')\n",
    "cities = ['Amsterdam', 'Rotterdam', 'Utrecht']\n",
    "products = ['Widget', 'Gadget', 'Doohickey']\n",
    "\n",
    "records = []\n",
    "_id = 1000\n",
    "for d in dates:\n",
    "    for c in cities:\n",
    "        for p in products:\n",
    "            units = int(rng.integers(1, 20))\n",
    "            price = float(np.round(rng.uniform(5, 50), 2))\n",
    "            records.append({\n",
    "                'id': _id,\n",
    "                'date': d,\n",
    "                'city': c,\n",
    "                'product': p,\n",
    "                'units': units,\n",
    "                'price': price,\n",
    "                'revenue': float(np.round(units * price, 2))\n",
    "            })\n",
    "            _id += 1\n",
    "\n",
    "df = pd.DataFrame(records)\n",
    "# Quick peek so you can verify it's there\n",
    "df.head()"
   ]
  },
  {
   "cell_type": "code",
   "execution_count": 9,
   "id": "22d741c0",
   "metadata": {},
   "outputs": [],
   "source": [
    "# Creating indexes (without modifying the original `df`)\n",
    "# 1) Single-column index by unique id\n",
    "df_by_id = df.set_index('id').sort_index()\n",
    "\n",
    "# 2) Time index (useful for resampling, rolling windows, etc.)\n",
    "df_by_date = df.set_index('date').sort_index()\n",
    "\n",
    "# 3) MultiIndex by city and product\n",
    "df_city_product = df.set_index(['city', 'product']).sort_index()\n",
    "\n",
    "# If you ever want to bring the index back as columns, use reset_index():\n",
    "# df_by_id = df_by_id.reset_index()"
   ]
  },
  {
   "cell_type": "markdown",
   "id": "5387164a",
   "metadata": {},
   "source": [
    "## **Basic Data analysis**\n",
    "\n",
    "- `.head()` returns the first few rows of the dataframe.\n",
    "\n",
    "- `.info()` gives you basic information about the dataframe.\n",
    "\n",
    "- `.shape()` gives you the shape (dimensions) of the dataframe.\n",
    "\n",
    "- `.columns` gives you all the column names.\n",
    "\n",
    "- Descriptive Analysis: `.mean()`, `.median()`, `.mode()``\n",
    "\n",
    "- Counting data by category: `.value_counts()``\n",
    "\n",
    "- Grouping the data: `df.groupby('column').sum()`\n",
    "\n"
   ]
  },
  {
   "cell_type": "markdown",
   "id": "b40a315e",
   "metadata": {},
   "source": [
    "## **Selection**\n",
    "\n",
    "- Use Brackets ( ‘[ ]’ ): For quick column selection and simple boolean row filtering.\n",
    "    - `names = df[\"Name\"]` or `older_than_25 = df[df[\"age\"]>25]`\n",
    "\n",
    "- Use `at`: For fast access to a single scalar value. To access the value in row 2, column \"A\", you would use:\n",
    "    - `value = df.at[2, \"A\"]`\n",
    "\n",
    "\n",
    "- Use loc: For label-based selection and conditional filtering.\n",
    "    - Exemplo 01: Select rows based on a condition: `df_selection = df[df[Age]>30]`\n",
    "    - Exemplo 02: Select first 3 rows and 2 specific columns `df_selection = df[0:3, [\"Age\", \"Country\"]]`\n",
    "\n",
    "- Use iloc: For integer-based selection by position.\n",
    "    - Exemplo: `subset = df.loc[0:3, 0:2]`, gets the first 3 rows and the first 2 columns\n",
    "\n",
    "- Use query: For spreadsheet-like, readable filtering expressions.\n",
    "    - Exemplo: `subset = df.query(\"Age >30\")` "
   ]
  },
  {
   "cell_type": "markdown",
   "id": "78d69c07",
   "metadata": {},
   "source": [
    "## **DateTimes Series in Pandas**\n",
    "\n",
    "- Date Formatter String options\n",
    "\n",
    "```\n",
    "%y - Last two digits of the year\n",
    "%Y - Full year with century\n",
    "%m - Month as zero-padded number\n",
    "%d - Day as a zero-padded number\n",
    "%b - Abbreviated month name\n",
    "\n",
    "```\n",
    "\n",
    "- Convert Strings to DataTime"
   ]
  },
  {
   "cell_type": "code",
   "execution_count": 10,
   "id": "dfb43883",
   "metadata": {},
   "outputs": [],
   "source": [
    "df[\"date\"] = pd.to_datetime(df[\"date\"])"
   ]
  },
  {
   "cell_type": "markdown",
   "id": "986a7a96",
   "metadata": {},
   "source": [
    "- Use `DateTime` as index"
   ]
  },
  {
   "cell_type": "code",
   "execution_count": 11,
   "id": "4db091e4",
   "metadata": {},
   "outputs": [],
   "source": [
    "df_withindex = df.set_index(\"date\")"
   ]
  },
  {
   "cell_type": "markdown",
   "id": "c2cd4fe5",
   "metadata": {},
   "source": [
    "- Check datatypes"
   ]
  },
  {
   "cell_type": "code",
   "execution_count": 12,
   "id": "83b37478",
   "metadata": {},
   "outputs": [
    {
     "name": "stdout",
     "output_type": "stream",
     "text": [
      "id                  int64\n",
      "date       datetime64[ns]\n",
      "city               object\n",
      "product            object\n",
      "units               int64\n",
      "price             float64\n",
      "revenue           float64\n",
      "dtype: object\n"
     ]
    }
   ],
   "source": [
    "print(df.dtypes)"
   ]
  },
  {
   "cell_type": "markdown",
   "id": "ab12e938",
   "metadata": {},
   "source": [
    "- Accessing Date components"
   ]
  },
  {
   "cell_type": "code",
   "execution_count": 14,
   "id": "2ef860fc",
   "metadata": {},
   "outputs": [
    {
     "name": "stdout",
     "output_type": "stream",
     "text": [
      "day: 31, month: 1, year: 2024, weekday: 2\n"
     ]
    }
   ],
   "source": [
    "# For a single date\n",
    "year = df[\"date\"][0].year\n",
    "month = df[\"date\"][0].month\n",
    "day = df[\"date\"][0].day\n",
    "weekday = df[\"date\"][0].weekday()\n",
    "\n",
    "print(f\"day: {day}, month: {month}, year: {year}, weekday: {weekday}\")\n",
    "\n",
    "# For a Series of dates\n",
    "days = df[\"date\"].dt.day\n"
   ]
  },
  {
   "cell_type": "markdown",
   "id": "8b959a9e",
   "metadata": {},
   "source": [
    "- Using `inplace` argument to modify a df directly"
   ]
  },
  {
   "cell_type": "code",
   "execution_count": null,
   "id": "acd12454",
   "metadata": {},
   "outputs": [],
   "source": [
    "# Setting index without using \"inplace\"\n",
    "# You need to save what the method returns to a variable\n",
    "df = df.set_index(\"date\")\n",
    "# You can also save it to a variable with a different name\n",
    "df_indexed = df.set_index(\"date\")\n",
    "\n",
    "# Setting index with inplace=True\n",
    "# The dataframe stored in the variable df changes directly\n",
    "df.set_index(\"date\", inplace=True)"
   ]
  },
  {
   "cell_type": "markdown",
   "id": "31f857ca",
   "metadata": {},
   "source": [
    "- Selecting data by a date"
   ]
  },
  {
   "cell_type": "code",
   "execution_count": null,
   "id": "baef9dfe",
   "metadata": {},
   "outputs": [],
   "source": [
    "data_on_date = df.loc[\"2020-02-03\"]\n",
    "\n",
    "# Select a date range\n",
    "february_2020 = df.loc[\"2020-02-01\":\"2020-02-28\"]"
   ]
  },
  {
   "cell_type": "markdown",
   "id": "86cc13e1",
   "metadata": {},
   "source": [
    "## **Plotting**\n",
    "\n",
    "- Plotting Time Series Data"
   ]
  },
  {
   "cell_type": "code",
   "execution_count": null,
   "id": "d6a8ea89",
   "metadata": {},
   "outputs": [],
   "source": [
    "import seaborn as sns\n",
    "\n",
    "sns.lineplot(df, x=df.index, y=\"adjusted_close\")\n",
    "plt.show()"
   ]
  },
  {
   "cell_type": "markdown",
   "id": "86dcccef",
   "metadata": {},
   "source": [
    "- Plotting multiple series"
   ]
  },
  {
   "cell_type": "code",
   "execution_count": null,
   "id": "82f4424d",
   "metadata": {},
   "outputs": [],
   "source": [
    "sns.lineplot(data=df[\"2020-01\"], x=df[\"2020-01\"].index.day, y=\"adjusted_close\", label=\"January\")\n",
    "sns.lineplot(data=df[\"2020-02\"], x=df[\"2020-02\"].index.day, y=\"adjusted_close\", label=\"February\", color=\"red\", linestyle=\"--\")\n",
    "sns.lineplot(data=df[\"2020-03\"], x=df[\"2020-03\"].index.day, y=\"adjusted_close\", label=\"March\", color=\"darkgray\")\n",
    "plt.legend()\n",
    "plt.show()"
   ]
  },
  {
   "cell_type": "markdown",
   "id": "c438e25e",
   "metadata": {},
   "source": [
    "- Formatting Date Axis Labels"
   ]
  },
  {
   "cell_type": "code",
   "execution_count": null,
   "id": "e5410ffe",
   "metadata": {},
   "outputs": [],
   "source": [
    "#Import Matplotlib Dates\n",
    "import matplotlib.dates as mdates\n",
    "ax = sns.lineplot(data=df, x=df.index, y=\"adjusted_close\", color=\"#FF9900\")\n",
    "ax.xaxis.set_major_locator(mdates.YearLocator())\n",
    "ax.xaxis.set_major_formatter(mdates.DateFormatter(\"%y\"))\n",
    "plt.show()"
   ]
  },
  {
   "cell_type": "markdown",
   "id": "a8a76ca9",
   "metadata": {},
   "source": [
    "- Highlight reference lines"
   ]
  },
  {
   "cell_type": "code",
   "execution_count": null,
   "id": "2acb8f97",
   "metadata": {},
   "outputs": [],
   "source": [
    "# Add horizontal reference lines\n",
    "plt.axhline(y=value, color=\"color\", linestyle=\"style\")"
   ]
  },
  {
   "cell_type": "markdown",
   "id": "84bc11b6",
   "metadata": {},
   "source": [
    "## **Time series in Pandas**\n",
    "\n",
    "- **Calculate Moving Average**: Use `.rolling()` method to calculate a moving average on a Pandas series.\n",
    "\n"
   ]
  },
  {
   "cell_type": "code",
   "execution_count": null,
   "id": "86ae61d6",
   "metadata": {},
   "outputs": [],
   "source": [
    "df[\"rolling_avg_column\"] = df[\"column_name\"].rolling(window=10).mean()\n",
    "\n",
    "# plotting with seaborn\n",
    "sns.lineplot(df[\"rolling_avg_column\"])"
   ]
  },
  {
   "cell_type": "markdown",
   "id": "aaf2772b",
   "metadata": {},
   "source": [
    "- **Percent Change**: Use `pct_change()`"
   ]
  },
  {
   "cell_type": "code",
   "execution_count": null,
   "id": "0410562f",
   "metadata": {},
   "outputs": [],
   "source": [
    "df[\"pct_change_column\"] = df[\"column_name\"].pct_change()\n",
    "\n",
    "# filter for a specific percent change\n",
    "# Filter rows with significant change (< -0.05) and store in new DataFrame\n",
    "significant_changes_df = df[df[\"pct_change_column\"] < -0.05]\n",
    "\n",
    "# plotting percent change\n",
    "sns.lineplot(df[\"pct_change_column\"])"
   ]
  },
  {
   "cell_type": "markdown",
   "id": "97e80467",
   "metadata": {},
   "source": [
    "## **Time series forecasting with Linear Regression**\n",
    "\n",
    "- Convert Data column to index\n"
   ]
  },
  {
   "cell_type": "code",
   "execution_count": null,
   "id": "35c5dfc5",
   "metadata": {},
   "outputs": [],
   "source": [
    "df.set_index(\"datetime_column\", inplace=True)"
   ]
  },
  {
   "cell_type": "markdown",
   "id": "d8bd1557",
   "metadata": {},
   "source": [
    "- Resample data"
   ]
  },
  {
   "cell_type": "code",
   "execution_count": null,
   "id": "70d0e886",
   "metadata": {},
   "outputs": [],
   "source": [
    "# resample to weekly frequency\n",
    "df_weekly= df.resample(\"W\").first() # use .mean() or .sum() as needed"
   ]
  },
  {
   "cell_type": "markdown",
   "id": "f7003262",
   "metadata": {},
   "source": [
    "- Add numerical index"
   ]
  },
  {
   "cell_type": "code",
   "execution_count": null,
   "id": "80b08427",
   "metadata": {},
   "outputs": [],
   "source": [
    "# create a numeric index\n",
    "df_weekly[\"idx\"] = range(len(df_weekly))"
   ]
  },
  {
   "cell_type": "markdown",
   "id": "f22d9795",
   "metadata": {},
   "source": [
    "## **Linear Regression with Statsmodels**"
   ]
  },
  {
   "cell_type": "code",
   "execution_count": null,
   "id": "a483e871",
   "metadata": {},
   "outputs": [],
   "source": [
    "import statsmodels.api as sm\n",
    "\n",
    "# Define predictors\n",
    "predictors = [\"idx\"]\n",
    "X = sm.add_constant(df_weekly[predictors])  # Add constant for intercept\n",
    "\n",
    "# Define target variable (e.g., temperature)\n",
    "Y = df_weekly[\"temperature_column\"]\n",
    "\n",
    "# Create the model\n",
    "model = sm.OLS(y, X)\n",
    "# Train the model\n",
    "results = model.fit()\n",
    "\n",
    "# Print model summary\n",
    "print(results.summary())\n"
   ]
  },
  {
   "cell_type": "markdown",
   "id": "2d8f9c81",
   "metadata": {},
   "source": [
    "- Add categorical features"
   ]
  },
  {
   "cell_type": "code",
   "execution_count": null,
   "id": "36daaf2e",
   "metadata": {},
   "outputs": [],
   "source": [
    "predictors = [\"idx\", \"season\"]\n",
    "\n",
    "# Encode season as dummy variables\n",
    "dummies = pd.get_dummies(df[predictors], columns=[\"season\"], drop_first=True, dtype=int)\n",
    "\n",
    "# Add constant for intercept\n",
    "X = sm.add_constant(dummies)  "
   ]
  },
  {
   "cell_type": "markdown",
   "id": "e71654a6",
   "metadata": {},
   "source": [
    "- Line of best fit: Visualize the regression line on a scatter plot."
   ]
  },
  {
   "cell_type": "code",
   "execution_count": null,
   "id": "4be30fb8",
   "metadata": {},
   "outputs": [],
   "source": [
    "plt.scatter(df[\"carat\"], df[\"price\"])\n",
    "plt.plot(df[\"carat\"], model.predict(X), color=\"red\")\n",
    "plt.xlabel(\"Carat\")\n",
    "plt.ylabel(\"Price\")\n",
    "plt.title(\"Carat vs. Price with Regression Line\")\n",
    "plt.show()"
   ]
  },
  {
   "cell_type": "markdown",
   "id": "35baded1",
   "metadata": {},
   "source": [
    "- Model evaluation: Calculate residuals and MAE"
   ]
  },
  {
   "cell_type": "code",
   "execution_count": null,
   "id": "de238d84",
   "metadata": {},
   "outputs": [],
   "source": [
    "# Calculate residuals\n",
    "y_pred = model.predict(X)\n",
    "residuals = y - y_pred\n",
    "\n",
    "# Calculate mean absolute error\n",
    "MAE = residuals.abs().mean()\n",
    "print(\"MAE:\", MAE)"
   ]
  },
  {
   "cell_type": "markdown",
   "id": "ce393d77",
   "metadata": {},
   "source": [
    "- Model Diagnostics: Use scatter plots of predictions vs. actuals to evaluate model fit."
   ]
  },
  {
   "cell_type": "code",
   "execution_count": null,
   "id": "150820bc",
   "metadata": {},
   "outputs": [],
   "source": [
    "predictions = model.predict(X)\n",
    "plt.scatter(predictions, y)\n",
    "plt.xlabel(\"Predicted Price\")\n",
    "plt.ylabel(\"Actual Price\")\n",
    "plt.title(\"Predicted vs. Actual Prices\")\n",
    "plt.show()"
   ]
  },
  {
   "cell_type": "markdown",
   "id": "8f78acda",
   "metadata": {},
   "source": [
    "- Forecasting with the model"
   ]
  },
  {
   "cell_type": "code",
   "execution_count": null,
   "id": "65d90fc8",
   "metadata": {},
   "outputs": [],
   "source": [
    "# Predict future value (week 210)\n",
    "future_week = [1, 210, 0, 0, 1]  # 1 for constant, 210 for idx, dummy variables for seasons\n",
    "future_temp = model.predict([future_week])"
   ]
  },
  {
   "cell_type": "markdown",
   "id": "6c7ea3be",
   "metadata": {},
   "source": [
    "## Confidence interval for means"
   ]
  },
  {
   "cell_type": "code",
   "execution_count": null,
   "id": "59fef65c",
   "metadata": {},
   "outputs": [],
   "source": [
    "from spicy import stats\n",
    "\n",
    "# Descriptive statistics\n",
    "n = df[\"price\"].count()  # Sample size\n",
    "xbar = df[\"price\"].mean()  # Sample mean\n",
    "s = df[\"price\"].std()  # Sample standard deviation\n",
    "conf = 0.95  # Confidence level\n",
    "\n",
    "# Standard error calculation\n",
    "SEM = s / np.sqrt(n)\n",
    "\n",
    "# Confidence interval\n",
    "interval = stats.norm.interval(conf, loc=xbar, scale=SEM)\n",
    "print(\"With 95% confidence, the true mean price is between\" interval[0], \"and\", interval[1])"
   ]
  },
  {
   "cell_type": "markdown",
   "id": "ab50c5f7",
   "metadata": {},
   "source": [
    "## One sample t-test"
   ]
  },
  {
   "cell_type": "code",
   "execution_count": null,
   "id": "f81a7699",
   "metadata": {},
   "outputs": [],
   "source": [
    "# Define hypotheses\n",
    "alpha = 0.05  # Significance level\n",
    "\n",
    "# Perform one-sample t-test\n",
    "test_results = stats.ttest_1samp(df[df[\"cut\"] == \"Premium\"][\"price\"], popmean=4500)\n",
    "\n",
    "p_value = test_results[1]\n",
    "\n",
    "# Check p-value\n",
    "if p_value < alpha:\n",
    "    print(\"Reject the null hypothesis with p-value\", p_value)\n",
    "else:\n",
    "    print(\"Fail to reject the null hypothesis with p-value\", p_value)"
   ]
  },
  {
   "cell_type": "markdown",
   "id": "cc725786",
   "metadata": {},
   "source": [
    "## Two-sample t-test"
   ]
  },
  {
   "cell_type": "code",
   "execution_count": null,
   "id": "629ccc1a",
   "metadata": {},
   "outputs": [],
   "source": [
    "# Define sample groups\n",
    "prices_good = df[df[\"cut\"] == \"Good\"][\"price\"]\n",
    "prices_very_good = df[df[\"cut\"] == \"Very Good\"][\"price\"]\n",
    "\n",
    "# Perform two-sample t-test\n",
    "test_results = stats.ttest_ind(prices_good, prices_very_good)\n",
    "\n",
    "p_value = test_results[1]\n",
    "\n",
    "# Check p-value\n",
    "if p_value < alpha:\n",
    "    print(\"Reject the null hypothesis with p-value\", p_value)\n",
    "else:\n",
    "    print(\"Fail to reject the null hypothesis with p-value\", p_value)\n"
   ]
  },
  {
   "cell_type": "markdown",
   "id": "99ef81d1",
   "metadata": {},
   "source": [
    "## Simulations Using Random Numbers\n",
    "Model potential outcomes using random sampling.\n",
    "\n",
    "Use np.random.normal() to generate a sample from a normal distribution"
   ]
  },
  {
   "cell_type": "code",
   "execution_count": null,
   "id": "b589ff78",
   "metadata": {},
   "outputs": [],
   "source": [
    "sample = np.random.normal(loc=3932, scale=750, size=1000)"
   ]
  }
 ],
 "metadata": {
  "kernelspec": {
   "display_name": "base",
   "language": "python",
   "name": "python3"
  },
  "language_info": {
   "codemirror_mode": {
    "name": "ipython",
    "version": 3
   },
   "file_extension": ".py",
   "mimetype": "text/x-python",
   "name": "python",
   "nbconvert_exporter": "python",
   "pygments_lexer": "ipython3",
   "version": "3.12.2"
  }
 },
 "nbformat": 4,
 "nbformat_minor": 5
}
