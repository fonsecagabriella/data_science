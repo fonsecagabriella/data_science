{
 "cells": [
  {
   "cell_type": "markdown",
   "metadata": {},
   "source": [
    "# Title\n",
    "\n",
    "**Exercise 2 [Not Graded!] - A Walkthrough Example**\n",
    "\n",
    "# Description\n",
    "\n",
    "The aim of this exercise is to let you do some analysis on your own with less structure.\n",
    "\n",
    "# Dataset Description:\n",
    "The dataset used here is the Wine data set (another commonly used sklearn dataset).  Use this to answer the questions embedded in the Notebook.\n",
    "\n",
    "# Instructions:\n",
    "1. Read the data.  \n",
    "2. Do some explorations.\n",
    "3. Fit some multiclass models.\n",
    "4. Interpret these models.\n",
    "\n",
    "# Hints:\n",
    "\n",
    "<a href=\"https://scikit-learn.org/stable/modules/generated/sklearn.linear_model.LogisticRegression.html\" target=\"_blank\">sklearn.LogisticRegression()</a> : Generates a Logistic Regression classifier\n",
    "\n",
    "<a href=\"https://scikit-learn.org/stable/modules/generated/sklearn.linear_model.LogisticRegression.html#sklearn.linear_model.LogisticRegression.fit\" target=\"_blank\">sklearn.fit()</a> : Fits the model to the given data\n",
    "\n",
    "<a href=\"https://scikit-learn.org/stable/modules/generated/sklearn.linear_model.LogisticRegression.html#sklearn.linear_model.LogisticRegression.predict\" target=\"_blank\">sklearn.predict()</a> : Predict using the estimated model (Logistic or knn classifiers) to perform pure classification predictions\n",
    "\n",
    "<a href=\"https://scikit-learn.org/stable/modules/generated/sklearn.linear_model.LogisticRegression.html#sklearn.linear_model.LogisticRegression.predict_proba\" target=\"_blank\">sklearn.predict_proba()</a> : Predict using the estimated model (Logistic or knn classifiers) to perform probability predictions of all the classes in the response (they should add up to 1 for each observation)\n",
    "\n",
    "<a href=\"https://scikit-learn.org/stable/modules/generated/sklearn.linear_model.LogisticRegression.html\" target=\"_blank\">sklearn.LogisticRegression.coef_ and .intercept_</a> : Pull off the estimated β coefficients in a Logistic Regression model\n",
    "\n",
    "<a href=\"https://scikit-learn.org/stable/modules/generated/sklearn.neighbors.KNeighborsClassifier.html\" target=\"_blank\">sklearn.KNeighborsClassifier</a> : Fit a k-NN classification model\n",
    "\n",
    "Note: This exercise is NOT auto-graded."
   ]
  },
  {
   "cell_type": "code",
   "execution_count": 38,
   "metadata": {},
   "outputs": [],
   "source": [
    "%matplotlib inline\n",
    "from sklearn import datasets\n",
    "import matplotlib.pyplot as plt\n",
    "import seaborn as sns\n",
    "import pandas as pd\n",
    "import numpy as np\n",
    "\n",
    "from sklearn.linear_model import LogisticRegression\n",
    "from sklearn.neighbors import KNeighborsClassifier \n",
    "#import sklearn.metrics as met\n",
    "\n",
    "from sklearn.preprocessing import PolynomialFeatures\n",
    "from sklearn.model_selection import train_test_split\n",
    "\n",
    "from sklearn.metrics import f1_score"
   ]
  },
  {
   "cell_type": "markdown",
   "metadata": {},
   "source": [
    "First Read in the data set and take a peak at it:"
   ]
  },
  {
   "cell_type": "code",
   "execution_count": 2,
   "metadata": {},
   "outputs": [
    {
     "name": "stdout",
     "output_type": "stream",
     "text": [
      "(178, 13) (178,)\n"
     ]
    }
   ],
   "source": [
    "raw = datasets.load_wine()\n",
    "X_full = pd.DataFrame(raw['data'],columns=raw['feature_names'])\n",
    "y = raw['target']\n",
    "print(X_full.shape,y.shape)"
   ]
  },
  {
   "cell_type": "code",
   "execution_count": 3,
   "metadata": {},
   "outputs": [
    {
     "data": {
      "text/html": [
       "<div>\n",
       "<style scoped>\n",
       "    .dataframe tbody tr th:only-of-type {\n",
       "        vertical-align: middle;\n",
       "    }\n",
       "\n",
       "    .dataframe tbody tr th {\n",
       "        vertical-align: top;\n",
       "    }\n",
       "\n",
       "    .dataframe thead th {\n",
       "        text-align: right;\n",
       "    }\n",
       "</style>\n",
       "<table border=\"1\" class=\"dataframe\">\n",
       "  <thead>\n",
       "    <tr style=\"text-align: right;\">\n",
       "      <th></th>\n",
       "      <th>alcohol</th>\n",
       "      <th>malic_acid</th>\n",
       "      <th>ash</th>\n",
       "      <th>alcalinity_of_ash</th>\n",
       "      <th>magnesium</th>\n",
       "      <th>total_phenols</th>\n",
       "      <th>flavanoids</th>\n",
       "      <th>nonflavanoid_phenols</th>\n",
       "      <th>proanthocyanins</th>\n",
       "      <th>color_intensity</th>\n",
       "      <th>hue</th>\n",
       "      <th>od280/od315_of_diluted_wines</th>\n",
       "      <th>proline</th>\n",
       "    </tr>\n",
       "  </thead>\n",
       "  <tbody>\n",
       "    <tr>\n",
       "      <th>0</th>\n",
       "      <td>14.23</td>\n",
       "      <td>1.71</td>\n",
       "      <td>2.43</td>\n",
       "      <td>15.6</td>\n",
       "      <td>127.0</td>\n",
       "      <td>2.80</td>\n",
       "      <td>3.06</td>\n",
       "      <td>0.28</td>\n",
       "      <td>2.29</td>\n",
       "      <td>5.64</td>\n",
       "      <td>1.04</td>\n",
       "      <td>3.92</td>\n",
       "      <td>1065.0</td>\n",
       "    </tr>\n",
       "    <tr>\n",
       "      <th>1</th>\n",
       "      <td>13.20</td>\n",
       "      <td>1.78</td>\n",
       "      <td>2.14</td>\n",
       "      <td>11.2</td>\n",
       "      <td>100.0</td>\n",
       "      <td>2.65</td>\n",
       "      <td>2.76</td>\n",
       "      <td>0.26</td>\n",
       "      <td>1.28</td>\n",
       "      <td>4.38</td>\n",
       "      <td>1.05</td>\n",
       "      <td>3.40</td>\n",
       "      <td>1050.0</td>\n",
       "    </tr>\n",
       "    <tr>\n",
       "      <th>2</th>\n",
       "      <td>13.16</td>\n",
       "      <td>2.36</td>\n",
       "      <td>2.67</td>\n",
       "      <td>18.6</td>\n",
       "      <td>101.0</td>\n",
       "      <td>2.80</td>\n",
       "      <td>3.24</td>\n",
       "      <td>0.30</td>\n",
       "      <td>2.81</td>\n",
       "      <td>5.68</td>\n",
       "      <td>1.03</td>\n",
       "      <td>3.17</td>\n",
       "      <td>1185.0</td>\n",
       "    </tr>\n",
       "    <tr>\n",
       "      <th>3</th>\n",
       "      <td>14.37</td>\n",
       "      <td>1.95</td>\n",
       "      <td>2.50</td>\n",
       "      <td>16.8</td>\n",
       "      <td>113.0</td>\n",
       "      <td>3.85</td>\n",
       "      <td>3.49</td>\n",
       "      <td>0.24</td>\n",
       "      <td>2.18</td>\n",
       "      <td>7.80</td>\n",
       "      <td>0.86</td>\n",
       "      <td>3.45</td>\n",
       "      <td>1480.0</td>\n",
       "    </tr>\n",
       "    <tr>\n",
       "      <th>4</th>\n",
       "      <td>13.24</td>\n",
       "      <td>2.59</td>\n",
       "      <td>2.87</td>\n",
       "      <td>21.0</td>\n",
       "      <td>118.0</td>\n",
       "      <td>2.80</td>\n",
       "      <td>2.69</td>\n",
       "      <td>0.39</td>\n",
       "      <td>1.82</td>\n",
       "      <td>4.32</td>\n",
       "      <td>1.04</td>\n",
       "      <td>2.93</td>\n",
       "      <td>735.0</td>\n",
       "    </tr>\n",
       "  </tbody>\n",
       "</table>\n",
       "</div>"
      ],
      "text/plain": [
       "   alcohol  malic_acid   ash  alcalinity_of_ash  magnesium  total_phenols  \\\n",
       "0    14.23        1.71  2.43               15.6      127.0           2.80   \n",
       "1    13.20        1.78  2.14               11.2      100.0           2.65   \n",
       "2    13.16        2.36  2.67               18.6      101.0           2.80   \n",
       "3    14.37        1.95  2.50               16.8      113.0           3.85   \n",
       "4    13.24        2.59  2.87               21.0      118.0           2.80   \n",
       "\n",
       "   flavanoids  nonflavanoid_phenols  proanthocyanins  color_intensity   hue  \\\n",
       "0        3.06                  0.28             2.29             5.64  1.04   \n",
       "1        2.76                  0.26             1.28             4.38  1.05   \n",
       "2        3.24                  0.30             2.81             5.68  1.03   \n",
       "3        3.49                  0.24             2.18             7.80  0.86   \n",
       "4        2.69                  0.39             1.82             4.32  1.04   \n",
       "\n",
       "   od280/od315_of_diluted_wines  proline  \n",
       "0                          3.92   1065.0  \n",
       "1                          3.40   1050.0  \n",
       "2                          3.17   1185.0  \n",
       "3                          3.45   1480.0  \n",
       "4                          2.93    735.0  "
      ]
     },
     "execution_count": 3,
     "metadata": {},
     "output_type": "execute_result"
    }
   ],
   "source": [
    "X_full.head()"
   ]
  },
  {
   "cell_type": "markdown",
   "metadata": {},
   "source": [
    "**Q1**: Perform a 70-30 `train_test_split` using `random_state=109` and `shuffle=True`.  Why is it important to shuffle here?"
   ]
  },
  {
   "cell_type": "code",
   "execution_count": 7,
   "metadata": {},
   "outputs": [],
   "source": [
    "### your code here\n",
    "x_train, x_test, y_train, y_test = train_test_split(X_full, y, test_size=0.3, shuffle=True)"
   ]
  },
  {
   "cell_type": "markdown",
   "metadata": {},
   "source": [
    "\n",
    "**Setting *shuffle=True* helps ensure that the distribution of classes or patterns is similar in both the training and testing sets, providing a more representative and unbiased evaluation of the model's performance.**"
   ]
  },
  {
   "cell_type": "markdown",
   "metadata": {},
   "source": [
    "**Q2**: Explore the data a little.  Visualize the marginal association (aka, bivariate relationship) of wine type to amount of alcohol, level of malic acid, and total level of phenols.  Which predictor seems to have the strongest association with the response?\n",
    "\n"
   ]
  },
  {
   "cell_type": "code",
   "execution_count": 15,
   "metadata": {},
   "outputs": [
    {
     "data": {
      "image/png": "[encoded data removed]",
      "text/plain": [
       "<Figure size 1000x1200 with 3 Axes>"
      ]
     },
     "metadata": {},
     "output_type": "display_data"
    }
   ],
   "source": [
    "# Set the style for the plots\n",
    "sns.set(style=\"whitegrid\")\n",
    "\n",
    "# Create subplots for each variable\n",
    "fig, axes = plt.subplots(3, 1, figsize=(10, 12))\n",
    "\n",
    "# Plot 1: Alcohol vs Wine Type\n",
    "sns.boxplot(x=y, y=X_full['alcohol'], ax=axes[0])\n",
    "axes[0].set_title(\"Alcohol Content by Wine Type\")\n",
    "\n",
    "# Plot 2: Malic Acid vs Wine Type\n",
    "sns.boxplot(x=y, y=X_full['malic_acid'], ax=axes[1])\n",
    "axes[1].set_title(\"Malic Acid Level by Wine Type\")\n",
    "\n",
    "# Plot 3: Total Phenols vs Wine Type\n",
    "sns.boxplot(x=y, y=X_full['total_phenols'], ax=axes[2])\n",
    "axes[2].set_title(\"Total Phenols by Wine Type\")\n",
    "\n",
    "# Adjust layout to prevent overlapping titles\n",
    "plt.tight_layout()\n",
    "\n",
    "# Show the plots\n",
    "plt.show()\n",
    "\n",
    "\n",
    "\n"
   ]
  },
  {
   "cell_type": "markdown",
   "metadata": {},
   "source": [
    "**Q3**: Fit 3 different models with ['alcohol','malic_acid'] as the predictors: (1) a standard logistic regression to predict a binary indicator for class 0 (you'll have to create it yourself), (2) a multinomial logistic regression to predict all 3 classes and (3) a OvR logistic reression to predict all 3 classes.  Compare the results"
   ]
  },
  {
   "cell_type": "code",
   "execution_count": 43,
   "metadata": {},
   "outputs": [
    {
     "name": "stdout",
     "output_type": "stream",
     "text": [
      "LOGISTIC REGRESSION SCORE 0.8148148148148148, f1: 0.6875\n",
      "MULTINOMIAL LOG REG 0.7592592592592593, f1: 0.7612867382982325\n",
      "OvR REGRESSION SCORE 0.7592592592592593, f1: 0.7599555806363255\n"
     ]
    },
    {
     "name": "stderr",
     "output_type": "stream",
     "text": [
      "/Library/Frameworks/Python.framework/Versions/3.10/lib/python3.10/site-packages/sklearn/linear_model/_logistic.py:1182: FutureWarning: `penalty='none'`has been deprecated in 1.2 and will be removed in 1.4. To keep the past behaviour, set `penalty=None`.\n",
      "  warnings.warn(\n"
     ]
    }
   ],
   "source": [
    "###your code here\n",
    "\n",
    "# Force the response into a binary indicator for wine class 0:\n",
    "y_is_0_test = 1 * (y_test==0)\n",
    "y_is_0_train = 1 * (y_train==0)\n",
    "\n",
    "#print(y_is_0_train.shape)\n",
    "#print(x_train.shape)\n",
    "\n",
    "#####################\n",
    "# Standard logistic regression\n",
    "log_reg = LogisticRegression()\n",
    "\n",
    "#Fit the model on the train data\n",
    "log_reg.fit(x_train[['alcohol', 'malic_acid']], y_is_0_train)\n",
    "\n",
    "# Predict the response variable for the test set using the trained model\n",
    "y_pred_log_reg = log_reg.predict(x_test[['alcohol', 'malic_acid']])\n",
    "\n",
    "score_log_reg = log_reg.score(x_test[['alcohol', 'malic_acid']], y_is_0_test)\n",
    "\n",
    "# Calculate F1-score for Logistic Regression\n",
    "f1_log_reg = f1_score(y_pred_log_reg, y_is_0_test)\n",
    "\n",
    "#Interpretation of F1-score:\n",
    "#F1-score is the harmonic mean of precision and recall.\n",
    "#It ranges from 0 to 1, where 1 indicates perfect precision and recall, and 0 indicates poor performance.\n",
    "#Higher F1-score implies a better balance between precision and recall.\n",
    "#A weighted average is used when there is class imbalance.\n",
    "\n",
    "print(f\"LOGISTIC REGRESSION SCORE {score_log_reg}, f1: {f1_log_reg}\")\n",
    "\n",
    "\n",
    "#######################\n",
    "# Multinomial logistic regression for all three classes\n",
    "log_multi = LogisticRegression(multi_class='multinomial', max_iter=5000).fit(\n",
    "    x_train[['alcohol', 'malic_acid']], y_train)\n",
    "\n",
    "score_log_multi = log_multi.score(\n",
    "    x_test[['alcohol', 'malic_acid']], y_test)\n",
    "\n",
    "# f1 score\n",
    "y_pred_log_multi = log_multi.predict(x_test[['alcohol', 'malic_acid']])\n",
    "f1_log_multi = f1_score(y_pred_log_multi, y_test, average='weighted') #for multi and ovr you need to specify average = average='weighted'\n",
    "\n",
    "\n",
    "print(f\"MULTINOMIAL LOG REG {score_log_multi}, f1: {f1_log_multi}\")\n",
    "\n",
    "\n",
    "\n",
    "#######################\n",
    "# OvR logistic regression - 3 classes\n",
    "log_ovr = LogisticRegression(penalty='none', multi_class='ovr',max_iter = 1000).fit(\n",
    "    x_train[['alcohol', 'malic_acid']], y_train)\n",
    "\n",
    "score_log_ovr = log_ovr.score(\n",
    "    x_test[['alcohol', 'malic_acid']], y_test)\n",
    "\n",
    "# f1 score\n",
    "y_pred_log_ovr = log_ovr.predict(x_test[['alcohol', 'malic_acid']])\n",
    "f1_log_ovr = f1_score(y_pred_log_ovr,y_test, average='weighted')\n",
    "\n",
    "print(f\"OvR REGRESSION SCORE {score_log_ovr}, f1: {f1_log_ovr}\")\n",
    "\n",
    "\n"
   ]
  },
  {
   "cell_type": "markdown",
   "metadata": {},
   "source": [
    "*your answer here*\n",
    "\n",
    "**Logistic Regression:**\n",
    "Accuracy: 81.48%\n",
    "F1-score: 0.6875\n",
    "The F1-score is a measure of a model's ability to balance precision and recall. A score of 0.6875 is reasonable.\n",
    "\n",
    "**Multinomial Logistic Regression:**\n",
    "Accuracy: 75.93%\n",
    "F1-score: 0.7613\n",
    "The higher F1-score suggests that the Multinomial Logistic Regression model is performing well in terms of precision and recall.\n",
    "\n",
    "**OvR Logistic Regression:**\n",
    "Accuracy: 75.93%\n",
    "F1-score: 0.75996\n",
    "Similar to the Multinomial case, the OvR Logistic Regression model shows a good balance between precision and recall."
   ]
  },
  {
   "cell_type": "markdown",
   "metadata": {},
   "source": [
    "**Q4**: For the Multinomial model, use the estimated coefficients to calculate the predicted probabilties by hand.  Feel free to confirm with the `predict_proba` command."
   ]
  },
  {
   "cell_type": "code",
   "execution_count": 81,
   "metadata": {},
   "outputs": [
    {
     "ename": "SyntaxError",
     "evalue": "expected ':' (1525515485.py, line 23)",
     "output_type": "error",
     "traceback": [
      "\u001b[0;36m  Cell \u001b[0;32mIn[81], line 23\u001b[0;36m\u001b[0m\n\u001b[0;31m    for j in range (coefs.shape[0])\u001b[0m\n\u001b[0m                                   ^\u001b[0m\n\u001b[0;31mSyntaxError\u001b[0m\u001b[0;31m:\u001b[0m expected ':'\n"
     ]
    }
   ],
   "source": [
    "### your code here\n",
    "\n",
    "##################################################################################\n",
    "# Manually calculate predicted probabilities\n",
    "# Step 01: Extract coefs and intercept\n",
    "coefs = log_multi.coef_ #matrix n, m where n=classes, m=predictors\n",
    "intercept = log_multi.intercept_\n",
    "\n",
    "# Print shapes for debugging\n",
    "print(\"Coefs Shape:\", coefs.shape)\n",
    "print(\"Intercept Shape:\", intercept.shape)\n",
    "\n",
    "# Step 2: Create Design Matrix\n",
    "design_matrix = np.column_stack((np.ones(len(x_test[['alcohol', 'malic_acid']])), x_test[['alcohol', 'malic_acid']].values))\n",
    "\n",
    "# Print the design matrix for debugging\n",
    "print(\"\\nDesign Matrix:\")\n",
    "print(design_matrix.shape)\n",
    "\n",
    "#logit = []\n",
    "\n",
    "#for i in range(design_matrix.shape[0]):\n",
    "#    for j in range (coefs.shape[0]):\n",
    "#        print(i)\n",
    "#        logit_i = intercept[i] + coefs[i, 0] * x_test[['alcohol']].iloc[i] + coefs[i, 1] * x_test[['malic_acid']].iloc[i]\n",
    "\n",
    "#        logit.append(logit_i)\n",
    "\n",
    "# Step 3: Calculate Logits\n",
    "#logits = np.dot(design_matrix, np.hstack([intercept[:, np.newaxis], coefs.T]))\n",
    "\n",
    "# Print shapes for debugging\n",
    "#print(\"\\nShapes for Dot Product:\")\n",
    "#print(\"Design Matrix Shape:\", design_matrix.shape)\n",
    "#print(\"Concatenated Coefs Shape:\", np.hstack([intercept[:, np.newaxis], coefs.T]).shape)\n",
    "\n",
    "# Print logits for debugging\n",
    "#print(\"\\nLogits:\")\n",
    "#print(logits)\n",
    "\n",
    "# Step 4: Apply Logistic Function\n",
    "#probs_manual = 1 / (1 + np.exp(-logits))\n",
    "\n",
    "\n",
    "\n",
    "##################################################################################\n",
    "# Use predict_proba method\n",
    "probs_predict_proba_multi = log_multi.predict_proba(x_test[['alcohol', 'malic_acid']])\n",
    "\n",
    "# Compare the results\n",
    "#print(\"Manual Calculations:\", probs_manual)\n",
    "\n",
    "print(log_multi.predict(x_test[['alcohol', 'malic_acid']])[1:10])\n",
    "print(\"predict_proba Method:\", probs_predict_proba_multi[1:10])\n",
    "\n"
   ]
  },
  {
   "cell_type": "markdown",
   "metadata": {},
   "source": [
    "*your answer here*"
   ]
  },
  {
   "cell_type": "markdown",
   "metadata": {},
   "source": [
    "**Q5**: For the OvR model, use the `predict_proba()` to estimate the predicted probabilities in the test set, and manually use this to calculate the predicted classes.  Feel free to confirm with the `predict` command."
   ]
  },
  {
   "cell_type": "code",
   "execution_count": 72,
   "metadata": {},
   "outputs": [
    {
     "name": "stdout",
     "output_type": "stream",
     "text": [
      "Classes prediction: [2 0 0 1 0 1 1 0 0]\n",
      "predict_proba Method: [[1.16478906e-01 2.76480591e-01 6.07040503e-01]\n",
      " [8.08022613e-01 4.33232396e-02 1.48654147e-01]\n",
      " [8.66363118e-01 1.92006378e-02 1.14436244e-01]\n",
      " [6.91782136e-04 5.16350561e-01 4.82957656e-01]\n",
      " [5.70478923e-01 2.49683775e-01 1.79837302e-01]\n",
      " [4.01760246e-01 4.43685842e-01 1.54553912e-01]\n",
      " [9.35604217e-03 6.34210381e-01 3.56433577e-01]\n",
      " [8.13285659e-01 1.43703194e-03 1.85277309e-01]\n",
      " [4.48874078e-01 1.60068399e-01 3.91057523e-01]]\n"
     ]
    }
   ],
   "source": [
    "### your code here\n",
    "\n",
    "##################################################################################\n",
    "# Use predict_proba method\n",
    "probs_predict_proba_ovr = log_ovr.predict_proba(x_test[['alcohol', 'malic_acid']])\n",
    "\n",
    "# Compare the results\n",
    "#print(\"Manual Calculations:\", probs_manual)\n",
    "\n",
    "print(\"Classes prediction:\", log_ovr.predict(x_test[['alcohol', 'malic_acid']])[1:10])\n",
    "print(\"predict_proba Method:\", probs_predict_proba_ovr[1:10])\n"
   ]
  },
  {
   "cell_type": "markdown",
   "metadata": {},
   "source": [
    "**Q6**: How could you use the `predict_proba()` command and 'change the threshold' in the multiclass setting to affect predictive accuracies within each class?  Note: it is not as simple as changing a threshold because there is not threshold"
   ]
  },
  {
   "cell_type": "markdown",
   "metadata": {},
   "source": [
    "*your answer here*"
   ]
  },
  {
   "cell_type": "markdown",
   "metadata": {},
   "source": [
    "**Q7**: Compare the accuracies in both train and test for both the multinomial and OvR logistic regressions.  Which seems to be performing better?  Is there any evidence of overfitting?  How could this be corrected?"
   ]
  },
  {
   "cell_type": "code",
   "execution_count": null,
   "metadata": {},
   "outputs": [],
   "source": [
    "### your code here"
   ]
  },
  {
   "cell_type": "markdown",
   "metadata": {},
   "source": [
    "*your answer here*"
   ]
  },
  {
   "cell_type": "markdown",
   "metadata": {},
   "source": [
    "**Q8**: Create the classification boundaries for the two multiclass logistic regression models above.  How do they compare?"
   ]
  },
  {
   "cell_type": "code",
   "execution_count": null,
   "metadata": {},
   "outputs": [],
   "source": [
    "###your code here\n",
    "\n"
   ]
  },
  {
   "cell_type": "markdown",
   "metadata": {},
   "source": [
    "*your answer here*"
   ]
  },
  {
   "cell_type": "markdown",
   "metadata": {},
   "source": [
    "**Q9**: Fit 3 different knn regression models: for $k = 3, 10, 30$. Visualize the classification boundaries for these 3 models and compare the results.  Which seem to be overfit?"
   ]
  },
  {
   "cell_type": "code",
   "execution_count": null,
   "metadata": {},
   "outputs": [],
   "source": [
    "### your answer here"
   ]
  },
  {
   "cell_type": "code",
   "execution_count": null,
   "metadata": {},
   "outputs": [],
   "source": [
    "### your answer here"
   ]
  },
  {
   "cell_type": "markdown",
   "metadata": {},
   "source": [
    "*your answer here*"
   ]
  },
  {
   "cell_type": "markdown",
   "metadata": {},
   "source": [
    "**Q10** How could you visualize the classification boundary for any of these models if there was a single predictor?  What if there were more than 2 predictors?"
   ]
  },
  {
   "cell_type": "markdown",
   "metadata": {},
   "source": [
    "*your answer here*"
   ]
  }
 ],
 "metadata": {
  "kernelspec": {
   "display_name": "Python 3",
   "language": "python",
   "name": "python3"
  },
  "language_info": {
   "codemirror_mode": {
    "name": "ipython",
    "version": 3
   },
   "file_extension": ".py",
   "mimetype": "text/x-python",
   "name": "python",
   "nbconvert_exporter": "python",
   "pygments_lexer": "ipython3",
   "version": "3.10.11"
  }
 },
 "nbformat": 4,
 "nbformat_minor": 4
}
