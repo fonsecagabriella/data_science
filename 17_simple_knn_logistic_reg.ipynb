{
 "cells": [
  {
   "cell_type": "markdown",
   "metadata": {},
   "source": [
    "# Title\n",
    "\n",
    "**Exercise 2 - Simple k-NN Classification and Logistic Regression**\n",
    "\n",
    "# Description\n",
    "The aim of this exercise is to fit, interpret, predict, score, and plot simple $k$-NN classification and logistic regression models using the `sklearn` package.\n",
    "\n",
    "In the end, you should get a plot that looks like this (way too busy for publication, but OK here for teaching purposes):"
   ]
  },
  {
   "cell_type": "markdown",
   "metadata": {},
   "source": [
    "<img src=\"img/simple_knn_log_reg.png\" style=\"width: 500px;\">"
   ]
  },
  {
   "cell_type": "markdown",
   "metadata": {},
   "source": [
    "# Dataset Description:\n",
    "\n",
    "The dataset used here is called the Heart dataset. This dataset has several predictors such as `Age`, `Sex`, and `MaxHR`, etc.  For now, we will just use `Age` to predict whether or not someone has atherosclerotic heart disease (AHD).\n",
    "\n",
    "# Instructions:\n",
    "1. Read the `Heart.csv` file into a pandas data frame.\n",
    "2. Split the dataset into train and validation sets, with 80% of the data for training\n",
    "3. Assign the predictor and response variables. Remember the aim is to predict whether a patient has `AHD`\n",
    "4. Fit a $k$-NN model (manually tuned) to the dataset and look at some predictions.\n",
    "5. Fit a logistic regression model to the dataset and interpret the coefficients. \n",
    "6. Do some work mathematically based on the estimated model.\n",
    "7. Compute and print the train and validation accuracies for both\n",
    "8. Plot the predictions on the scatterplot.\n",
    "\n",
    "# Hints:\n",
    "\n",
    "<a href=\"https://scikit-learn.org/stable/modules/generated/sklearn.neighbors.KNeighborsClassifier.html\" target=\"_blank\">sklearn.KNeighborsClassifier()</a> : Generates a $k$-NN classifier\n",
    "\n",
    "<a href=\"https://scikit-learn.org/stable/modules/generated/sklearn.linear_model.LogisticRegression.html\" target=\"_blank\">sklearn.LogisticRegression()</a> : Generates a Logistic Regression classifier\n",
    "\n",
    "<a href=\"https://scikit-learn.org/stable/modules/generated/sklearn.linear_model.LogisticRegression.html#sklearn.linear_model.LogisticRegression.fit\" target=\"_blank\">sklearn.fit()</a> : Fits the model to the given data\n",
    "\n",
    "<a href=\"https://scikit-learn.org/stable/modules/generated/sklearn.linear_model.LogisticRegression.html#sklearn.linear_model.LogisticRegression.predict\" target=\"_blank\">sklearn.predict()</a> : Predict using the estimated model (Logistic or knn classifiers) to perform pure classification predictions\n",
    "\n",
    "<a href=\"https://scikit-learn.org/stable/modules/generated/sklearn.linear_model.LogisticRegression.html#sklearn.linear_model.LogisticRegression.predict_proba\" target=\"_blank\">sklearn.predict_proba()</a> : Predict using the estimated model (Logistic or knn classifiers) to perform probability predictions of all the classes in the response (they should add up to 1 for each observation)\n",
    "\n",
    "<a href=\"https://scikit-learn.org/stable/modules/generated/sklearn.linear_model.LogisticRegression.html\" target=\"_blank\">sklearn.LogisticRegression.coef_ and .intercept_</a> : Pull off the estimated $\\beta$ coefficients in a Logistic Regression model\n",
    "\n",
    "<a href=\"https://scikit-learn.org/stable/modules/generated/sklearn.linear_model.LogisticRegression.html#sklearn.linear_model.LogisticRegression.score\" target=\"_blank\">sklearn.score()</a> : Accuracy classification score.\n",
    "\n",
    "**Note: This exercise is auto-graded and you can try multiple attempts.**"
   ]
  },
  {
   "cell_type": "code",
   "execution_count": 54,
   "metadata": {},
   "outputs": [],
   "source": [
    "# import libraries\n",
    "import math\n",
    "import pandas as pd \n",
    "import numpy as np\n",
    "import matplotlib.pyplot as plt\n",
    "\n",
    "from sklearn.model_selection import train_test_split\n",
    "\n",
    "from sklearn.linear_model import LogisticRegression\n",
    "from sklearn.neighbors import KNeighborsClassifier "
   ]
  },
  {
   "cell_type": "markdown",
   "metadata": {},
   "source": [
    "### Read-in the dataset"
   ]
  },
  {
   "cell_type": "code",
   "execution_count": 43,
   "metadata": {},
   "outputs": [
    {
     "name": "stdout",
     "output_type": "stream",
     "text": [
      "(303, 15)\n"
     ]
    }
   ],
   "source": [
    "# Read the \"Heart.csv\" dataset and take a quick look\n",
    "heart = pd.read_csv('data/heart.csv')\n",
    "\n",
    "\n",
    "# Force the response into a binary indicator:\n",
    "heart['AHD'] = 1*(heart['AHD'] == \"Yes\")\n",
    "\n",
    "print(heart.shape)"
   ]
  },
  {
   "cell_type": "code",
   "execution_count": 44,
   "metadata": {},
   "outputs": [
    {
     "name": "stdout",
     "output_type": "stream",
     "text": [
      "(227, 15) (76, 15)\n"
     ]
    }
   ],
   "source": [
    "# split into train and validation\n",
    "heart_train, heart_val = train_test_split(heart, train_size = 0.75, random_state = 109)\n",
    "\n",
    "print(heart_train.shape, heart_val.shape)"
   ]
  },
  {
   "cell_type": "markdown",
   "metadata": {},
   "source": [
    "### $k$-NN model fitting\n",
    "\n",
    "Define and fit a $k$-NN classification model with $k=20$ to predict `AHD` from `Age`."
   ]
  },
  {
   "cell_type": "code",
   "execution_count": 45,
   "metadata": {},
   "outputs": [
    {
     "data": {
      "text/html": [
       "<style>#sk-container-id-3 {color: black;}#sk-container-id-3 pre{padding: 0;}#sk-container-id-3 div.sk-toggleable {background-color: white;}#sk-container-id-3 label.sk-toggleable__label {cursor: pointer;display: block;width: 100%;margin-bottom: 0;padding: 0.3em;box-sizing: border-box;text-align: center;}#sk-container-id-3 label.sk-toggleable__label-arrow:before {content: \"▸\";float: left;margin-right: 0.25em;color: #696969;}#sk-container-id-3 label.sk-toggleable__label-arrow:hover:before {color: black;}#sk-container-id-3 div.sk-estimator:hover label.sk-toggleable__label-arrow:before {color: black;}#sk-container-id-3 div.sk-toggleable__content {max-height: 0;max-width: 0;overflow: hidden;text-align: left;background-color: #f0f8ff;}#sk-container-id-3 div.sk-toggleable__content pre {margin: 0.2em;color: black;border-radius: 0.25em;background-color: #f0f8ff;}#sk-container-id-3 input.sk-toggleable__control:checked~div.sk-toggleable__content {max-height: 200px;max-width: 100%;overflow: auto;}#sk-container-id-3 input.sk-toggleable__control:checked~label.sk-toggleable__label-arrow:before {content: \"▾\";}#sk-container-id-3 div.sk-estimator input.sk-toggleable__control:checked~label.sk-toggleable__label {background-color: #d4ebff;}#sk-container-id-3 div.sk-label input.sk-toggleable__control:checked~label.sk-toggleable__label {background-color: #d4ebff;}#sk-container-id-3 input.sk-hidden--visually {border: 0;clip: rect(1px 1px 1px 1px);clip: rect(1px, 1px, 1px, 1px);height: 1px;margin: -1px;overflow: hidden;padding: 0;position: absolute;width: 1px;}#sk-container-id-3 div.sk-estimator {font-family: monospace;background-color: #f0f8ff;border: 1px dotted black;border-radius: 0.25em;box-sizing: border-box;margin-bottom: 0.5em;}#sk-container-id-3 div.sk-estimator:hover {background-color: #d4ebff;}#sk-container-id-3 div.sk-parallel-item::after {content: \"\";width: 100%;border-bottom: 1px solid gray;flex-grow: 1;}#sk-container-id-3 div.sk-label:hover label.sk-toggleable__label {background-color: #d4ebff;}#sk-container-id-3 div.sk-serial::before {content: \"\";position: absolute;border-left: 1px solid gray;box-sizing: border-box;top: 0;bottom: 0;left: 50%;z-index: 0;}#sk-container-id-3 div.sk-serial {display: flex;flex-direction: column;align-items: center;background-color: white;padding-right: 0.2em;padding-left: 0.2em;position: relative;}#sk-container-id-3 div.sk-item {position: relative;z-index: 1;}#sk-container-id-3 div.sk-parallel {display: flex;align-items: stretch;justify-content: center;background-color: white;position: relative;}#sk-container-id-3 div.sk-item::before, #sk-container-id-3 div.sk-parallel-item::before {content: \"\";position: absolute;border-left: 1px solid gray;box-sizing: border-box;top: 0;bottom: 0;left: 50%;z-index: -1;}#sk-container-id-3 div.sk-parallel-item {display: flex;flex-direction: column;z-index: 1;position: relative;background-color: white;}#sk-container-id-3 div.sk-parallel-item:first-child::after {align-self: flex-end;width: 50%;}#sk-container-id-3 div.sk-parallel-item:last-child::after {align-self: flex-start;width: 50%;}#sk-container-id-3 div.sk-parallel-item:only-child::after {width: 0;}#sk-container-id-3 div.sk-dashed-wrapped {border: 1px dashed gray;margin: 0 0.4em 0.5em 0.4em;box-sizing: border-box;padding-bottom: 0.4em;background-color: white;}#sk-container-id-3 div.sk-label label {font-family: monospace;font-weight: bold;display: inline-block;line-height: 1.2em;}#sk-container-id-3 div.sk-label-container {text-align: center;}#sk-container-id-3 div.sk-container {/* jupyter's `normalize.less` sets `[hidden] { display: none; }` but bootstrap.min.css set `[hidden] { display: none !important; }` so we also need the `!important` here to be able to override the default hidden behavior on the sphinx rendered scikit-learn.org. See: https://github.com/scikit-learn/scikit-learn/issues/21755 */display: inline-block !important;position: relative;}#sk-container-id-3 div.sk-text-repr-fallback {display: none;}</style><div id=\"sk-container-id-3\" class=\"sk-top-container\"><div class=\"sk-text-repr-fallback\"><pre>KNeighborsClassifier(n_neighbors=20)</pre><b>In a Jupyter environment, please rerun this cell to show the HTML representation or trust the notebook. <br />On GitHub, the HTML representation is unable to render, please try loading this page with nbviewer.org.</b></div><div class=\"sk-container\" hidden><div class=\"sk-item\"><div class=\"sk-estimator sk-toggleable\"><input class=\"sk-toggleable__control sk-hidden--visually\" id=\"sk-estimator-id-3\" type=\"checkbox\" checked><label for=\"sk-estimator-id-3\" class=\"sk-toggleable__label sk-toggleable__label-arrow\">KNeighborsClassifier</label><div class=\"sk-toggleable__content\"><pre>KNeighborsClassifier(n_neighbors=20)</pre></div></div></div></div></div>"
      ],
      "text/plain": [
       "KNeighborsClassifier(n_neighbors=20)"
      ]
     },
     "execution_count": 45,
     "metadata": {},
     "output_type": "execute_result"
    }
   ],
   "source": [
    "# select variables for model estimation: be careful of format \n",
    "# (aka, single or double square brackets)\n",
    "x_train = heart_train[[\"Age\"]]\n",
    "y_train = heart_train[\"AHD\"]\n",
    "\n",
    "# define the model\n",
    "knn20 = KNeighborsClassifier(n_neighbors=20)\n",
    "\n",
    "# fit to the data\n",
    "knn20.fit(x_train , y_train)\n"
   ]
  },
  {
   "cell_type": "markdown",
   "metadata": {},
   "source": [
    "### $k$-NN prediction\n",
    "\n",
    "Perform some simple predictions: both the pure classifications and the probability estimates."
   ]
  },
  {
   "cell_type": "code",
   "execution_count": 46,
   "metadata": {},
   "outputs": [
    {
     "name": "stdout",
     "output_type": "stream",
     "text": [
      "[0 1 1 1 0 0 1 0 1]\n",
      "[[0.75 0.25]\n",
      " [0.3  0.7 ]\n",
      " [0.25 0.75]\n",
      " [0.3  0.7 ]\n",
      " [0.65 0.35]\n",
      " [0.5  0.5 ]\n",
      " [0.3  0.7 ]\n",
      " [0.55 0.45]\n",
      " [0.35 0.65]]\n"
     ]
    }
   ],
   "source": [
    "### edTest(test_knn) ###\n",
    "\n",
    "# there are two types of predictions in classification models in sklearn\n",
    "# model.predict for pure classifications, and model.predict_proba for probabilities\n",
    "\n",
    "# create the predictions based on the train data\n",
    "yhat20_class = knn20.predict(x_train)\n",
    "yhat20_prob = knn20.predict_proba(x_train)\n",
    "\n",
    "# print out the first 10 predictions for the actual data\n",
    "print(yhat20_class[1:10])\n",
    "print(yhat20_prob[1:10])"
   ]
  },
  {
   "cell_type": "markdown",
   "metadata": {},
   "source": [
    "What do you notice about the probability estimates?  Which 'column' is which?  How could you manually create `yhat20_class` from `yhat20_prob`? "
   ]
  },
  {
   "cell_type": "markdown",
   "metadata": {},
   "source": [
    "*Your answer here*, p=1 for each line."
   ]
  },
  {
   "cell_type": "markdown",
   "metadata": {},
   "source": [
    "### Simple logisitc regression model fitting\n",
    "\n",
    "Define and fit a $k$-NN classification model with $k=20$ to predict `AHD` from `Age`."
   ]
  },
  {
   "cell_type": "code",
   "execution_count": 47,
   "metadata": {},
   "outputs": [
    {
     "name": "stdout",
     "output_type": "stream",
     "text": [
      "Logistic Regression Estimated Betas (B0,B1): -3.3261670337310845 0.05933142048457174\n"
     ]
    },
    {
     "name": "stderr",
     "output_type": "stream",
     "text": [
      "/Library/Frameworks/Python.framework/Versions/3.10/lib/python3.10/site-packages/sklearn/linear_model/_logistic.py:1182: FutureWarning: `penalty='none'`has been deprecated in 1.2 and will be removed in 1.4. To keep the past behaviour, set `penalty=None`.\n",
      "  warnings.warn(\n"
     ]
    }
   ],
   "source": [
    "### edTest(test_logit) ###\n",
    "# Create a logistic regression model, with 'none' as the penalty\n",
    "\n",
    "logit1 = LogisticRegression(penalty=\"none\", max_iter = 1000)\n",
    "\n",
    "#Fit the model using the training set\n",
    "\n",
    "logit1.fit(x_train,y_train)\n",
    "\n",
    "# Get the coefficient estimates\n",
    "\n",
    "print(\"Logistic Regression Estimated Betas (B0,B1):\",logit1.intercept_[0],logit1.coef_[0][0])\n"
   ]
  },
  {
   "cell_type": "markdown",
   "metadata": {},
   "source": [
    "### Interpret the Coefficient Estimates"
   ]
  },
  {
   "cell_type": "markdown",
   "metadata": {},
   "source": [
    "Write down the logistic regression model below (edit the provided latex formula).  Use this formula to answer: \n",
    "\n",
    "What is the estimated odds that a 60 year old will have AHD in the ICU?  What is the probability?"
   ]
  },
  {
   "cell_type": "markdown",
   "metadata": {},
   "source": [
    "$$ \\ln\\left(  \\frac{P(Y=1)}{1-P(Y=1)} \\right) = \\hat{\\beta}_0 + \\hat{\\beta}_1 X$$\n",
    "\n",
    "*your answer here\n",
    "B0 = -3.3261670337310845\n",
    "B1 = 0.05933142048457174\n",
    "probability_AHD = 1 / (1 + math.exp(-(B0 + B1 * age)))\n",
    "*"
   ]
  },
  {
   "cell_type": "code",
   "execution_count": 55,
   "metadata": {},
   "outputs": [
    {
     "name": "stdout",
     "output_type": "stream",
     "text": [
      "The probability is:  0.5581650214464884\n",
      "Prediction  [1]\n"
     ]
    },
    {
     "name": "stderr",
     "output_type": "stream",
     "text": [
      "/Library/Frameworks/Python.framework/Versions/3.10/lib/python3.10/site-packages/sklearn/base.py:464: UserWarning: X does not have valid feature names, but LogisticRegression was fitted with feature names\n",
      "  warnings.warn(\n"
     ]
    }
   ],
   "source": [
    "# Make the predictions on the training & validation set\n",
    "# Be careful as to how you define the new observation.  Hint: double brackets is one way to do it\n",
    "\n",
    "\n",
    "B0 = -3.3261670337310845\n",
    "B1 = 0.05933142048457174\n",
    "probability_AHD = 1 / (1 + math.exp(-(B0 + B1 * 60)))\n",
    "print(\"The probability is: \", probability_AHD)\n",
    "\n",
    "pred_v = logit1.predict([[60]])\n",
    "\n",
    "print(\"Prediction \", pred_v[:])\n",
    "\n"
   ]
  },
  {
   "cell_type": "markdown",
   "metadata": {},
   "source": [
    "### Accuracy computation"
   ]
  },
  {
   "cell_type": "markdown",
   "metadata": {},
   "source": [
    "### $k$-NN and logistic accuracy"
   ]
  },
  {
   "cell_type": "code",
   "execution_count": 49,
   "metadata": {},
   "outputs": [
    {
     "name": "stdout",
     "output_type": "stream",
     "text": [
      "k-NN Train & Validation Accuracy: 0.6563876651982379 0.6052631578947368\n",
      "Logisitic Train & Validation Accuracy: 0.6387665198237885 0.6052631578947368\n"
     ]
    }
   ],
   "source": [
    "### edTest(test_accuracy) ###\n",
    "\n",
    "# Define the equivalent validation variables from `heart_val`\n",
    "\n",
    "x_val = heart_val[[\"Age\"]]\n",
    "y_val = heart_val[\"AHD\"]\n",
    "\n",
    "# Compute the training & validation accuracy using the estimator.score() function\n",
    "\n",
    "knn20_train_accuracy = knn20.score(x_train, y_train)\n",
    "knn20_val_accuracy = knn20.score(x_val, y_val)\n",
    "\n",
    "logit_train_accuracy = logit1.score(x_train, y_train)\n",
    "logit_val_accuracy = logit1.score(x_val, y_val)\n",
    "\n",
    "# Print the accuracies below\n",
    "\n",
    "print(\"k-NN Train & Validation Accuracy:\", knn20_train_accuracy, knn20_val_accuracy)\n",
    "print(\"Logisitic Train & Validation Accuracy:\", logit_train_accuracy, logit_val_accuracy)\n",
    "\n",
    "\n"
   ]
  },
  {
   "cell_type": "markdown",
   "metadata": {},
   "source": [
    "### Plot the predictions"
   ]
  },
  {
   "cell_type": "markdown",
   "metadata": {},
   "source": [
    "Use a 'dummy' x variable for plotting for the two different models.  Here we plot the train and validation data separately, and the 4 different types of predictions (2 for each model: pure classification and probability estimation)"
   ]
  },
  {
   "cell_type": "code",
   "execution_count": 50,
   "metadata": {},
   "outputs": [
    {
     "name": "stdout",
     "output_type": "stream",
     "text": [
      "           Age\n",
      "0    19.000000\n",
      "1    19.341709\n",
      "2    19.683417\n",
      "3    20.025126\n",
      "4    20.366834\n",
      "..         ...\n",
      "195  85.633166\n",
      "196  85.974874\n",
      "197  86.316583\n",
      "198  86.658291\n",
      "199  87.000000\n",
      "\n",
      "[200 rows x 1 columns]\n",
      "[0.09985201 0.10168911 0.10355613 0.1054534  0.10738126 0.10934007\n",
      " 0.11133015 0.11335184 0.11540547 0.11749138 0.1196099  0.12176134\n",
      " 0.12394604 0.1261643  0.12841644 0.13070277 0.1330236  0.13537922\n",
      " 0.13776992 0.140196   0.14265773 0.14515538 0.14768924 0.15025955\n",
      " 0.15286657 0.15551054 0.15819171 0.16091029 0.16366651 0.16646058\n",
      " 0.16929268 0.17216303 0.17507178 0.1780191  0.18100516 0.18403009\n",
      " 0.18709403 0.19019709 0.19333937 0.19652097 0.19974196 0.2030024\n",
      " 0.20630235 0.20964182 0.21302085 0.21643943 0.21989753 0.22339514\n",
      " 0.22693219 0.23050863 0.23412436 0.23777928 0.24147327 0.24520618\n",
      " 0.24897786 0.25278812 0.25663677 0.26052358 0.26444832 0.26841072\n",
      " 0.27241051 0.27644738 0.280521   0.28463104 0.28877713 0.29295888\n",
      " 0.29717588 0.3014277  0.3057139  0.310034   0.3143875  0.31877388\n",
      " 0.32319262 0.32764315 0.33212489 0.33663725 0.34117959 0.34575127\n",
      " 0.35035164 0.35498001 0.35963567 0.36431791 0.36902597 0.37375911\n",
      " 0.37851653 0.38329744 0.38810104 0.39292647 0.3977729  0.40263947\n",
      " 0.40752528 0.41242944 0.41735105 0.42228918 0.42724289 0.43221124\n",
      " 0.43719327 0.44218799 0.44719444 0.45221162 0.45723853 0.46227417\n",
      " 0.46731751 0.47236754 0.47742324 0.48248356 0.48754748 0.49261395\n",
      " 0.49768194 0.50275041 0.50781832 0.51288461 0.51794826 0.52300823\n",
      " 0.52806348 0.53311298 0.53815571 0.54319064 0.54821676 0.55323306\n",
      " 0.55823855 0.56323223 0.56821313 0.57318026 0.57813269 0.58306944\n",
      " 0.5879896  0.59289223 0.59777644 0.60264131 0.60748599 0.61230959\n",
      " 0.61711128 0.62189023 0.62664561 0.63137664 0.63608253 0.64076252\n",
      " 0.64541589 0.65004189 0.65463984 0.65920905 0.66374886 0.66825862\n",
      " 0.67273772 0.67718556 0.68160156 0.68598517 0.69033584 0.69465306\n",
      " 0.69893634 0.70318521 0.70739923 0.71157795 0.71572097 0.71982792\n",
      " 0.72389842 0.72793214 0.73192875 0.73588795 0.73980946 0.74369303\n",
      " 0.74753841 0.75134539 0.75511377 0.75884337 0.76253403 0.76618561\n",
      " 0.76979799 0.77337107 0.77690476 0.780399   0.78385374 0.78726894\n",
      " 0.79064459 0.7939807  0.79727727 0.80053435 0.80375197 0.80693021\n",
      " 0.81006915 0.81316886 0.81622947 0.81925108 0.82223382 0.82517786\n",
      " 0.82808332 0.8309504  0.83377925 0.83657008 0.83932308 0.84203846\n",
      " 0.84471645 0.84735726 0.84996114 0.85252833 0.85505908 0.85755367\n",
      " 0.86001234 0.86243539]\n"
     ]
    },
    {
     "data": {
      "image/png": "[encoded data removed]",
      "text/plain": [
       "<Figure size 640x480 with 1 Axes>"
      ]
     },
     "metadata": {},
     "output_type": "display_data"
    }
   ],
   "source": [
    "\n",
    "# set-up the dummy x for plotting: we extend it a little bit beyond the range of observed values \n",
    "x = np.linspace(np.min(heart[['Age']])-10,np.max(heart[['Age']])+10,200)\n",
    "\n",
    "x_df = pd.DataFrame(x, columns=['Age'])\n",
    "print(x_df)\n",
    "\n",
    "# be careful in pulling off only the correct column of the probability calculations: use `[:,1]`\n",
    "yhat_class_knn20 = knn20.predict(x_df)\n",
    "yhat_prob_knn20 = knn20.predict_proba(x_df)[:, 1]\n",
    "\n",
    "yhat_class_logit = logit1.predict(x_df)\n",
    "yhat_prob_logit = logit1.predict_proba(x_df)[:, 1]\n",
    "\n",
    "print(yhat_prob_logit)\n",
    "\n",
    "\n",
    "# plot the observed data.  Note: we offset the validation points to make them more clearly differentiated from train\n",
    "plt.plot(x_train, y_train, 'o' ,alpha=0.1, label='Train Data')\n",
    "plt.plot(x_val, 0.94*y_val+0.03, 'o' ,alpha=0.1, label='Validation Data')\n",
    "\n",
    "# plot the predictions\n",
    "plt.plot(x, yhat_class_knn20, label='knn20 Classifications')\n",
    "plt.plot(x, yhat_prob_knn20, label='knn20 Probabilities')\n",
    "plt.plot(x, yhat_class_logit, label='logit1 Classifications')\n",
    "plt.plot(x, yhat_prob_logit, label='logit1 Probabilities')\n",
    "\n",
    "# put the lower-left part of the legend 5% to the right along the x-axis, and 45% up along the y-axis\n",
    "plt.legend(loc=(0.05,0.45))\n",
    "\n",
    "# Don't forget your axis labels!\n",
    "plt.xlabel(\"Age\")\n",
    "plt.ylabel(\"Heart disease (AHD)\")\n",
    "\n",
    "plt.show()\n"
   ]
  },
  {
   "cell_type": "markdown",
   "metadata": {},
   "source": [
    "### Post exercise questions\n",
    "\n",
    "1. Describe the estimated associations between AHD and Age based on these two models."
   ]
  },
  {
   "cell_type": "markdown",
   "metadata": {},
   "source": [
    "*Your answer here*"
   ]
  },
  {
   "cell_type": "markdown",
   "metadata": {},
   "source": [
    "2. Which model apears to be more overfit to the training data?  How do you know?  How can this be resolved?"
   ]
  },
  {
   "cell_type": "markdown",
   "metadata": {},
   "source": [
    "*Your answer here*"
   ]
  },
  {
   "cell_type": "markdown",
   "metadata": {},
   "source": [
    "3. How could you engineer features for the logistic regression model so that the association between AHD and Age resembles the general trend in the knn20 model more similarly?"
   ]
  },
  {
   "cell_type": "markdown",
   "metadata": {},
   "source": [
    "*Your answer here*"
   ]
  },
  {
   "cell_type": "code",
   "execution_count": 51,
   "metadata": {},
   "outputs": [],
   "source": [
    "# Your answer here"
   ]
  },
  {
   "cell_type": "markdown",
   "metadata": {},
   "source": [
    "4. Refit the models above to predict `AHD` from 3 predictors (please also play around with $k$):\n",
    "```{python}\n",
    "['MaxHR','Age','Sex']\n",
    "```\n",
    "Investigate the associations in each of the two models and evaluate the predictive accuracy of each of these models"
   ]
  },
  {
   "cell_type": "code",
   "execution_count": 52,
   "metadata": {},
   "outputs": [],
   "source": [
    "# Your answer here"
   ]
  }
 ],
 "metadata": {
  "kernelspec": {
   "display_name": "Python 3",
   "language": "python",
   "name": "python3"
  },
  "language_info": {
   "codemirror_mode": {
    "name": "ipython",
    "version": 3
   },
   "file_extension": ".py",
   "mimetype": "text/x-python",
   "name": "python",
   "nbconvert_exporter": "python",
   "pygments_lexer": "ipython3",
   "version": "3.10.11"
  }
 },
 "nbformat": 4,
 "nbformat_minor": 4
}
