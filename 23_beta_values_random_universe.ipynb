{
 "cells": [
  {
   "cell_type": "markdown",
   "metadata": {},
   "source": [
    "# Title\n",
    "\n",
    "**Exercise: A.1 - Beta values for data from Random Universe**\n",
    "\n",
    "# Description\n",
    "Given a RandomUniverse(dataframe)->dataframe function that gives a new dataset from a \"parallel\" universe, calculate the $\\beta_0$ 's and $\\beta_1$ 's and plot a histogram like the one below. "
   ]
  },
  {
   "cell_type": "markdown",
   "metadata": {},
   "source": [
    "<img src=\"img/beta_values_random.png\" style=\"width: 500px;\">"
   ]
  },
  {
   "cell_type": "markdown",
   "metadata": {},
   "source": [
    "# Roadmap\n",
    "- Get a new dataframe using the RandomUniverse function already provided in the exercise\n",
    "- Calculate $\\beta_0$, $\\beta_1$ for that particular dataframe\n",
    "- Add the calculated $\\beta_0$ and $\\beta_1$ values to a python list\n",
    "- Plot a histogram using the lists calculated above\n",
    "\n",
    "Change the number of `parallelUniverses` and comment on what you observe. Discuss within the group why you see this behavior. Did you expect the spread to change? Why or why not? \n",
    "\n",
    "# Hints\n",
    "\n",
    "- To compute the beta values use the following equations:\n",
    "\n",
    "$\\beta_{0}=\\bar{y}-\\left(b_{1} * \\bar{x}\\right)$\n",
    "\n",
    "$\\beta_{1}=\\frac{\\sum(x-\\bar{x}) *(y-\\bar{y})}{\\sum(x-\\bar{x})^{2}}$\n",
    "\n",
    "where $\\bar{x}$ is the mean of $x$ and $\\bar{y}$ is the mean of $y$\n",
    "\n",
    "\n",
    "<a href=\"https://numpy.org/doc/stable/reference/generated/numpy.dot.html\" target=\"_blank\">np.dot()</a> : Computes the dot product of two arrays\n",
    "\n",
    "<a href=\"https://matplotlib.org/3.2.2/api/_as_gen/matplotlib.axes.Axes.hist.html\" target=\"_blank\">ax.hist()</a> : Plots a histogram\n",
    "\n",
    "<a href=\"https://matplotlib.org/3.1.1/api/_as_gen/matplotlib.axes.Axes.set_xlabel.html\" target=\"_blank\">ax.set_xlabel()</a> : Sets label for x-axis\n",
    "\n",
    "<a href=\"https://matplotlib.org/3.1.1/api/_as_gen/matplotlib.axes.Axes.set_ylabel.html\" target=\"_blank\">ax.set_ylabel()</a> : Sets label for the y-axis\n",
    "\n",
    "Note: This exercise is **auto-graded and you can try multiple attempts.**"
   ]
  },
  {
   "cell_type": "code",
   "execution_count": 1,
   "metadata": {},
   "outputs": [
    {
     "name": "stderr",
     "output_type": "stream",
     "text": [
      "/var/folders/r9/ggpr596s74x4hr8c_sfdzc580000gn/T/ipykernel_27109/4272243813.py:1: DeprecationWarning: \n",
      "Pyarrow will become a required dependency of pandas in the next major release of pandas (pandas 3.0),\n",
      "(to allow more performant data types, such as the Arrow string type, and better interoperability with other libraries)\n",
      "but was not found to be installed on your system.\n",
      "If this would cause problems for you,\n",
      "please provide us feedback at https://github.com/pandas-dev/pandas/issues/54466\n",
      "        \n",
      "  import pandas as pd\n"
     ]
    },
    {
     "ename": "ModuleNotFoundError",
     "evalue": "No module named 'randomuniverse'",
     "output_type": "error",
     "traceback": [
      "\u001b[0;31m---------------------------------------------------------------------------\u001b[0m",
      "\u001b[0;31mModuleNotFoundError\u001b[0m                       Traceback (most recent call last)",
      "Cell \u001b[0;32mIn[1], line 4\u001b[0m\n\u001b[1;32m      2\u001b[0m \u001b[38;5;28;01mimport\u001b[39;00m \u001b[38;5;21;01mnumpy\u001b[39;00m \u001b[38;5;28;01mas\u001b[39;00m \u001b[38;5;21;01mnp\u001b[39;00m\n\u001b[1;32m      3\u001b[0m \u001b[38;5;28;01mimport\u001b[39;00m \u001b[38;5;21;01mmatplotlib\u001b[39;00m\u001b[38;5;21;01m.\u001b[39;00m\u001b[38;5;21;01mpyplot\u001b[39;00m \u001b[38;5;28;01mas\u001b[39;00m \u001b[38;5;21;01mplt\u001b[39;00m\n\u001b[0;32m----> 4\u001b[0m \u001b[38;5;28;01mfrom\u001b[39;00m \u001b[38;5;21;01mrandomuniverse\u001b[39;00m \u001b[38;5;28;01mimport\u001b[39;00m RandomUniverse\n\u001b[1;32m      5\u001b[0m get_ipython()\u001b[38;5;241m.\u001b[39mrun_line_magic(\u001b[38;5;124m'\u001b[39m\u001b[38;5;124mmatplotlib\u001b[39m\u001b[38;5;124m'\u001b[39m, \u001b[38;5;124m'\u001b[39m\u001b[38;5;124minline\u001b[39m\u001b[38;5;124m'\u001b[39m)\n",
      "\u001b[0;31mModuleNotFoundError\u001b[0m: No module named 'randomuniverse'"
     ]
    }
   ],
   "source": [
    "import pandas as pd\n",
    "import numpy as np\n",
    "import matplotlib.pyplot as plt\n",
    "from randomuniverse import RandomUniverse\n",
    "%matplotlib inline"
   ]
  },
  {
   "cell_type": "markdown",
   "metadata": {},
   "source": [
    "### Reading the standard Advertising dataset"
   ]
  },
  {
   "cell_type": "code",
   "execution_count": 2,
   "metadata": {},
   "outputs": [],
   "source": [
    "df = pd.read_csv('data/advertising_adj.csv')"
   ]
  },
  {
   "cell_type": "code",
   "execution_count": 3,
   "metadata": {},
   "outputs": [
    {
     "data": {
      "text/html": [
       "<div>\n",
       "<style scoped>\n",
       "    .dataframe tbody tr th:only-of-type {\n",
       "        vertical-align: middle;\n",
       "    }\n",
       "\n",
       "    .dataframe tbody tr th {\n",
       "        vertical-align: top;\n",
       "    }\n",
       "\n",
       "    .dataframe thead th {\n",
       "        text-align: right;\n",
       "    }\n",
       "</style>\n",
       "<table border=\"1\" class=\"dataframe\">\n",
       "  <thead>\n",
       "    <tr style=\"text-align: right;\">\n",
       "      <th></th>\n",
       "      <th>tv</th>\n",
       "      <th>sales</th>\n",
       "    </tr>\n",
       "  </thead>\n",
       "  <tbody>\n",
       "    <tr>\n",
       "      <th>0</th>\n",
       "      <td>230.1</td>\n",
       "      <td>465.26</td>\n",
       "    </tr>\n",
       "    <tr>\n",
       "      <th>1</th>\n",
       "      <td>44.5</td>\n",
       "      <td>218.95</td>\n",
       "    </tr>\n",
       "    <tr>\n",
       "      <th>2</th>\n",
       "      <td>17.2</td>\n",
       "      <td>195.79</td>\n",
       "    </tr>\n",
       "    <tr>\n",
       "      <th>3</th>\n",
       "      <td>151.5</td>\n",
       "      <td>389.47</td>\n",
       "    </tr>\n",
       "    <tr>\n",
       "      <th>4</th>\n",
       "      <td>180.8</td>\n",
       "      <td>271.58</td>\n",
       "    </tr>\n",
       "  </tbody>\n",
       "</table>\n",
       "</div>"
      ],
      "text/plain": [
       "      tv   sales\n",
       "0  230.1  465.26\n",
       "1   44.5  218.95\n",
       "2   17.2  195.79\n",
       "3  151.5  389.47\n",
       "4  180.8  271.58"
      ]
     },
     "execution_count": 3,
     "metadata": {},
     "output_type": "execute_result"
    }
   ],
   "source": [
    "df.head()"
   ]
  },
  {
   "cell_type": "code",
   "execution_count": 1,
   "metadata": {},
   "outputs": [],
   "source": [
    "#Create two empty lists that will store the beta values\n",
    "beta0_list, beta1_list = [],[]\n",
    "\n",
    "\n",
    "#Choose the number of \"parallel\" Universes to generate the new dataset\n",
    "parallelUniverses = 1000\n",
    "\n",
    "for i in range(parallelUniverses):\n",
    "    df_new = RandomUniverse(df)\n",
    "\n",
    "# x is the predictor variable given by 'tv' values \n",
    "# y is the reponse variable given by 'sales' values\n",
    "    x = df_new[\"tv\"]\n",
    "    y = df_new[\"sales\"]\n",
    "\n",
    "#Find the mean of the x values\n",
    "    xmean = x.mean()\n",
    "\n",
    "#Find the mean of the y values\n",
    "    ymean = y.mean()\n",
    "\n",
    "# Using Linear Algebra as discussed in lecture for beta0 and beta1\n",
    "\n",
    "    beta1 = np.sum((df_new.tv-xmean) * (df_new.sales-ymean)) / np.sum((df_new.tv-xmean)**2)\n",
    "    beta0 = ymean-beta1*xmean\n",
    "\n",
    "# Append the calculated values of beta1 and beta0\n",
    "    beta0_list.append(beta0)\n",
    "    beta1_list.append(beta1)"
   ]
  },
  {
   "cell_type": "code",
   "execution_count": 3,
   "metadata": {},
   "outputs": [],
   "source": [
    "### edTest(test_beta) ###\n",
    "beta0_mean = np.mean(beta0_list)\n",
    "beta1_mean = np.mean(beta1_list)"
   ]
  },
  {
   "cell_type": "markdown",
   "metadata": {},
   "source": [
    "### Now we plot the histograms\n",
    "\n",
    "Returns a plot for a histogram"
   ]
  },
  {
   "cell_type": "code",
   "execution_count": 4,
   "metadata": {},
   "outputs": [],
   "source": [
    "# plot histogram of \n",
    "fig, ax = plt.subplots(1,2, figsize=(18,8))\n",
    "ax[0].hist(beta0_list)\n",
    "ax[1].hist(beta1_list)\n",
    "ax[0].set_xlabel('Beta 0')\n",
    "ax[1].set_xlabel('Beta 1')\n",
    "ax[0].set_ylabel('Frequency');"
   ]
  },
  {
   "cell_type": "markdown",
   "metadata": {},
   "source": [
    "## Discussion\n",
    "Change the number of `parallelUniverses` and comment on what you observe. Discuss within the group why you see this behavior. Did you expect the spread to change? Why or why not? \n",
    "\n",
    "**There is no change**"
   ]
  },
  {
   "cell_type": "markdown",
   "metadata": {},
   "source": [
    "# Fin"
   ]
  },
  {
   "cell_type": "markdown",
   "metadata": {},
   "source": [
    "![Fin](https://media.giphy.com/media/jc1dl9ywZPryw/giphy.gif)"
   ]
  }
 ],
 "metadata": {
  "kernelspec": {
   "display_name": "Python 3",
   "language": "python",
   "name": "python3"
  },
  "language_info": {
   "codemirror_mode": {
    "name": "ipython",
    "version": 3
   },
   "file_extension": ".py",
   "mimetype": "text/x-python",
   "name": "python",
   "nbconvert_exporter": "python",
   "pygments_lexer": "ipython3",
   "version": "3.10.11"
  }
 },
 "nbformat": 4,
 "nbformat_minor": 4
}
