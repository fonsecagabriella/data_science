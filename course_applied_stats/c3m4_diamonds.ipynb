{
 "cells": [
  {
   "cell_type": "markdown",
   "id": "a3a578a6",
   "metadata": {},
   "source": [
    "# Diamond Prices"
   ]
  },
  {
   "cell_type": "code",
   "execution_count": 1,
   "id": "44c560d1",
   "metadata": {},
   "outputs": [
    {
     "name": "stdout",
     "output_type": "stream",
     "text": [
      "   Unnamed: 0  carat      cut color clarity  depth  table  price     x     y  \\\n",
      "0           1   0.23    Ideal     E     SI2   61.5   55.0    326  3.95  3.98   \n",
      "1           2   0.21  Premium     E     SI1   59.8   61.0    326  3.89  3.84   \n",
      "2           3   0.23     Good     E     VS1   56.9   65.0    327  4.05  4.07   \n",
      "3           4   0.29  Premium     I     VS2   62.4   58.0    334  4.20  4.23   \n",
      "4           5   0.31     Good     J     SI2   63.3   58.0    335  4.34  4.35   \n",
      "\n",
      "      z  \n",
      "0  2.43  \n",
      "1  2.31  \n",
      "2  2.31  \n",
      "3  2.63  \n",
      "4  2.75  \n",
      "<class 'pandas.core.frame.DataFrame'>\n",
      "RangeIndex: 53940 entries, 0 to 53939\n",
      "Data columns (total 11 columns):\n",
      " #   Column      Non-Null Count  Dtype  \n",
      "---  ------      --------------  -----  \n",
      " 0   Unnamed: 0  53940 non-null  int64  \n",
      " 1   carat       53940 non-null  float64\n",
      " 2   cut         53940 non-null  object \n",
      " 3   color       53940 non-null  object \n",
      " 4   clarity     53940 non-null  object \n",
      " 5   depth       53940 non-null  float64\n",
      " 6   table       53940 non-null  float64\n",
      " 7   price       53940 non-null  int64  \n",
      " 8   x           53940 non-null  float64\n",
      " 9   y           53940 non-null  float64\n",
      " 10  z           53940 non-null  float64\n",
      "dtypes: float64(6), int64(2), object(3)\n",
      "memory usage: 4.5+ MB\n",
      "None\n"
     ]
    }
   ],
   "source": [
    "# load all necessary libraries\n",
    "import numpy as np\n",
    "import pandas as pd\n",
    "from scipy import stats\n",
    "import matplotlib.pyplot as plt\n",
    "import seaborn as sns\n",
    "\n",
    "# set the random seed for reproducibility\n",
    "np.random.seed(42)\n",
    "\n",
    "# load the diamonds dataset\n",
    "diamonds = pd.read_csv('./data/diamonds.csv')\n",
    "\n",
    "# display the first few rows of the dataset\n",
    "print(diamonds.head())\n",
    "\n",
    "# display information about the dataset\n",
    "print(diamonds.info())"
   ]
  },
  {
   "cell_type": "markdown",
   "id": "5c4a795b",
   "metadata": {},
   "source": [
    "## 01. Price\n",
    "\n",
    "You decide to start by investigating the mean diamond price and price by cut. You'll test your stats knowledge to set up each calculation to create the confidence intervals!"
   ]
  },
  {
   "cell_type": "code",
   "execution_count": 2,
   "id": "4f535d10",
   "metadata": {},
   "outputs": [
    {
     "name": "stdout",
     "output_type": "stream",
     "text": [
      "Mean price: 3932.799721913237\n",
      "Standard deviation of price: 3989.4397381463023\n",
      "Sample size: 53940\n"
     ]
    }
   ],
   "source": [
    "# calculate the sample mean of the price\n",
    "mean_price = diamonds['price'].mean()\n",
    "print(f\"Mean price: {mean_price}\")\n",
    "# calculate the sample standard deviation of the price\n",
    "std_price = diamonds['price'].std()\n",
    "print(f\"Standard deviation of price: {std_price}\")\n",
    "# calculate the sample size\n",
    "n = diamonds['price'].count()\n",
    "print(f\"Sample size: {n}\")"
   ]
  },
  {
   "cell_type": "code",
   "execution_count": 4,
   "id": "31a8c81c",
   "metadata": {},
   "outputs": [
    {
     "name": "stdout",
     "output_type": "stream",
     "text": [
      "Z-score for 95.0% confidence level: 1.959963984540054\n",
      "95% confidence interval for the mean price: (3899.1327133652608, 3966.4667304612135)\n"
     ]
    }
   ],
   "source": [
    "# calculate the margin of error for the 95% confidence interval\n",
    "confidence_level = 0.95\n",
    "z_score = stats.norm.ppf((1 + confidence_level) / 2)\n",
    "print(f\"Z-score for {confidence_level*100}% confidence level: {z_score}\")\n",
    "\n",
    "margin_of_error = z_score * (std_price / np.sqrt(n))\n",
    "# calculate the confidence interval\n",
    "confidence_interval = (mean_price - margin_of_error, mean_price + margin_of_error)\n",
    "print(f\"95% confidence interval for the mean price: {confidence_interval}\")"
   ]
  }
 ],
 "metadata": {
  "kernelspec": {
   "display_name": "base",
   "language": "python",
   "name": "python3"
  },
  "language_info": {
   "codemirror_mode": {
    "name": "ipython",
    "version": 3
   },
   "file_extension": ".py",
   "mimetype": "text/x-python",
   "name": "python",
   "nbconvert_exporter": "python",
   "pygments_lexer": "ipython3",
   "version": "3.12.2"
  }
 },
 "nbformat": 4,
 "nbformat_minor": 5
}
