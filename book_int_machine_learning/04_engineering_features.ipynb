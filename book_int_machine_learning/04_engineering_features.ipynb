{
 "cells": [
  {
   "cell_type": "markdown",
   "metadata": {},
   "source": [
    "# 4.1 Categorical variables\n",
    "\n",
    "- **One Hot Enconding**: We replace categorical variables with one or more new features that can have values 0 and 1."
   ]
  },
  {
   "cell_type": "code",
   "execution_count": 17,
   "metadata": {},
   "outputs": [
    {
     "data": {
      "text/html": [
       "<div>\n",
       "<style scoped>\n",
       "    .dataframe tbody tr th:only-of-type {\n",
       "        vertical-align: middle;\n",
       "    }\n",
       "\n",
       "    .dataframe tbody tr th {\n",
       "        vertical-align: top;\n",
       "    }\n",
       "\n",
       "    .dataframe thead th {\n",
       "        text-align: right;\n",
       "    }\n",
       "</style>\n",
       "<table border=\"1\" class=\"dataframe\">\n",
       "  <thead>\n",
       "    <tr style=\"text-align: right;\">\n",
       "      <th></th>\n",
       "      <th>Income</th>\n",
       "      <th>Age</th>\n",
       "      <th>Ethnicity</th>\n",
       "      <th>Gender</th>\n",
       "    </tr>\n",
       "  </thead>\n",
       "  <tbody>\n",
       "    <tr>\n",
       "      <th>0</th>\n",
       "      <td>14.891</td>\n",
       "      <td>34</td>\n",
       "      <td>Caucasian</td>\n",
       "      <td>Male</td>\n",
       "    </tr>\n",
       "    <tr>\n",
       "      <th>1</th>\n",
       "      <td>106.025</td>\n",
       "      <td>82</td>\n",
       "      <td>Asian</td>\n",
       "      <td>Female</td>\n",
       "    </tr>\n",
       "    <tr>\n",
       "      <th>2</th>\n",
       "      <td>104.593</td>\n",
       "      <td>71</td>\n",
       "      <td>Asian</td>\n",
       "      <td>Male</td>\n",
       "    </tr>\n",
       "    <tr>\n",
       "      <th>3</th>\n",
       "      <td>148.924</td>\n",
       "      <td>36</td>\n",
       "      <td>Asian</td>\n",
       "      <td>Female</td>\n",
       "    </tr>\n",
       "    <tr>\n",
       "      <th>4</th>\n",
       "      <td>55.882</td>\n",
       "      <td>68</td>\n",
       "      <td>Caucasian</td>\n",
       "      <td>Male</td>\n",
       "    </tr>\n",
       "  </tbody>\n",
       "</table>\n",
       "</div>"
      ],
      "text/plain": [
       "    Income  Age  Ethnicity  Gender\n",
       "0   14.891   34  Caucasian    Male\n",
       "1  106.025   82      Asian  Female\n",
       "2  104.593   71      Asian    Male\n",
       "3  148.924   36      Asian  Female\n",
       "4   55.882   68  Caucasian    Male"
      ]
     },
     "metadata": {},
     "output_type": "display_data"
    }
   ],
   "source": [
    "import pandas as pd\n",
    "\n",
    "data = pd.read_csv(\"../data/credit.csv\")\n",
    "\n",
    "# for illustrion purposes, we select only a few columns\n",
    "data = data[[\"Income\", \"Age\", \"Ethnicity\", \"Gender\"]]\n",
    "\n",
    "display(data.head())\n"
   ]
  },
  {
   "cell_type": "markdown",
   "metadata": {},
   "source": [
    "Before we do the encoding, it is good to check if the data is consistent."
   ]
  },
  {
   "cell_type": "code",
   "execution_count": 18,
   "metadata": {},
   "outputs": [
    {
     "name": "stdout",
     "output_type": "stream",
     "text": [
      "Ethnicity\n",
      "Caucasian           199\n",
      "Asian               102\n",
      "African American     99\n",
      "Name: count, dtype: int64\n"
     ]
    }
   ],
   "source": [
    "print(data.Ethnicity.value_counts())"
   ]
  },
  {
   "cell_type": "code",
   "execution_count": 11,
   "metadata": {},
   "outputs": [
    {
     "name": "stdout",
     "output_type": "stream",
     "text": [
      "Original features: \n",
      " ['Income', 'Age', 'Ethnicity', 'Gender'] \n",
      "\n",
      "Features after get_dummies:\n",
      " ['Income', 'Age', 'Ethnicity_African American', 'Ethnicity_Asian', 'Ethnicity_Caucasian', 'Gender_ Male', 'Gender_Female']\n"
     ]
    }
   ],
   "source": [
    "print(f\"Original features: \\n {list(data.columns)} \\n\")\n",
    "data_dummies = pd.get_dummies(data)\n",
    "\n",
    "print(f\"Features after get_dummies:\\n {list(data_dummies.columns)}\")"
   ]
  },
  {
   "cell_type": "markdown",
   "metadata": {},
   "source": [
    "Sometimes, datasets have categorical values encoded as numbers. For example, a web form could return values as 1, 2, 3 if user selected option 1, or option, or option 3. In these cases, we need to use OneHot enconder from SciKit, or we need to be explicity about the columns you want to encode."
   ]
  },
  {
   "cell_type": "code",
   "execution_count": 14,
   "metadata": {},
   "outputs": [
    {
     "data": {
      "text/html": [
       "<div>\n",
       "<style scoped>\n",
       "    .dataframe tbody tr th:only-of-type {\n",
       "        vertical-align: middle;\n",
       "    }\n",
       "\n",
       "    .dataframe tbody tr th {\n",
       "        vertical-align: top;\n",
       "    }\n",
       "\n",
       "    .dataframe thead th {\n",
       "        text-align: right;\n",
       "    }\n",
       "</style>\n",
       "<table border=\"1\" class=\"dataframe\">\n",
       "  <thead>\n",
       "    <tr style=\"text-align: right;\">\n",
       "      <th></th>\n",
       "      <th>Integer Feature</th>\n",
       "      <th>Categorical Feature</th>\n",
       "    </tr>\n",
       "  </thead>\n",
       "  <tbody>\n",
       "    <tr>\n",
       "      <th>0</th>\n",
       "      <td>0</td>\n",
       "      <td>birds</td>\n",
       "    </tr>\n",
       "    <tr>\n",
       "      <th>1</th>\n",
       "      <td>1</td>\n",
       "      <td>cats</td>\n",
       "    </tr>\n",
       "    <tr>\n",
       "      <th>2</th>\n",
       "      <td>2</td>\n",
       "      <td>dogs</td>\n",
       "    </tr>\n",
       "    <tr>\n",
       "      <th>3</th>\n",
       "      <td>1</td>\n",
       "      <td>cats</td>\n",
       "    </tr>\n",
       "  </tbody>\n",
       "</table>\n",
       "</div>"
      ],
      "text/plain": [
       "   Integer Feature Categorical Feature\n",
       "0                0               birds\n",
       "1                1                cats\n",
       "2                2                dogs\n",
       "3                1                cats"
      ]
     },
     "metadata": {},
     "output_type": "display_data"
    },
    {
     "data": {
      "text/html": [
       "<div>\n",
       "<style scoped>\n",
       "    .dataframe tbody tr th:only-of-type {\n",
       "        vertical-align: middle;\n",
       "    }\n",
       "\n",
       "    .dataframe tbody tr th {\n",
       "        vertical-align: top;\n",
       "    }\n",
       "\n",
       "    .dataframe thead th {\n",
       "        text-align: right;\n",
       "    }\n",
       "</style>\n",
       "<table border=\"1\" class=\"dataframe\">\n",
       "  <thead>\n",
       "    <tr style=\"text-align: right;\">\n",
       "      <th></th>\n",
       "      <th>Integer Feature_0</th>\n",
       "      <th>Integer Feature_1</th>\n",
       "      <th>Integer Feature_2</th>\n",
       "      <th>Categorical Feature_birds</th>\n",
       "      <th>Categorical Feature_cats</th>\n",
       "      <th>Categorical Feature_dogs</th>\n",
       "    </tr>\n",
       "  </thead>\n",
       "  <tbody>\n",
       "    <tr>\n",
       "      <th>0</th>\n",
       "      <td>True</td>\n",
       "      <td>False</td>\n",
       "      <td>False</td>\n",
       "      <td>True</td>\n",
       "      <td>False</td>\n",
       "      <td>False</td>\n",
       "    </tr>\n",
       "    <tr>\n",
       "      <th>1</th>\n",
       "      <td>False</td>\n",
       "      <td>True</td>\n",
       "      <td>False</td>\n",
       "      <td>False</td>\n",
       "      <td>True</td>\n",
       "      <td>False</td>\n",
       "    </tr>\n",
       "    <tr>\n",
       "      <th>2</th>\n",
       "      <td>False</td>\n",
       "      <td>False</td>\n",
       "      <td>True</td>\n",
       "      <td>False</td>\n",
       "      <td>False</td>\n",
       "      <td>True</td>\n",
       "    </tr>\n",
       "    <tr>\n",
       "      <th>3</th>\n",
       "      <td>False</td>\n",
       "      <td>True</td>\n",
       "      <td>False</td>\n",
       "      <td>False</td>\n",
       "      <td>True</td>\n",
       "      <td>False</td>\n",
       "    </tr>\n",
       "  </tbody>\n",
       "</table>\n",
       "</div>"
      ],
      "text/plain": [
       "   Integer Feature_0  Integer Feature_1  Integer Feature_2  \\\n",
       "0               True              False              False   \n",
       "1              False               True              False   \n",
       "2              False              False               True   \n",
       "3              False               True              False   \n",
       "\n",
       "   Categorical Feature_birds  Categorical Feature_cats  \\\n",
       "0                       True                     False   \n",
       "1                      False                      True   \n",
       "2                      False                     False   \n",
       "3                      False                      True   \n",
       "\n",
       "   Categorical Feature_dogs  \n",
       "0                     False  \n",
       "1                     False  \n",
       "2                      True  \n",
       "3                     False  "
      ]
     },
     "execution_count": 14,
     "metadata": {},
     "output_type": "execute_result"
    }
   ],
   "source": [
    "# create a DF with an integer feature and a categorical string feature\n",
    "\n",
    "demo_df = pd.DataFrame({\"Integer Feature\": [0, 1, 2, 1],\n",
    "\"Categorical Feature\": [\"birds\", \"cats\", \"dogs\", \"cats\"]})\n",
    "\n",
    "display(demo_df)\n",
    "\n",
    "# Explicity tells the column is an category, not a \"number\"\n",
    "demo_df[\"Integer Feature\"] = demo_df[\"Integer Feature\"].astype(str)\n",
    "\n",
    "pd.get_dummies(demo_df, columns=[\"Integer Feature\", \"Categorical Feature\"])\n",
    "\n"
   ]
  },
  {
   "cell_type": "markdown",
   "metadata": {},
   "source": [
    "# 4.2 Binning (also known as discretisation)\n",
    "\n",
    "Sometimes the models might work better if you create binning for continuous variables. This is usually the case for linear models, but not for tree-based models."
   ]
  },
  {
   "cell_type": "code",
   "execution_count": 23,
   "metadata": {},
   "outputs": [
    {
     "name": "stdout",
     "output_type": "stream",
     "text": [
      "Age\n",
      "23    1\n",
      "24    3\n",
      "25    7\n",
      "26    1\n",
      "27    2\n",
      "     ..\n",
      "86    1\n",
      "87    2\n",
      "89    1\n",
      "91    1\n",
      "98    1\n",
      "Name: count, Length: 68, dtype: int64\n",
      "bins: [23 33 43 53 63 73 83 93]\n"
     ]
    }
   ],
   "source": [
    "import numpy as np\n",
    "\n",
    "# First le'ts check what are the youngest and oldest ages\n",
    "print(data.Age.value_counts().sort_index())\n",
    "\n",
    "# Now let's create the 10 bins - Ps you use then 11 in the third argument because you specificy the splits\n",
    "\n",
    "# I would use the code below if it didn't matter to get decimals\n",
    "#bins = np.linspace(23, 98, 10)\n",
    "\n",
    "#I will use this code so I ensure the beans are only intengers\n",
    "bins = np.arange(23, 99, 10)\n",
    "\n",
    "print(f\"bins: {bins}\")"
   ]
  },
  {
   "cell_type": "code",
   "execution_count": 25,
   "metadata": {},
   "outputs": [
    {
     "name": "stdout",
     "output_type": "stream",
     "text": [
      "\n",
      " Data points     Income  Age  Ethnicity  Gender\n",
      "0   14.891   34  Caucasian    Male\n",
      "1  106.025   82      Asian  Female\n",
      "2  104.593   71      Asian    Male\n",
      "3  148.924   36      Asian  Female\n",
      "4   55.882   68  Caucasian    Male\n",
      "\n",
      " Membership of the data points [2 6 5 2 5]\n"
     ]
    }
   ],
   "source": [
    "# Now we compute for each data point which bin they fall into\n",
    "\n",
    "which_bin = np.digitize(data.Age, bins=bins)\n",
    "print(f\"\\n Data points {data[:5]}\")\n",
    "print(f\"\\n Membership of the data points {which_bin[:5]}\")"
   ]
  },
  {
   "cell_type": "code",
   "execution_count": 43,
   "metadata": {},
   "outputs": [
    {
     "name": "stdout",
     "output_type": "stream",
     "text": [
      "\n",
      " Data stacked:\n",
      " [[14.891 34 'Caucasian' ' Male' 2]\n",
      " [106.025 82 'Asian' 'Female' 6]\n",
      " [104.593 71 'Asian' ' Male' 5]\n",
      " [148.924 36 'Asian' 'Female' 2]\n",
      " [55.882 68 'Caucasian' ' Male' 5]]\n",
      "\n",
      "Data binned:\n",
      " [[0. 1. 0. 0. 0. 0. 0. 0.]\n",
      " [0. 0. 0. 0. 0. 1. 0. 0.]\n",
      " [0. 0. 0. 0. 1. 0. 0. 0.]\n",
      " [0. 1. 0. 0. 0. 0. 0. 0.]\n",
      " [0. 0. 0. 0. 1. 0. 0. 0.]]\n"
     ]
    }
   ],
   "source": [
    "# now we could go on and transform the bin category\n",
    "\n",
    "from sklearn.preprocessing import OneHotEncoder\n",
    "\n",
    "encoder = OneHotEncoder(sparse_output=False)\n",
    "\n",
    "# Reshape array2 to have shape (400, 1)\n",
    "which_bin_reshaped = which_bin.reshape(-1, 1) # this preserves the number of lines, adds info about 1 column\n",
    "data_combined = np.hstack([data, which_bin_reshaped])\n",
    "\n",
    "print(\"\\n Data stacked:\\n\", data_combined[:5])\n",
    "\n",
    "#encoder.fit finds the unique values that appear in which_bin\n",
    "encoder.fit(which_bin.reshape(-1,1))\n",
    "\n",
    "#transform creates the one-hot encoding\n",
    "data_binned = encoder.transform(which_bin.reshape(-1,1))\n",
    "\n",
    "print(\"\\nData binned:\\n\", data_binned[:5])"
   ]
  },
  {
   "cell_type": "markdown",
   "metadata": {},
   "source": [
    "Here in the data binned, we have a new array in which each row represents the bin to which the data belongs to. For example, the first point belongs to bin 2. So the second column of the first row in this array =1, while the other columns =0."
   ]
  }
 ],
 "metadata": {
  "kernelspec": {
   "display_name": "Python 3",
   "language": "python",
   "name": "python3"
  },
  "language_info": {
   "codemirror_mode": {
    "name": "ipython",
    "version": 3
   },
   "file_extension": ".py",
   "mimetype": "text/x-python",
   "name": "python",
   "nbconvert_exporter": "python",
   "pygments_lexer": "ipython3",
   "version": "3.10.11"
  }
 },
 "nbformat": 4,
 "nbformat_minor": 2
}
