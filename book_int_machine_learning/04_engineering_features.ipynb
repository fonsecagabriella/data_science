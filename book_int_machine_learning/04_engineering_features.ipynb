{
 "cells": [
  {
   "cell_type": "markdown",
   "metadata": {},
   "source": [
    "# 4.1 Categorical variables\n",
    "\n",
    "- **One Hot Enconding**: We replace categorical variables with one or more new features that can have values 0 and 1."
   ]
  },
  {
   "cell_type": "code",
   "execution_count": 17,
   "metadata": {},
   "outputs": [
    {
     "data": {
      "text/html": [
       "<div>\n",
       "<style scoped>\n",
       "    .dataframe tbody tr th:only-of-type {\n",
       "        vertical-align: middle;\n",
       "    }\n",
       "\n",
       "    .dataframe tbody tr th {\n",
       "        vertical-align: top;\n",
       "    }\n",
       "\n",
       "    .dataframe thead th {\n",
       "        text-align: right;\n",
       "    }\n",
       "</style>\n",
       "<table border=\"1\" class=\"dataframe\">\n",
       "  <thead>\n",
       "    <tr style=\"text-align: right;\">\n",
       "      <th></th>\n",
       "      <th>Income</th>\n",
       "      <th>Age</th>\n",
       "      <th>Ethnicity</th>\n",
       "      <th>Gender</th>\n",
       "    </tr>\n",
       "  </thead>\n",
       "  <tbody>\n",
       "    <tr>\n",
       "      <th>0</th>\n",
       "      <td>14.891</td>\n",
       "      <td>34</td>\n",
       "      <td>Caucasian</td>\n",
       "      <td>Male</td>\n",
       "    </tr>\n",
       "    <tr>\n",
       "      <th>1</th>\n",
       "      <td>106.025</td>\n",
       "      <td>82</td>\n",
       "      <td>Asian</td>\n",
       "      <td>Female</td>\n",
       "    </tr>\n",
       "    <tr>\n",
       "      <th>2</th>\n",
       "      <td>104.593</td>\n",
       "      <td>71</td>\n",
       "      <td>Asian</td>\n",
       "      <td>Male</td>\n",
       "    </tr>\n",
       "    <tr>\n",
       "      <th>3</th>\n",
       "      <td>148.924</td>\n",
       "      <td>36</td>\n",
       "      <td>Asian</td>\n",
       "      <td>Female</td>\n",
       "    </tr>\n",
       "    <tr>\n",
       "      <th>4</th>\n",
       "      <td>55.882</td>\n",
       "      <td>68</td>\n",
       "      <td>Caucasian</td>\n",
       "      <td>Male</td>\n",
       "    </tr>\n",
       "  </tbody>\n",
       "</table>\n",
       "</div>"
      ],
      "text/plain": [
       "    Income  Age  Ethnicity  Gender\n",
       "0   14.891   34  Caucasian    Male\n",
       "1  106.025   82      Asian  Female\n",
       "2  104.593   71      Asian    Male\n",
       "3  148.924   36      Asian  Female\n",
       "4   55.882   68  Caucasian    Male"
      ]
     },
     "metadata": {},
     "output_type": "display_data"
    }
   ],
   "source": [
    "import pandas as pd\n",
    "\n",
    "data = pd.read_csv(\"../data/credit.csv\")\n",
    "\n",
    "# for illustrion purposes, we select only a few columns\n",
    "data = data[[\"Income\", \"Age\", \"Ethnicity\", \"Gender\"]]\n",
    "\n",
    "display(data.head())\n"
   ]
  },
  {
   "cell_type": "markdown",
   "metadata": {},
   "source": [
    "Before we do the encoding, it is good to check if the data is consistent."
   ]
  },
  {
   "cell_type": "code",
   "execution_count": 18,
   "metadata": {},
   "outputs": [
    {
     "name": "stdout",
     "output_type": "stream",
     "text": [
      "Ethnicity\n",
      "Caucasian           199\n",
      "Asian               102\n",
      "African American     99\n",
      "Name: count, dtype: int64\n"
     ]
    }
   ],
   "source": [
    "print(data.Ethnicity.value_counts())"
   ]
  },
  {
   "cell_type": "code",
   "execution_count": 11,
   "metadata": {},
   "outputs": [
    {
     "name": "stdout",
     "output_type": "stream",
     "text": [
      "Original features: \n",
      " ['Income', 'Age', 'Ethnicity', 'Gender'] \n",
      "\n",
      "Features after get_dummies:\n",
      " ['Income', 'Age', 'Ethnicity_African American', 'Ethnicity_Asian', 'Ethnicity_Caucasian', 'Gender_ Male', 'Gender_Female']\n"
     ]
    }
   ],
   "source": [
    "print(f\"Original features: \\n {list(data.columns)} \\n\")\n",
    "data_dummies = pd.get_dummies(data)\n",
    "\n",
    "print(f\"Features after get_dummies:\\n {list(data_dummies.columns)}\")"
   ]
  },
  {
   "cell_type": "markdown",
   "metadata": {},
   "source": [
    "Sometimes, datasets have categorical values encoded as numbers. For example, a web form could return values as 1, 2, 3 if user selected option 1, or option, or option 3. In these cases, we need to use OneHot enconder from SciKit, or we need to be explicity about the columns you want to encode."
   ]
  },
  {
   "cell_type": "code",
   "execution_count": 14,
   "metadata": {},
   "outputs": [
    {
     "data": {
      "text/html": [
       "<div>\n",
       "<style scoped>\n",
       "    .dataframe tbody tr th:only-of-type {\n",
       "        vertical-align: middle;\n",
       "    }\n",
       "\n",
       "    .dataframe tbody tr th {\n",
       "        vertical-align: top;\n",
       "    }\n",
       "\n",
       "    .dataframe thead th {\n",
       "        text-align: right;\n",
       "    }\n",
       "</style>\n",
       "<table border=\"1\" class=\"dataframe\">\n",
       "  <thead>\n",
       "    <tr style=\"text-align: right;\">\n",
       "      <th></th>\n",
       "      <th>Integer Feature</th>\n",
       "      <th>Categorical Feature</th>\n",
       "    </tr>\n",
       "  </thead>\n",
       "  <tbody>\n",
       "    <tr>\n",
       "      <th>0</th>\n",
       "      <td>0</td>\n",
       "      <td>birds</td>\n",
       "    </tr>\n",
       "    <tr>\n",
       "      <th>1</th>\n",
       "      <td>1</td>\n",
       "      <td>cats</td>\n",
       "    </tr>\n",
       "    <tr>\n",
       "      <th>2</th>\n",
       "      <td>2</td>\n",
       "      <td>dogs</td>\n",
       "    </tr>\n",
       "    <tr>\n",
       "      <th>3</th>\n",
       "      <td>1</td>\n",
       "      <td>cats</td>\n",
       "    </tr>\n",
       "  </tbody>\n",
       "</table>\n",
       "</div>"
      ],
      "text/plain": [
       "   Integer Feature Categorical Feature\n",
       "0                0               birds\n",
       "1                1                cats\n",
       "2                2                dogs\n",
       "3                1                cats"
      ]
     },
     "metadata": {},
     "output_type": "display_data"
    },
    {
     "data": {
      "text/html": [
       "<div>\n",
       "<style scoped>\n",
       "    .dataframe tbody tr th:only-of-type {\n",
       "        vertical-align: middle;\n",
       "    }\n",
       "\n",
       "    .dataframe tbody tr th {\n",
       "        vertical-align: top;\n",
       "    }\n",
       "\n",
       "    .dataframe thead th {\n",
       "        text-align: right;\n",
       "    }\n",
       "</style>\n",
       "<table border=\"1\" class=\"dataframe\">\n",
       "  <thead>\n",
       "    <tr style=\"text-align: right;\">\n",
       "      <th></th>\n",
       "      <th>Integer Feature_0</th>\n",
       "      <th>Integer Feature_1</th>\n",
       "      <th>Integer Feature_2</th>\n",
       "      <th>Categorical Feature_birds</th>\n",
       "      <th>Categorical Feature_cats</th>\n",
       "      <th>Categorical Feature_dogs</th>\n",
       "    </tr>\n",
       "  </thead>\n",
       "  <tbody>\n",
       "    <tr>\n",
       "      <th>0</th>\n",
       "      <td>True</td>\n",
       "      <td>False</td>\n",
       "      <td>False</td>\n",
       "      <td>True</td>\n",
       "      <td>False</td>\n",
       "      <td>False</td>\n",
       "    </tr>\n",
       "    <tr>\n",
       "      <th>1</th>\n",
       "      <td>False</td>\n",
       "      <td>True</td>\n",
       "      <td>False</td>\n",
       "      <td>False</td>\n",
       "      <td>True</td>\n",
       "      <td>False</td>\n",
       "    </tr>\n",
       "    <tr>\n",
       "      <th>2</th>\n",
       "      <td>False</td>\n",
       "      <td>False</td>\n",
       "      <td>True</td>\n",
       "      <td>False</td>\n",
       "      <td>False</td>\n",
       "      <td>True</td>\n",
       "    </tr>\n",
       "    <tr>\n",
       "      <th>3</th>\n",
       "      <td>False</td>\n",
       "      <td>True</td>\n",
       "      <td>False</td>\n",
       "      <td>False</td>\n",
       "      <td>True</td>\n",
       "      <td>False</td>\n",
       "    </tr>\n",
       "  </tbody>\n",
       "</table>\n",
       "</div>"
      ],
      "text/plain": [
       "   Integer Feature_0  Integer Feature_1  Integer Feature_2  \\\n",
       "0               True              False              False   \n",
       "1              False               True              False   \n",
       "2              False              False               True   \n",
       "3              False               True              False   \n",
       "\n",
       "   Categorical Feature_birds  Categorical Feature_cats  \\\n",
       "0                       True                     False   \n",
       "1                      False                      True   \n",
       "2                      False                     False   \n",
       "3                      False                      True   \n",
       "\n",
       "   Categorical Feature_dogs  \n",
       "0                     False  \n",
       "1                     False  \n",
       "2                      True  \n",
       "3                     False  "
      ]
     },
     "execution_count": 14,
     "metadata": {},
     "output_type": "execute_result"
    }
   ],
   "source": [
    "# create a DF with an integer feature and a categorical string feature\n",
    "\n",
    "demo_df = pd.DataFrame({\"Integer Feature\": [0, 1, 2, 1],\n",
    "\"Categorical Feature\": [\"birds\", \"cats\", \"dogs\", \"cats\"]})\n",
    "\n",
    "display(demo_df)\n",
    "\n",
    "# Explicity tells the column is an category, not a \"number\"\n",
    "demo_df[\"Integer Feature\"] = demo_df[\"Integer Feature\"].astype(str)\n",
    "\n",
    "pd.get_dummies(demo_df, columns=[\"Integer Feature\", \"Categorical Feature\"])\n",
    "\n"
   ]
  },
  {
   "cell_type": "markdown",
   "metadata": {},
   "source": [
    "# 4.2 Binning (also known as discretisation)\n",
    "\n",
    "Sometimes the models might work better if you create binning for continuous variables. This is usually the case for linear models, but not for tree-based models."
   ]
  },
  {
   "cell_type": "code",
   "execution_count": 23,
   "metadata": {},
   "outputs": [
    {
     "name": "stdout",
     "output_type": "stream",
     "text": [
      "Age\n",
      "23    1\n",
      "24    3\n",
      "25    7\n",
      "26    1\n",
      "27    2\n",
      "     ..\n",
      "86    1\n",
      "87    2\n",
      "89    1\n",
      "91    1\n",
      "98    1\n",
      "Name: count, Length: 68, dtype: int64\n",
      "bins: [23 33 43 53 63 73 83 93]\n"
     ]
    }
   ],
   "source": [
    "import numpy as np\n",
    "\n",
    "# First le'ts check what are the youngest and oldest ages\n",
    "print(data.Age.value_counts().sort_index())\n",
    "\n",
    "# Now let's create the 10 bins - Ps you use then 11 in the third argument because you specificy the splits\n",
    "\n",
    "# I would use the code below if it didn't matter to get decimals\n",
    "#bins = np.linspace(23, 98, 10)\n",
    "\n",
    "#I will use this code so I ensure the beans are only intengers\n",
    "bins = np.arange(23, 99, 10)\n",
    "\n",
    "print(f\"bins: {bins}\")"
   ]
  },
  {
   "cell_type": "code",
   "execution_count": 25,
   "metadata": {},
   "outputs": [
    {
     "name": "stdout",
     "output_type": "stream",
     "text": [
      "\n",
      " Data points     Income  Age  Ethnicity  Gender\n",
      "0   14.891   34  Caucasian    Male\n",
      "1  106.025   82      Asian  Female\n",
      "2  104.593   71      Asian    Male\n",
      "3  148.924   36      Asian  Female\n",
      "4   55.882   68  Caucasian    Male\n",
      "\n",
      " Membership of the data points [2 6 5 2 5]\n"
     ]
    }
   ],
   "source": [
    "# Now we compute for each data point which bin they fall into\n",
    "\n",
    "which_bin = np.digitize(data.Age, bins=bins)\n",
    "print(f\"\\n Data points {data[:5]}\")\n",
    "print(f\"\\n Membership of the data points {which_bin[:5]}\")"
   ]
  },
  {
   "cell_type": "code",
   "execution_count": 43,
   "metadata": {},
   "outputs": [
    {
     "name": "stdout",
     "output_type": "stream",
     "text": [
      "\n",
      " Data stacked:\n",
      " [[14.891 34 'Caucasian' ' Male' 2]\n",
      " [106.025 82 'Asian' 'Female' 6]\n",
      " [104.593 71 'Asian' ' Male' 5]\n",
      " [148.924 36 'Asian' 'Female' 2]\n",
      " [55.882 68 'Caucasian' ' Male' 5]]\n",
      "\n",
      "Data binned:\n",
      " [[0. 1. 0. 0. 0. 0. 0. 0.]\n",
      " [0. 0. 0. 0. 0. 1. 0. 0.]\n",
      " [0. 0. 0. 0. 1. 0. 0. 0.]\n",
      " [0. 1. 0. 0. 0. 0. 0. 0.]\n",
      " [0. 0. 0. 0. 1. 0. 0. 0.]]\n"
     ]
    }
   ],
   "source": [
    "# now we could go on and transform the bin category\n",
    "\n",
    "from sklearn.preprocessing import OneHotEncoder\n",
    "\n",
    "encoder = OneHotEncoder(sparse_output=False)\n",
    "\n",
    "# Reshape array2 to have shape (400, 1)\n",
    "which_bin_reshaped = which_bin.reshape(-1, 1) # this preserves the number of lines, adds info about 1 column\n",
    "data_combined = np.hstack([data, which_bin_reshaped])\n",
    "\n",
    "print(\"\\n Data stacked:\\n\", data_combined[:5])\n",
    "\n",
    "#encoder.fit finds the unique values that appear in which_bin\n",
    "encoder.fit(which_bin.reshape(-1,1))\n",
    "\n",
    "#transform creates the one-hot encoding\n",
    "data_binned = encoder.transform(which_bin.reshape(-1,1))\n",
    "\n",
    "print(\"\\nData binned:\\n\", data_binned[:5])"
   ]
  },
  {
   "cell_type": "markdown",
   "metadata": {},
   "source": [
    "Here in the data binned, we have a new array in which each row represents the bin to which the data belongs to. For example, the first point belongs to bin 2. So the second column of the first row in this array =1, while the other columns =0."
   ]
  },
  {
   "cell_type": "markdown",
   "metadata": {},
   "source": [
    "# 4.3 Interactions and Polynomials\n",
    "Adding polynomial features can help linear models for regression, but for more complex models, it can actually decrease their performance.\n"
   ]
  },
  {
   "cell_type": "code",
   "execution_count": 57,
   "metadata": {},
   "outputs": [
    {
     "name": "stdout",
     "output_type": "stream",
     "text": [
      "Shape data combined: (400, 12)\n",
      "[[14.891 34 'Caucasian' ' Male' 0.0 1.0 0.0 0.0 0.0 0.0 0.0 0.0]\n",
      " [106.025 82 'Asian' 'Female' 0.0 0.0 0.0 0.0 0.0 1.0 0.0 0.0]\n",
      " [104.593 71 'Asian' ' Male' 0.0 0.0 0.0 0.0 1.0 0.0 0.0 0.0]\n",
      " [148.924 36 'Asian' 'Female' 0.0 1.0 0.0 0.0 0.0 0.0 0.0 0.0]\n",
      " [55.882 68 'Caucasian' ' Male' 0.0 0.0 0.0 0.0 1.0 0.0 0.0 0.0]]\n"
     ]
    },
    {
     "data": {
      "text/plain": [
       "0.031792504756906426"
      ]
     },
     "execution_count": 57,
     "metadata": {},
     "output_type": "execute_result"
    }
   ],
   "source": [
    "from sklearn.linear_model import  LinearRegression\n",
    "\n",
    "data_combined = np.hstack([data, data_binned])\n",
    "\n",
    "print(f\"Shape data combined: {data_combined.shape}\")\n",
    "\n",
    "print(data_combined[:5])\n",
    "\n",
    "X = data_combined[:, [1,4]]\n",
    "y = data_combined[:, 0]\n",
    "\n",
    "reg = LinearRegression().fit(X, y)\n",
    "\n",
    "reg.score(X, y)\n",
    "\n",
    "#X_product = np.hstack([X, X * data_binned] )\n",
    "\n"
   ]
  },
  {
   "cell_type": "code",
   "execution_count": 67,
   "metadata": {},
   "outputs": [
    {
     "name": "stdout",
     "output_type": "stream",
     "text": [
      "(400, 65)\n",
      "Entries of X: \n",
      "[[34 0.0]\n",
      " [82 0.0]\n",
      " [71 0.0]\n",
      " [36 0.0]\n",
      " [68 0.0]]\n",
      "Entris of X_poly:\n",
      "[[3.40000000e+01 0.00000000e+00 1.15600000e+03 0.00000000e+00\n",
      "  0.00000000e+00 3.93040000e+04 0.00000000e+00 0.00000000e+00\n",
      "  0.00000000e+00 1.33633600e+06 0.00000000e+00 0.00000000e+00\n",
      "  0.00000000e+00 0.00000000e+00 4.54354240e+07 0.00000000e+00\n",
      "  0.00000000e+00 0.00000000e+00 0.00000000e+00 0.00000000e+00\n",
      "  1.54480442e+09 0.00000000e+00 0.00000000e+00 0.00000000e+00\n",
      "  0.00000000e+00 0.00000000e+00 0.00000000e+00 5.25233501e+10\n",
      "  0.00000000e+00 0.00000000e+00 0.00000000e+00 0.00000000e+00\n",
      "  0.00000000e+00 0.00000000e+00 0.00000000e+00 1.78579390e+12\n",
      "  0.00000000e+00 0.00000000e+00 0.00000000e+00 0.00000000e+00\n",
      "  0.00000000e+00 0.00000000e+00 0.00000000e+00 0.00000000e+00\n",
      "  6.07169928e+13 0.00000000e+00 0.00000000e+00 0.00000000e+00\n",
      "  0.00000000e+00 0.00000000e+00 0.00000000e+00 0.00000000e+00\n",
      "  0.00000000e+00 0.00000000e+00 2.06437775e+15 0.00000000e+00\n",
      "  0.00000000e+00 0.00000000e+00 0.00000000e+00 0.00000000e+00\n",
      "  0.00000000e+00 0.00000000e+00 0.00000000e+00 0.00000000e+00\n",
      "  0.00000000e+00]\n",
      " [8.20000000e+01 0.00000000e+00 6.72400000e+03 0.00000000e+00\n",
      "  0.00000000e+00 5.51368000e+05 0.00000000e+00 0.00000000e+00\n",
      "  0.00000000e+00 4.52121760e+07 0.00000000e+00 0.00000000e+00\n",
      "  0.00000000e+00 0.00000000e+00 3.70739843e+09 0.00000000e+00\n",
      "  0.00000000e+00 0.00000000e+00 0.00000000e+00 0.00000000e+00\n",
      "  3.04006671e+11 0.00000000e+00 0.00000000e+00 0.00000000e+00\n",
      "  0.00000000e+00 0.00000000e+00 0.00000000e+00 2.49285471e+13\n",
      "  0.00000000e+00 0.00000000e+00 0.00000000e+00 0.00000000e+00\n",
      "  0.00000000e+00 0.00000000e+00 0.00000000e+00 2.04414086e+15\n",
      "  0.00000000e+00 0.00000000e+00 0.00000000e+00 0.00000000e+00\n",
      "  0.00000000e+00 0.00000000e+00 0.00000000e+00 0.00000000e+00\n",
      "  1.67619550e+17 0.00000000e+00 0.00000000e+00 0.00000000e+00\n",
      "  0.00000000e+00 0.00000000e+00 0.00000000e+00 0.00000000e+00\n",
      "  0.00000000e+00 0.00000000e+00 1.37448031e+19 0.00000000e+00\n",
      "  0.00000000e+00 0.00000000e+00 0.00000000e+00 0.00000000e+00\n",
      "  0.00000000e+00 0.00000000e+00 0.00000000e+00 0.00000000e+00\n",
      "  0.00000000e+00]\n",
      " [7.10000000e+01 0.00000000e+00 5.04100000e+03 0.00000000e+00\n",
      "  0.00000000e+00 3.57911000e+05 0.00000000e+00 0.00000000e+00\n",
      "  0.00000000e+00 2.54116810e+07 0.00000000e+00 0.00000000e+00\n",
      "  0.00000000e+00 0.00000000e+00 1.80422935e+09 0.00000000e+00\n",
      "  0.00000000e+00 0.00000000e+00 0.00000000e+00 0.00000000e+00\n",
      "  1.28100284e+11 0.00000000e+00 0.00000000e+00 0.00000000e+00\n",
      "  0.00000000e+00 0.00000000e+00 0.00000000e+00 9.09512016e+12\n",
      "  0.00000000e+00 0.00000000e+00 0.00000000e+00 0.00000000e+00\n",
      "  0.00000000e+00 0.00000000e+00 0.00000000e+00 6.45753531e+14\n",
      "  0.00000000e+00 0.00000000e+00 0.00000000e+00 0.00000000e+00\n",
      "  0.00000000e+00 0.00000000e+00 0.00000000e+00 0.00000000e+00\n",
      "  4.58485007e+16 0.00000000e+00 0.00000000e+00 0.00000000e+00\n",
      "  0.00000000e+00 0.00000000e+00 0.00000000e+00 0.00000000e+00\n",
      "  0.00000000e+00 0.00000000e+00 3.25524355e+18 0.00000000e+00\n",
      "  0.00000000e+00 0.00000000e+00 0.00000000e+00 0.00000000e+00\n",
      "  0.00000000e+00 0.00000000e+00 0.00000000e+00 0.00000000e+00\n",
      "  0.00000000e+00]\n",
      " [3.60000000e+01 0.00000000e+00 1.29600000e+03 0.00000000e+00\n",
      "  0.00000000e+00 4.66560000e+04 0.00000000e+00 0.00000000e+00\n",
      "  0.00000000e+00 1.67961600e+06 0.00000000e+00 0.00000000e+00\n",
      "  0.00000000e+00 0.00000000e+00 6.04661760e+07 0.00000000e+00\n",
      "  0.00000000e+00 0.00000000e+00 0.00000000e+00 0.00000000e+00\n",
      "  2.17678234e+09 0.00000000e+00 0.00000000e+00 0.00000000e+00\n",
      "  0.00000000e+00 0.00000000e+00 0.00000000e+00 7.83641641e+10\n",
      "  0.00000000e+00 0.00000000e+00 0.00000000e+00 0.00000000e+00\n",
      "  0.00000000e+00 0.00000000e+00 0.00000000e+00 2.82110991e+12\n",
      "  0.00000000e+00 0.00000000e+00 0.00000000e+00 0.00000000e+00\n",
      "  0.00000000e+00 0.00000000e+00 0.00000000e+00 0.00000000e+00\n",
      "  1.01559957e+14 0.00000000e+00 0.00000000e+00 0.00000000e+00\n",
      "  0.00000000e+00 0.00000000e+00 0.00000000e+00 0.00000000e+00\n",
      "  0.00000000e+00 0.00000000e+00 3.65615844e+15 0.00000000e+00\n",
      "  0.00000000e+00 0.00000000e+00 0.00000000e+00 0.00000000e+00\n",
      "  0.00000000e+00 0.00000000e+00 0.00000000e+00 0.00000000e+00\n",
      "  0.00000000e+00]\n",
      " [6.80000000e+01 0.00000000e+00 4.62400000e+03 0.00000000e+00\n",
      "  0.00000000e+00 3.14432000e+05 0.00000000e+00 0.00000000e+00\n",
      "  0.00000000e+00 2.13813760e+07 0.00000000e+00 0.00000000e+00\n",
      "  0.00000000e+00 0.00000000e+00 1.45393357e+09 0.00000000e+00\n",
      "  0.00000000e+00 0.00000000e+00 0.00000000e+00 0.00000000e+00\n",
      "  9.88674826e+10 0.00000000e+00 0.00000000e+00 0.00000000e+00\n",
      "  0.00000000e+00 0.00000000e+00 0.00000000e+00 6.72298882e+12\n",
      "  0.00000000e+00 0.00000000e+00 0.00000000e+00 0.00000000e+00\n",
      "  0.00000000e+00 0.00000000e+00 0.00000000e+00 4.57163240e+14\n",
      "  0.00000000e+00 0.00000000e+00 0.00000000e+00 0.00000000e+00\n",
      "  0.00000000e+00 0.00000000e+00 0.00000000e+00 0.00000000e+00\n",
      "  3.10871003e+16 0.00000000e+00 0.00000000e+00 0.00000000e+00\n",
      "  0.00000000e+00 0.00000000e+00 0.00000000e+00 0.00000000e+00\n",
      "  0.00000000e+00 0.00000000e+00 2.11392282e+18 0.00000000e+00\n",
      "  0.00000000e+00 0.00000000e+00 0.00000000e+00 0.00000000e+00\n",
      "  0.00000000e+00 0.00000000e+00 0.00000000e+00 0.00000000e+00\n",
      "  0.00000000e+00]]\n",
      "Polynomial feature names: \n",
      " ['x0' 'x1' 'x0^2' 'x0 x1' 'x1^2' 'x0^3' 'x0^2 x1' 'x0 x1^2' 'x1^3' 'x0^4'\n",
      " 'x0^3 x1' 'x0^2 x1^2' 'x0 x1^3' 'x1^4' 'x0^5' 'x0^4 x1' 'x0^3 x1^2'\n",
      " 'x0^2 x1^3' 'x0 x1^4' 'x1^5' 'x0^6' 'x0^5 x1' 'x0^4 x1^2' 'x0^3 x1^3'\n",
      " 'x0^2 x1^4' 'x0 x1^5' 'x1^6' 'x0^7' 'x0^6 x1' 'x0^5 x1^2' 'x0^4 x1^3'\n",
      " 'x0^3 x1^4' 'x0^2 x1^5' 'x0 x1^6' 'x1^7' 'x0^8' 'x0^7 x1' 'x0^6 x1^2'\n",
      " 'x0^5 x1^3' 'x0^4 x1^4' 'x0^3 x1^5' 'x0^2 x1^6' 'x0 x1^7' 'x1^8' 'x0^9'\n",
      " 'x0^8 x1' 'x0^7 x1^2' 'x0^6 x1^3' 'x0^5 x1^4' 'x0^4 x1^5' 'x0^3 x1^6'\n",
      " 'x0^2 x1^7' 'x0 x1^8' 'x1^9' 'x0^10' 'x0^9 x1' 'x0^8 x1^2' 'x0^7 x1^3'\n",
      " 'x0^6 x1^4' 'x0^5 x1^5' 'x0^4 x1^6' 'x0^3 x1^7' 'x0^2 x1^8' 'x0 x1^9'\n",
      " 'x1^10']\n"
     ]
    }
   ],
   "source": [
    "from sklearn.preprocessing import PolynomialFeatures\n",
    "\n",
    "# includes polynomials up to x ** 10\n",
    "# the default \"include_bias=True\" adds a feature that's constantly 1\n",
    "poly = PolynomialFeatures(degree=10, include_bias=False)\n",
    "poly.fit(X)\n",
    "X_poly = poly.transform(X)\n",
    "\n",
    "print(X_poly.shape)\n",
    "\n",
    "\n",
    "# comparing the entried of X to those in X_poly\n",
    "print(f\"Entries of X: \\n{X[:5]}\")\n",
    "print(f\"Entris of X_poly:\\n{X_poly[:5]}\")\n",
    "\n",
    "\n"
   ]
  },
  {
   "cell_type": "code",
   "execution_count": 68,
   "metadata": {},
   "outputs": [
    {
     "name": "stdout",
     "output_type": "stream",
     "text": [
      "Polynomial feature names: \n",
      " ['x0' 'x1' 'x0^2' 'x0 x1' 'x1^2' 'x0^3' 'x0^2 x1' 'x0 x1^2' 'x1^3' 'x0^4'\n",
      " 'x0^3 x1' 'x0^2 x1^2' 'x0 x1^3' 'x1^4' 'x0^5' 'x0^4 x1' 'x0^3 x1^2'\n",
      " 'x0^2 x1^3' 'x0 x1^4' 'x1^5' 'x0^6' 'x0^5 x1' 'x0^4 x1^2' 'x0^3 x1^3'\n",
      " 'x0^2 x1^4' 'x0 x1^5' 'x1^6' 'x0^7' 'x0^6 x1' 'x0^5 x1^2' 'x0^4 x1^3'\n",
      " 'x0^3 x1^4' 'x0^2 x1^5' 'x0 x1^6' 'x1^7' 'x0^8' 'x0^7 x1' 'x0^6 x1^2'\n",
      " 'x0^5 x1^3' 'x0^4 x1^4' 'x0^3 x1^5' 'x0^2 x1^6' 'x0 x1^7' 'x1^8' 'x0^9'\n",
      " 'x0^8 x1' 'x0^7 x1^2' 'x0^6 x1^3' 'x0^5 x1^4' 'x0^4 x1^5' 'x0^3 x1^6'\n",
      " 'x0^2 x1^7' 'x0 x1^8' 'x1^9' 'x0^10' 'x0^9 x1' 'x0^8 x1^2' 'x0^7 x1^3'\n",
      " 'x0^6 x1^4' 'x0^5 x1^5' 'x0^4 x1^6' 'x0^3 x1^7' 'x0^2 x1^8' 'x0 x1^9'\n",
      " 'x1^10']\n"
     ]
    }
   ],
   "source": [
    "# you can obtain the semantics of the features by calling get_features_names_out\n",
    "print(f\"Polynomial feature names: \\n {poly.get_feature_names_out()}\")"
   ]
  },
  {
   "cell_type": "code",
   "execution_count": 70,
   "metadata": {},
   "outputs": [
    {
     "name": "stdout",
     "output_type": "stream",
     "text": [
      "0.13210871273642388\n"
     ]
    }
   ],
   "source": [
    "# Now, if we run the model, we will have a better score, \n",
    "# as the line of the model will have been made smoother due to the polynomial\n",
    "\n",
    "reg = LinearRegression().fit(X_poly, y)\n",
    "print(reg.score(X_poly, y))\n",
    "\n",
    "# this is not a good model OFC, but only for demonstration"
   ]
  },
  {
   "cell_type": "markdown",
   "metadata": {},
   "source": [
    "# 4.5 Univariate Nonlinear Transformations\n",
    "\n",
    "Most models work best when the data (and the target), are Gaussian distributed. Using transformations like \"log\" and \"exp\" is a hacky simple way to achieve this.\n",
    "\n",
    "Sometimes only a subset of features should be transformed, or different transformations for different features. It depends, this is an art! \n",
    "\n",
    "These transformations are important for linear models, not so much for tree-based models."
   ]
  },
  {
   "cell_type": "code",
   "execution_count": 78,
   "metadata": {},
   "outputs": [
    {
     "name": "stdout",
     "output_type": "stream",
     "text": [
      "Number of features appearances:\n",
      " [28 38 68 48 61 59 45 56 37 40 35 34 36 26 23 26 27 21 23 23 18 21 10  9\n",
      " 17  9  7 14 12  7  3  8  4  5  5  3  4  2  4  1  1  3  2  5  3  8  2  5\n",
      "  2  1  2  3  3  2  2  3  3  0  1  2  1  0  0  3  1  0  0  0  1  3  0  1\n",
      "  0  2  0  1  1  0  0  0  0  1  0  0  2  2  0  1  1  0  0  0  0  1  1  0\n",
      "  0  0  0  0  0  0  1  0  0  0  0  0  1  1  0  0  1  0  0  0  0  0  0  0\n",
      "  1  0  0  0  0  1  0  0  0  0  0  0  0  0  0  0  0  0  0  0  1]\n"
     ]
    },
    {
     "data": {
      "text/plain": [
       "Text(0.5, 0, 'Value')"
      ]
     },
     "execution_count": 78,
     "metadata": {},
     "output_type": "execute_result"
    },
    {
     "data": {
      "image/png": "[encoded data removed]",
      "text/plain": [
       "<Figure size 640x480 with 1 Axes>"
      ]
     },
     "metadata": {},
     "output_type": "display_data"
    }
   ],
   "source": [
    "# example, by generating random values\n",
    "\n",
    "%matplotlib inline\n",
    "import matplotlib.pyplot as plt\n",
    "\n",
    "rnd = np.random.RandomState(0)\n",
    "X_org = rnd.normal(size=(1000, 3))\n",
    "w = rnd.normal(size=3)\n",
    "\n",
    "X = rnd.poisson(10 * np.exp(X_org))\n",
    "y = np.dot(X_org, w)\n",
    "\n",
    "print(f\"Number of features appearances:\\n {np.bincount(X[:, 0])}\")\n",
    "\n",
    "# bincount always start at 0\n",
    "bins = np.bincount(X[:, 0])\n",
    "plt.bar(range(len(bins)), bins, color=(0.8, 0.4, 0.2)) # the value for color is RGB\n",
    "plt.ylabel(\"Number of appearances\")\n",
    "plt.xlabel(\"Value\")"
   ]
  },
  {
   "cell_type": "markdown",
   "metadata": {},
   "source": [
    "This cases are very common in reality, with some values very large, and some very low. Linear models do not handle this very well, so we need to treat it.\n",
    "\n",
    "Applying a logarithmic can help. **Because value 0 appear in the data, and log(0) is not defined, we have to computer log X+1**"
   ]
  },
  {
   "cell_type": "code",
   "execution_count": 81,
   "metadata": {},
   "outputs": [
    {
     "name": "stdout",
     "output_type": "stream",
     "text": [
      "Test score before transformation  0.6224186236310756\n",
      "Test score after transformation  0.8749342372887815\n"
     ]
    },
    {
     "data": {
      "image/png": "[encoded data removed]",
      "text/plain": [
       "<Figure size 640x480 with 1 Axes>"
      ]
     },
     "metadata": {},
     "output_type": "display_data"
    }
   ],
   "source": [
    "from sklearn.linear_model import Ridge\n",
    "from sklearn.model_selection import train_test_split\n",
    "\n",
    "X_train, X_test, y_train, y_test, = train_test_split(X, y, random_state=0)\n",
    "score = Ridge().fit(X_train, y_train).score(X_test, y_test)\n",
    "\n",
    "print(\"Test score before transformation \", score)\n",
    "\n",
    "# now transforming\n",
    "X_train_log = np.log(X_train+1)\n",
    "X_test_log = np.log(X_test+1)\n",
    "\n",
    "plt.hist(np.log(X_train_log[:, 0]+1), bins=25, color=\"g\")\n",
    "plt.ylabel(\"Number of appearances\")\n",
    "plt.xlabel(\"Value\")\n",
    "\n",
    "score_with_log = Ridge().fit(X_train_log, y_train).score(X_test_log, y_test)\n",
    "print(\"Test score after transformation \", score_with_log )"
   ]
  },
  {
   "cell_type": "markdown",
   "metadata": {},
   "source": [
    "# 4.6 Automatic Feature Selection\n",
    "\n",
    "## 4.6.1 Univariate Statistics (ANOVA)\n",
    "\n",
    "With ANOVA, we compute if there is a statistically significant relationship between the feature and the target, and the features with the highest confidence are selected. They then discart features with high p-values. \n",
    "As method of selection:\n",
    "- SelectKB: selects a number k of features\n",
    "- SelectPercentile: selects a fixed percentage of features\n",
    "\n",
    "In Scikit-learn, you need to choose f_classif (default, for classification) or f_regression.\n",
    "\n",
    "The performance might not change much in some cases, like in the next example, however ANOVA is still useful if you have such a large number of features that creating a model with all would be infesible or if you suspect many features do not matter."
   ]
  },
  {
   "cell_type": "code",
   "execution_count": 84,
   "metadata": {},
   "outputs": [
    {
     "name": "stdout",
     "output_type": "stream",
     "text": [
      "X_train shape: (284, 80)\n",
      "X_train_selected shape: (284, 40)\n",
      "[ True  True  True  True  True  True  True  True  True False  True False\n",
      "  True  True  True  True  True  True False False  True  True  True  True\n",
      "  True  True  True  True  True  True False False False  True False  True\n",
      " False False  True False False False False  True False False  True False\n",
      " False  True False  True False False False False False False  True False\n",
      "  True False False False False  True False  True False False False False\n",
      "  True  True False  True False False False False]\n"
     ]
    },
    {
     "data": {
      "text/plain": [
       "Text(0.5, 0, 'Sample index')"
      ]
     },
     "execution_count": 84,
     "metadata": {},
     "output_type": "execute_result"
    },
    {
     "data": {
      "image/png": "[encoded data removed]",
      "text/plain": [
       "<Figure size 1600x200 with 1 Axes>"
      ]
     },
     "metadata": {},
     "output_type": "display_data"
    }
   ],
   "source": [
    "# Example with the cancer dataset, also adding some noice\n",
    "\n",
    "from sklearn.datasets import load_breast_cancer\n",
    "from sklearn.feature_selection import SelectPercentile\n",
    "from sklearn.model_selection import train_test_split\n",
    "\n",
    "cancer = load_breast_cancer()\n",
    "\n",
    "# get deterministic random numbers\n",
    "rng = np.random.RandomState(42)\n",
    "noise = rng.normal(size=(len(cancer.data), 50))\n",
    "# add noise features to the data\n",
    "# the first 30 features are from the DS, the next 50 are noise for this examples\n",
    "X_w_noise = np.hstack([cancer.data, noise])\n",
    "\n",
    "\n",
    "X_train, X_test, y_train, y_test = train_test_split(X_w_noise, cancer.target, random_state=0, test_size=0.5)\n",
    "\n",
    "# use f_classif and selectpercentitle to 50% of features\n",
    "select = SelectPercentile(percentile=50)\n",
    "select.fit(X_train, y_train)\n",
    "\n",
    "#transform training set\n",
    "X_train_selected = select.transform(X_train)\n",
    "\n",
    "print(f\"X_train shape: {X_train.shape}\")\n",
    "print(f\"X_train_selected shape: {X_train_selected.shape}\")\n",
    "\n",
    "\n",
    "# to show which features have been selected we use the method get_support that returns a Boolean mask of the selected features\n",
    "mask = select.get_support()\n",
    "print(mask)\n",
    "\n",
    "#visualise the mask - black is True, white is false\n",
    "plt.matshow(mask.reshape(1, -1), cmap=\"gray_r\")\n",
    "plt.xlabel(\"Sample index\")"
   ]
  },
  {
   "cell_type": "code",
   "execution_count": 90,
   "metadata": {},
   "outputs": [
    {
     "name": "stdout",
     "output_type": "stream",
     "text": [
      "Score with all features: 0.947\n",
      "Score with only selected features 0.933\n"
     ]
    }
   ],
   "source": [
    "from sklearn.linear_model import LogisticRegression\n",
    "\n",
    "# we will compare the performace of the model with the original features and the selected features\n",
    "\n",
    "# transform the test data\n",
    "X_test_selected = select.transform(X_test)\n",
    "\n",
    "logreg = LogisticRegression(max_iter=1000000) # here I changed the number of max_iter to remove the warning message\n",
    "\n",
    "logreg.fit(X_train, y_train)\n",
    "print(f\"Score with all features: {logreg.score(X_test, y_test):.3f}\")\n",
    "\n",
    "logreg.fit(X_train_selected, y_train)\n",
    "print(f\"Score with only selected features {logreg.score(X_test_selected, y_test):.3f}\")"
   ]
  }
 ],
 "metadata": {
  "kernelspec": {
   "display_name": "Python 3",
   "language": "python",
   "name": "python3"
  },
  "language_info": {
   "codemirror_mode": {
    "name": "ipython",
    "version": 3
   },
   "file_extension": ".py",
   "mimetype": "text/x-python",
   "name": "python",
   "nbconvert_exporter": "python",
   "pygments_lexer": "ipython3",
   "version": "3.10.11"
  }
 },
 "nbformat": 4,
 "nbformat_minor": 2
}
