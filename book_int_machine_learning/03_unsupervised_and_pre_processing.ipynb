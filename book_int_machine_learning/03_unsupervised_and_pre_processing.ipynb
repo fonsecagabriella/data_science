{
 "cells": [
  {
   "cell_type": "markdown",
   "metadata": {},
   "source": [
    "# Preprocessing\n",
    "\n",
    "\n",
    "## 3.1 Scaling\n",
    "\n",
    "- StandardScaler: Ensures mean=0 and variance=1, bringing all features to the same magnitude. Does not ensure any particular min and max values for the features\n",
    "- RobusrScaler: Similar to StandardScaler, but it uses median and quartiles, ignoring points that are too different from the others (outliers)\n",
    "- MinMaxScaler: Ensures all points will be between 0 and 1.\n",
    "- Normaliser: Scales each data point such as the feature vector has an Euclidian distance of 1. Often used when only the direction (or angle) of the data matters, not the lenght of the feature vector.\n",
    "\n",
    "\n",
    "**YOU NEED TO APPLY EXACTLY THE SAME TRANSFORMATION TO THE TRAINING AND TEST SET**\n",
    "\n",
    "\n",
    "Example on how to do it:\n",
    "\n",
    "````\n",
    "from sklearn.preprocessing import StandardScaler\n",
    "scaler = StandardScaler()\n",
    "# calling fit and transform in sequence (using method chaining)\n",
    "X_scaled = scaler.fit(X).transform(X)\n",
    "# same result, but more efficient computation\n",
    "X_scaled_d = scaler.fit_transform(X)\n",
    "\n",
    "````\n",
    "\n",
    "\n"
   ]
  },
  {
   "cell_type": "code",
   "execution_count": null,
   "metadata": {},
   "outputs": [
    {
     "name": "stdout",
     "output_type": "stream",
     "text": [
      "(426, 30)\n",
      "(143, 30)\n"
     ]
    }
   ],
   "source": [
    "from sklearn.datasets import load_breast_cancer\n",
    "from sklearn.model_selection import train_test_split\n",
    "from sklearn.preprocessing import MinMaxScaler\n",
    "\n",
    "cancer = load_breast_cancer()\n",
    "\n",
    "X_train, X_test, y_train, y_test = train_test_split (cancer.data, cancer.target, random_state=1)\n",
    "\n",
    "print(f\"Shape of X_train, before scaling {X_train.shape}\")\n",
    "print(f\"Shape of X_test, before scaling (X_test.shape}\")\n",
    "\n",
    "print(f\"Max and Min values of X_train, before scaling \\n MAX {X_train.max(axis=0)}, MIN {X_train.min(axis=0)}\")\n",
    "\n",
    "# We need to import the class that implements the preprocessing and then instantiate it\n",
    "scaler = MinMaxScaler()\n",
    "scaler.fit(X_train) # you do this 'fit' only once, with the training set\n",
    "\n",
    "# then we proceed with the transformations\n",
    "X_train_scaled = scaler.transform(X_train)\n",
    "X_test_scaled = scaler.transform(X_test)\n",
    "\n",
    "# We could also do the fit and transform in one go\n",
    "# X_train_scaled = scaler.fit_transform(X_train)\n",
    "# or, less efficient, but also works the same\n",
    "# X_train_scaled = scaler.fit(X_train).transform(X_train)\n",
    "\n",
    "\n",
    "print(f\"Max and Min values of X_train, after scaling \\n MAX {X_train_scaled.max(axis=0)}, MIN {X_train_scaled.min(axis=0)}\")\n",
    "\n"
   ]
  },
  {
   "cell_type": "code",
   "execution_count": null,
   "metadata": {},
   "outputs": [],
   "source": [
    "#EXAMPLE ON HOW TO APPLY IN THE CANCER DS\n",
    "from sklearn.svm import SVC\n",
    "\n",
    "X_train, X_test, y_train, y_test = train_test_split(cancer.data, cancer.target, random_state=0)\n",
    "\n",
    "svm = SVM()\n",
    "\n",
    "#pre-processing\n",
    "scaler = MinMaxScaler()\n",
    "scaler.fit(X_train)\n",
    "X_train_scaled = scaler.transform(X_train)\n",
    "X_test_scaled = scaler.transform(X_test)\n",
    "\n",
    "#learning an SVM on the scaled training data\n",
    "svm.fit(X_train_scaled, y_train)\n",
    "\n",
    "\n",
    "#scoring on the scaled data set\n",
    "print(f\"Scaled test accuracy: {svm.score(X_train_scaled, y_train):.2f}\")\n",
    "\n"
   ]
  }
 ],
 "metadata": {
  "kernelspec": {
   "display_name": "Python 3",
   "language": "python",
   "name": "python3"
  },
  "language_info": {
   "codemirror_mode": {
    "name": "ipython",
    "version": 3
   },
   "file_extension": ".py",
   "mimetype": "text/x-python",
   "name": "python",
   "nbconvert_exporter": "python",
   "pygments_lexer": "ipython3",
   "version": "3.10.11"
  }
 },
 "nbformat": 4,
 "nbformat_minor": 2
}
