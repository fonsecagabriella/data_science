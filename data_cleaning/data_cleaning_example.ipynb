{
 "cells": [
  {
   "cell_type": "markdown",
   "metadata": {},
   "source": [
    "# Data Analytics Lab: Identifying Vulnerable Communities using the U.S. Census API\n",
    "\n",
    "## Background\n",
    "You work for a non-profit organization aiming to allocate resources to vulnerable communities across the U.S. Your team needs to analyze census data to identify areas with high poverty rates, low income levels, or other indicators of vulnerability. Using data from the U.S. Census Bureau, you'll create a report highlighting which regions require the most attention.\n",
    "\n"
   ]
  },
  {
   "cell_type": "markdown",
   "metadata": {},
   "source": [
    "## Table of Contents\n",
    "- [Step 1: Importing Libraries](#step-1)\n",
    "- [Step 2: Retrieving the Data](#step-2)\n",
    "    - [Request Data Using an API](#request-data-using-an-api)\n",
    "        - [Exercise 1a: Authenticate with the API](#ex1a)\n",
    "        - [Exercise 1b: Load the Response](#ex1b)\n",
    "    - [Converting the Data to a DataFrame](#converting-the-data-to-a-dataframe)\n",
    "        - [Exercise 2: Parse JSON Data into a DataFrame](#ex2)\n",
    "- [Step 3: Data Transformation and Quality Assessment](#step-3)\n",
    "    - [Exercise 3: Remove Missing Value and Correct Data Types](#ex3)\n",
    "    - [Exercise 4: Extract State Name](#ex4)\n",
    "    - [Exercise 5: Data Normalization](#ex5)\n",
    "- [Step 4: Identifying Most Vulnerable Areas](#step-4)\n",
    "    - [Defining a Vulnerability Metric](#defining-a-vulnerability-metric)\n",
    "        - [Exercise 6: Multi-Factor Vulnerability Analysis](#ex6)\n",
    "        - [Exercise 7: Categorize Vulnerability Scores](#ex7)\n",
    "    - [Using Outliers to Identify Population at Risk](#using-outliers)\n",
    "        - [Exercise 8: Identifying outliers](#ex8)\n"
   ]
  },
  {
   "cell_type": "markdown",
   "metadata": {},
   "source": [
    "## Step 1: Importing Libraries\n",
    "\n",
    "Start by importing all the libraries you will need for the lab"
   ]
  },
  {
   "cell_type": "code",
   "execution_count": 2,
   "metadata": {},
   "outputs": [],
   "source": [
    "import os\n",
    "import requests\n",
    "import pandas as pd\n",
    "import matplotlib.pyplot as plt\n",
    "import seaborn as sns\n",
    "from scipy import stats\n",
    "from dotenv import load_dotenv"
   ]
  },
  {
   "cell_type": "markdown",
   "metadata": {},
   "source": [
    "<a id=\"step-2\"></a>\n",
    "\n",
    "## Step 2: Retrieving the Data\n",
    "\n"
   ]
  },
  {
   "cell_type": "code",
   "execution_count": 3,
   "metadata": {
    "tags": [
     "graded"
    ]
   },
   "outputs": [],
   "source": [
    "# GRADED CELL: Exercise 1a\n",
    "\n",
    "BASE_URL = \"https://2eraiuh.dlai.link/api/UScensus\"\n",
    "\n",
    "### START CODE HERE ###\n",
    "\n",
    "# load the environment variables\n",
    "load_dotenv()\n",
    "\n",
    "# load API key from environment variable\n",
    "API_KEY = os.getenv(\"CENSUS_API_KEY\")\n",
    "\n",
    "# define the parameters for the API request\n",
    "params = { \n",
    "    \"api_key\": API_KEY\n",
    "}\n",
    "\n",
    "# request the data\n",
    "response = requests.get(BASE_URL, params)\n",
    "\n",
    "### END CODE HERE ###"
   ]
  },
  {
   "cell_type": "code",
   "execution_count": 4,
   "metadata": {},
   "outputs": [
    {
     "name": "stdout",
     "output_type": "stream",
     "text": [
      "200\n"
     ]
    }
   ],
   "source": [
    "# print the status code\n",
    "print(response.status_code)"
   ]
  },
  {
   "cell_type": "code",
   "execution_count": 5,
   "metadata": {
    "tags": [
     "graded"
    ]
   },
   "outputs": [],
   "source": [
    "# GRADED CELL: Exercise 1b\n",
    "\n",
    "### START CODE HERE ###\n",
    "\n",
    "# load the data in JSON format\n",
    "census_data = response.json()\n",
    "\n",
    "### END CODE HERE ###"
   ]
  },
  {
   "cell_type": "code",
   "execution_count": 6,
   "metadata": {},
   "outputs": [
    {
     "name": "stdout",
     "output_type": "stream",
     "text": [
      "{'data': [{'county': '003', 'county_state': 'Baldwin County, Alabama', 'employed_male': '99756', 'employed_total': '206994', 'female_pop_over_75': 12593, 'female_pop_under_5': '5037', 'male_pop_over_7\n"
     ]
    }
   ],
   "source": [
    "# print the output\n",
    "print(f\"{census_data}\"[:200])"
   ]
  },
  {
   "cell_type": "markdown",
   "metadata": {},
   "source": [
    "<a id=\"converting-the-data-to-a-dataframe\"></a>\n",
    "\n",
    "### Converting the Data to a DataFrame\n",
    "\n"
   ]
  },
  {
   "cell_type": "code",
   "execution_count": 7,
   "metadata": {},
   "outputs": [],
   "source": [
    "# GRADED CELL: Exercise 2\n",
    "\n",
    "### START CODE HERE ###\n",
    "\n",
    "# Create DataFrame\n",
    "census_df = pd.DataFrame(census_data[\"data\"])\n",
    "\n",
    "### END CODE HERE ###"
   ]
  },
  {
   "cell_type": "code",
   "execution_count": 8,
   "metadata": {},
   "outputs": [
    {
     "name": "stdout",
     "output_type": "stream",
     "text": [
      "Data types:\n",
      "county                          object\n",
      "county_state                    object\n",
      "employed_male                   object\n",
      "employed_total                  object\n",
      "female_pop_over_75               int64\n",
      "female_pop_under_5              object\n",
      "male_pop_over_75                 int64\n",
      "male_pop_under_5                object\n",
      "population                      object\n",
      "poverty_count                   object\n",
      "poverty_count_female_over_75    object\n",
      "poverty_count_female_under_5    object\n",
      "poverty_count_male_over_75      object\n",
      "poverty_count_male_under_5      object\n",
      "state                           object\n",
      "total_pop_male                  object\n",
      "dtype: object\n"
     ]
    },
    {
     "data": {
      "text/html": [
       "<div>\n",
       "<style scoped>\n",
       "    .dataframe tbody tr th:only-of-type {\n",
       "        vertical-align: middle;\n",
       "    }\n",
       "\n",
       "    .dataframe tbody tr th {\n",
       "        vertical-align: top;\n",
       "    }\n",
       "\n",
       "    .dataframe thead th {\n",
       "        text-align: right;\n",
       "    }\n",
       "</style>\n",
       "<table border=\"1\" class=\"dataframe\">\n",
       "  <thead>\n",
       "    <tr style=\"text-align: right;\">\n",
       "      <th></th>\n",
       "      <th>county</th>\n",
       "      <th>county_state</th>\n",
       "      <th>employed_male</th>\n",
       "      <th>employed_total</th>\n",
       "      <th>female_pop_over_75</th>\n",
       "      <th>female_pop_under_5</th>\n",
       "      <th>male_pop_over_75</th>\n",
       "      <th>male_pop_under_5</th>\n",
       "      <th>population</th>\n",
       "      <th>poverty_count</th>\n",
       "      <th>poverty_count_female_over_75</th>\n",
       "      <th>poverty_count_female_under_5</th>\n",
       "      <th>poverty_count_male_over_75</th>\n",
       "      <th>poverty_count_male_under_5</th>\n",
       "      <th>state</th>\n",
       "      <th>total_pop_male</th>\n",
       "    </tr>\n",
       "  </thead>\n",
       "  <tbody>\n",
       "    <tr>\n",
       "      <th>0</th>\n",
       "      <td>003</td>\n",
       "      <td>Baldwin County, Alabama</td>\n",
       "      <td>99756</td>\n",
       "      <td>206994</td>\n",
       "      <td>12593</td>\n",
       "      <td>5037</td>\n",
       "      <td>10549</td>\n",
       "      <td>6617</td>\n",
       "      <td>253507</td>\n",
       "      <td>24403</td>\n",
       "      <td>833</td>\n",
       "      <td>310</td>\n",
       "      <td>177</td>\n",
       "      <td>1733</td>\n",
       "      <td>01</td>\n",
       "      <td>124518</td>\n",
       "    </tr>\n",
       "    <tr>\n",
       "      <th>1</th>\n",
       "      <td>015</td>\n",
       "      <td>Calhoun County, Alabama</td>\n",
       "      <td>45042</td>\n",
       "      <td>95233</td>\n",
       "      <td>5338</td>\n",
       "      <td>3055</td>\n",
       "      <td>3106</td>\n",
       "      <td>3102</td>\n",
       "      <td>116429</td>\n",
       "      <td>23725</td>\n",
       "      <td>581</td>\n",
       "      <td>1333</td>\n",
       "      <td>149</td>\n",
       "      <td>1067</td>\n",
       "      <td>01</td>\n",
       "      <td>56185</td>\n",
       "    </tr>\n",
       "    <tr>\n",
       "      <th>2</th>\n",
       "      <td>043</td>\n",
       "      <td>Cullman County, Alabama</td>\n",
       "      <td>36400</td>\n",
       "      <td>73980</td>\n",
       "      <td>4556</td>\n",
       "      <td>3232</td>\n",
       "      <td>3205</td>\n",
       "      <td>2368</td>\n",
       "      <td>92016</td>\n",
       "      <td>16699</td>\n",
       "      <td>701</td>\n",
       "      <td>870</td>\n",
       "      <td>177</td>\n",
       "      <td>936</td>\n",
       "      <td>01</td>\n",
       "      <td>45015</td>\n",
       "    </tr>\n",
       "    <tr>\n",
       "      <th>3</th>\n",
       "      <td>049</td>\n",
       "      <td>DeKalb County, Alabama</td>\n",
       "      <td>27853</td>\n",
       "      <td>56881</td>\n",
       "      <td>3032</td>\n",
       "      <td>1610</td>\n",
       "      <td>2131</td>\n",
       "      <td>2631</td>\n",
       "      <td>72569</td>\n",
       "      <td>17629</td>\n",
       "      <td>480</td>\n",
       "      <td>477</td>\n",
       "      <td>117</td>\n",
       "      <td>1129</td>\n",
       "      <td>01</td>\n",
       "      <td>36341</td>\n",
       "    </tr>\n",
       "    <tr>\n",
       "      <th>4</th>\n",
       "      <td>051</td>\n",
       "      <td>Elmore County, Alabama</td>\n",
       "      <td>35195</td>\n",
       "      <td>72745</td>\n",
       "      <td>3647</td>\n",
       "      <td>1658</td>\n",
       "      <td>2742</td>\n",
       "      <td>2760</td>\n",
       "      <td>90441</td>\n",
       "      <td>11160</td>\n",
       "      <td>621</td>\n",
       "      <td>40</td>\n",
       "      <td>98</td>\n",
       "      <td>812</td>\n",
       "      <td>01</td>\n",
       "      <td>44607</td>\n",
       "    </tr>\n",
       "  </tbody>\n",
       "</table>\n",
       "</div>"
      ],
      "text/plain": [
       "  county             county_state employed_male employed_total  \\\n",
       "0    003  Baldwin County, Alabama         99756         206994   \n",
       "1    015  Calhoun County, Alabama         45042          95233   \n",
       "2    043  Cullman County, Alabama         36400          73980   \n",
       "3    049   DeKalb County, Alabama         27853          56881   \n",
       "4    051   Elmore County, Alabama         35195          72745   \n",
       "\n",
       "   female_pop_over_75 female_pop_under_5  male_pop_over_75 male_pop_under_5  \\\n",
       "0               12593               5037             10549             6617   \n",
       "1                5338               3055              3106             3102   \n",
       "2                4556               3232              3205             2368   \n",
       "3                3032               1610              2131             2631   \n",
       "4                3647               1658              2742             2760   \n",
       "\n",
       "  population poverty_count poverty_count_female_over_75  \\\n",
       "0     253507         24403                          833   \n",
       "1     116429         23725                          581   \n",
       "2      92016         16699                          701   \n",
       "3      72569         17629                          480   \n",
       "4      90441         11160                          621   \n",
       "\n",
       "  poverty_count_female_under_5 poverty_count_male_over_75  \\\n",
       "0                          310                        177   \n",
       "1                         1333                        149   \n",
       "2                          870                        177   \n",
       "3                          477                        117   \n",
       "4                           40                         98   \n",
       "\n",
       "  poverty_count_male_under_5 state total_pop_male  \n",
       "0                       1733    01         124518  \n",
       "1                       1067    01          56185  \n",
       "2                        936    01          45015  \n",
       "3                       1129    01          36341  \n",
       "4                        812    01          44607  "
      ]
     },
     "execution_count": 8,
     "metadata": {},
     "output_type": "execute_result"
    }
   ],
   "source": [
    "# print the data types\n",
    "print(\"Data types:\")\n",
    "print(census_df.dtypes)\n",
    "\n",
    "# print first rows\n",
    "census_df.head()"
   ]
  },
  {
   "cell_type": "markdown",
   "metadata": {},
   "source": [
    "<a id=\"step-3\"></a>\n",
    "\n",
    "## Step 3: Data Transformation and Quality Assessment\n",
    "\n"
   ]
  },
  {
   "cell_type": "code",
   "execution_count": 17,
   "metadata": {
    "tags": [
     "graded"
    ]
   },
   "outputs": [],
   "source": [
    "# GRADED CELL: Exercise 3\n",
    "\n",
    "### START CODE HERE ###\n",
    "\n",
    "# check missing values\n",
    "missing_data = census_df.isnull().sum()\n",
    "\n",
    "\n",
    "# remove missing rows. \n",
    "# keep the .copy() method at the end to avoid warnings\n",
    "census_df_clean = census_df.dropna().copy()\n",
    "\n",
    "# convert columns to numeric. \n",
    "# get all the numerical column indexis (all except \"county_state\" in index 1)\n",
    "num_cols = [0]+list(range(2,census_df.shape[1])) \n",
    "# iterate over each of the columns and convert to numeric\n",
    "for col in num_cols:    \n",
    "    column_name = census_df_clean.columns[col]\n",
    "    census_df_clean[column_name] = pd.to_numeric(census_df_clean[column_name], errors='coerce')\n",
    "\n",
    "### END CODE HERE ###"
   ]
  },
  {
   "cell_type": "code",
   "execution_count": 19,
   "metadata": {},
   "outputs": [
    {
     "name": "stdout",
     "output_type": "stream",
     "text": [
      "Missing values:\n",
      "county                           0\n",
      "county_state                     0\n",
      "employed_male                   21\n",
      "employed_total                  21\n",
      "female_pop_over_75               0\n",
      "female_pop_under_5               0\n",
      "male_pop_over_75                 0\n",
      "male_pop_under_5                 0\n",
      "population                       0\n",
      "poverty_count                    7\n",
      "poverty_count_female_over_75     7\n",
      "poverty_count_female_under_5     7\n",
      "poverty_count_male_over_75       7\n",
      "poverty_count_male_under_5       7\n",
      "state                            0\n",
      "total_pop_male                   0\n",
      "dtype: int64\n",
      "\n",
      "Data types:\n",
      "county                           int64\n",
      "county_state                    object\n",
      "employed_male                    int64\n",
      "employed_total                   int64\n",
      "female_pop_over_75               int64\n",
      "female_pop_under_5               int64\n",
      "male_pop_over_75                 int64\n",
      "male_pop_under_5                 int64\n",
      "population                       int64\n",
      "poverty_count                    int64\n",
      "poverty_count_female_over_75     int64\n",
      "poverty_count_female_under_5     int64\n",
      "poverty_count_male_over_75       int64\n",
      "poverty_count_male_under_5       int64\n",
      "state                            int64\n",
      "total_pop_male                   int64\n",
      "dtype: object\n"
     ]
    }
   ],
   "source": [
    "# print number of missing values per row\n",
    "print(\"Missing values:\")\n",
    "print(missing_data)\n",
    "\n",
    "# print data types\n",
    "print(\"\\nData types:\")\n",
    "print(census_df_clean.dtypes)"
   ]
  },
  {
   "cell_type": "markdown",
   "metadata": {},
   "source": [
    "<a id=\"ex4\"></a>\n",
    "\n",
    "#### Exercise 4: Extract State Name\n",
    "To facilitate analysis across different states, you want to extract the State name from the \"county_state\" column.\n",
    "\n"
   ]
  },
  {
   "cell_type": "code",
   "execution_count": 22,
   "metadata": {
    "tags": [
     "graded"
    ]
   },
   "outputs": [],
   "source": [
    "# GRADED CELL: Exercise 4\n",
    "\n",
    "### START CODE HERE ###\n",
    "\n",
    "# extract the state name\n",
    "state_name = census_df_clean[\"county_state\"].str.split(pat=\",\", expand=True)[1]\n",
    "\n",
    "# add the state name as a new column\n",
    "census_df_clean[\"state_name\"] = state_name\n",
    "\n",
    "### END CODE HERE ###"
   ]
  },
  {
   "cell_type": "code",
   "execution_count": 23,
   "metadata": {},
   "outputs": [
    {
     "data": {
      "text/html": [
       "<div>\n",
       "<style scoped>\n",
       "    .dataframe tbody tr th:only-of-type {\n",
       "        vertical-align: middle;\n",
       "    }\n",
       "\n",
       "    .dataframe tbody tr th {\n",
       "        vertical-align: top;\n",
       "    }\n",
       "\n",
       "    .dataframe thead th {\n",
       "        text-align: right;\n",
       "    }\n",
       "</style>\n",
       "<table border=\"1\" class=\"dataframe\">\n",
       "  <thead>\n",
       "    <tr style=\"text-align: right;\">\n",
       "      <th></th>\n",
       "      <th>county_state</th>\n",
       "      <th>state_name</th>\n",
       "    </tr>\n",
       "  </thead>\n",
       "  <tbody>\n",
       "    <tr>\n",
       "      <th>0</th>\n",
       "      <td>Baldwin County, Alabama</td>\n",
       "      <td>Alabama</td>\n",
       "    </tr>\n",
       "    <tr>\n",
       "      <th>1</th>\n",
       "      <td>Calhoun County, Alabama</td>\n",
       "      <td>Alabama</td>\n",
       "    </tr>\n",
       "    <tr>\n",
       "      <th>2</th>\n",
       "      <td>Cullman County, Alabama</td>\n",
       "      <td>Alabama</td>\n",
       "    </tr>\n",
       "    <tr>\n",
       "      <th>3</th>\n",
       "      <td>DeKalb County, Alabama</td>\n",
       "      <td>Alabama</td>\n",
       "    </tr>\n",
       "    <tr>\n",
       "      <th>4</th>\n",
       "      <td>Elmore County, Alabama</td>\n",
       "      <td>Alabama</td>\n",
       "    </tr>\n",
       "  </tbody>\n",
       "</table>\n",
       "</div>"
      ],
      "text/plain": [
       "              county_state state_name\n",
       "0  Baldwin County, Alabama    Alabama\n",
       "1  Calhoun County, Alabama    Alabama\n",
       "2  Cullman County, Alabama    Alabama\n",
       "3   DeKalb County, Alabama    Alabama\n",
       "4   Elmore County, Alabama    Alabama"
      ]
     },
     "execution_count": 23,
     "metadata": {},
     "output_type": "execute_result"
    }
   ],
   "source": [
    "# print the first few rows to check the results\n",
    "census_df_clean[[\"county_state\", \"state_name\"]].head()"
   ]
  },
  {
   "cell_type": "markdown",
   "metadata": {},
   "source": [
    "<a id=\"ex5\"></a>\n",
    "\n",
    "#### Exercise 5: Data Normalization\n",
    "\n",
    "Very young kids and elderly people are some of the most at-risk groups. In particular, small children could see an impairment in their development, which could have an impact way into adulthood. For this reason, you want to calculate and compare poverty rates across age groups to identify the most vulnerable populations.\n"
   ]
  },
  {
   "cell_type": "code",
   "execution_count": 24,
   "metadata": {},
   "outputs": [],
   "source": [
    "# GRADED CELL: Exercise 5\n",
    " \n",
    "### START CODE HERE ###\n",
    "\n",
    "# calculate total poverty rate\n",
    "census_df_clean['total_poverty_rate'] = census_df_clean[\"poverty_count\"]/census_df_clean[\"population\"]\n",
    "\n",
    "# calculate poverty rate for young kids\n",
    "census_df_clean['under_5_poverty_rate'] = (census_df_clean[\"poverty_count_male_under_5\"]+census_df_clean[\"poverty_count_female_under_5\"])/(census_df_clean[\"male_pop_under_5\"]+census_df_clean[\"female_pop_under_5\"])\n",
    "\n",
    "# calculate poverty rate for elderly\n",
    "census_df_clean['over_75_poverty_rate'] = (census_df_clean[\"poverty_count_male_over_75\"]+census_df_clean[\"poverty_count_female_over_75\"])/(census_df_clean[\"male_pop_over_75\"]+census_df_clean[\"female_pop_over_75\"])\n",
    "\n",
    "### END CODE HERE ###"
   ]
  },
  {
   "cell_type": "code",
   "execution_count": 25,
   "metadata": {},
   "outputs": [
    {
     "data": {
      "text/html": [
       "<div>\n",
       "<style scoped>\n",
       "    .dataframe tbody tr th:only-of-type {\n",
       "        vertical-align: middle;\n",
       "    }\n",
       "\n",
       "    .dataframe tbody tr th {\n",
       "        vertical-align: top;\n",
       "    }\n",
       "\n",
       "    .dataframe thead th {\n",
       "        text-align: right;\n",
       "    }\n",
       "</style>\n",
       "<table border=\"1\" class=\"dataframe\">\n",
       "  <thead>\n",
       "    <tr style=\"text-align: right;\">\n",
       "      <th></th>\n",
       "      <th>total_poverty_rate</th>\n",
       "      <th>under_5_poverty_rate</th>\n",
       "      <th>over_75_poverty_rate</th>\n",
       "    </tr>\n",
       "  </thead>\n",
       "  <tbody>\n",
       "    <tr>\n",
       "      <th>0</th>\n",
       "      <td>0.096262</td>\n",
       "      <td>0.175305</td>\n",
       "      <td>0.043644</td>\n",
       "    </tr>\n",
       "    <tr>\n",
       "      <th>1</th>\n",
       "      <td>0.203772</td>\n",
       "      <td>0.389800</td>\n",
       "      <td>0.086452</td>\n",
       "    </tr>\n",
       "    <tr>\n",
       "      <th>2</th>\n",
       "      <td>0.181479</td>\n",
       "      <td>0.322500</td>\n",
       "      <td>0.113130</td>\n",
       "    </tr>\n",
       "    <tr>\n",
       "      <th>3</th>\n",
       "      <td>0.242927</td>\n",
       "      <td>0.378684</td>\n",
       "      <td>0.115630</td>\n",
       "    </tr>\n",
       "    <tr>\n",
       "      <th>4</th>\n",
       "      <td>0.123395</td>\n",
       "      <td>0.192847</td>\n",
       "      <td>0.112537</td>\n",
       "    </tr>\n",
       "  </tbody>\n",
       "</table>\n",
       "</div>"
      ],
      "text/plain": [
       "   total_poverty_rate  under_5_poverty_rate  over_75_poverty_rate\n",
       "0            0.096262              0.175305              0.043644\n",
       "1            0.203772              0.389800              0.086452\n",
       "2            0.181479              0.322500              0.113130\n",
       "3            0.242927              0.378684              0.115630\n",
       "4            0.123395              0.192847              0.112537"
      ]
     },
     "execution_count": 25,
     "metadata": {},
     "output_type": "execute_result"
    }
   ],
   "source": [
    "# print the first few rows to check the results\n",
    "census_df_clean[[\"total_poverty_rate\", \"under_5_poverty_rate\", \n",
    "                 \"over_75_poverty_rate\"]].head()"
   ]
  },
  {
   "cell_type": "code",
   "execution_count": 26,
   "metadata": {},
   "outputs": [
    {
     "data": {
      "image/png": "[encoded data removed]",
      "text/plain": [
       "<Figure size 600x300 with 1 Axes>"
      ]
     },
     "metadata": {},
     "output_type": "display_data"
    }
   ],
   "source": [
    "# visualize the distribution of the rates\n",
    "plt.figure(figsize=(6, 3))\n",
    "sns.boxplot(data=census_df_clean[['total_poverty_rate', 'under_5_poverty_rate', \n",
    "                     'over_75_poverty_rate']])\n",
    "plt.title('Poverty Rates Distribution by Age Group')\n",
    "plt.xticks(ticks=[0, 1, 2], labels=['Total', 'Under 5', 'Over 75'], \n",
    "           rotation=45)\n",
    "plt.show()"
   ]
  },
  {
   "cell_type": "markdown",
   "metadata": {},
   "source": [
    "Poverty rates among children under 5 appear higher than both the total population and over-75 rates. You want to analyze how this variable differs across states."
   ]
  },
  {
   "cell_type": "code",
   "execution_count": 27,
   "metadata": {},
   "outputs": [
    {
     "data": {
      "image/png": "[encoded data removed]",
      "text/plain": [
       "<Figure size 1200x600 with 1 Axes>"
      ]
     },
     "metadata": {},
     "output_type": "display_data"
    }
   ],
   "source": [
    "# visualize the distribution of the rates by state\n",
    "plt.figure(figsize=(12, 6))\n",
    "sns.boxplot(x='state_name', y='under_5_poverty_rate', data=census_df_clean)\n",
    "plt.title('Under-5 Poverty Rate Distribution by State')\n",
    "plt.xticks(rotation=90)\n",
    "plt.xlabel('State')\n",
    "plt.ylabel('Under-5 Poverty Rate')\n",
    "plt.show()"
   ]
  },
  {
   "cell_type": "markdown",
   "metadata": {},
   "source": [
    "What conclusions can you make based on these graphs?\n",
    "\n",
    "<a id=\"step-4\"></a>\n",
    "\n",
    "## Step 4: Identifying Most Vulnerable Areas\n",
    "\n",
    "<a id=\"defining-a-vulnerability-metric\"></a>\n",
    "\n",
    "### Defining a Vulnerability Metric\n",
    "\n",
    "To effectively allocate your organization's resources, you need a systematic way to identify the most vulnerable communities.\n",
    "\n",
    "<a id=\"ex6\"></a>\n",
    "\n",
    "#### Exercise 6: Multi-Factor Vulnerability Analysis\n",
    "\n",
    "To understand the communities you're studying, you need to consider how different vulnerabilities interact. By analyzing multiple factors together, you can develop a more comprehensive understanding of each community's specific needs.\n"
   ]
  },
  {
   "cell_type": "code",
   "execution_count": 31,
   "metadata": {},
   "outputs": [],
   "source": [
    "# GRADED CELL: Exercise 6\n",
    "\n",
    "# get the employment rate\n",
    "census_df_clean['employment_rate'] = census_df_clean[\"employed_total\"] / census_df_clean[\"population\"]\n",
    "# get the proportion of children under 5 in poverty\n",
    "census_df_clean['under_5_poverty_proportion'] = (\n",
    "                            census_df_clean[\"poverty_count_female_under_5\"] +\n",
    "                            census_df_clean[\"poverty_count_male_under_5\"]\n",
    "                            )/ census_df_clean[\"poverty_count\"]\n",
    "\n",
    "### START CODE HERE ###\n",
    "\n",
    "# calculate vulnerability score \n",
    "vulnerability_score = ( \n",
    "    # overall poverty (35% weight)\n",
    "    census_df_clean[\"total_poverty_rate\"] * 0.35 +\n",
    "    # child poverty (40% weight)\n",
    "    census_df_clean['under_5_poverty_proportion'] * 0.40 +\n",
    "    # unemployment (25% weight). Subtract employment rate from 1 to get the \n",
    "    # unemployment rate\n",
    "    ((1-census_df_clean['employment_rate']) *0.25)\n",
    ") \n",
    "\n",
    "# scale the vulnerability score between 0-1\n",
    "# find the min vulnerability score\n",
    "min_vs = vulnerability_score.min()\n",
    "# find the max vulnerability score\n",
    "max_vs = vulnerability_score.max()\n",
    "\n",
    "\n",
    "# normalize it to 0-100 for easier interpretation and add it to a column\n",
    "census_df_clean['vulnerability_score'] = (vulnerability_score - min_vs)/(max_vs - min_vs)*100\n",
    "\n",
    "### END CODE HERE ###"
   ]
  },
  {
   "cell_type": "code",
   "execution_count": 32,
   "metadata": {},
   "outputs": [
    {
     "data": {
      "text/plain": [
       "Text(0.5, 0, 'Vulnerability Score')"
      ]
     },
     "execution_count": 32,
     "metadata": {},
     "output_type": "execute_result"
    },
    {
     "data": {
      "image/png": "[encoded data removed]",
      "text/plain": [
       "<Figure size 640x480 with 1 Axes>"
      ]
     },
     "metadata": {},
     "output_type": "display_data"
    }
   ],
   "source": [
    "# plot the distribution of the vulnerability score\n",
    "sns.histplot(census_df_clean['vulnerability_score'])\n",
    "plt.title('Vulnerability Score Distribution')\n",
    "plt.xlabel('Vulnerability Score')"
   ]
  },
  {
   "cell_type": "markdown",
   "metadata": {},
   "source": [
    "With this score, you can find the top 5 counties that need the most attention."
   ]
  },
  {
   "cell_type": "code",
   "execution_count": 33,
   "metadata": {},
   "outputs": [
    {
     "data": {
      "text/html": [
       "<div>\n",
       "<style scoped>\n",
       "    .dataframe tbody tr th:only-of-type {\n",
       "        vertical-align: middle;\n",
       "    }\n",
       "\n",
       "    .dataframe tbody tr th {\n",
       "        vertical-align: top;\n",
       "    }\n",
       "\n",
       "    .dataframe thead th {\n",
       "        text-align: right;\n",
       "    }\n",
       "</style>\n",
       "<table border=\"1\" class=\"dataframe\">\n",
       "  <thead>\n",
       "    <tr style=\"text-align: right;\">\n",
       "      <th></th>\n",
       "      <th>county_state</th>\n",
       "      <th>vulnerability_score</th>\n",
       "    </tr>\n",
       "  </thead>\n",
       "  <tbody>\n",
       "    <tr>\n",
       "      <th>848</th>\n",
       "      <td>Mayagüez Municipio, Puerto Rico</td>\n",
       "      <td>100.000000</td>\n",
       "    </tr>\n",
       "    <tr>\n",
       "      <th>849</th>\n",
       "      <td>Ponce Municipio, Puerto Rico</td>\n",
       "      <td>99.992277</td>\n",
       "    </tr>\n",
       "    <tr>\n",
       "      <th>449</th>\n",
       "      <td>McKinley County, New Mexico</td>\n",
       "      <td>94.777404</td>\n",
       "    </tr>\n",
       "    <tr>\n",
       "      <th>720</th>\n",
       "      <td>Hidalgo County, Texas</td>\n",
       "      <td>85.256972</td>\n",
       "    </tr>\n",
       "    <tr>\n",
       "      <th>271</th>\n",
       "      <td>Christian County, Kentucky</td>\n",
       "      <td>83.628375</td>\n",
       "    </tr>\n",
       "  </tbody>\n",
       "</table>\n",
       "</div>"
      ],
      "text/plain": [
       "                        county_state  vulnerability_score\n",
       "848  Mayagüez Municipio, Puerto Rico           100.000000\n",
       "849     Ponce Municipio, Puerto Rico            99.992277\n",
       "449      McKinley County, New Mexico            94.777404\n",
       "720            Hidalgo County, Texas            85.256972\n",
       "271       Christian County, Kentucky            83.628375"
      ]
     },
     "execution_count": 33,
     "metadata": {},
     "output_type": "execute_result"
    }
   ],
   "source": [
    "# find the 5 counties with the highest vulnerability score\n",
    "census_df_clean.sort_values(by='vulnerability_score', ascending=False\n",
    "                     )[[\"county_state\",\"vulnerability_score\"]].head()"
   ]
  },
  {
   "cell_type": "markdown",
   "metadata": {},
   "source": [
    "<a id=\"ex7\"></a>\n",
    "#### Exercise 7: Categorize Vulnerability Scores\n",
    "\n",
    "To effectively allocate resources, we need to identify the communities most in need of immediate intervention. You can do this by creating categories according to the vulnerability score you just created.\n",
    "\n"
   ]
  },
  {
   "cell_type": "code",
   "execution_count": 34,
   "metadata": {
    "tags": [
     "graded"
    ]
   },
   "outputs": [],
   "source": [
    "# GRADED CELL: Exercise 7\n",
    "\n",
    "### START CODE HERE ###\n",
    "\n",
    "# find the category for each county based on the vulnerability score\n",
    "priority_score = pd.qcut(census_df_clean['vulnerability_score'], q=5, labels=[ 'Very Low', 'Low', 'Medium', 'High', 'Very High'])\n",
    "\n",
    "# add the priority score to the DataFrame\n",
    "census_df_clean['priority_score'] = priority_score\n",
    "\n",
    "### END CODE HERE ###"
   ]
  },
  {
   "cell_type": "code",
   "execution_count": 35,
   "metadata": {},
   "outputs": [
    {
     "data": {
      "text/html": [
       "<div>\n",
       "<style scoped>\n",
       "    .dataframe tbody tr th:only-of-type {\n",
       "        vertical-align: middle;\n",
       "    }\n",
       "\n",
       "    .dataframe tbody tr th {\n",
       "        vertical-align: top;\n",
       "    }\n",
       "\n",
       "    .dataframe thead th {\n",
       "        text-align: right;\n",
       "    }\n",
       "</style>\n",
       "<table border=\"1\" class=\"dataframe\">\n",
       "  <thead>\n",
       "    <tr style=\"text-align: right;\">\n",
       "      <th></th>\n",
       "      <th>county_state</th>\n",
       "      <th>vulnerability_score</th>\n",
       "      <th>priority_score</th>\n",
       "    </tr>\n",
       "  </thead>\n",
       "  <tbody>\n",
       "    <tr>\n",
       "      <th>0</th>\n",
       "      <td>Baldwin County, Alabama</td>\n",
       "      <td>31.968542</td>\n",
       "      <td>Medium</td>\n",
       "    </tr>\n",
       "    <tr>\n",
       "      <th>1</th>\n",
       "      <td>Calhoun County, Alabama</td>\n",
       "      <td>58.262534</td>\n",
       "      <td>Very High</td>\n",
       "    </tr>\n",
       "    <tr>\n",
       "      <th>2</th>\n",
       "      <td>Cullman County, Alabama</td>\n",
       "      <td>57.361382</td>\n",
       "      <td>Very High</td>\n",
       "    </tr>\n",
       "    <tr>\n",
       "      <th>3</th>\n",
       "      <td>DeKalb County, Alabama</td>\n",
       "      <td>69.085500</td>\n",
       "      <td>Very High</td>\n",
       "    </tr>\n",
       "    <tr>\n",
       "      <th>4</th>\n",
       "      <td>Elmore County, Alabama</td>\n",
       "      <td>37.669165</td>\n",
       "      <td>High</td>\n",
       "    </tr>\n",
       "  </tbody>\n",
       "</table>\n",
       "</div>"
      ],
      "text/plain": [
       "              county_state  vulnerability_score priority_score\n",
       "0  Baldwin County, Alabama            31.968542         Medium\n",
       "1  Calhoun County, Alabama            58.262534      Very High\n",
       "2  Cullman County, Alabama            57.361382      Very High\n",
       "3   DeKalb County, Alabama            69.085500      Very High\n",
       "4   Elmore County, Alabama            37.669165           High"
      ]
     },
     "execution_count": 35,
     "metadata": {},
     "output_type": "execute_result"
    }
   ],
   "source": [
    "# print the first few rows to check the results\n",
    "census_df_clean[['county_state', 'vulnerability_score', 'priority_score']].head()"
   ]
  },
  {
   "cell_type": "markdown",
   "metadata": {},
   "source": [
    "You can use this information to find the states which have counties with a \"Very High\" priority score, and show how many counties with this score they have. This is a great strategy to help allocate resources."
   ]
  },
  {
   "cell_type": "code",
   "execution_count": 36,
   "metadata": {},
   "outputs": [
    {
     "data": {
      "text/html": [
       "<div>\n",
       "<style scoped>\n",
       "    .dataframe tbody tr th:only-of-type {\n",
       "        vertical-align: middle;\n",
       "    }\n",
       "\n",
       "    .dataframe tbody tr th {\n",
       "        vertical-align: top;\n",
       "    }\n",
       "\n",
       "    .dataframe thead th {\n",
       "        text-align: right;\n",
       "    }\n",
       "</style>\n",
       "<table border=\"1\" class=\"dataframe\">\n",
       "  <thead>\n",
       "    <tr style=\"text-align: right;\">\n",
       "      <th></th>\n",
       "      <th>vulnerability_score</th>\n",
       "    </tr>\n",
       "    <tr>\n",
       "      <th>state_name</th>\n",
       "      <th></th>\n",
       "    </tr>\n",
       "  </thead>\n",
       "  <tbody>\n",
       "    <tr>\n",
       "      <th>Texas</th>\n",
       "      <td>17</td>\n",
       "    </tr>\n",
       "    <tr>\n",
       "      <th>Louisiana</th>\n",
       "      <td>14</td>\n",
       "    </tr>\n",
       "    <tr>\n",
       "      <th>Georgia</th>\n",
       "      <td>12</td>\n",
       "    </tr>\n",
       "    <tr>\n",
       "      <th>California</th>\n",
       "      <td>11</td>\n",
       "    </tr>\n",
       "    <tr>\n",
       "      <th>North Carolina</th>\n",
       "      <td>10</td>\n",
       "    </tr>\n",
       "    <tr>\n",
       "      <th>Alabama</th>\n",
       "      <td>10</td>\n",
       "    </tr>\n",
       "    <tr>\n",
       "      <th>Puerto Rico</th>\n",
       "      <td>8</td>\n",
       "    </tr>\n",
       "    <tr>\n",
       "      <th>Ohio</th>\n",
       "      <td>7</td>\n",
       "    </tr>\n",
       "    <tr>\n",
       "      <th>Arkansas</th>\n",
       "      <td>6</td>\n",
       "    </tr>\n",
       "    <tr>\n",
       "      <th>New York</th>\n",
       "      <td>6</td>\n",
       "    </tr>\n",
       "    <tr>\n",
       "      <th>New Mexico</th>\n",
       "      <td>6</td>\n",
       "    </tr>\n",
       "    <tr>\n",
       "      <th>Oklahoma</th>\n",
       "      <td>5</td>\n",
       "    </tr>\n",
       "    <tr>\n",
       "      <th>South Carolina</th>\n",
       "      <td>5</td>\n",
       "    </tr>\n",
       "    <tr>\n",
       "      <th>Indiana</th>\n",
       "      <td>5</td>\n",
       "    </tr>\n",
       "    <tr>\n",
       "      <th>Illinois</th>\n",
       "      <td>4</td>\n",
       "    </tr>\n",
       "    <tr>\n",
       "      <th>Kentucky</th>\n",
       "      <td>4</td>\n",
       "    </tr>\n",
       "    <tr>\n",
       "      <th>Washington</th>\n",
       "      <td>3</td>\n",
       "    </tr>\n",
       "    <tr>\n",
       "      <th>Tennessee</th>\n",
       "      <td>3</td>\n",
       "    </tr>\n",
       "    <tr>\n",
       "      <th>Pennsylvania</th>\n",
       "      <td>3</td>\n",
       "    </tr>\n",
       "    <tr>\n",
       "      <th>Mississippi</th>\n",
       "      <td>3</td>\n",
       "    </tr>\n",
       "    <tr>\n",
       "      <th>Maryland</th>\n",
       "      <td>3</td>\n",
       "    </tr>\n",
       "    <tr>\n",
       "      <th>Arizona</th>\n",
       "      <td>3</td>\n",
       "    </tr>\n",
       "    <tr>\n",
       "      <th>Michigan</th>\n",
       "      <td>3</td>\n",
       "    </tr>\n",
       "    <tr>\n",
       "      <th>Kansas</th>\n",
       "      <td>2</td>\n",
       "    </tr>\n",
       "    <tr>\n",
       "      <th>Oregon</th>\n",
       "      <td>2</td>\n",
       "    </tr>\n",
       "    <tr>\n",
       "      <th>Virginia</th>\n",
       "      <td>2</td>\n",
       "    </tr>\n",
       "    <tr>\n",
       "      <th>Missouri</th>\n",
       "      <td>2</td>\n",
       "    </tr>\n",
       "    <tr>\n",
       "      <th>New Jersey</th>\n",
       "      <td>2</td>\n",
       "    </tr>\n",
       "    <tr>\n",
       "      <th>Florida</th>\n",
       "      <td>1</td>\n",
       "    </tr>\n",
       "    <tr>\n",
       "      <th>Idaho</th>\n",
       "      <td>1</td>\n",
       "    </tr>\n",
       "    <tr>\n",
       "      <th>West Virginia</th>\n",
       "      <td>1</td>\n",
       "    </tr>\n",
       "    <tr>\n",
       "      <th>Wisconsin</th>\n",
       "      <td>1</td>\n",
       "    </tr>\n",
       "  </tbody>\n",
       "</table>\n",
       "</div>"
      ],
      "text/plain": [
       "                vulnerability_score\n",
       "state_name                         \n",
       "Texas                            17\n",
       "Louisiana                        14\n",
       "Georgia                          12\n",
       "California                       11\n",
       "North Carolina                   10\n",
       "Alabama                          10\n",
       "Puerto Rico                       8\n",
       "Ohio                              7\n",
       "Arkansas                          6\n",
       "New York                          6\n",
       "New Mexico                        6\n",
       "Oklahoma                          5\n",
       "South Carolina                    5\n",
       "Indiana                           5\n",
       "Illinois                          4\n",
       "Kentucky                          4\n",
       "Washington                        3\n",
       "Tennessee                         3\n",
       "Pennsylvania                      3\n",
       "Mississippi                       3\n",
       "Maryland                          3\n",
       "Arizona                           3\n",
       "Michigan                          3\n",
       "Kansas                            2\n",
       "Oregon                            2\n",
       "Virginia                          2\n",
       "Missouri                          2\n",
       "New Jersey                        2\n",
       "Florida                           1\n",
       "Idaho                             1\n",
       "West Virginia                     1\n",
       "Wisconsin                         1"
      ]
     },
     "execution_count": 36,
     "metadata": {},
     "output_type": "execute_result"
    }
   ],
   "source": [
    "# find the states with very high vulnerability\n",
    "\n",
    "# filter the counties with very high vulnerability\n",
    "very_high_vulnerability = census_df_clean[census_df_clean['priority_score']==\"Very High\"][\n",
    "    [\"vulnerability_score\", \"state_name\"]]\n",
    "\n",
    "# group by state and get the number of counties with very high vulnerability\n",
    "very_high_vulnerability.groupby(\n",
    "    \"state_name\").count().sort_values(by=\"vulnerability_score\", ascending=False)"
   ]
  },
  {
   "cell_type": "markdown",
   "metadata": {},
   "source": [
    "<a id=\"using-outliers\"></a>\n",
    "\n",
    "### Using Outliers to Identify Population at Risk\n",
    "\n",
    "<a id=\"ex8\"></a>\n",
    "\n",
    "#### Exercise 8: Handling Outliers in Poverty Rates\n",
    "\n",
    "Another way to identify communities in urgent need is by looking for counties with unusually high poverty rates that stand out from typical patterns. These statistical outliers often represent areas facing severe challenges that require immediate intervention.\n",
    "\n"
   ]
  },
  {
   "cell_type": "code",
   "execution_count": 37,
   "metadata": {},
   "outputs": [],
   "source": [
    "# GRADED CELL: Exercise 8\n",
    "\n",
    "\n",
    "# Calculate the Z-scores for the 'poverty_count' column\n",
    "census_df_clean['z_score'] = stats.zscore(census_df_clean['poverty_count'])\n",
    "\n",
    "# Define a threshold for Z-scores to identify outliers (commonly 3 or -3)\n",
    "z_score_threshold = 3\n",
    "\n",
    "# Identify outliers using Z-scores\n",
    "z_score_outliers = census_df_clean[abs(census_df_clean['z_score']) > z_score_threshold]\n",
    "\n",
    "\n",
    "### END CODE HERE ###"
   ]
  },
  {
   "cell_type": "code",
   "execution_count": null,
   "metadata": {},
   "outputs": [],
   "source": [
    "# print the outliers\n",
    "z_score_outliers[[\"county_state\", \"poverty_count\", \n",
    "                  \"total_poverty_rate\", \"under_5_poverty_rate\", \n",
    "                  \"priority_score\", \"z_score\"]]"
   ]
  }
 ],
 "metadata": {
  "grader_version": "1",
  "kernelspec": {
   "display_name": "Python 3 (ipykernel)",
   "language": "python",
   "name": "python3"
  },
  "language_info": {
   "codemirror_mode": {
    "name": "ipython",
    "version": 3
   },
   "file_extension": ".py",
   "mimetype": "text/x-python",
   "name": "python",
   "nbconvert_exporter": "python",
   "pygments_lexer": "ipython3",
   "version": "3.11.6"
  }
 },
 "nbformat": 4,
 "nbformat_minor": 4
}
