{
 "cells": [
  {
   "cell_type": "markdown",
   "metadata": {},
   "source": [
    "# Title\n",
    "\n",
    "**Exercise: A.1 - Beta values for data from Random Universe**\n",
    "\n",
    "# Description\n",
    "Given a RandomUniverse(dataframe)->dataframe function that gives a new dataset from a \"parallel\" universe, calculate the $\\beta_0$ 's and $\\beta_1$ 's and plot a histogram like the one below. "
   ]
  },
  {
   "cell_type": "markdown",
   "metadata": {},
   "source": [
    "<img src=\"img/beta_values_random.png\" style=\"width: 500px;\">"
   ]
  },
  {
   "cell_type": "markdown",
   "metadata": {},
   "source": [
    "# Roadmap\n",
    "- Get a new dataframe using the RandomUniverse function already provided in the exercise\n",
    "- Calculate $\\beta_0$, $\\beta_1$ for that particular dataframe\n",
    "- Add the calculated $\\beta_0$ and $\\beta_1$ values to a python list\n",
    "- Plot a histogram using the lists calculated above\n",
    "\n",
    "Change the number of `parallelUniverses` and comment on what you observe. Discuss within the group why you see this behavior. Did you expect the spread to change? Why or why not? \n",
    "\n",
    "# Hints\n",
    "\n",
    "- To compute the beta values use the following equations:\n",
    "\n",
    "$\\beta_{0}=\\bar{y}-\\left(b_{1} * \\bar{x}\\right)$\n",
    "\n",
    "$\\beta_{1}=\\frac{\\sum(x-\\bar{x}) *(y-\\bar{y})}{\\sum(x-\\bar{x})^{2}}$\n",
    "\n",
    "where $\\bar{x}$ is the mean of $x$ and $\\bar{y}$ is the mean of $y$\n",
    "\n",
    "\n",
    "<a href=\"https://numpy.org/doc/stable/reference/generated/numpy.dot.html\" target=\"_blank\">np.dot()</a> : Computes the dot product of two arrays\n",
    "\n",
    "<a href=\"https://matplotlib.org/3.2.2/api/_as_gen/matplotlib.axes.Axes.hist.html\" target=\"_blank\">ax.hist()</a> : Plots a histogram\n",
    "\n",
    "<a href=\"https://matplotlib.org/3.1.1/api/_as_gen/matplotlib.axes.Axes.set_xlabel.html\" target=\"_blank\">ax.set_xlabel()</a> : Sets label for x-axis\n",
    "\n",
    "<a href=\"https://matplotlib.org/3.1.1/api/_as_gen/matplotlib.axes.Axes.set_ylabel.html\" target=\"_blank\">ax.set_ylabel()</a> : Sets label for the y-axis\n",
    "\n",
    "Note: This exercise is **auto-graded and you can try multiple attempts.**"
   ]
  },
  {
   "cell_type": "code",
   "execution_count": 4,
   "metadata": {},
   "outputs": [],
   "source": [
    "import pandas as pd\n",
    "import numpy as np\n",
    "import matplotlib.pyplot as plt\n",
    "from randomuniverse import RandomUniverse\n",
    "%matplotlib inline"
   ]
  },
  {
   "cell_type": "markdown",
   "metadata": {},
   "source": [
    "### Reading the standard Advertising dataset"
   ]
  },
  {
   "cell_type": "code",
   "execution_count": 5,
   "metadata": {},
   "outputs": [],
   "source": [
    "df = pd.read_csv('data/advertising_adj.csv')"
   ]
  },
  {
   "cell_type": "code",
   "execution_count": 6,
   "metadata": {},
   "outputs": [
    {
     "data": {
      "text/html": [
       "<div>\n",
       "<style scoped>\n",
       "    .dataframe tbody tr th:only-of-type {\n",
       "        vertical-align: middle;\n",
       "    }\n",
       "\n",
       "    .dataframe tbody tr th {\n",
       "        vertical-align: top;\n",
       "    }\n",
       "\n",
       "    .dataframe thead th {\n",
       "        text-align: right;\n",
       "    }\n",
       "</style>\n",
       "<table border=\"1\" class=\"dataframe\">\n",
       "  <thead>\n",
       "    <tr style=\"text-align: right;\">\n",
       "      <th></th>\n",
       "      <th>tv</th>\n",
       "      <th>sales</th>\n",
       "    </tr>\n",
       "  </thead>\n",
       "  <tbody>\n",
       "    <tr>\n",
       "      <th>0</th>\n",
       "      <td>230.1</td>\n",
       "      <td>465.26</td>\n",
       "    </tr>\n",
       "    <tr>\n",
       "      <th>1</th>\n",
       "      <td>44.5</td>\n",
       "      <td>218.95</td>\n",
       "    </tr>\n",
       "    <tr>\n",
       "      <th>2</th>\n",
       "      <td>17.2</td>\n",
       "      <td>195.79</td>\n",
       "    </tr>\n",
       "    <tr>\n",
       "      <th>3</th>\n",
       "      <td>151.5</td>\n",
       "      <td>389.47</td>\n",
       "    </tr>\n",
       "    <tr>\n",
       "      <th>4</th>\n",
       "      <td>180.8</td>\n",
       "      <td>271.58</td>\n",
       "    </tr>\n",
       "  </tbody>\n",
       "</table>\n",
       "</div>"
      ],
      "text/plain": [
       "      tv   sales\n",
       "0  230.1  465.26\n",
       "1   44.5  218.95\n",
       "2   17.2  195.79\n",
       "3  151.5  389.47\n",
       "4  180.8  271.58"
      ]
     },
     "execution_count": 6,
     "metadata": {},
     "output_type": "execute_result"
    }
   ],
   "source": [
    "df.head()"
   ]
  },
  {
   "cell_type": "code",
   "execution_count": 13,
   "metadata": {},
   "outputs": [],
   "source": [
    "#Create two empty lists that will store the beta values\n",
    "beta0_list, beta1_list = [],[]\n",
    "\n",
    "\n",
    "#Choose the number of \"parallel\" Universes to generate the new dataset\n",
    "parallelUniverses = 1000\n",
    "\n",
    "for i in range(parallelUniverses):\n",
    "    df_new = RandomUniverse(df)\n",
    "\n",
    "# x is the predictor variable given by 'tv' values \n",
    "# y is the reponse variable given by 'sales' values\n",
    "    x = df_new[\"tv\"]\n",
    "    y = df_new[\"sales\"]\n",
    "\n",
    "#Find the mean of the x values\n",
    "    xmean = x.mean()\n",
    "\n",
    "#Find the mean of the y values\n",
    "    ymean = y.mean()\n",
    "\n",
    "# Using Linear Algebra as discussed in lecture for beta0 and beta1\n",
    "\n",
    "    beta1 = np.sum((df_new.tv-xmean) * (df_new.sales-ymean)) / np.sum((df_new.tv-xmean)**2)\n",
    "    beta0 = ymean-beta1*xmean\n",
    "\n",
    "# Append the calculated values of beta1 and beta0\n",
    "    beta0_list.append(beta0)\n",
    "    beta1_list.append(beta1)"
   ]
  },
  {
   "cell_type": "code",
   "execution_count": 14,
   "metadata": {},
   "outputs": [],
   "source": [
    "### edTest(test_beta) ###\n",
    "beta0_mean = np.mean(beta0_list)\n",
    "beta1_mean = np.mean(beta1_list)"
   ]
  },
  {
   "cell_type": "markdown",
   "metadata": {},
   "source": [
    "### Now we plot the histograms\n",
    "\n",
    "Returns a plot for a histogram"
   ]
  },
  {
   "cell_type": "code",
   "execution_count": 15,
   "metadata": {},
   "outputs": [
    {
     "data": {
      "image/png": "[encoded data removed]",
      "text/plain": [
       "<Figure size 1800x800 with 2 Axes>"
      ]
     },
     "metadata": {},
     "output_type": "display_data"
    }
   ],
   "source": [
    "# plot histogram of \n",
    "fig, ax = plt.subplots(1,2, figsize=(18,8))\n",
    "ax[0].hist(beta0_list)\n",
    "ax[1].hist(beta1_list)\n",
    "ax[0].set_xlabel('Beta 0')\n",
    "ax[1].set_xlabel('Beta 1')\n",
    "ax[0].set_ylabel('Frequency');"
   ]
  },
  {
   "cell_type": "markdown",
   "metadata": {},
   "source": [
    "## Discussion\n",
    "Change the number of `parallelUniverses` and comment on what you observe. Discuss within the group why you see this behavior. Did you expect the spread to change? Why or why not? \n",
    "\n",
    "**There is no change**"
   ]
  },
  {
   "cell_type": "markdown",
   "metadata": {},
   "source": [
    "# Fin"
   ]
  },
  {
   "cell_type": "markdown",
   "metadata": {},
   "source": [
    "![Fin](https://media.giphy.com/media/jc1dl9ywZPryw/giphy.gif)"
   ]
  }
 ],
 "metadata": {
  "kernelspec": {
   "display_name": "Python 3",
   "language": "python",
   "name": "python3"
  },
  "language_info": {
   "codemirror_mode": {
    "name": "ipython",
    "version": 3
   },
   "file_extension": ".py",
   "mimetype": "text/x-python",
   "name": "python",
   "nbconvert_exporter": "python",
   "pygments_lexer": "ipython3",
   "version": "3.10.11"
  }
 },
 "nbformat": 4,
 "nbformat_minor": 4
}
