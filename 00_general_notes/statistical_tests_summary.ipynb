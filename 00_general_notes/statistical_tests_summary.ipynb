{
 "cells": [
  {
   "cell_type": "markdown",
   "metadata": {},
   "source": [
    "# Summary of Statistical Tests\n",
    "\n",
    "| Type of Data | Test Name                  | Parametric/Non-Parametric | When to Use                                                                                          | Statsmodels Function         |\n",
    "|--------------|----------------------------|---------------------------|------------------------------------------------------------------------------------------------------|----------------------------|\n",
    "| Categorical  | Chi-Square Test            | Non-Parametric            | To test the independence between categorical variables (e.g., click/no-click across control/exp group). | `statsmodels.stats.contingency_tables.Table.chi2_contingency` |\n",
    "| Categorical  | Fisher's Exact Test        | Non-Parametric            | For small sample sizes or when the expected frequency in any cell of a contingency table is < 5.       | N/A                        |\n",
    "| Ordinal      | Mann-Whitney U Test        | Non-Parametric            | To compare the ranks of two independent groups.                                                      | `statsmodels.stats.nonparametric.ranksums` |\n",
    "| Ordinal      | Wilcoxon Signed-Rank Test  | Non-Parametric            | To compare the ranks of two related groups (paired data).                                            | `statsmodels.stats.descriptivestats.SignTest` |\n",
    "| Continuous   | t-Test                     | Parametric                | To compare the means of two independent groups (data should be normally distributed).                 | `statsmodels.stats.weightstats.ttest_ind` |\n",
    "| Continuous   | Paired t-Test              | Parametric                | To compare the means of two related groups (paired data, normally distributed).                       | `statsmodels.stats.weightstats.ttest_rel` |\n",
    "| Continuous   | Z-Test                     | Parametric                | To compare the means of two independent groups when the sample size is large and the population standard deviation is known. | N/A |\n",
    "| Continuous   | ANOVA                      | Parametric                | To compare the means of three or more groups (normally distributed, equal variances).                 | `statsmodels.stats.anova.AnovaRM` |\n",
    "| Continuous   | Kruskal-Wallis Test        | Non-Parametric            | To compare the ranks of three or more independent groups (non-normal distribution).                   | `statsmodels.stats.nonparametric.kruskal` |\n",
    "| Continuous   | Pearson's Correlation      | Parametric                | To measure the linear relationship between two continuous variables (normally distributed).           | `statsmodels.stats.correlation.correlation_pearson` |\n",
    "| Continuous   | Spearman's Rank Correlation| Non-Parametric            | To measure the strength and direction of the relationship between two ranked variables.               | `statsmodels.stats.correlation.correlation_spearman` |\n",
    "\n",
    "\n",
    "\n",
    "**PARAMETRIC** makes assumptions about data.\n",
    "**NON-PARAMETRIC** if the data is skewed, or ordinal, you cannot assume normality.\n",
    "\n",
    "----\n",
    "\n",
    "*Hypothesis: the more one drink, the poorer they will do at school*\n",
    "\n",
    "**DEPENDENT VARIABLE** is what the researcher measures. // **the possible effect**(i.e grades)\n",
    "\n",
    "**INDEPENT VARIABLE** is what the researcher observes or manipulates. // **the possible cause cause**  (i.e drinking level)\n",
    "\n",
    "**CO-VARIATE** influences the relationship between X and Y (i.e. gender, age)\n",
    "\n",
    "\n",
    "----\n",
    "\n",
    "\n",
    "[https://towardsdatascience.com/a-b-testing-a-complete-guide-to-statistical-testing-e3f1db140499]\n",
    "[https://github.com/FrancescoCasalegno/AB-Testing/blob/main/AB_Testing.ipynb]"
   ]
  },
  {
   "cell_type": "markdown",
   "metadata": {},
   "source": [
    "<img src=\"../img/stats_tests.png\" width=\"70%\">\n",
    "\n",
    "<img src=\"../img/time_series.png\" width=\"70%\">"
   ]
  }
 ],
 "metadata": {
  "kernelspec": {
   "display_name": "Python 3",
   "language": "python",
   "name": "python3"
  },
  "language_info": {
   "name": "python",
   "version": "3.13.1"
  }
 },
 "nbformat": 4,
 "nbformat_minor": 2
}
