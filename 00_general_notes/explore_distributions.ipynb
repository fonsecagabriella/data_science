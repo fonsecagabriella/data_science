{
 "cells": [
  {
   "cell_type": "markdown",
   "metadata": {},
   "source": [
    "**GENERAL GUIDELINES FOR SKEWNESS AND KURTOSIS**\n",
    "\n",
    "Skewness: .skew()\n",
    "- -0.5 to 0.5: Fairly symmetrical distribution.   \n",
    "- -1 to -0.5 or 0.5 to 1: Moderately skewed.   \n",
    "- Less than -1 or greater than 1: Highly skewed.   \n",
    "\n",
    "\n",
    "Kurtosis: .kurt()\n",
    "- 0: Mesokurtic (similar to normal distribution).   \n",
    "- Greater than 0: Leptokurtic (peaked distribution with heavy tails).   \n",
    "- Less than 0: Platykurtic (flat distribution with light tails).   \n",
    "\n",
    "\n",
    "If mean > median,\n",
    "Skewed to the right\n",
    "\n",
    "Check how st dev compare to (mean-median)\n",
    "If the value is too high, it's more skewed\n",
    "If not, les skewed"
   ]
  }
 ],
 "metadata": {
  "language_info": {
   "name": "python"
  }
 },
 "nbformat": 4,
 "nbformat_minor": 2
}
