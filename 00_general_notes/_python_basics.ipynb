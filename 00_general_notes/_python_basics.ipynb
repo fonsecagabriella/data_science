{
 "cells": [
  {
   "cell_type": "code",
   "execution_count": 2,
   "metadata": {},
   "outputs": [
    {
     "name": "stdout",
     "output_type": "stream",
     "text": [
      "Billy: Tuna\n",
      "Mitchel: Anything\n",
      "Milo: Snacks\n"
     ]
    }
   ],
   "source": [
    "# zip - combines two lists\n",
    "\n",
    "cats = [\"Billy\", \"Mitchel\", \"Milo\"]\n",
    "favourite_food = [\"Tuna\", \"Anything\", \"Snacks\"]\n",
    "\n",
    "for cat, food in zip(cats, favourite_food):\n",
    "    print(f\"{cat}: {food}\")\n",
    "\n"
   ]
  },
  {
   "cell_type": "code",
   "execution_count": 3,
   "metadata": {},
   "outputs": [
    {
     "name": "stdout",
     "output_type": "stream",
     "text": [
      "0:Billy\n",
      "1:Mitchel\n",
      "2:Milo\n"
     ]
    }
   ],
   "source": [
    "# enumerate: gets index and value\n",
    "\n",
    "for index, cat in enumerate(cats):\n",
    "    print(f\"{index}:{cat}\")"
   ]
  },
  {
   "cell_type": "code",
   "execution_count": 4,
   "metadata": {},
   "outputs": [
    {
     "name": "stdout",
     "output_type": "stream",
     "text": [
      "1\n",
      "3\n",
      "5\n",
      "7\n",
      "9\n"
     ]
    }
   ],
   "source": [
    "# range\n",
    "\n",
    "'''\n",
    "Hy\n",
    "'''\n",
    "\n",
    "for i in range(1, 10, 2): # Start, stop, step\n",
    "    print(i)"
   ]
  }
 ],
 "metadata": {
  "kernelspec": {
   "display_name": ".venv",
   "language": "python",
   "name": "python3"
  },
  "language_info": {
   "codemirror_mode": {
    "name": "ipython",
    "version": 3
   },
   "file_extension": ".py",
   "mimetype": "text/x-python",
   "name": "python",
   "nbconvert_exporter": "python",
   "pygments_lexer": "ipython3",
   "version": "3.12.7"
  }
 },
 "nbformat": 4,
 "nbformat_minor": 2
}
