{
 "cells": [
  {
   "cell_type": "markdown",
   "metadata": {},
   "source": [
    "**Classification:** Accuracy, precision, recall, F1-score, AUC-ROC\n",
    "\n",
    "**Regression:** Mean Squared Error (MSE), Mean Absolute Error (MAE), Root Mean Squared Error (RMSE), R-squared\n",
    "\n",
    "The MSE is the sum of the residuals (predict - real). and RSME is in the unit of your data. If you're predicting the temperature, it will show you how many degrees off your model is.\n",
    "The R-squared shows how well your model explains the variability in data. A r-square of 0.68 explains 68% of the variabilty right."
   ]
  }
 ],
 "metadata": {
  "kernelspec": {
   "display_name": "Python 3",
   "language": "python",
   "name": "python3"
  },
  "language_info": {
   "name": "python",
   "version": "3.13.1"
  }
 },
 "nbformat": 4,
 "nbformat_minor": 2
}
