{
 "cells": [
  {
   "cell_type": "code",
   "execution_count": null,
   "metadata": {},
   "outputs": [],
   "source": [
    "# change name of columns to lower case and replace spaces with underscores\n",
    "df.columns = df.columns.str.lower().str.replace(' ', '_')\n",
    "\n",
    "# change text of strig columns to lower case and replace spaces with underscores\n",
    "# TO IMPLEMENT\n",
    "strings = list(df.dtypes[df.dtypes == 'object'].index)\n",
    "for col in strings:\n",
    "    df[col] = df[col].str.lower().str.replace(' ', '_')\n",
    "\n",
    "# check the unique values in columns\n",
    "for col in df.columns:\n",
    "    print(col)\n",
    "    print(df[col].unique()[:5]) # print first 5 unique values\n",
    "    print(df[col].nunique()) # print number of unique values\n",
    "    print()\n",
    "\n",
    "\n",
    "# check missing values\n",
    "\n",
    "# check target variable distribution\n",
    "# apply log if the target variable is skewed\n",
    "# do not forget to treat log 0 as adding 1, since log 0  is undefined\n",
    "price_logs = np.log1p(df.msrp) # you can apply log1p to treat log 0"
   ]
  }
 ],
 "metadata": {
  "kernelspec": {
   "display_name": "Python 3",
   "language": "python",
   "name": "python3"
  },
  "language_info": {
   "name": "python",
   "version": "3.13.1"
  }
 },
 "nbformat": 4,
 "nbformat_minor": 2
}
