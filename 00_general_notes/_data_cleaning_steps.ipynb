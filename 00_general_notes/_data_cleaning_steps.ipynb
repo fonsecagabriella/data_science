{
 "cells": [
  {
   "cell_type": "code",
   "execution_count": null,
   "metadata": {},
   "outputs": [],
   "source": [
    "# change name of columns to lower case and replace spaces with underscores\n",
    "df.columns = df.columns.str.lower().str.replace(' ', '_')\n",
    "\n",
    "# change text of strig columns to lower case and replace spaces with underscores\n",
    "# TO IMPLEMENT\n",
    "strings = list(df.dtypes[df.dtypes == 'object'].index)\n",
    "for col in strings:\n",
    "    df[col] = df[col].str.lower().str.replace(' ', '_')\n",
    "\n",
    "# check the unique values in columns\n",
    "for col in df.columns:\n",
    "    print(col)\n",
    "    print(df[col].unique()[:5]) # print first 5 unique values\n",
    "    print(df[col].nunique()) # print number of unique values\n",
    "    print()\n",
    "\n",
    "\n",
    "# check missing values\n",
    "\n",
    "# check target variable distribution\n",
    "# apply log if the target variable is skewed\n",
    "# do not forget to treat log 0 as adding 1, since log 0  is undefined\n",
    "price_logs = np.log1p(df.msrp) # you can apply log1p to treat log 0"
   ]
  },
  {
   "cell_type": "markdown",
   "metadata": {},
   "source": [
    "## Check relationship between variables\n",
    "\n",
    "- **FOR CATEGORICAL** Use mutual_info_score\n",
    "- **FOR NUMERICAL** Use pearson (note: only linear relationships) / Strong if r>0.6, moderate between 0.2 & 0.5\n",
    "\n",
    "| Feature               | Mutual Information (MI)        | Correlation (e.g., Pearson)   |\n",
    "|-----------------------|---------------------------------|--------------------------------|\n",
    "| **Type of Relationship** | Measures **any** kind of dependency (linear & nonlinear) | Measures **only linear** relationships |\n",
    "| **Range of Values**   | Always **≥ 0** (0 = no relation, higher = stronger dependency) | Between **-1 and 1** (-1 = strong negative, 1 = strong positive, 0 = no correlation) |\n",
    "| **Interpretation**    | Measures **how much knowing one variable reduces uncertainty** about the other | Measures **how much one variable changes proportionally** with another |\n",
    "| **Handles Categorical Data?** | ✅ Yes (works for both categorical & numerical data) | ❌ No (only works well for numerical data) |\n",
    "| **Sensitivity to Scale** | Not affected by scaling | Strongly affected by scaling (needs normalization) |\n"
   ]
  }
 ],
 "metadata": {
  "kernelspec": {
   "display_name": "Python 3",
   "language": "python",
   "name": "python3"
  },
  "language_info": {
   "name": "python",
   "version": "3.13.1"
  }
 },
 "nbformat": 4,
 "nbformat_minor": 2
}
