{
 "cells": [
  {
   "cell_type": "markdown",
   "metadata": {},
   "source": [
    "# Types of Scalers and When to Use Them\n",
    "The choice of scaler depends on the characteristics of your data and the specific requirements of the machine learning model you're using. Here’s a brief guide on different types of scalers and when to use them:\n",
    "\n",
    "## StandardScaler (Z-score normalisation)\n",
    "**Description:** Standardizes features by removing the mean and scaling to unit variance.\n",
    "\n",
    "**Use Case:**\n",
    "- When your data follows a Gaussian distribution (normal distribution).\n",
    "- When using models that assume normally distributed data, like linear models and Support Vector Machines (SVM).\n",
    "\n",
    "**How to:** \n",
    "X′ = σ / (X−μ)\n",
    "​\n",
    "Where:\n",
    "μ is the mean and\n",
    "σ is the standard deviation.\n",
    "\n",
    "\n",
    "## MinMaxScaler\n",
    "**Description:** Scales features to a fixed range, typically [0, 1].\n",
    "\n",
    "**Use Case:**\n",
    "- When you want to preserve the relationships between values in terms of their proportional spacing.\n",
    "- Useful for algorithms sensitive to the magnitude of the values, such as neural networks.\n",
    "\n",
    "**How to:** This is achieved by subtracting the minimum value and dividing by the range of the data.\n",
    "\n",
    "## RobustScaler\n",
    "**Description:**  Scales features using statistics that are robust to outliers, such as the median and the interquartile range.\n",
    "**Use Case:**\n",
    "- When your data contains outliers.\n",
    "- Useful for models where outliers can distort the scaling, like regression models.\n",
    "\n",
    "## MaxAbsScaler\n",
    "**Description:**  Scales each feature by its maximum absolute value.\n",
    "**Use Case:**\n",
    "- When dealing with data that contains negative values and needs to be scaled to the range [-1, 1].\n",
    "- Suitable for sparse data.\n",
    "\n",
    "\n",
    "## Normalizer (L1 and L2 normas)\n",
    "**Description:**  Normalizes samples individually to unit norm.\n",
    " L1 normalization makes the sum of absolute values of each row equal to 1. (L1 encourages weights to be zero)\n",
    " L2 normalization makes the sum of squares of each row equal to 1. (L2 encourages weights to be small, but not necessarily zero)\n",
    "\n",
    "**Use Case:**\n",
    "- When you need to scale each individual sample to have unit norm.\n",
    "- Often used in text processing or other applications where feature vectors are typically sparse and have different magnitudes.\n",
    "\n",
    "\n",
    "# Summary\n",
    "**StandardScaler:** Use for Gaussian-like data.\n",
    "**MinMaxScaler:** Use for non-Gaussian data, when preserving data distribution proportionally.\n",
    "**RobustScaler:** Use for data with outliers.\n",
    "**MaxAbsScaler:** Use for data with both positive and negative values. Good for sparse data.\n",
    "**Normalizer:** Use when normalizing each sample to unit norm is necessary. Used for row-wise normalization, particularly in text data.\n",
    "\n",
    "Recommendation: For most cases in machine learning, especially when using models like SVM, linear regression, or neural networks, StandardScaler or MinMaxScaler are good starting points. If your data has many outliers, consider using RobustScaler.\n",
    "\n"
   ]
  },
  {
   "cell_type": "markdown",
   "metadata": {},
   "source": [
    "| **Feature**         | **Normalization**                    | **Standardization**               |\n",
    "|----------------------|---------------------------------------|------------------------------------|\n",
    "| **Range of Data**    | Scales to [0, 1] or [-1, 1]          | Scales to zero mean, unit variance |\n",
    "| **When to Use**      | Fixed range, image pixel data        | Varying ranges, tabular data       |\n",
    "| **Effect on Pixels** | Maintains original relative ratios   | Centers data around 0             |\n"
   ]
  }
 ],
 "metadata": {
  "kernelspec": {
   "display_name": "Python 3",
   "language": "python",
   "name": "python3"
  },
  "language_info": {
   "name": "python",
   "version": "3.13.1"
  }
 },
 "nbformat": 4,
 "nbformat_minor": 2
}
