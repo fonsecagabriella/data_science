{
 "cells": [
  {
   "cell_type": "markdown",
   "metadata": {},
   "source": [
    "# SPAM Classifier\n"
   ]
  },
  {
   "cell_type": "code",
   "execution_count": 3,
   "metadata": {},
   "outputs": [],
   "source": [
    "import tarfile\n",
    "from pathlib import Path\n",
    "import urllib\n",
    "\n",
    "\n",
    "def fetch_spam_data():\n",
    "    spam_root = \"http://spamassassin.apache.org/old/publiccorpus/\"\n",
    "    ham_url = spam_root + \"20030228_easy_ham.tar.bz2\"\n",
    "    spam_url = spam_root + \"20030228_spam.tar.bz2\"\n",
    "\n",
    "    spam_path = Path() / \"datasets\" / \"spam\"\n",
    "    spam_path.mkdir(parents=True, exist_ok=True)\n",
    "    for dir_name, tar_name, url in ((\"easy_ham\", \"ham\", ham_url),\n",
    "                                    (\"spam\", \"spam\", spam_url)):\n",
    "        if not (spam_path / dir_name).is_dir():\n",
    "            path = (spam_path / tar_name).with_suffix(\".tar.bz2\")\n",
    "            print(\"Downloading\", path)\n",
    "            urllib.request.urlretrieve(url, path)\n",
    "            tar_bz2_file = tarfile.open(path)\n",
    "            tar_bz2_file.extractall(path=spam_path)\n",
    "            tar_bz2_file.close()\n",
    "    return [spam_path / dir_name for dir_name in (\"easy_ham\", \"spam\")]"
   ]
  },
  {
   "cell_type": "code",
   "execution_count": 4,
   "metadata": {},
   "outputs": [
    {
     "name": "stdout",
     "output_type": "stream",
     "text": [
      "Downloading datasets/spam/ham.tar.bz2\n",
      "Downloading datasets/spam/spam.tar.bz2\n",
      "There are 2500 regulars emails and 500 spams\n"
     ]
    }
   ],
   "source": [
    "ham_dir, spam_dir = fetch_spam_data()\n",
    "\n",
    "# load all the emails\n",
    "ham_filenames = [f for f in sorted(ham_dir.iterdir()) if len(f.name) > 20]\n",
    "\n",
    "spam_filenames = [f for f in sorted(spam_dir.iterdir()) if len(f.name) >20]\n",
    "\n",
    "# print amount of files\n",
    "print(f\"There are {len(ham_filenames)} regulars emails and {len(spam_filenames)} spams\")"
   ]
  },
  {
   "cell_type": "code",
   "execution_count": 5,
   "metadata": {},
   "outputs": [],
   "source": [
    "# Parse the emails\n",
    "import email\n",
    "import email.policy\n",
    "\n",
    "\n",
    "def load_email(filepath):\n",
    "    with open(filepath, \"rb\") as f:\n",
    "        return email.parser.BytesParser(policy=email.policy.default).parse(f)\n",
    "\n",
    "\n",
    "ham_emails = [load_email(filepath) for filepath in ham_filenames]\n",
    "\n",
    "spam_emails = [load_email(filepath) for filepath in spam_filenames]"
   ]
  },
  {
   "cell_type": "code",
   "execution_count": 6,
   "metadata": {},
   "outputs": [
    {
     "name": "stdout",
     "output_type": "stream",
     "text": [
      "Martin A posted:\n",
      "Tassos Papadopoulos, the Greek sculptor behind the plan, judged that the\n",
      " limestone of Mount Kerdylio, 70 miles east of Salonika and not far from the\n",
      " Mount Athos monastic community, was ideal for the patriotic sculpture. \n",
      " \n",
      " As well as Alexander's granite features, 240 ft high and 170 ft wide, a\n",
      " museum, a restored amphitheatre and car park for admiring crowds are\n",
      "planned\n",
      "---------------------\n",
      "So is this mountain limestone or granite?\n",
      "If it's limestone, it'll weather pretty fast.\n",
      "\n",
      "------------------------ Yahoo! Groups Sponsor ---------------------~-->\n",
      "4 DVDs Free +s&p Join Now\n",
      "http://us.click.yahoo.com/pt6YBB/NXiEAA/mG3HAA/7gSolB/TM\n",
      "---------------------------------------------------------------------~->\n",
      "\n",
      "To unsubscribe from this group, send an email to:\n",
      "forteana-unsubscribe@egroups.com\n",
      "\n",
      " \n",
      "\n",
      "Your use of Yahoo! Groups is subject to http://docs.yahoo.com/info/terms/\n"
     ]
    }
   ],
   "source": [
    "# check some emails to have a feeling of what they look like\n",
    "\n",
    "print(ham_emails[1].get_content().strip())"
   ]
  },
  {
   "cell_type": "code",
   "execution_count": 7,
   "metadata": {},
   "outputs": [
    {
     "name": "stdout",
     "output_type": "stream",
     "text": [
      "DEAR FRIEND,I AM MRS.  SESE-SEKO WIDOW OF LATE PRESIDENT MOBUTU\n",
      "SESE-SEKO OF ZAIRE? NOW KNOWN AS DEMOCRATIC REPUBLIC\n",
      "OF CONGO (DRC).  I AM MOVED TO WRITE YOU THIS LETTER,\n",
      "THIS WAS IN CONFIDENCE  CONSIDERING MY PRESENTCIRCUMSTANCE AND SITUATION.\n",
      "I ESCAPED ALONG WITH MY HUSBAND AND TWO OF OUR SONS\n",
      "GEORGE  KONGOLO  AND BASHER  OUT OF DEMOCRATIC REPUBLIC OF\n",
      "CONGO (DRC) TO ABIDJAN, COTE D'IVOIRE WHERE MY FAMILY\n",
      "AND I SETTLED, WHILE WE LATER MOVED  TO SETTLED IN\n",
      "MORROCO WHERE MY HUSBAND LATER DIED OF CANCER\n",
      "DISEASE. HOWEVER DUE TO THIS SITUATION WE DECIDED TO\n",
      "CHANGED  MOST OF MY HUSBAND'S BILLIONS OF DOLLARS\n",
      "DEPOSITED IN SWISS BANK AND OTHER COUNTRIES INTO OTHER\n",
      "FORMS OF MONEY CODED FOR  SAFE PURPOSE BECAUSE THE NEW\n",
      "HEAD OF STATE OF (DR) MR LAURENT  KABILA HAS MADE\n",
      "ARRANGEMENT WITH THE SWISS GOVERNMENT AND OTHER\n",
      "EUROPEAN COUNTRIES TO FREEZE ALL MY LATE HUSBAND'S\n",
      "TREASURES  DEPOSITED IN SOME EUROPEAN COUNTRIES. HENCE\n",
      "MY CHILDREN AND I DECIDED LAYING LOW IN AFRICA TO\n",
      "STUDY THE SITUATION TILL  WHEN THINGS GETS BETTER,\n",
      "LIKE NOW THAT PRESIDENT KABILA IS DEAD AND THE SON\n",
      "TAKING OVER (JOSEPH KABILA). ONE OF MY LATE HUSBAND'S\n",
      "CHATEAUX IN SOUTHERN FRANCE WAS CONFISCATED  BY THE\n",
      "FRENCH GOVERNMENT, AND AS SUCH I HAD TO CHANGE MY\n",
      "IDENTITY  SO THAT MY INVESTMENT WILL NOT BE TRACED AND\n",
      "CONFISCATED. I HAVE DEPOSITED THE SUM EIGHTEEN MILLION\n",
      "UNITED STATE DOLLARS(US$18,000,000,00.)  WITH A\n",
      "SECURITY COMPANY , FOR SAFEKEEPING. THE  FUNDS ARE\n",
      "SECURITY CODED TO PREVENT THEM FROM\n",
      "KNOWING THE CONTENT. WHAT I WANT YOU TO DO IS TO\n",
      "INDICATE YOUR INTEREST THAT YOU WILL ASSIST US BY RECEIVING THE MONEY ON OUR\n",
      "BEHALF.ACKNOWLEDGE THIS MESSAGE, SO THAT I CAN INTRODUCE YOU TO MY SON\n",
      "(KONGOLO) WHO HAS THE OUT MODALITIES FOR THE CLAIM OF THE SAID FUNDS. I\n",
      "WANT YOU TO ASSIST IN INVESTING THIS MONEY, BUT I WILL NOT WANT MY IDENTITY\n",
      "REVEALED. I WILL ALSO WANT TO BUY PROPERTIES AND STOCK IN MULTI-NATIONAL\n",
      "COMPANIES AND TO ENGAGE IN OTHER SAFE AND\n",
      "NON-SPECULATIVE INVESTMENTS. MAY I AT THIS POINT\n",
      "EMPHASISE THE HIGH LEVEL OF CONFIDENTIALITY,  WHICH\n",
      "THIS BUSINESS DEMANDS, AND HOPE YOU WILL NOT BETRAY\n",
      "THE TRUST AND CONFIDENCE, WHICH I REPOSE IN YOU. IN\n",
      "CONCLUSION,  IF YOU WANT TO ASSIST US , MY SON SHALL\n",
      "PUT YOU IN THE PICTURE  OF THE BUSINESS, TELL YOU\n",
      "WHERE THE FUNDS ARE CURRENTLY BEING  MAINTAINED AND\n",
      "ALSO DISCUSS OTHER MODALITIES INCLUDING REMUNERATIONFOR YOUR SERVICES.\n",
      "FOR THIS REASON KINDLY FURNISH US YOUR CONTACT\n",
      "INFORMATION, THAT IS YOUR PERSONAL TELEPHONE AND FAX\n",
      "NUMBER FOR CONFIDENTIAL PURPOSE.BEST REGARDS,MRS M. SESE SEKO\n"
     ]
    }
   ],
   "source": [
    "print(spam_emails[25].get_content().strip())"
   ]
  },
  {
   "cell_type": "code",
   "execution_count": 11,
   "metadata": {},
   "outputs": [
    {
     "name": "stdout",
     "output_type": "stream",
     "text": [
      "Structure - REGULAR EMAILS: \n",
      "Counter({'text/plain': 2408, 'multipart(text/plain, application/pgp-signature)': 66, 'multipart(text/plain, text/html)': 8, 'multipart(text/plain, text/plain)': 4, 'multipart(text/plain)': 3, 'multipart(text/plain, application/octet-stream)': 2, 'multipart(text/plain, text/enriched)': 1, 'multipart(text/plain, application/ms-tnef, text/plain)': 1, 'multipart(multipart(text/plain, text/plain, text/plain), application/pgp-signature)': 1, 'multipart(text/plain, video/mng)': 1, 'multipart(text/plain, multipart(text/plain))': 1, 'multipart(text/plain, application/x-pkcs7-signature)': 1, 'multipart(text/plain, multipart(text/plain, text/plain), text/rfc822-headers)': 1, 'multipart(text/plain, multipart(text/plain, text/plain), multipart(multipart(text/plain, application/x-pkcs7-signature)))': 1, 'multipart(text/plain, application/x-java-applet)': 1})\n",
      "\n",
      "SPAM EMAILS:\n",
      " Counter({'text/plain': 218, 'text/html': 183, 'multipart(text/plain, text/html)': 45, 'multipart(text/html)': 20, 'multipart(text/plain)': 19, 'multipart(multipart(text/html))': 5, 'multipart(text/plain, image/jpeg)': 3, 'multipart(text/html, application/octet-stream)': 2, 'multipart(text/plain, application/octet-stream)': 1, 'multipart(text/html, text/plain)': 1, 'multipart(multipart(text/html), application/octet-stream, image/jpeg)': 1, 'multipart(multipart(text/plain, text/html), image/gif)': 1, 'multipart/alternative': 1})\n"
     ]
    }
   ],
   "source": [
    "# check the different types of email structures\n",
    "\n",
    "def get_email_structure(email):\n",
    "    if isinstance(email, str):\n",
    "        return email\n",
    "\n",
    "    payload = email.get_payload()\n",
    "\n",
    "    if isinstance(payload, list):\n",
    "\n",
    "        multipart = \", \".join([get_email_structure(subemail) for subemail in payload])\n",
    "\n",
    "        return f\"multipart({multipart})\"\n",
    "    else:\n",
    "        return email.get_content_type()\n",
    "\n",
    "\n",
    "from collections import Counter\n",
    "\n",
    "def structures_counter(emails):\n",
    "    structures = Counter()\n",
    "\n",
    "    for email in emails:\n",
    "        structure = get_email_structure(email)\n",
    "        structures[structure] += 1\n",
    "\n",
    "    return structures\n",
    "\n",
    "print(f\"Structure - REGULAR EMAILS: \\n{structures_counter(ham_emails)}\\n\\nSPAM EMAILS:\\n {structures_counter(spam_emails)}\")\n"
   ]
  },
  {
   "cell_type": "code",
   "execution_count": null,
   "metadata": {},
   "outputs": [],
   "source": []
  }
 ],
 "metadata": {
  "kernelspec": {
   "display_name": "Python 3",
   "language": "python",
   "name": "python3"
  },
  "language_info": {
   "codemirror_mode": {
    "name": "ipython",
    "version": 3
   },
   "file_extension": ".py",
   "mimetype": "text/x-python",
   "name": "python",
   "nbconvert_exporter": "python",
   "pygments_lexer": "ipython3",
   "version": "3.10.11"
  }
 },
 "nbformat": 4,
 "nbformat_minor": 2
}
