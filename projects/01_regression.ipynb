{
 "cells": [
  {
   "cell_type": "markdown",
   "metadata": {},
   "source": [
    "# Regression"
   ]
  },
  {
   "cell_type": "code",
   "execution_count": 1,
   "metadata": {},
   "outputs": [
    {
     "name": "stdout",
     "output_type": "stream",
     "text": [
      "Data shape: (1144, 5)\n"
     ]
    },
    {
     "data": {
      "text/html": [
       "<div>\n",
       "<style scoped>\n",
       "    .dataframe tbody tr th:only-of-type {\n",
       "        vertical-align: middle;\n",
       "    }\n",
       "\n",
       "    .dataframe tbody tr th {\n",
       "        vertical-align: top;\n",
       "    }\n",
       "\n",
       "    .dataframe thead th {\n",
       "        text-align: right;\n",
       "    }\n",
       "</style>\n",
       "<table border=\"1\" class=\"dataframe\">\n",
       "  <thead>\n",
       "    <tr style=\"text-align: right;\">\n",
       "      <th></th>\n",
       "      <th>MolLogP</th>\n",
       "      <th>MolWt</th>\n",
       "      <th>NumRotatableBonds</th>\n",
       "      <th>AromaticProportion</th>\n",
       "      <th>logS</th>\n",
       "    </tr>\n",
       "  </thead>\n",
       "  <tbody>\n",
       "    <tr>\n",
       "      <th>0</th>\n",
       "      <td>2.5954</td>\n",
       "      <td>167.850</td>\n",
       "      <td>0.0</td>\n",
       "      <td>0.0</td>\n",
       "      <td>-2.18</td>\n",
       "    </tr>\n",
       "    <tr>\n",
       "      <th>1</th>\n",
       "      <td>2.3765</td>\n",
       "      <td>133.405</td>\n",
       "      <td>0.0</td>\n",
       "      <td>0.0</td>\n",
       "      <td>-2.00</td>\n",
       "    </tr>\n",
       "    <tr>\n",
       "      <th>2</th>\n",
       "      <td>2.5938</td>\n",
       "      <td>167.850</td>\n",
       "      <td>1.0</td>\n",
       "      <td>0.0</td>\n",
       "      <td>-1.74</td>\n",
       "    </tr>\n",
       "    <tr>\n",
       "      <th>3</th>\n",
       "      <td>2.0289</td>\n",
       "      <td>133.405</td>\n",
       "      <td>1.0</td>\n",
       "      <td>0.0</td>\n",
       "      <td>-1.48</td>\n",
       "    </tr>\n",
       "    <tr>\n",
       "      <th>4</th>\n",
       "      <td>2.9189</td>\n",
       "      <td>187.375</td>\n",
       "      <td>1.0</td>\n",
       "      <td>0.0</td>\n",
       "      <td>-3.04</td>\n",
       "    </tr>\n",
       "  </tbody>\n",
       "</table>\n",
       "</div>"
      ],
      "text/plain": [
       "   MolLogP    MolWt  NumRotatableBonds  AromaticProportion  logS\n",
       "0   2.5954  167.850                0.0                 0.0 -2.18\n",
       "1   2.3765  133.405                0.0                 0.0 -2.00\n",
       "2   2.5938  167.850                1.0                 0.0 -1.74\n",
       "3   2.0289  133.405                1.0                 0.0 -1.48\n",
       "4   2.9189  187.375                1.0                 0.0 -3.04"
      ]
     },
     "execution_count": 1,
     "metadata": {},
     "output_type": "execute_result"
    }
   ],
   "source": [
    "# Essential libraries for data manipulation\n",
    "import numpy as np #linear algebra\n",
    "import pandas as pd # data processing\n",
    "import matplotlib.pyplot as plt # graph plots\n",
    "\n",
    "\n",
    "import seaborn as sns # plots\n",
    "%matplotlib inline\n",
    "\n",
    "\n",
    "# basic styling for graphs\n",
    "plt.style.use('ggplot')\n",
    "\n",
    "font = {\"family\": \"Azeret Mono\",\n",
    "\"weight\": \"bold\",\n",
    "\"size\": 14}\n",
    "\n",
    "plt.rcParams.update({\"font.family\": font[\"family\"], \"font.weight\": font[\"weight\"], \"font.size\": font[\"size\"]})\n",
    "\n",
    "# loads data\n",
    "df = pd.read_csv(\"data/01_regression/solubility.csv\")\n",
    "\n",
    "\n",
    "# take a look at the data\n",
    "print(f\"Data shape: {df.shape}\")\n",
    "\n",
    "df.head()"
   ]
  },
  {
   "cell_type": "markdown",
   "metadata": {},
   "source": [
    "## 1.0 Data Cleaning\n",
    "\n",
    "Ps: This DS made it very easy since the data is already cleaned. No null-values are present."
   ]
  },
  {
   "cell_type": "code",
   "execution_count": 2,
   "metadata": {},
   "outputs": [
    {
     "name": "stdout",
     "output_type": "stream",
     "text": [
      "<class 'pandas.core.frame.DataFrame'>\n",
      "RangeIndex: 1144 entries, 0 to 1143\n",
      "Data columns (total 5 columns):\n",
      " #   Column              Non-Null Count  Dtype  \n",
      "---  ------              --------------  -----  \n",
      " 0   MolLogP             1144 non-null   float64\n",
      " 1   MolWt               1144 non-null   float64\n",
      " 2   NumRotatableBonds   1144 non-null   float64\n",
      " 3   AromaticProportion  1144 non-null   float64\n",
      " 4   logS                1144 non-null   float64\n",
      "dtypes: float64(5)\n",
      "memory usage: 44.8 KB\n"
     ]
    }
   ],
   "source": [
    "df.info()"
   ]
  },
  {
   "cell_type": "code",
   "execution_count": 3,
   "metadata": {},
   "outputs": [
    {
     "data": {
      "text/html": [
       "<div>\n",
       "<style scoped>\n",
       "    .dataframe tbody tr th:only-of-type {\n",
       "        vertical-align: middle;\n",
       "    }\n",
       "\n",
       "    .dataframe tbody tr th {\n",
       "        vertical-align: top;\n",
       "    }\n",
       "\n",
       "    .dataframe thead th {\n",
       "        text-align: right;\n",
       "    }\n",
       "</style>\n",
       "<table border=\"1\" class=\"dataframe\">\n",
       "  <thead>\n",
       "    <tr style=\"text-align: right;\">\n",
       "      <th></th>\n",
       "      <th>MolLogP</th>\n",
       "      <th>MolWt</th>\n",
       "      <th>NumRotatableBonds</th>\n",
       "      <th>AromaticProportion</th>\n",
       "      <th>logS</th>\n",
       "    </tr>\n",
       "  </thead>\n",
       "  <tbody>\n",
       "    <tr>\n",
       "      <th>count</th>\n",
       "      <td>1144.000000</td>\n",
       "      <td>1144.000000</td>\n",
       "      <td>1144.000000</td>\n",
       "      <td>1144.000000</td>\n",
       "      <td>1144.000000</td>\n",
       "    </tr>\n",
       "    <tr>\n",
       "      <th>mean</th>\n",
       "      <td>2.449133</td>\n",
       "      <td>204.631675</td>\n",
       "      <td>2.173951</td>\n",
       "      <td>0.364932</td>\n",
       "      <td>-3.057997</td>\n",
       "    </tr>\n",
       "    <tr>\n",
       "      <th>std</th>\n",
       "      <td>1.866003</td>\n",
       "      <td>102.620500</td>\n",
       "      <td>2.627398</td>\n",
       "      <td>0.343305</td>\n",
       "      <td>2.096502</td>\n",
       "    </tr>\n",
       "    <tr>\n",
       "      <th>min</th>\n",
       "      <td>-7.571400</td>\n",
       "      <td>16.043000</td>\n",
       "      <td>0.000000</td>\n",
       "      <td>0.000000</td>\n",
       "      <td>-11.600000</td>\n",
       "    </tr>\n",
       "    <tr>\n",
       "      <th>25%</th>\n",
       "      <td>1.414900</td>\n",
       "      <td>122.126000</td>\n",
       "      <td>0.000000</td>\n",
       "      <td>0.000000</td>\n",
       "      <td>-4.332250</td>\n",
       "    </tr>\n",
       "    <tr>\n",
       "      <th>50%</th>\n",
       "      <td>2.340300</td>\n",
       "      <td>183.594500</td>\n",
       "      <td>1.000000</td>\n",
       "      <td>0.375000</td>\n",
       "      <td>-2.870500</td>\n",
       "    </tr>\n",
       "    <tr>\n",
       "      <th>75%</th>\n",
       "      <td>3.406475</td>\n",
       "      <td>270.715750</td>\n",
       "      <td>3.000000</td>\n",
       "      <td>0.666667</td>\n",
       "      <td>-1.600000</td>\n",
       "    </tr>\n",
       "    <tr>\n",
       "      <th>max</th>\n",
       "      <td>10.388600</td>\n",
       "      <td>780.949000</td>\n",
       "      <td>23.000000</td>\n",
       "      <td>1.000000</td>\n",
       "      <td>1.580000</td>\n",
       "    </tr>\n",
       "  </tbody>\n",
       "</table>\n",
       "</div>"
      ],
      "text/plain": [
       "           MolLogP        MolWt  NumRotatableBonds  AromaticProportion  \\\n",
       "count  1144.000000  1144.000000        1144.000000         1144.000000   \n",
       "mean      2.449133   204.631675           2.173951            0.364932   \n",
       "std       1.866003   102.620500           2.627398            0.343305   \n",
       "min      -7.571400    16.043000           0.000000            0.000000   \n",
       "25%       1.414900   122.126000           0.000000            0.000000   \n",
       "50%       2.340300   183.594500           1.000000            0.375000   \n",
       "75%       3.406475   270.715750           3.000000            0.666667   \n",
       "max      10.388600   780.949000          23.000000            1.000000   \n",
       "\n",
       "              logS  \n",
       "count  1144.000000  \n",
       "mean     -3.057997  \n",
       "std       2.096502  \n",
       "min     -11.600000  \n",
       "25%      -4.332250  \n",
       "50%      -2.870500  \n",
       "75%      -1.600000  \n",
       "max       1.580000  "
      ]
     },
     "execution_count": 3,
     "metadata": {},
     "output_type": "execute_result"
    }
   ],
   "source": [
    "df.describe()"
   ]
  },
  {
   "cell_type": "markdown",
   "metadata": {},
   "source": [
    "## Data preparation"
   ]
  },
  {
   "cell_type": "code",
   "execution_count": 4,
   "metadata": {},
   "outputs": [],
   "source": [
    "# separate X & y\n",
    "X  = df.drop(\"logS\", axis=1)\n",
    "\n",
    "y = df[\"logS\"]"
   ]
  },
  {
   "cell_type": "code",
   "execution_count": 5,
   "metadata": {},
   "outputs": [
    {
     "data": {
      "text/plain": [
       "(915, 4)"
      ]
     },
     "execution_count": 5,
     "metadata": {},
     "output_type": "execute_result"
    }
   ],
   "source": [
    "from sklearn.model_selection import train_test_split\n",
    "\n",
    "X_train, X_test, y_train, y_test = train_test_split(X, y, test_size=0.2, random_state=25)\n",
    "\n",
    "X_train.shape"
   ]
  },
  {
   "cell_type": "markdown",
   "metadata": {},
   "source": [
    "## Model Building\n",
    "\n"
   ]
  },
  {
   "cell_type": "code",
   "execution_count": 6,
   "metadata": {},
   "outputs": [
    {
     "name": "stdout",
     "output_type": "stream",
     "text": [
      "0.788\n"
     ]
    }
   ],
   "source": [
    "from sklearn.linear_model import LinearRegression\n",
    "\n",
    "linreg = LinearRegression()\n",
    "linreg.fit(X_train,y_train)\n",
    "\n",
    "y_hat = linreg.predict(X_test)\n",
    "\n",
    "print(f\"{linreg.score(X_test, y_test):.3f}\")"
   ]
  },
  {
   "cell_type": "code",
   "execution_count": 7,
   "metadata": {},
   "outputs": [
    {
     "name": "stdout",
     "output_type": "stream",
     "text": [
      "Test\n",
      "MSE 0.970\n",
      "R2 0.724\n",
      "\n",
      "\n",
      "Train\n",
      "MSE 1.021\n",
      "R2 0.693\n"
     ]
    }
   ],
   "source": [
    "from sklearn.metrics import mean_squared_error, r2_score\n",
    "\n",
    "linreg_train_mse = mean_squared_error(y_train, linreg.predict(X_train))\n",
    "linreg_test_mse = mean_squared_error(y_hat,y_test)\n",
    "\n",
    "linreg_train_r2 = r2_score(linreg.predict(X_train),y_train)\n",
    "linearreg_test_r2 = r2_score(y_hat, y_test)\n",
    "\n",
    "\n",
    "print(\"Test\")\n",
    "print(f\"MSE {linreg_test_mse:.3f}\")\n",
    "print(f\"R2 {linearreg_test_r2:.3f}\")\n",
    "\n",
    "\n",
    "print(\"\\n\\nTrain\")\n",
    "print(f\"MSE {linreg_train_mse:.3f}\")\n",
    "print(f\"R2 {linreg_train_r2:.3f}\")\n"
   ]
  },
  {
   "cell_type": "code",
   "execution_count": 8,
   "metadata": {},
   "outputs": [
    {
     "name": "stdout",
     "output_type": "stream",
     "text": [
      "Test\n",
      "MSE 0.970\n",
      "R2 0.724\n",
      "\n",
      "\n",
      "Train\n",
      "MSE 1.021\n",
      "R2 0.693\n"
     ]
    }
   ],
   "source": [
    "from sklearn.ensemble import RandomForestRegressor\n",
    "\n",
    "forest = RandomForestRegressor(n_estimators=10, max_depth=2, )\n",
    "forest.fit(X_train,y_train)\n",
    "\n",
    "y_hat = forest.predict(X_test)\n",
    "\n",
    "forest_train_mse = mean_squared_error(y_train, forest.predict(X_train))\n",
    "forest_test_mse = mean_squared_error(y_hat,y_test)\n",
    "\n",
    "forest_train_r2 = r2_score(forest.predict(X_train),y_train)\n",
    "forest_test_r2 = r2_score(y_hat, y_test)\n",
    "\n",
    "\n",
    "print(\"Test\")\n",
    "print(f\"MSE {linreg_test_mse:.3f}\")\n",
    "print(f\"R2 {linearreg_test_r2:.3f}\")\n",
    "\n",
    "\n",
    "print(\"\\n\\nTrain\")\n",
    "print(f\"MSE {linreg_train_mse:.3f}\")\n",
    "print(f\"R2 {linreg_train_r2:.3f}\")\n",
    "\n"
   ]
  }
 ],
 "metadata": {
  "kernelspec": {
   "display_name": "ve_ml",
   "language": "python",
   "name": "python3"
  },
  "language_info": {
   "codemirror_mode": {
    "name": "ipython",
    "version": 3
   },
   "file_extension": ".py",
   "mimetype": "text/x-python",
   "name": "python",
   "nbconvert_exporter": "python",
   "pygments_lexer": "ipython3",
   "version": "3.10.11"
  }
 },
 "nbformat": 4,
 "nbformat_minor": 2
}
