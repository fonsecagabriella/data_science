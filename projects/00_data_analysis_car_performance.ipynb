{
 "cells": [
  {
   "cell_type": "markdown",
   "id": "2592da3c",
   "metadata": {},
   "source": [
    "# 🚗 Problem: CO₂ Emissions & Car Performance Analysis\n",
    "\n",
    "You're analyzing data from a recent survey of fuel consumption and CO₂ emissions of cars from different brands. You randomly select 50 cars from the dataset and compute the following (summary statistics are fictional for practice):\n",
    "\n",
    "- Sample size: 50\n",
    "- Mean CO₂ emission: 250 g/km\n",
    "- Standard deviation of CO₂ emissions: 40 g/km\n",
    "- Sample mean fuel consumption (L/100km): 8.2\n",
    "- Standard deviation of fuel consumption: 1.5\n",
    "\n",
    "A regulation agency claims that the average CO₂ emission for this category of cars should be no more than 240 g/km.\n",
    "\n",
    "**🔢 Questions:**\n",
    "\n",
    "## 1. Hypothesis Testing\n",
    "Using a 5% significance level, test the claim made by the regulation agency about CO₂ emissions.\n",
    "\n",
    "a. Clearly state the null and alternative hypotheses.\n",
    "\n",
    "b. Compute the relevant test statistic and determine whether to reject the null.\n",
    "\n",
    "c. What’s the p-value and how would you interpret it?\n",
    "\n",
    "## 2. Confidence Interval\n",
    "Construct a 95% confidence interval for the true average CO₂ emission of these cars.\n",
    "\n",
    "a. Based on your interval, does the agency’s target of 240 g/km seem plausible?\n",
    "\n",
    "## 3. Probability\n",
    "Assuming CO₂ emissions follow a normal distribution:\n",
    "\n",
    "a. What’s the probability that a randomly selected car emits more than 280 g/km?\n",
    "\n",
    "b. What’s the probability that a car emits between 230 and 270 g/km?\n",
    "\n",
    "## 4. Bonus: Fuel Efficiency and CO₂\n",
    "Let’s say you also divide the 50 cars into two groups:\n",
    "\n",
    "Group A (25 fuel-efficient cars): mean CO₂ = 230 g/km, std dev = 35 g/km\n",
    "\n",
    "Group B (25 standard cars): mean CO₂ = 270 g/km, std dev = 30 g/km\n",
    "\n",
    "You want to test whether the average CO₂ emissions of Group A and B differ significantly.\n",
    "\n",
    "a. What kind of test would you use here?\n",
    "\n",
    "b. State the null and alternative hypotheses.\n",
    "\n",
    "c. Would the difference be considered statistically significant at a 0.05 level?"
   ]
  }
 ],
 "metadata": {
  "language_info": {
   "name": "python"
  }
 },
 "nbformat": 4,
 "nbformat_minor": 5
}
