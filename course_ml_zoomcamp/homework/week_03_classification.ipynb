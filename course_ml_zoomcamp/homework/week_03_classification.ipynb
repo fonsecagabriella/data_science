{
 "cells": [
  {
   "cell_type": "markdown",
   "id": "87a8bde6",
   "metadata": {},
   "source": [
    "## Homework [DRAFT]\n",
    "\n",
    "> Note: sometimes your answer doesn't match one of the options exactly. \n",
    "> That's fine. \n",
    "> Select the option that's closest to your solution.\n",
    "\n",
    "\n",
    "### Dataset\n",
    "\n",
    "In this homework, we will use the lead scoring dataset Bank Marketing dataset. Download it from [here](https://raw.githubusercontent.com/alexeygrigorev/datasets/master/course_lead_scoring.csv).\n",
    "\n",
    "Or you can do it with `wget`:\n",
    "\n",
    "```bash\n",
    "wget https://raw.githubusercontent.com/alexeygrigorev/datasets/master/course_lead_scoring.csv\n",
    "```\n",
    "\n",
    "In this dataset our desired target for classification task will be `converted` variable - has the client signed up to the platform or not. \n",
    "\n",
    "### Data preparation\n",
    "\n",
    "* Check if the missing values are presented in the features.\n",
    "* If there are missing values:\n",
    "    * For caterogiral features, replace them with 'NA'\n",
    "    * For numerical features, replace with with 0.0 \n"
   ]
  },
  {
   "cell_type": "code",
   "execution_count": 1,
   "id": "063f4b82",
   "metadata": {},
   "outputs": [
    {
     "name": "stdout",
     "output_type": "stream",
     "text": [
      "<class 'pandas.core.frame.DataFrame'>\n",
      "RangeIndex: 1462 entries, 0 to 1461\n",
      "Data columns (total 9 columns):\n",
      " #   Column                    Non-Null Count  Dtype  \n",
      "---  ------                    --------------  -----  \n",
      " 0   lead_source               1334 non-null   object \n",
      " 1   industry                  1328 non-null   object \n",
      " 2   number_of_courses_viewed  1462 non-null   int64  \n",
      " 3   annual_income             1281 non-null   float64\n",
      " 4   employment_status         1362 non-null   object \n",
      " 5   location                  1399 non-null   object \n",
      " 6   interaction_count         1462 non-null   int64  \n",
      " 7   lead_score                1462 non-null   float64\n",
      " 8   converted                 1462 non-null   int64  \n",
      "dtypes: float64(2), int64(3), object(4)\n",
      "memory usage: 102.9+ KB\n"
     ]
    },
    {
     "data": {
      "text/plain": [
       "lead_source                 128\n",
       "industry                    134\n",
       "number_of_courses_viewed      0\n",
       "annual_income               181\n",
       "employment_status           100\n",
       "location                     63\n",
       "interaction_count             0\n",
       "lead_score                    0\n",
       "converted                     0\n",
       "dtype: int64"
      ]
     },
     "execution_count": 1,
     "metadata": {},
     "output_type": "execute_result"
    }
   ],
   "source": [
    "# import data\n",
    "\n",
    "import pandas as pd\n",
    "import numpy as np\n",
    "import matplotlib.pyplot as plt\n",
    "import seaborn as sns\n",
    "\n",
    "banking_data = pd.read_csv('data/course_lead_scoring.csv')\n",
    "\n",
    "banking_data.info()\n",
    "\n",
    "# check for missing values\n",
    "banking_data.isnull().sum()"
   ]
  },
  {
   "cell_type": "code",
   "execution_count": 2,
   "id": "be9781c6",
   "metadata": {},
   "outputs": [
    {
     "data": {
      "text/plain": [
       "lead_source                 0\n",
       "industry                    0\n",
       "number_of_courses_viewed    0\n",
       "annual_income               0\n",
       "employment_status           0\n",
       "location                    0\n",
       "interaction_count           0\n",
       "lead_score                  0\n",
       "converted                   0\n",
       "dtype: int64"
      ]
     },
     "execution_count": 2,
     "metadata": {},
     "output_type": "execute_result"
    }
   ],
   "source": [
    "# replace categorical variables with 'NA'\n",
    "# and numeric variables with 0\n",
    "\n",
    "for col in banking_data.columns:\n",
    "    if banking_data[col].dtype == 'object':\n",
    "        banking_data[col] = banking_data[col].fillna('NA')\n",
    "    else:\n",
    "        banking_data[col] = banking_data[col].fillna(0)\n",
    "\n",
    "# check again for missing values\n",
    "banking_data.isnull().sum()"
   ]
  },
  {
   "cell_type": "markdown",
   "id": "2e4196a7",
   "metadata": {},
   "source": [
    "### Question 1\n",
    "\n",
    "What is the most frequent observation (mode) for the column `industry`?\n",
    "\n",
    "- `NA`\n",
    "- `technology`\n",
    "- `healthcare`\n",
    "> `retail`\n"
   ]
  },
  {
   "cell_type": "code",
   "execution_count": 3,
   "id": "9a4c1e15",
   "metadata": {},
   "outputs": [
    {
     "data": {
      "text/plain": [
       "'retail'"
      ]
     },
     "execution_count": 3,
     "metadata": {},
     "output_type": "execute_result"
    }
   ],
   "source": [
    "# check the mode for 'industry' column\n",
    "banking_data['industry'].mode()[0]"
   ]
  },
  {
   "cell_type": "code",
   "execution_count": 4,
   "id": "698213f8",
   "metadata": {},
   "outputs": [
    {
     "data": {
      "text/plain": [
       "industry\n",
       "retail           203\n",
       "finance          200\n",
       "other            198\n",
       "healthcare       187\n",
       "education        187\n",
       "technology       179\n",
       "manufacturing    174\n",
       "NA               134\n",
       "Name: count, dtype: int64"
      ]
     },
     "execution_count": 4,
     "metadata": {},
     "output_type": "execute_result"
    }
   ],
   "source": [
    "# confirm the mode for 'industry' column\n",
    "banking_data['industry'].value_counts()"
   ]
  },
  {
   "cell_type": "markdown",
   "id": "bae36561",
   "metadata": {},
   "source": [
    "### Question 2\n",
    "\n",
    "Create the [correlation matrix](https://www.google.com/search?q=correlation+matrix) for the numerical features of your dataset. \n",
    "In a correlation matrix, you compute the correlation coefficient between every pair of features.\n",
    "\n",
    "What are the two features that have the biggest correlation?\n",
    "\n",
    "- `interaction_count` and `lead_score`\n",
    "- `number_of_courses_viewed` and `lead_score`\n",
    "- `number_of_courses_viewed` and `interaction_count`\n",
    "> `annual_income` and `interaction_count`\n",
    "\n",
    "Only consider the pairs above when answering this question."
   ]
  },
  {
   "cell_type": "code",
   "execution_count": 5,
   "id": "4263aa71",
   "metadata": {},
   "outputs": [
    {
     "data": {
      "image/png": "[encoded data removed]",
      "text/plain": [
       "<Figure size 600x400 with 2 Axes>"
      ]
     },
     "metadata": {},
     "output_type": "display_data"
    }
   ],
   "source": [
    "# correlation matrix for numeric variables\n",
    "corr_matrix = banking_data.select_dtypes(include=[np.number]).corr()\n",
    "\n",
    "plt.figure(figsize=(6, 4))\n",
    "sns.heatmap(corr_matrix, annot=True, fmt=\".2f\", cmap='coolwarm')\n",
    "plt.show()"
   ]
  },
  {
   "cell_type": "code",
   "execution_count": 6,
   "id": "0f0fc479",
   "metadata": {},
   "outputs": [
    {
     "name": "stdout",
     "output_type": "stream",
     "text": [
      "Correlation between interaction_count and lead_score: 0.010\n",
      "Correlation between number_of_courses_viewed and lead_score: -0.005\n",
      "Correlation between number_of_courses_viewed and interaction_count: -0.024\n",
      "Correlation between annual_income and interaction_count: 0.027\n"
     ]
    }
   ],
   "source": [
    "# print the correlation matrix with the values of the homework\n",
    "\n",
    "corr_to_check = [\n",
    "    ('interaction_count', 'lead_score'),\n",
    "    ('number_of_courses_viewed', 'lead_score'),\n",
    "    ('number_of_courses_viewed', 'interaction_count'),\n",
    "    ('annual_income', 'interaction_count')\n",
    "]\n",
    "\n",
    "for var1, var2 in corr_to_check:\n",
    "    corr_value = corr_matrix.loc[var1, var2]\n",
    "    print(f\"Correlation between {var1} and {var2}: {corr_value:.3f}\")\n"
   ]
  },
  {
   "cell_type": "markdown",
   "id": "f19972db",
   "metadata": {},
   "source": [
    "### Split the data\n",
    "\n",
    "* Split your data in train/val/test sets with 60%/20%/20% distribution.\n",
    "* Use Scikit-Learn for that (the `train_test_split` function) and set the seed to `42`.\n",
    "* Make sure that the target value `y` is not in your dataframe."
   ]
  },
  {
   "cell_type": "code",
   "execution_count": 7,
   "id": "3fa19d58",
   "metadata": {},
   "outputs": [
    {
     "data": {
      "text/plain": [
       "(876, 293, 293)"
      ]
     },
     "execution_count": 7,
     "metadata": {},
     "output_type": "execute_result"
    }
   ],
   "source": [
    "from sklearn.model_selection import train_test_split\n",
    "\n",
    "df_train_full, df_test = train_test_split(banking_data, test_size=0.2, random_state=42)\n",
    "df_train, df_val = train_test_split(df_train_full, test_size=0.25, random_state=42) # 0.25 x 0.8 = 0.2\n",
    "\n",
    "\n",
    "len(df_train), len(df_val), len(df_test)\n",
    "\n"
   ]
  },
  {
   "cell_type": "code",
   "execution_count": 8,
   "id": "437013cc",
   "metadata": {},
   "outputs": [],
   "source": [
    "# delete y from df_train, df_val \n",
    "y_train = df_train['converted'].values\n",
    "y_val = df_val['converted'].values\n",
    "\n",
    "del df_train['converted']\n",
    "del df_val['converted']"
   ]
  },
  {
   "cell_type": "markdown",
   "id": "c740e6a1",
   "metadata": {},
   "source": [
    "### Question 3\n",
    "\n",
    "* Calculate the mutual information score between `y` and other categorical variables in the dataset. Use the training set only.\n",
    "* Round the scores to 2 decimals using `round(score, 2)`.\n",
    "\n",
    "Which of these variables has the biggest mutual information score?\n",
    "\n",
    "- `industry`\n",
    "- `location`\n",
    "> `lead_source`\n",
    "- `employment_status`"
   ]
  },
  {
   "cell_type": "code",
   "execution_count": 11,
   "id": "d46cf28d",
   "metadata": {},
   "outputs": [
    {
     "name": "stdout",
     "output_type": "stream",
     "text": [
      "lead_source 0.03\n",
      "industry 0.01\n",
      "employment_status 0.01\n",
      "location 0.0\n"
     ]
    }
   ],
   "source": [
    "from sklearn.metrics import mutual_info_score\n",
    "\n",
    "for column in df_train_full.select_dtypes(include=[object]).columns:\n",
    "    score = mutual_info_score(df_train_full[column], df_train_full['converted'])\n",
    "    print(column, round(score, 2))"
   ]
  },
  {
   "cell_type": "code",
   "execution_count": 10,
   "id": "9fd1eb45",
   "metadata": {},
   "outputs": [
    {
     "name": "stdout",
     "output_type": "stream",
     "text": [
      "lead_source 0.04\n",
      "industry 0.01\n",
      "employment_status 0.01\n",
      "location 0.0\n"
     ]
    }
   ],
   "source": [
    "for column in df_train_full.select_dtypes(include=[object]).columns:\n",
    "    score = mutual_info_score(df_train[column], y_train)\n",
    "    print(column, round(score, 2))"
   ]
  },
  {
   "cell_type": "code",
   "execution_count": null,
   "id": "e0a86999",
   "metadata": {},
   "outputs": [
    {
     "name": "stdout",
     "output_type": "stream",
     "text": [
      "lead_source\n"
     ]
    },
    {
     "data": {
      "text/html": [
       "<div>\n",
       "<style scoped>\n",
       "    .dataframe tbody tr th:only-of-type {\n",
       "        vertical-align: middle;\n",
       "    }\n",
       "\n",
       "    .dataframe tbody tr th {\n",
       "        vertical-align: top;\n",
       "    }\n",
       "\n",
       "    .dataframe thead th {\n",
       "        text-align: right;\n",
       "    }\n",
       "</style>\n",
       "<table border=\"1\" class=\"dataframe\">\n",
       "  <thead>\n",
       "    <tr style=\"text-align: right;\">\n",
       "      <th></th>\n",
       "      <th>mean</th>\n",
       "      <th>count</th>\n",
       "      <th>difference</th>\n",
       "      <th>ration</th>\n",
       "    </tr>\n",
       "    <tr>\n",
       "      <th>lead_source</th>\n",
       "      <th></th>\n",
       "      <th></th>\n",
       "      <th></th>\n",
       "      <th></th>\n",
       "    </tr>\n",
       "  </thead>\n",
       "  <tbody>\n",
       "    <tr>\n",
       "      <th>NA</th>\n",
       "      <td>0.669725</td>\n",
       "      <td>109</td>\n",
       "      <td>0.062368</td>\n",
       "      <td>1.102688</td>\n",
       "    </tr>\n",
       "    <tr>\n",
       "      <th>events</th>\n",
       "      <td>0.592965</td>\n",
       "      <td>199</td>\n",
       "      <td>-0.014392</td>\n",
       "      <td>0.976304</td>\n",
       "    </tr>\n",
       "    <tr>\n",
       "      <th>organic_search</th>\n",
       "      <td>0.615721</td>\n",
       "      <td>229</td>\n",
       "      <td>0.008364</td>\n",
       "      <td>1.013771</td>\n",
       "    </tr>\n",
       "    <tr>\n",
       "      <th>paid_ads</th>\n",
       "      <td>0.428571</td>\n",
       "      <td>210</td>\n",
       "      <td>-0.178785</td>\n",
       "      <td>0.705634</td>\n",
       "    </tr>\n",
       "    <tr>\n",
       "      <th>referral</th>\n",
       "      <td>0.786408</td>\n",
       "      <td>206</td>\n",
       "      <td>0.179051</td>\n",
       "      <td>1.294804</td>\n",
       "    </tr>\n",
       "    <tr>\n",
       "      <th>social_media</th>\n",
       "      <td>0.583333</td>\n",
       "      <td>216</td>\n",
       "      <td>-0.024023</td>\n",
       "      <td>0.960446</td>\n",
       "    </tr>\n",
       "  </tbody>\n",
       "</table>\n",
       "</div>"
      ],
      "text/plain": [
       "                    mean  count  difference    ration\n",
       "lead_source                                          \n",
       "NA              0.669725    109    0.062368  1.102688\n",
       "events          0.592965    199   -0.014392  0.976304\n",
       "organic_search  0.615721    229    0.008364  1.013771\n",
       "paid_ads        0.428571    210   -0.178785  0.705634\n",
       "referral        0.786408    206    0.179051  1.294804\n",
       "social_media    0.583333    216   -0.024023  0.960446"
      ]
     },
     "metadata": {},
     "output_type": "display_data"
    },
    {
     "name": "stdout",
     "output_type": "stream",
     "text": [
      "industry\n"
     ]
    },
    {
     "data": {
      "text/html": [
       "<div>\n",
       "<style scoped>\n",
       "    .dataframe tbody tr th:only-of-type {\n",
       "        vertical-align: middle;\n",
       "    }\n",
       "\n",
       "    .dataframe tbody tr th {\n",
       "        vertical-align: top;\n",
       "    }\n",
       "\n",
       "    .dataframe thead th {\n",
       "        text-align: right;\n",
       "    }\n",
       "</style>\n",
       "<table border=\"1\" class=\"dataframe\">\n",
       "  <thead>\n",
       "    <tr style=\"text-align: right;\">\n",
       "      <th></th>\n",
       "      <th>mean</th>\n",
       "      <th>count</th>\n",
       "      <th>difference</th>\n",
       "      <th>ration</th>\n",
       "    </tr>\n",
       "    <tr>\n",
       "      <th>industry</th>\n",
       "      <th></th>\n",
       "      <th></th>\n",
       "      <th></th>\n",
       "      <th></th>\n",
       "    </tr>\n",
       "  </thead>\n",
       "  <tbody>\n",
       "    <tr>\n",
       "      <th>NA</th>\n",
       "      <td>0.557522</td>\n",
       "      <td>113</td>\n",
       "      <td>-0.049835</td>\n",
       "      <td>0.917948</td>\n",
       "    </tr>\n",
       "    <tr>\n",
       "      <th>education</th>\n",
       "      <td>0.790210</td>\n",
       "      <td>143</td>\n",
       "      <td>0.182853</td>\n",
       "      <td>1.301064</td>\n",
       "    </tr>\n",
       "    <tr>\n",
       "      <th>finance</th>\n",
       "      <td>0.556886</td>\n",
       "      <td>167</td>\n",
       "      <td>-0.050470</td>\n",
       "      <td>0.916901</td>\n",
       "    </tr>\n",
       "    <tr>\n",
       "      <th>healthcare</th>\n",
       "      <td>0.593333</td>\n",
       "      <td>150</td>\n",
       "      <td>-0.014023</td>\n",
       "      <td>0.976911</td>\n",
       "    </tr>\n",
       "    <tr>\n",
       "      <th>manufacturing</th>\n",
       "      <td>0.621429</td>\n",
       "      <td>140</td>\n",
       "      <td>0.014072</td>\n",
       "      <td>1.023169</td>\n",
       "    </tr>\n",
       "    <tr>\n",
       "      <th>other</th>\n",
       "      <td>0.612903</td>\n",
       "      <td>155</td>\n",
       "      <td>0.005547</td>\n",
       "      <td>1.009132</td>\n",
       "    </tr>\n",
       "    <tr>\n",
       "      <th>retail</th>\n",
       "      <td>0.566265</td>\n",
       "      <td>166</td>\n",
       "      <td>-0.041092</td>\n",
       "      <td>0.932343</td>\n",
       "    </tr>\n",
       "    <tr>\n",
       "      <th>technology</th>\n",
       "      <td>0.562963</td>\n",
       "      <td>135</td>\n",
       "      <td>-0.044394</td>\n",
       "      <td>0.926907</td>\n",
       "    </tr>\n",
       "  </tbody>\n",
       "</table>\n",
       "</div>"
      ],
      "text/plain": [
       "                   mean  count  difference    ration\n",
       "industry                                            \n",
       "NA             0.557522    113   -0.049835  0.917948\n",
       "education      0.790210    143    0.182853  1.301064\n",
       "finance        0.556886    167   -0.050470  0.916901\n",
       "healthcare     0.593333    150   -0.014023  0.976911\n",
       "manufacturing  0.621429    140    0.014072  1.023169\n",
       "other          0.612903    155    0.005547  1.009132\n",
       "retail         0.566265    166   -0.041092  0.932343\n",
       "technology     0.562963    135   -0.044394  0.926907"
      ]
     },
     "metadata": {},
     "output_type": "display_data"
    },
    {
     "name": "stdout",
     "output_type": "stream",
     "text": [
      "employment_status\n"
     ]
    },
    {
     "data": {
      "text/html": [
       "<div>\n",
       "<style scoped>\n",
       "    .dataframe tbody tr th:only-of-type {\n",
       "        vertical-align: middle;\n",
       "    }\n",
       "\n",
       "    .dataframe tbody tr th {\n",
       "        vertical-align: top;\n",
       "    }\n",
       "\n",
       "    .dataframe thead th {\n",
       "        text-align: right;\n",
       "    }\n",
       "</style>\n",
       "<table border=\"1\" class=\"dataframe\">\n",
       "  <thead>\n",
       "    <tr style=\"text-align: right;\">\n",
       "      <th></th>\n",
       "      <th>mean</th>\n",
       "      <th>count</th>\n",
       "      <th>difference</th>\n",
       "      <th>ration</th>\n",
       "    </tr>\n",
       "    <tr>\n",
       "      <th>employment_status</th>\n",
       "      <th></th>\n",
       "      <th></th>\n",
       "      <th></th>\n",
       "      <th></th>\n",
       "    </tr>\n",
       "  </thead>\n",
       "  <tbody>\n",
       "    <tr>\n",
       "      <th>NA</th>\n",
       "      <td>0.571429</td>\n",
       "      <td>84</td>\n",
       "      <td>-0.035928</td>\n",
       "      <td>0.940845</td>\n",
       "    </tr>\n",
       "    <tr>\n",
       "      <th>employed</th>\n",
       "      <td>0.671937</td>\n",
       "      <td>253</td>\n",
       "      <td>0.064580</td>\n",
       "      <td>1.106330</td>\n",
       "    </tr>\n",
       "    <tr>\n",
       "      <th>self_employed</th>\n",
       "      <td>0.635739</td>\n",
       "      <td>291</td>\n",
       "      <td>0.028382</td>\n",
       "      <td>1.046731</td>\n",
       "    </tr>\n",
       "    <tr>\n",
       "      <th>student</th>\n",
       "      <td>0.659722</td>\n",
       "      <td>288</td>\n",
       "      <td>0.052366</td>\n",
       "      <td>1.086219</td>\n",
       "    </tr>\n",
       "    <tr>\n",
       "      <th>unemployed</th>\n",
       "      <td>0.462451</td>\n",
       "      <td>253</td>\n",
       "      <td>-0.144906</td>\n",
       "      <td>0.761415</td>\n",
       "    </tr>\n",
       "  </tbody>\n",
       "</table>\n",
       "</div>"
      ],
      "text/plain": [
       "                       mean  count  difference    ration\n",
       "employment_status                                       \n",
       "NA                 0.571429     84   -0.035928  0.940845\n",
       "employed           0.671937    253    0.064580  1.106330\n",
       "self_employed      0.635739    291    0.028382  1.046731\n",
       "student            0.659722    288    0.052366  1.086219\n",
       "unemployed         0.462451    253   -0.144906  0.761415"
      ]
     },
     "metadata": {},
     "output_type": "display_data"
    },
    {
     "name": "stdout",
     "output_type": "stream",
     "text": [
      "location\n"
     ]
    },
    {
     "data": {
      "text/html": [
       "<div>\n",
       "<style scoped>\n",
       "    .dataframe tbody tr th:only-of-type {\n",
       "        vertical-align: middle;\n",
       "    }\n",
       "\n",
       "    .dataframe tbody tr th {\n",
       "        vertical-align: top;\n",
       "    }\n",
       "\n",
       "    .dataframe thead th {\n",
       "        text-align: right;\n",
       "    }\n",
       "</style>\n",
       "<table border=\"1\" class=\"dataframe\">\n",
       "  <thead>\n",
       "    <tr style=\"text-align: right;\">\n",
       "      <th></th>\n",
       "      <th>mean</th>\n",
       "      <th>count</th>\n",
       "      <th>difference</th>\n",
       "      <th>ration</th>\n",
       "    </tr>\n",
       "    <tr>\n",
       "      <th>location</th>\n",
       "      <th></th>\n",
       "      <th></th>\n",
       "      <th></th>\n",
       "      <th></th>\n",
       "    </tr>\n",
       "  </thead>\n",
       "  <tbody>\n",
       "    <tr>\n",
       "      <th>NA</th>\n",
       "      <td>0.680000</td>\n",
       "      <td>50</td>\n",
       "      <td>0.072643</td>\n",
       "      <td>1.119606</td>\n",
       "    </tr>\n",
       "    <tr>\n",
       "      <th>africa</th>\n",
       "      <td>0.592857</td>\n",
       "      <td>140</td>\n",
       "      <td>-0.014500</td>\n",
       "      <td>0.976127</td>\n",
       "    </tr>\n",
       "    <tr>\n",
       "      <th>asia</th>\n",
       "      <td>0.588608</td>\n",
       "      <td>158</td>\n",
       "      <td>-0.018749</td>\n",
       "      <td>0.969130</td>\n",
       "    </tr>\n",
       "    <tr>\n",
       "      <th>australia</th>\n",
       "      <td>0.612903</td>\n",
       "      <td>155</td>\n",
       "      <td>0.005547</td>\n",
       "      <td>1.009132</td>\n",
       "    </tr>\n",
       "    <tr>\n",
       "      <th>europe</th>\n",
       "      <td>0.641176</td>\n",
       "      <td>170</td>\n",
       "      <td>0.033820</td>\n",
       "      <td>1.055684</td>\n",
       "    </tr>\n",
       "    <tr>\n",
       "      <th>middle_east</th>\n",
       "      <td>0.644172</td>\n",
       "      <td>163</td>\n",
       "      <td>0.036815</td>\n",
       "      <td>1.060615</td>\n",
       "    </tr>\n",
       "    <tr>\n",
       "      <th>north_america</th>\n",
       "      <td>0.589888</td>\n",
       "      <td>178</td>\n",
       "      <td>-0.017469</td>\n",
       "      <td>0.971238</td>\n",
       "    </tr>\n",
       "    <tr>\n",
       "      <th>south_america</th>\n",
       "      <td>0.554839</td>\n",
       "      <td>155</td>\n",
       "      <td>-0.052518</td>\n",
       "      <td>0.913530</td>\n",
       "    </tr>\n",
       "  </tbody>\n",
       "</table>\n",
       "</div>"
      ],
      "text/plain": [
       "                   mean  count  difference    ration\n",
       "location                                            \n",
       "NA             0.680000     50    0.072643  1.119606\n",
       "africa         0.592857    140   -0.014500  0.976127\n",
       "asia           0.588608    158   -0.018749  0.969130\n",
       "australia      0.612903    155    0.005547  1.009132\n",
       "europe         0.641176    170    0.033820  1.055684\n",
       "middle_east    0.644172    163    0.036815  1.060615\n",
       "north_america  0.589888    178   -0.017469  0.971238\n",
       "south_america  0.554839    155   -0.052518  0.913530"
      ]
     },
     "metadata": {},
     "output_type": "display_data"
    }
   ],
   "source": [
    "# check all groups in categorical variables against the global conversion rate\n",
    "\n",
    "from IPython.display import display\n",
    "\n",
    "global_conversion_rate = df_train_full['converted'].mean()\n",
    "\n",
    "for column in df_train_full.select_dtypes(include=[object]).columns:\n",
    "    print(column)\n",
    "\n",
    "    df_group = df_train_full.groupby(column)['converted'].agg(['mean', 'count'])\n",
    "    df_group[\"difference\"] = df_group['mean'] - global_conversion_rate\n",
    "    df_group[\"ration\"] = df_group['mean'] / global_conversion_rate\n",
    "\n",
    "    display(df_group)\n"
   ]
  },
  {
   "cell_type": "markdown",
   "id": "029f03c1",
   "metadata": {},
   "source": [
    "### Question 4\n",
    "\n",
    "* Now let's train a logistic regression.\n",
    "* Remember that we have several categorical variables in the dataset. Include them using one-hot encoding.\n",
    "* Fit the model on the training dataset.\n",
    "    - To make sure the results are reproducible across different versions of Scikit-Learn, fit the model with these parameters:\n",
    "    - `model = LogisticRegression(solver='liblinear', C=1.0, max_iter=1000, random_state=42)`\n",
    "* Calculate the accuracy on the validation dataset and round it to 2 decimal digits.\n",
    "\n",
    "What accuracy did you get?\n",
    "\n",
    "- 0.64\n",
    "> - 0.74\n",
    "- 0.84\n",
    "- 0.94"
   ]
  },
  {
   "cell_type": "code",
   "execution_count": null,
   "id": "75be67ca",
   "metadata": {},
   "outputs": [],
   "source": [
    "# one-hot encoding for categorical variables with dictVectorizer\n",
    "from sklearn.feature_extraction import DictVectorizer\n",
    "\n",
    "dv = DictVectorizer(sparse=False)\n",
    "\n",
    "train_dict = df_train.to_dict(orient='records')\n",
    "X_train = dv.fit_transform(train_dict)\n",
    "\n",
    "val_dict = df_val.to_dict(orient='records')\n",
    "X_val = dv.transform(val_dict)\n"
   ]
  },
  {
   "cell_type": "code",
   "execution_count": 39,
   "id": "5af22edc",
   "metadata": {},
   "outputs": [
    {
     "name": "stdout",
     "output_type": "stream",
     "text": [
      "Validation Accuracy: 0.70\n"
     ]
    }
   ],
   "source": [
    "# train a logistic regression model\n",
    "from sklearn.linear_model import LogisticRegression\n",
    "from sklearn.metrics import accuracy_score\n",
    "\n",
    "model = LogisticRegression(solver='liblinear', C=1.0, max_iter=1000, random_state=42)\n",
    "\n",
    "model.fit(X_train, y_train)\n",
    "\n",
    "# evaluate the model on the validation set\n",
    "y_pred = model.predict(X_val)\n",
    "accuracy = accuracy_score(y_val, y_pred)\n",
    "print(f\"Validation Accuracy: {accuracy:.2f}\")"
   ]
  },
  {
   "cell_type": "code",
   "execution_count": 40,
   "id": "ca761a13",
   "metadata": {},
   "outputs": [
    {
     "name": "stdout",
     "output_type": "stream",
     "text": [
      "Validation Accuracy (manual calculation): 0.70\n"
     ]
    }
   ],
   "source": [
    "# calculating the accuracy manually\n",
    "y_pred_manual = (model.predict_proba(X_val)[:, 1] >= 0.5).astype(int)\n",
    "accuracy_manual = (y_pred_manual == y_val).mean()\n",
    "print(f\"Validation Accuracy (manual calculation): {accuracy_manual:.2f}\")"
   ]
  },
  {
   "cell_type": "code",
   "execution_count": 41,
   "id": "37d0ced9",
   "metadata": {},
   "outputs": [
    {
     "name": "stdout",
     "output_type": "stream",
     "text": [
      "annual_income: -0.000\n",
      "employment_status=NA: -0.015\n",
      "employment_status=employed: 0.034\n",
      "employment_status=self_employed: 0.003\n",
      "employment_status=student: 0.012\n",
      "employment_status=unemployed: -0.103\n",
      "industry=NA: -0.025\n",
      "industry=education: 0.049\n",
      "industry=finance: -0.020\n",
      "industry=healthcare: -0.013\n",
      "industry=manufacturing: -0.003\n",
      "industry=other: -0.009\n",
      "industry=retail: -0.032\n",
      "industry=technology: -0.016\n",
      "interaction_count: 0.311\n",
      "lead_score: 0.051\n",
      "lead_source=NA: 0.020\n",
      "lead_source=events: -0.012\n",
      "lead_source=organic_search: -0.012\n",
      "lead_source=paid_ads: -0.115\n",
      "lead_source=referral: 0.080\n",
      "lead_source=social_media: -0.030\n",
      "location=NA: 0.004\n",
      "location=africa: -0.011\n",
      "location=asia: -0.011\n",
      "location=australia: -0.006\n",
      "location=europe: 0.008\n",
      "location=middle_east: 0.006\n",
      "location=north_america: -0.033\n",
      "location=south_america: -0.025\n",
      "number_of_courses_viewed: 0.454\n"
     ]
    }
   ],
   "source": [
    "# use zip function to check the feature coefficients\n",
    "for feature, coef in zip(dv.get_feature_names_out(), model.coef_[0]):\n",
    "    print(f\"{feature}: {coef:.3f}\")"
   ]
  },
  {
   "cell_type": "code",
   "execution_count": 28,
   "id": "d810ca2c",
   "metadata": {},
   "outputs": [
    {
     "data": {
      "text/plain": [
       "array([-0.06914728])"
      ]
     },
     "execution_count": 28,
     "metadata": {},
     "output_type": "execute_result"
    }
   ],
   "source": [
    "# check the coefficients of the model\n",
    "model.intercept_"
   ]
  },
  {
   "cell_type": "code",
   "execution_count": 32,
   "id": "fe9a7cce",
   "metadata": {},
   "outputs": [
    {
     "data": {
      "text/plain": [
       "array([0.48272006])"
      ]
     },
     "execution_count": 32,
     "metadata": {},
     "output_type": "execute_result"
    }
   ],
   "source": [
    "def sigmoid(z):\n",
    "    return 1 / (1 + np.exp(-z))\n",
    "\n",
    "# here if we know nothing about the customer, what is the probability of conversion?\n",
    "sigmoid(model.intercept_)"
   ]
  },
  {
   "cell_type": "markdown",
   "id": "c9ee11be",
   "metadata": {},
   "source": [
    "### Question 5 \n",
    "\n",
    "* Let's find the least useful feature using the *feature elimination* technique.\n",
    "* Train a model using the same features and parameters as in Q4 (without rounding).\n",
    "* Now exclude each feature from this set and train a model without it. Record the accuracy for each model.\n",
    "* For each feature, calculate the difference between the original accuracy and the accuracy without the feature. \n",
    "\n",
    "Which of following feature has the smallest difference?\n",
    "\n",
    "- `'industry'`\n",
    "- `'employment_status'`\n",
    "- `'lead_score'`\n",
    "\n",
    "> **Note**: The difference doesn't have to be positive."
   ]
  },
  {
   "cell_type": "code",
   "execution_count": 46,
   "id": "718483de",
   "metadata": {},
   "outputs": [
    {
     "name": "stdout",
     "output_type": "stream",
     "text": [
      "Original Validation Accuracy: 0.6997 \n",
      "\n",
      "\n",
      "Feature eliminate: annual_income, Validation Accuracy: 0.8532, Difference: -0.1536\n",
      "Feature eliminate: location, Validation Accuracy: 0.7099, Difference: -0.0102\n",
      "Feature eliminate: lead_score, Validation Accuracy: 0.7065, Difference: -0.0068\n",
      "Feature eliminate: lead_source, Validation Accuracy: 0.7031, Difference: -0.0034\n",
      "Feature eliminate: industry, Validation Accuracy: 0.6997, Difference: 0.0000\n",
      "Feature eliminate: employment_status, Validation Accuracy: 0.6962, Difference: 0.0034\n",
      "Feature eliminate: number_of_courses_viewed, Validation Accuracy: 0.5563, Difference: 0.1433\n",
      "Feature eliminate: interaction_count, Validation Accuracy: 0.5563, Difference: 0.1433\n"
     ]
    }
   ],
   "source": [
    "# list of features\n",
    "features = df_train.columns.tolist()\n",
    "\n",
    "# create  list of tuples (features, accuracy, difference between accuracy and accuracy without the feature)\n",
    "feature_accuracies = []\n",
    "\n",
    "for i in range(len(features)):\n",
    "    feature_to_eliminate = features[i]\n",
    "\n",
    "    features_subset = [f for f in features if f != feature_to_eliminate]\n",
    "\n",
    "    df_train_subset = df_train[features_subset]\n",
    "    df_val_subset = df_val[features_subset]\n",
    "\n",
    "    # one-hot encoding for categorical variables with dictVectorizer\n",
    "    dv_subset = DictVectorizer(sparse=False)\n",
    "    train_dict_subset = df_train_subset.to_dict(orient='records')\n",
    "    X_train_subset = dv_subset.fit_transform(train_dict_subset)\n",
    "\n",
    "    val_dict_subset = df_val_subset.to_dict(orient='records')\n",
    "    X_val_subset = dv_subset.transform(val_dict_subset)\n",
    "\n",
    "    model_subset = LogisticRegression(solver='liblinear', C=1.0, max_iter=1000, random_state=42)\n",
    "    model_subset.fit(X_train_subset, y_train)\n",
    "\n",
    "    y_pred_subset = model_subset.predict(X_val_subset)\n",
    "    accuracy_subset = accuracy_score(y_val, y_pred_subset)\n",
    "\n",
    "    diference = accuracy - accuracy_subset\n",
    "\n",
    "    feature_accuracies.append((feature_to_eliminate, accuracy_subset))\n",
    "\n",
    "# sort the list by smallest difference\n",
    "feature_accuracies = sorted(feature_accuracies, key=lambda x: (accuracy - x[1]), reverse=False)\n",
    "\n",
    "# print original accuracy\n",
    "print(f\"Original Validation Accuracy: {accuracy:.4f} \\n\\n\")\n",
    "\n",
    "for feature, acc in feature_accuracies:\n",
    "    print(f\"Feature eliminate: {feature}, Validation Accuracy: {acc:.4f}, Difference: {accuracy - acc:.4f}\")\n",
    "\n"
   ]
  },
  {
   "cell_type": "markdown",
   "id": "00f788b9",
   "metadata": {},
   "source": [
    "### Question 6\n",
    "\n",
    "* Now let's train a regularized logistic regression.\n",
    "* Let's try the following values of the parameter `C`: `[0.01, 0.1, 1, 10, 100]`.\n",
    "* Train models using all the features as in Q4.\n",
    "* Calculate the accuracy on the validation dataset and round it to 3 decimal digits.\n",
    "\n",
    "Which of these `C` leads to the best accuracy on the validation set?\n",
    "\n",
    "> - 0.01\n",
    "- 0.1\n",
    "- 1\n",
    "- 10\n",
    "- 100\n",
    "\n",
    "> **Note**: If there are multiple options, select the smallest `C`.\n"
   ]
  },
  {
   "cell_type": "code",
   "execution_count": 48,
   "id": "90b441db",
   "metadata": {},
   "outputs": [
    {
     "name": "stdout",
     "output_type": "stream",
     "text": [
      "C: 0.01, Validation Accuracy: 0.700\n",
      "C: 0.1, Validation Accuracy: 0.700\n",
      "C: 1, Validation Accuracy: 0.700\n",
      "C: 10, Validation Accuracy: 0.700\n",
      "C: 100, Validation Accuracy: 0.700\n"
     ]
    }
   ],
   "source": [
    "# C values\n",
    "C_values = [0.01, 0.1, 1, 10, 100]\n",
    "results = []\n",
    "\n",
    "# fit the dictVectorizer again to avoid data leakage\n",
    "dv = DictVectorizer(sparse=False)\n",
    "train_dict = df_train.to_dict(orient='records')\n",
    "X_train = dv.fit_transform(train_dict)\n",
    "\n",
    "val_dict = df_val.to_dict(orient='records')\n",
    "X_val = dv.transform(val_dict)\n",
    "\n",
    "for c in C_values:\n",
    "\n",
    "    model_c = LogisticRegression(solver='liblinear', C=c, max_iter=1000, random_state=42)\n",
    "    model_c.fit(X_train, y_train)\n",
    "\n",
    "    y_pred_c = model_c.predict(X_val)\n",
    "    accuracy_c = accuracy_score(y_val, y_pred_c)\n",
    "\n",
    "    results.append((c, accuracy_c))\n",
    "\n",
    "# print the results\n",
    "for c, acc in results:\n",
    "    print(f\"C: {c}, Validation Accuracy: {acc:.3f}\")"
   ]
  }
 ],
 "metadata": {
  "kernelspec": {
   "display_name": "venv",
   "language": "python",
   "name": "python3"
  },
  "language_info": {
   "codemirror_mode": {
    "name": "ipython",
    "version": 3
   },
   "file_extension": ".py",
   "mimetype": "text/x-python",
   "name": "python",
   "nbconvert_exporter": "python",
   "pygments_lexer": "ipython3",
   "version": "3.11.11"
  }
 },
 "nbformat": 4,
 "nbformat_minor": 5
}
